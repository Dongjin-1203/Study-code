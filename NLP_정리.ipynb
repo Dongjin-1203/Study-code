{
  "nbformat": 4,
  "nbformat_minor": 0,
  "metadata": {
    "colab": {
      "provenance": [],
      "toc_visible": true,
      "gpuType": "T4",
      "authorship_tag": "ABX9TyP05MAl3DfQBrYaVvgZVjXR",
      "include_colab_link": true
    },
    "kernelspec": {
      "name": "python3",
      "display_name": "Python 3"
    },
    "language_info": {
      "name": "python"
    },
    "accelerator": "GPU",
    "widgets": {
      "application/vnd.jupyter.widget-state+json": {
        "d92b3d80b5d84bba98b7d8b398400ff3": {
          "model_module": "@jupyter-widgets/controls",
          "model_name": "HBoxModel",
          "model_module_version": "1.5.0",
          "state": {
            "_dom_classes": [],
            "_model_module": "@jupyter-widgets/controls",
            "_model_module_version": "1.5.0",
            "_model_name": "HBoxModel",
            "_view_count": null,
            "_view_module": "@jupyter-widgets/controls",
            "_view_module_version": "1.5.0",
            "_view_name": "HBoxView",
            "box_style": "",
            "children": [
              "IPY_MODEL_1c20eb15f292490693e481070be8f858",
              "IPY_MODEL_76dd6c3108c04768bf03ae0389539eb8",
              "IPY_MODEL_90b7924286c24b7b8a23ca6ab401a7cd"
            ],
            "layout": "IPY_MODEL_84a17d66cc0e4ecb9af588f8db6d4221"
          }
        },
        "1c20eb15f292490693e481070be8f858": {
          "model_module": "@jupyter-widgets/controls",
          "model_name": "HTMLModel",
          "model_module_version": "1.5.0",
          "state": {
            "_dom_classes": [],
            "_model_module": "@jupyter-widgets/controls",
            "_model_module_version": "1.5.0",
            "_model_name": "HTMLModel",
            "_view_count": null,
            "_view_module": "@jupyter-widgets/controls",
            "_view_module_version": "1.5.0",
            "_view_name": "HTMLView",
            "description": "",
            "description_tooltip": null,
            "layout": "IPY_MODEL_2852aa15dbb94417b84143bc8aae14fe",
            "placeholder": "​",
            "style": "IPY_MODEL_def98b608ef445b199e2719283ec0e43",
            "value": "README.md: "
          }
        },
        "76dd6c3108c04768bf03ae0389539eb8": {
          "model_module": "@jupyter-widgets/controls",
          "model_name": "FloatProgressModel",
          "model_module_version": "1.5.0",
          "state": {
            "_dom_classes": [],
            "_model_module": "@jupyter-widgets/controls",
            "_model_module_version": "1.5.0",
            "_model_name": "FloatProgressModel",
            "_view_count": null,
            "_view_module": "@jupyter-widgets/controls",
            "_view_module_version": "1.5.0",
            "_view_name": "ProgressView",
            "bar_style": "success",
            "description": "",
            "description_tooltip": null,
            "layout": "IPY_MODEL_2d7111eecb46439cbaea06b3adf4436d",
            "max": 1,
            "min": 0,
            "orientation": "horizontal",
            "style": "IPY_MODEL_3c82de4550dd4130a21801a8a94a6845",
            "value": 1
          }
        },
        "90b7924286c24b7b8a23ca6ab401a7cd": {
          "model_module": "@jupyter-widgets/controls",
          "model_name": "HTMLModel",
          "model_module_version": "1.5.0",
          "state": {
            "_dom_classes": [],
            "_model_module": "@jupyter-widgets/controls",
            "_model_module_version": "1.5.0",
            "_model_name": "HTMLModel",
            "_view_count": null,
            "_view_module": "@jupyter-widgets/controls",
            "_view_module_version": "1.5.0",
            "_view_name": "HTMLView",
            "description": "",
            "description_tooltip": null,
            "layout": "IPY_MODEL_d0f8868e4a29411081d5504814fdf25c",
            "placeholder": "​",
            "style": "IPY_MODEL_4d34f4d813134e8c9f5f23c11d8f237f",
            "value": " 7.81k/? [00:00&lt;00:00, 121kB/s]"
          }
        },
        "84a17d66cc0e4ecb9af588f8db6d4221": {
          "model_module": "@jupyter-widgets/base",
          "model_name": "LayoutModel",
          "model_module_version": "1.2.0",
          "state": {
            "_model_module": "@jupyter-widgets/base",
            "_model_module_version": "1.2.0",
            "_model_name": "LayoutModel",
            "_view_count": null,
            "_view_module": "@jupyter-widgets/base",
            "_view_module_version": "1.2.0",
            "_view_name": "LayoutView",
            "align_content": null,
            "align_items": null,
            "align_self": null,
            "border": null,
            "bottom": null,
            "display": null,
            "flex": null,
            "flex_flow": null,
            "grid_area": null,
            "grid_auto_columns": null,
            "grid_auto_flow": null,
            "grid_auto_rows": null,
            "grid_column": null,
            "grid_gap": null,
            "grid_row": null,
            "grid_template_areas": null,
            "grid_template_columns": null,
            "grid_template_rows": null,
            "height": null,
            "justify_content": null,
            "justify_items": null,
            "left": null,
            "margin": null,
            "max_height": null,
            "max_width": null,
            "min_height": null,
            "min_width": null,
            "object_fit": null,
            "object_position": null,
            "order": null,
            "overflow": null,
            "overflow_x": null,
            "overflow_y": null,
            "padding": null,
            "right": null,
            "top": null,
            "visibility": null,
            "width": null
          }
        },
        "2852aa15dbb94417b84143bc8aae14fe": {
          "model_module": "@jupyter-widgets/base",
          "model_name": "LayoutModel",
          "model_module_version": "1.2.0",
          "state": {
            "_model_module": "@jupyter-widgets/base",
            "_model_module_version": "1.2.0",
            "_model_name": "LayoutModel",
            "_view_count": null,
            "_view_module": "@jupyter-widgets/base",
            "_view_module_version": "1.2.0",
            "_view_name": "LayoutView",
            "align_content": null,
            "align_items": null,
            "align_self": null,
            "border": null,
            "bottom": null,
            "display": null,
            "flex": null,
            "flex_flow": null,
            "grid_area": null,
            "grid_auto_columns": null,
            "grid_auto_flow": null,
            "grid_auto_rows": null,
            "grid_column": null,
            "grid_gap": null,
            "grid_row": null,
            "grid_template_areas": null,
            "grid_template_columns": null,
            "grid_template_rows": null,
            "height": null,
            "justify_content": null,
            "justify_items": null,
            "left": null,
            "margin": null,
            "max_height": null,
            "max_width": null,
            "min_height": null,
            "min_width": null,
            "object_fit": null,
            "object_position": null,
            "order": null,
            "overflow": null,
            "overflow_x": null,
            "overflow_y": null,
            "padding": null,
            "right": null,
            "top": null,
            "visibility": null,
            "width": null
          }
        },
        "def98b608ef445b199e2719283ec0e43": {
          "model_module": "@jupyter-widgets/controls",
          "model_name": "DescriptionStyleModel",
          "model_module_version": "1.5.0",
          "state": {
            "_model_module": "@jupyter-widgets/controls",
            "_model_module_version": "1.5.0",
            "_model_name": "DescriptionStyleModel",
            "_view_count": null,
            "_view_module": "@jupyter-widgets/base",
            "_view_module_version": "1.2.0",
            "_view_name": "StyleView",
            "description_width": ""
          }
        },
        "2d7111eecb46439cbaea06b3adf4436d": {
          "model_module": "@jupyter-widgets/base",
          "model_name": "LayoutModel",
          "model_module_version": "1.2.0",
          "state": {
            "_model_module": "@jupyter-widgets/base",
            "_model_module_version": "1.2.0",
            "_model_name": "LayoutModel",
            "_view_count": null,
            "_view_module": "@jupyter-widgets/base",
            "_view_module_version": "1.2.0",
            "_view_name": "LayoutView",
            "align_content": null,
            "align_items": null,
            "align_self": null,
            "border": null,
            "bottom": null,
            "display": null,
            "flex": null,
            "flex_flow": null,
            "grid_area": null,
            "grid_auto_columns": null,
            "grid_auto_flow": null,
            "grid_auto_rows": null,
            "grid_column": null,
            "grid_gap": null,
            "grid_row": null,
            "grid_template_areas": null,
            "grid_template_columns": null,
            "grid_template_rows": null,
            "height": null,
            "justify_content": null,
            "justify_items": null,
            "left": null,
            "margin": null,
            "max_height": null,
            "max_width": null,
            "min_height": null,
            "min_width": null,
            "object_fit": null,
            "object_position": null,
            "order": null,
            "overflow": null,
            "overflow_x": null,
            "overflow_y": null,
            "padding": null,
            "right": null,
            "top": null,
            "visibility": null,
            "width": "20px"
          }
        },
        "3c82de4550dd4130a21801a8a94a6845": {
          "model_module": "@jupyter-widgets/controls",
          "model_name": "ProgressStyleModel",
          "model_module_version": "1.5.0",
          "state": {
            "_model_module": "@jupyter-widgets/controls",
            "_model_module_version": "1.5.0",
            "_model_name": "ProgressStyleModel",
            "_view_count": null,
            "_view_module": "@jupyter-widgets/base",
            "_view_module_version": "1.2.0",
            "_view_name": "StyleView",
            "bar_color": null,
            "description_width": ""
          }
        },
        "d0f8868e4a29411081d5504814fdf25c": {
          "model_module": "@jupyter-widgets/base",
          "model_name": "LayoutModel",
          "model_module_version": "1.2.0",
          "state": {
            "_model_module": "@jupyter-widgets/base",
            "_model_module_version": "1.2.0",
            "_model_name": "LayoutModel",
            "_view_count": null,
            "_view_module": "@jupyter-widgets/base",
            "_view_module_version": "1.2.0",
            "_view_name": "LayoutView",
            "align_content": null,
            "align_items": null,
            "align_self": null,
            "border": null,
            "bottom": null,
            "display": null,
            "flex": null,
            "flex_flow": null,
            "grid_area": null,
            "grid_auto_columns": null,
            "grid_auto_flow": null,
            "grid_auto_rows": null,
            "grid_column": null,
            "grid_gap": null,
            "grid_row": null,
            "grid_template_areas": null,
            "grid_template_columns": null,
            "grid_template_rows": null,
            "height": null,
            "justify_content": null,
            "justify_items": null,
            "left": null,
            "margin": null,
            "max_height": null,
            "max_width": null,
            "min_height": null,
            "min_width": null,
            "object_fit": null,
            "object_position": null,
            "order": null,
            "overflow": null,
            "overflow_x": null,
            "overflow_y": null,
            "padding": null,
            "right": null,
            "top": null,
            "visibility": null,
            "width": null
          }
        },
        "4d34f4d813134e8c9f5f23c11d8f237f": {
          "model_module": "@jupyter-widgets/controls",
          "model_name": "DescriptionStyleModel",
          "model_module_version": "1.5.0",
          "state": {
            "_model_module": "@jupyter-widgets/controls",
            "_model_module_version": "1.5.0",
            "_model_name": "DescriptionStyleModel",
            "_view_count": null,
            "_view_module": "@jupyter-widgets/base",
            "_view_module_version": "1.2.0",
            "_view_name": "StyleView",
            "description_width": ""
          }
        },
        "97ca72c25b69475db4341ddded25629f": {
          "model_module": "@jupyter-widgets/controls",
          "model_name": "HBoxModel",
          "model_module_version": "1.5.0",
          "state": {
            "_dom_classes": [],
            "_model_module": "@jupyter-widgets/controls",
            "_model_module_version": "1.5.0",
            "_model_name": "HBoxModel",
            "_view_count": null,
            "_view_module": "@jupyter-widgets/controls",
            "_view_module_version": "1.5.0",
            "_view_name": "HBoxView",
            "box_style": "",
            "children": [
              "IPY_MODEL_8bdc9ab567c941a5b59218d0b4256d2e",
              "IPY_MODEL_e98beeb8315b45a3baf47859eb0f0011",
              "IPY_MODEL_4184c8b0e62740aba4c5336ade6c6176"
            ],
            "layout": "IPY_MODEL_29bdc4319b8942649bd2b8e19b938334"
          }
        },
        "8bdc9ab567c941a5b59218d0b4256d2e": {
          "model_module": "@jupyter-widgets/controls",
          "model_name": "HTMLModel",
          "model_module_version": "1.5.0",
          "state": {
            "_dom_classes": [],
            "_model_module": "@jupyter-widgets/controls",
            "_model_module_version": "1.5.0",
            "_model_name": "HTMLModel",
            "_view_count": null,
            "_view_module": "@jupyter-widgets/controls",
            "_view_module_version": "1.5.0",
            "_view_name": "HTMLView",
            "description": "",
            "description_tooltip": null,
            "layout": "IPY_MODEL_c4d358b45d1248efacb3bdd37cd46102",
            "placeholder": "​",
            "style": "IPY_MODEL_91fa58d9dda14e849ecfd516c7ff34d4",
            "value": "train-00000-of-00001.parquet: 100%"
          }
        },
        "e98beeb8315b45a3baf47859eb0f0011": {
          "model_module": "@jupyter-widgets/controls",
          "model_name": "FloatProgressModel",
          "model_module_version": "1.5.0",
          "state": {
            "_dom_classes": [],
            "_model_module": "@jupyter-widgets/controls",
            "_model_module_version": "1.5.0",
            "_model_name": "FloatProgressModel",
            "_view_count": null,
            "_view_module": "@jupyter-widgets/controls",
            "_view_module_version": "1.5.0",
            "_view_name": "ProgressView",
            "bar_style": "success",
            "description": "",
            "description_tooltip": null,
            "layout": "IPY_MODEL_ab69dbf2a3054eaaa8b9f48fb1acffb6",
            "max": 20979968,
            "min": 0,
            "orientation": "horizontal",
            "style": "IPY_MODEL_d7be861151e9446384a07057488105c3",
            "value": 20979968
          }
        },
        "4184c8b0e62740aba4c5336ade6c6176": {
          "model_module": "@jupyter-widgets/controls",
          "model_name": "HTMLModel",
          "model_module_version": "1.5.0",
          "state": {
            "_dom_classes": [],
            "_model_module": "@jupyter-widgets/controls",
            "_model_module_version": "1.5.0",
            "_model_name": "HTMLModel",
            "_view_count": null,
            "_view_module": "@jupyter-widgets/controls",
            "_view_module_version": "1.5.0",
            "_view_name": "HTMLView",
            "description": "",
            "description_tooltip": null,
            "layout": "IPY_MODEL_c57da4e2c0d84323a5389e47c7d28b8e",
            "placeholder": "​",
            "style": "IPY_MODEL_5b8de8843c024b35b14840b3a645c979",
            "value": " 21.0M/21.0M [00:00&lt;00:00, 95.3MB/s]"
          }
        },
        "29bdc4319b8942649bd2b8e19b938334": {
          "model_module": "@jupyter-widgets/base",
          "model_name": "LayoutModel",
          "model_module_version": "1.2.0",
          "state": {
            "_model_module": "@jupyter-widgets/base",
            "_model_module_version": "1.2.0",
            "_model_name": "LayoutModel",
            "_view_count": null,
            "_view_module": "@jupyter-widgets/base",
            "_view_module_version": "1.2.0",
            "_view_name": "LayoutView",
            "align_content": null,
            "align_items": null,
            "align_self": null,
            "border": null,
            "bottom": null,
            "display": null,
            "flex": null,
            "flex_flow": null,
            "grid_area": null,
            "grid_auto_columns": null,
            "grid_auto_flow": null,
            "grid_auto_rows": null,
            "grid_column": null,
            "grid_gap": null,
            "grid_row": null,
            "grid_template_areas": null,
            "grid_template_columns": null,
            "grid_template_rows": null,
            "height": null,
            "justify_content": null,
            "justify_items": null,
            "left": null,
            "margin": null,
            "max_height": null,
            "max_width": null,
            "min_height": null,
            "min_width": null,
            "object_fit": null,
            "object_position": null,
            "order": null,
            "overflow": null,
            "overflow_x": null,
            "overflow_y": null,
            "padding": null,
            "right": null,
            "top": null,
            "visibility": null,
            "width": null
          }
        },
        "c4d358b45d1248efacb3bdd37cd46102": {
          "model_module": "@jupyter-widgets/base",
          "model_name": "LayoutModel",
          "model_module_version": "1.2.0",
          "state": {
            "_model_module": "@jupyter-widgets/base",
            "_model_module_version": "1.2.0",
            "_model_name": "LayoutModel",
            "_view_count": null,
            "_view_module": "@jupyter-widgets/base",
            "_view_module_version": "1.2.0",
            "_view_name": "LayoutView",
            "align_content": null,
            "align_items": null,
            "align_self": null,
            "border": null,
            "bottom": null,
            "display": null,
            "flex": null,
            "flex_flow": null,
            "grid_area": null,
            "grid_auto_columns": null,
            "grid_auto_flow": null,
            "grid_auto_rows": null,
            "grid_column": null,
            "grid_gap": null,
            "grid_row": null,
            "grid_template_areas": null,
            "grid_template_columns": null,
            "grid_template_rows": null,
            "height": null,
            "justify_content": null,
            "justify_items": null,
            "left": null,
            "margin": null,
            "max_height": null,
            "max_width": null,
            "min_height": null,
            "min_width": null,
            "object_fit": null,
            "object_position": null,
            "order": null,
            "overflow": null,
            "overflow_x": null,
            "overflow_y": null,
            "padding": null,
            "right": null,
            "top": null,
            "visibility": null,
            "width": null
          }
        },
        "91fa58d9dda14e849ecfd516c7ff34d4": {
          "model_module": "@jupyter-widgets/controls",
          "model_name": "DescriptionStyleModel",
          "model_module_version": "1.5.0",
          "state": {
            "_model_module": "@jupyter-widgets/controls",
            "_model_module_version": "1.5.0",
            "_model_name": "DescriptionStyleModel",
            "_view_count": null,
            "_view_module": "@jupyter-widgets/base",
            "_view_module_version": "1.2.0",
            "_view_name": "StyleView",
            "description_width": ""
          }
        },
        "ab69dbf2a3054eaaa8b9f48fb1acffb6": {
          "model_module": "@jupyter-widgets/base",
          "model_name": "LayoutModel",
          "model_module_version": "1.2.0",
          "state": {
            "_model_module": "@jupyter-widgets/base",
            "_model_module_version": "1.2.0",
            "_model_name": "LayoutModel",
            "_view_count": null,
            "_view_module": "@jupyter-widgets/base",
            "_view_module_version": "1.2.0",
            "_view_name": "LayoutView",
            "align_content": null,
            "align_items": null,
            "align_self": null,
            "border": null,
            "bottom": null,
            "display": null,
            "flex": null,
            "flex_flow": null,
            "grid_area": null,
            "grid_auto_columns": null,
            "grid_auto_flow": null,
            "grid_auto_rows": null,
            "grid_column": null,
            "grid_gap": null,
            "grid_row": null,
            "grid_template_areas": null,
            "grid_template_columns": null,
            "grid_template_rows": null,
            "height": null,
            "justify_content": null,
            "justify_items": null,
            "left": null,
            "margin": null,
            "max_height": null,
            "max_width": null,
            "min_height": null,
            "min_width": null,
            "object_fit": null,
            "object_position": null,
            "order": null,
            "overflow": null,
            "overflow_x": null,
            "overflow_y": null,
            "padding": null,
            "right": null,
            "top": null,
            "visibility": null,
            "width": null
          }
        },
        "d7be861151e9446384a07057488105c3": {
          "model_module": "@jupyter-widgets/controls",
          "model_name": "ProgressStyleModel",
          "model_module_version": "1.5.0",
          "state": {
            "_model_module": "@jupyter-widgets/controls",
            "_model_module_version": "1.5.0",
            "_model_name": "ProgressStyleModel",
            "_view_count": null,
            "_view_module": "@jupyter-widgets/base",
            "_view_module_version": "1.2.0",
            "_view_name": "StyleView",
            "bar_color": null,
            "description_width": ""
          }
        },
        "c57da4e2c0d84323a5389e47c7d28b8e": {
          "model_module": "@jupyter-widgets/base",
          "model_name": "LayoutModel",
          "model_module_version": "1.2.0",
          "state": {
            "_model_module": "@jupyter-widgets/base",
            "_model_module_version": "1.2.0",
            "_model_name": "LayoutModel",
            "_view_count": null,
            "_view_module": "@jupyter-widgets/base",
            "_view_module_version": "1.2.0",
            "_view_name": "LayoutView",
            "align_content": null,
            "align_items": null,
            "align_self": null,
            "border": null,
            "bottom": null,
            "display": null,
            "flex": null,
            "flex_flow": null,
            "grid_area": null,
            "grid_auto_columns": null,
            "grid_auto_flow": null,
            "grid_auto_rows": null,
            "grid_column": null,
            "grid_gap": null,
            "grid_row": null,
            "grid_template_areas": null,
            "grid_template_columns": null,
            "grid_template_rows": null,
            "height": null,
            "justify_content": null,
            "justify_items": null,
            "left": null,
            "margin": null,
            "max_height": null,
            "max_width": null,
            "min_height": null,
            "min_width": null,
            "object_fit": null,
            "object_position": null,
            "order": null,
            "overflow": null,
            "overflow_x": null,
            "overflow_y": null,
            "padding": null,
            "right": null,
            "top": null,
            "visibility": null,
            "width": null
          }
        },
        "5b8de8843c024b35b14840b3a645c979": {
          "model_module": "@jupyter-widgets/controls",
          "model_name": "DescriptionStyleModel",
          "model_module_version": "1.5.0",
          "state": {
            "_model_module": "@jupyter-widgets/controls",
            "_model_module_version": "1.5.0",
            "_model_name": "DescriptionStyleModel",
            "_view_count": null,
            "_view_module": "@jupyter-widgets/base",
            "_view_module_version": "1.2.0",
            "_view_name": "StyleView",
            "description_width": ""
          }
        },
        "f2e98028776246a1806290f6cc00734c": {
          "model_module": "@jupyter-widgets/controls",
          "model_name": "HBoxModel",
          "model_module_version": "1.5.0",
          "state": {
            "_dom_classes": [],
            "_model_module": "@jupyter-widgets/controls",
            "_model_module_version": "1.5.0",
            "_model_name": "HBoxModel",
            "_view_count": null,
            "_view_module": "@jupyter-widgets/controls",
            "_view_module_version": "1.5.0",
            "_view_name": "HBoxView",
            "box_style": "",
            "children": [
              "IPY_MODEL_f496eed78e2b4aa089d55f427878581b",
              "IPY_MODEL_f19438ddb7c848abbf56565e892fc114",
              "IPY_MODEL_0463f4f1c7c64a908d21ddcc3e733449"
            ],
            "layout": "IPY_MODEL_7e321597adbd4a08bfbc898cbd36fbbc"
          }
        },
        "f496eed78e2b4aa089d55f427878581b": {
          "model_module": "@jupyter-widgets/controls",
          "model_name": "HTMLModel",
          "model_module_version": "1.5.0",
          "state": {
            "_dom_classes": [],
            "_model_module": "@jupyter-widgets/controls",
            "_model_module_version": "1.5.0",
            "_model_name": "HTMLModel",
            "_view_count": null,
            "_view_module": "@jupyter-widgets/controls",
            "_view_module_version": "1.5.0",
            "_view_name": "HTMLView",
            "description": "",
            "description_tooltip": null,
            "layout": "IPY_MODEL_599984835df440df9ba27e8a6dd65712",
            "placeholder": "​",
            "style": "IPY_MODEL_9b4785991c914c24afd9d45e6eea888b",
            "value": "test-00000-of-00001.parquet: 100%"
          }
        },
        "f19438ddb7c848abbf56565e892fc114": {
          "model_module": "@jupyter-widgets/controls",
          "model_name": "FloatProgressModel",
          "model_module_version": "1.5.0",
          "state": {
            "_dom_classes": [],
            "_model_module": "@jupyter-widgets/controls",
            "_model_module_version": "1.5.0",
            "_model_name": "FloatProgressModel",
            "_view_count": null,
            "_view_module": "@jupyter-widgets/controls",
            "_view_module_version": "1.5.0",
            "_view_name": "ProgressView",
            "bar_style": "success",
            "description": "",
            "description_tooltip": null,
            "layout": "IPY_MODEL_f0d3a7087804442eba4cd96733da677b",
            "max": 20470363,
            "min": 0,
            "orientation": "horizontal",
            "style": "IPY_MODEL_252cd96e053647ac8600346602194245",
            "value": 20470363
          }
        },
        "0463f4f1c7c64a908d21ddcc3e733449": {
          "model_module": "@jupyter-widgets/controls",
          "model_name": "HTMLModel",
          "model_module_version": "1.5.0",
          "state": {
            "_dom_classes": [],
            "_model_module": "@jupyter-widgets/controls",
            "_model_module_version": "1.5.0",
            "_model_name": "HTMLModel",
            "_view_count": null,
            "_view_module": "@jupyter-widgets/controls",
            "_view_module_version": "1.5.0",
            "_view_name": "HTMLView",
            "description": "",
            "description_tooltip": null,
            "layout": "IPY_MODEL_19bade2e49bf48938e2e147946aeca2b",
            "placeholder": "​",
            "style": "IPY_MODEL_119ab45f23384a4d8a4b6f19202ea634",
            "value": " 20.5M/20.5M [00:00&lt;00:00, 365MB/s]"
          }
        },
        "7e321597adbd4a08bfbc898cbd36fbbc": {
          "model_module": "@jupyter-widgets/base",
          "model_name": "LayoutModel",
          "model_module_version": "1.2.0",
          "state": {
            "_model_module": "@jupyter-widgets/base",
            "_model_module_version": "1.2.0",
            "_model_name": "LayoutModel",
            "_view_count": null,
            "_view_module": "@jupyter-widgets/base",
            "_view_module_version": "1.2.0",
            "_view_name": "LayoutView",
            "align_content": null,
            "align_items": null,
            "align_self": null,
            "border": null,
            "bottom": null,
            "display": null,
            "flex": null,
            "flex_flow": null,
            "grid_area": null,
            "grid_auto_columns": null,
            "grid_auto_flow": null,
            "grid_auto_rows": null,
            "grid_column": null,
            "grid_gap": null,
            "grid_row": null,
            "grid_template_areas": null,
            "grid_template_columns": null,
            "grid_template_rows": null,
            "height": null,
            "justify_content": null,
            "justify_items": null,
            "left": null,
            "margin": null,
            "max_height": null,
            "max_width": null,
            "min_height": null,
            "min_width": null,
            "object_fit": null,
            "object_position": null,
            "order": null,
            "overflow": null,
            "overflow_x": null,
            "overflow_y": null,
            "padding": null,
            "right": null,
            "top": null,
            "visibility": null,
            "width": null
          }
        },
        "599984835df440df9ba27e8a6dd65712": {
          "model_module": "@jupyter-widgets/base",
          "model_name": "LayoutModel",
          "model_module_version": "1.2.0",
          "state": {
            "_model_module": "@jupyter-widgets/base",
            "_model_module_version": "1.2.0",
            "_model_name": "LayoutModel",
            "_view_count": null,
            "_view_module": "@jupyter-widgets/base",
            "_view_module_version": "1.2.0",
            "_view_name": "LayoutView",
            "align_content": null,
            "align_items": null,
            "align_self": null,
            "border": null,
            "bottom": null,
            "display": null,
            "flex": null,
            "flex_flow": null,
            "grid_area": null,
            "grid_auto_columns": null,
            "grid_auto_flow": null,
            "grid_auto_rows": null,
            "grid_column": null,
            "grid_gap": null,
            "grid_row": null,
            "grid_template_areas": null,
            "grid_template_columns": null,
            "grid_template_rows": null,
            "height": null,
            "justify_content": null,
            "justify_items": null,
            "left": null,
            "margin": null,
            "max_height": null,
            "max_width": null,
            "min_height": null,
            "min_width": null,
            "object_fit": null,
            "object_position": null,
            "order": null,
            "overflow": null,
            "overflow_x": null,
            "overflow_y": null,
            "padding": null,
            "right": null,
            "top": null,
            "visibility": null,
            "width": null
          }
        },
        "9b4785991c914c24afd9d45e6eea888b": {
          "model_module": "@jupyter-widgets/controls",
          "model_name": "DescriptionStyleModel",
          "model_module_version": "1.5.0",
          "state": {
            "_model_module": "@jupyter-widgets/controls",
            "_model_module_version": "1.5.0",
            "_model_name": "DescriptionStyleModel",
            "_view_count": null,
            "_view_module": "@jupyter-widgets/base",
            "_view_module_version": "1.2.0",
            "_view_name": "StyleView",
            "description_width": ""
          }
        },
        "f0d3a7087804442eba4cd96733da677b": {
          "model_module": "@jupyter-widgets/base",
          "model_name": "LayoutModel",
          "model_module_version": "1.2.0",
          "state": {
            "_model_module": "@jupyter-widgets/base",
            "_model_module_version": "1.2.0",
            "_model_name": "LayoutModel",
            "_view_count": null,
            "_view_module": "@jupyter-widgets/base",
            "_view_module_version": "1.2.0",
            "_view_name": "LayoutView",
            "align_content": null,
            "align_items": null,
            "align_self": null,
            "border": null,
            "bottom": null,
            "display": null,
            "flex": null,
            "flex_flow": null,
            "grid_area": null,
            "grid_auto_columns": null,
            "grid_auto_flow": null,
            "grid_auto_rows": null,
            "grid_column": null,
            "grid_gap": null,
            "grid_row": null,
            "grid_template_areas": null,
            "grid_template_columns": null,
            "grid_template_rows": null,
            "height": null,
            "justify_content": null,
            "justify_items": null,
            "left": null,
            "margin": null,
            "max_height": null,
            "max_width": null,
            "min_height": null,
            "min_width": null,
            "object_fit": null,
            "object_position": null,
            "order": null,
            "overflow": null,
            "overflow_x": null,
            "overflow_y": null,
            "padding": null,
            "right": null,
            "top": null,
            "visibility": null,
            "width": null
          }
        },
        "252cd96e053647ac8600346602194245": {
          "model_module": "@jupyter-widgets/controls",
          "model_name": "ProgressStyleModel",
          "model_module_version": "1.5.0",
          "state": {
            "_model_module": "@jupyter-widgets/controls",
            "_model_module_version": "1.5.0",
            "_model_name": "ProgressStyleModel",
            "_view_count": null,
            "_view_module": "@jupyter-widgets/base",
            "_view_module_version": "1.2.0",
            "_view_name": "StyleView",
            "bar_color": null,
            "description_width": ""
          }
        },
        "19bade2e49bf48938e2e147946aeca2b": {
          "model_module": "@jupyter-widgets/base",
          "model_name": "LayoutModel",
          "model_module_version": "1.2.0",
          "state": {
            "_model_module": "@jupyter-widgets/base",
            "_model_module_version": "1.2.0",
            "_model_name": "LayoutModel",
            "_view_count": null,
            "_view_module": "@jupyter-widgets/base",
            "_view_module_version": "1.2.0",
            "_view_name": "LayoutView",
            "align_content": null,
            "align_items": null,
            "align_self": null,
            "border": null,
            "bottom": null,
            "display": null,
            "flex": null,
            "flex_flow": null,
            "grid_area": null,
            "grid_auto_columns": null,
            "grid_auto_flow": null,
            "grid_auto_rows": null,
            "grid_column": null,
            "grid_gap": null,
            "grid_row": null,
            "grid_template_areas": null,
            "grid_template_columns": null,
            "grid_template_rows": null,
            "height": null,
            "justify_content": null,
            "justify_items": null,
            "left": null,
            "margin": null,
            "max_height": null,
            "max_width": null,
            "min_height": null,
            "min_width": null,
            "object_fit": null,
            "object_position": null,
            "order": null,
            "overflow": null,
            "overflow_x": null,
            "overflow_y": null,
            "padding": null,
            "right": null,
            "top": null,
            "visibility": null,
            "width": null
          }
        },
        "119ab45f23384a4d8a4b6f19202ea634": {
          "model_module": "@jupyter-widgets/controls",
          "model_name": "DescriptionStyleModel",
          "model_module_version": "1.5.0",
          "state": {
            "_model_module": "@jupyter-widgets/controls",
            "_model_module_version": "1.5.0",
            "_model_name": "DescriptionStyleModel",
            "_view_count": null,
            "_view_module": "@jupyter-widgets/base",
            "_view_module_version": "1.2.0",
            "_view_name": "StyleView",
            "description_width": ""
          }
        },
        "71542f08a3d642b1a52c303ee3204848": {
          "model_module": "@jupyter-widgets/controls",
          "model_name": "HBoxModel",
          "model_module_version": "1.5.0",
          "state": {
            "_dom_classes": [],
            "_model_module": "@jupyter-widgets/controls",
            "_model_module_version": "1.5.0",
            "_model_name": "HBoxModel",
            "_view_count": null,
            "_view_module": "@jupyter-widgets/controls",
            "_view_module_version": "1.5.0",
            "_view_name": "HBoxView",
            "box_style": "",
            "children": [
              "IPY_MODEL_7992e4785d0c41529a66d6df4727401e",
              "IPY_MODEL_6d4f8c5b97a045d79c4c9ac7449b371e",
              "IPY_MODEL_a3551833b0be4d03b3724a4045ccad36"
            ],
            "layout": "IPY_MODEL_1953104d51994d32958c46dea95db610"
          }
        },
        "7992e4785d0c41529a66d6df4727401e": {
          "model_module": "@jupyter-widgets/controls",
          "model_name": "HTMLModel",
          "model_module_version": "1.5.0",
          "state": {
            "_dom_classes": [],
            "_model_module": "@jupyter-widgets/controls",
            "_model_module_version": "1.5.0",
            "_model_name": "HTMLModel",
            "_view_count": null,
            "_view_module": "@jupyter-widgets/controls",
            "_view_module_version": "1.5.0",
            "_view_name": "HTMLView",
            "description": "",
            "description_tooltip": null,
            "layout": "IPY_MODEL_14e63e24317f470e9db854c0dd570ac1",
            "placeholder": "​",
            "style": "IPY_MODEL_3cf408319bf847cc8e02bd9e07b0c007",
            "value": "unsupervised-00000-of-00001.parquet: 100%"
          }
        },
        "6d4f8c5b97a045d79c4c9ac7449b371e": {
          "model_module": "@jupyter-widgets/controls",
          "model_name": "FloatProgressModel",
          "model_module_version": "1.5.0",
          "state": {
            "_dom_classes": [],
            "_model_module": "@jupyter-widgets/controls",
            "_model_module_version": "1.5.0",
            "_model_name": "FloatProgressModel",
            "_view_count": null,
            "_view_module": "@jupyter-widgets/controls",
            "_view_module_version": "1.5.0",
            "_view_name": "ProgressView",
            "bar_style": "success",
            "description": "",
            "description_tooltip": null,
            "layout": "IPY_MODEL_7a00b6e4f306422489e420a5bfc81f8c",
            "max": 41996509,
            "min": 0,
            "orientation": "horizontal",
            "style": "IPY_MODEL_b57a08a9e8b3406d814a39f032112d00",
            "value": 41996509
          }
        },
        "a3551833b0be4d03b3724a4045ccad36": {
          "model_module": "@jupyter-widgets/controls",
          "model_name": "HTMLModel",
          "model_module_version": "1.5.0",
          "state": {
            "_dom_classes": [],
            "_model_module": "@jupyter-widgets/controls",
            "_model_module_version": "1.5.0",
            "_model_name": "HTMLModel",
            "_view_count": null,
            "_view_module": "@jupyter-widgets/controls",
            "_view_module_version": "1.5.0",
            "_view_name": "HTMLView",
            "description": "",
            "description_tooltip": null,
            "layout": "IPY_MODEL_ee048bf1c2104f84b482aed3551a41ef",
            "placeholder": "​",
            "style": "IPY_MODEL_9b91d85907284969acea5a0428f6a2a2",
            "value": " 42.0M/42.0M [00:00&lt;00:00, 190MB/s]"
          }
        },
        "1953104d51994d32958c46dea95db610": {
          "model_module": "@jupyter-widgets/base",
          "model_name": "LayoutModel",
          "model_module_version": "1.2.0",
          "state": {
            "_model_module": "@jupyter-widgets/base",
            "_model_module_version": "1.2.0",
            "_model_name": "LayoutModel",
            "_view_count": null,
            "_view_module": "@jupyter-widgets/base",
            "_view_module_version": "1.2.0",
            "_view_name": "LayoutView",
            "align_content": null,
            "align_items": null,
            "align_self": null,
            "border": null,
            "bottom": null,
            "display": null,
            "flex": null,
            "flex_flow": null,
            "grid_area": null,
            "grid_auto_columns": null,
            "grid_auto_flow": null,
            "grid_auto_rows": null,
            "grid_column": null,
            "grid_gap": null,
            "grid_row": null,
            "grid_template_areas": null,
            "grid_template_columns": null,
            "grid_template_rows": null,
            "height": null,
            "justify_content": null,
            "justify_items": null,
            "left": null,
            "margin": null,
            "max_height": null,
            "max_width": null,
            "min_height": null,
            "min_width": null,
            "object_fit": null,
            "object_position": null,
            "order": null,
            "overflow": null,
            "overflow_x": null,
            "overflow_y": null,
            "padding": null,
            "right": null,
            "top": null,
            "visibility": null,
            "width": null
          }
        },
        "14e63e24317f470e9db854c0dd570ac1": {
          "model_module": "@jupyter-widgets/base",
          "model_name": "LayoutModel",
          "model_module_version": "1.2.0",
          "state": {
            "_model_module": "@jupyter-widgets/base",
            "_model_module_version": "1.2.0",
            "_model_name": "LayoutModel",
            "_view_count": null,
            "_view_module": "@jupyter-widgets/base",
            "_view_module_version": "1.2.0",
            "_view_name": "LayoutView",
            "align_content": null,
            "align_items": null,
            "align_self": null,
            "border": null,
            "bottom": null,
            "display": null,
            "flex": null,
            "flex_flow": null,
            "grid_area": null,
            "grid_auto_columns": null,
            "grid_auto_flow": null,
            "grid_auto_rows": null,
            "grid_column": null,
            "grid_gap": null,
            "grid_row": null,
            "grid_template_areas": null,
            "grid_template_columns": null,
            "grid_template_rows": null,
            "height": null,
            "justify_content": null,
            "justify_items": null,
            "left": null,
            "margin": null,
            "max_height": null,
            "max_width": null,
            "min_height": null,
            "min_width": null,
            "object_fit": null,
            "object_position": null,
            "order": null,
            "overflow": null,
            "overflow_x": null,
            "overflow_y": null,
            "padding": null,
            "right": null,
            "top": null,
            "visibility": null,
            "width": null
          }
        },
        "3cf408319bf847cc8e02bd9e07b0c007": {
          "model_module": "@jupyter-widgets/controls",
          "model_name": "DescriptionStyleModel",
          "model_module_version": "1.5.0",
          "state": {
            "_model_module": "@jupyter-widgets/controls",
            "_model_module_version": "1.5.0",
            "_model_name": "DescriptionStyleModel",
            "_view_count": null,
            "_view_module": "@jupyter-widgets/base",
            "_view_module_version": "1.2.0",
            "_view_name": "StyleView",
            "description_width": ""
          }
        },
        "7a00b6e4f306422489e420a5bfc81f8c": {
          "model_module": "@jupyter-widgets/base",
          "model_name": "LayoutModel",
          "model_module_version": "1.2.0",
          "state": {
            "_model_module": "@jupyter-widgets/base",
            "_model_module_version": "1.2.0",
            "_model_name": "LayoutModel",
            "_view_count": null,
            "_view_module": "@jupyter-widgets/base",
            "_view_module_version": "1.2.0",
            "_view_name": "LayoutView",
            "align_content": null,
            "align_items": null,
            "align_self": null,
            "border": null,
            "bottom": null,
            "display": null,
            "flex": null,
            "flex_flow": null,
            "grid_area": null,
            "grid_auto_columns": null,
            "grid_auto_flow": null,
            "grid_auto_rows": null,
            "grid_column": null,
            "grid_gap": null,
            "grid_row": null,
            "grid_template_areas": null,
            "grid_template_columns": null,
            "grid_template_rows": null,
            "height": null,
            "justify_content": null,
            "justify_items": null,
            "left": null,
            "margin": null,
            "max_height": null,
            "max_width": null,
            "min_height": null,
            "min_width": null,
            "object_fit": null,
            "object_position": null,
            "order": null,
            "overflow": null,
            "overflow_x": null,
            "overflow_y": null,
            "padding": null,
            "right": null,
            "top": null,
            "visibility": null,
            "width": null
          }
        },
        "b57a08a9e8b3406d814a39f032112d00": {
          "model_module": "@jupyter-widgets/controls",
          "model_name": "ProgressStyleModel",
          "model_module_version": "1.5.0",
          "state": {
            "_model_module": "@jupyter-widgets/controls",
            "_model_module_version": "1.5.0",
            "_model_name": "ProgressStyleModel",
            "_view_count": null,
            "_view_module": "@jupyter-widgets/base",
            "_view_module_version": "1.2.0",
            "_view_name": "StyleView",
            "bar_color": null,
            "description_width": ""
          }
        },
        "ee048bf1c2104f84b482aed3551a41ef": {
          "model_module": "@jupyter-widgets/base",
          "model_name": "LayoutModel",
          "model_module_version": "1.2.0",
          "state": {
            "_model_module": "@jupyter-widgets/base",
            "_model_module_version": "1.2.0",
            "_model_name": "LayoutModel",
            "_view_count": null,
            "_view_module": "@jupyter-widgets/base",
            "_view_module_version": "1.2.0",
            "_view_name": "LayoutView",
            "align_content": null,
            "align_items": null,
            "align_self": null,
            "border": null,
            "bottom": null,
            "display": null,
            "flex": null,
            "flex_flow": null,
            "grid_area": null,
            "grid_auto_columns": null,
            "grid_auto_flow": null,
            "grid_auto_rows": null,
            "grid_column": null,
            "grid_gap": null,
            "grid_row": null,
            "grid_template_areas": null,
            "grid_template_columns": null,
            "grid_template_rows": null,
            "height": null,
            "justify_content": null,
            "justify_items": null,
            "left": null,
            "margin": null,
            "max_height": null,
            "max_width": null,
            "min_height": null,
            "min_width": null,
            "object_fit": null,
            "object_position": null,
            "order": null,
            "overflow": null,
            "overflow_x": null,
            "overflow_y": null,
            "padding": null,
            "right": null,
            "top": null,
            "visibility": null,
            "width": null
          }
        },
        "9b91d85907284969acea5a0428f6a2a2": {
          "model_module": "@jupyter-widgets/controls",
          "model_name": "DescriptionStyleModel",
          "model_module_version": "1.5.0",
          "state": {
            "_model_module": "@jupyter-widgets/controls",
            "_model_module_version": "1.5.0",
            "_model_name": "DescriptionStyleModel",
            "_view_count": null,
            "_view_module": "@jupyter-widgets/base",
            "_view_module_version": "1.2.0",
            "_view_name": "StyleView",
            "description_width": ""
          }
        },
        "b0b02cd768914291b019ddc44b97cbe3": {
          "model_module": "@jupyter-widgets/controls",
          "model_name": "HBoxModel",
          "model_module_version": "1.5.0",
          "state": {
            "_dom_classes": [],
            "_model_module": "@jupyter-widgets/controls",
            "_model_module_version": "1.5.0",
            "_model_name": "HBoxModel",
            "_view_count": null,
            "_view_module": "@jupyter-widgets/controls",
            "_view_module_version": "1.5.0",
            "_view_name": "HBoxView",
            "box_style": "",
            "children": [
              "IPY_MODEL_f7acf6dabdcb4f0bbdb37f1f4a1b35b6",
              "IPY_MODEL_ef728442c77642bb979dfa9f93da0d14",
              "IPY_MODEL_f0f46dbf1d12409a91f061b71c5bdab1"
            ],
            "layout": "IPY_MODEL_270655e4888141379ee1bf696484579b"
          }
        },
        "f7acf6dabdcb4f0bbdb37f1f4a1b35b6": {
          "model_module": "@jupyter-widgets/controls",
          "model_name": "HTMLModel",
          "model_module_version": "1.5.0",
          "state": {
            "_dom_classes": [],
            "_model_module": "@jupyter-widgets/controls",
            "_model_module_version": "1.5.0",
            "_model_name": "HTMLModel",
            "_view_count": null,
            "_view_module": "@jupyter-widgets/controls",
            "_view_module_version": "1.5.0",
            "_view_name": "HTMLView",
            "description": "",
            "description_tooltip": null,
            "layout": "IPY_MODEL_8e6c325b530b4d7fbe2e3d7227b5210b",
            "placeholder": "​",
            "style": "IPY_MODEL_bf4e1ef1feaf4e70936b19ddaf0bea26",
            "value": "Generating train split: 100%"
          }
        },
        "ef728442c77642bb979dfa9f93da0d14": {
          "model_module": "@jupyter-widgets/controls",
          "model_name": "FloatProgressModel",
          "model_module_version": "1.5.0",
          "state": {
            "_dom_classes": [],
            "_model_module": "@jupyter-widgets/controls",
            "_model_module_version": "1.5.0",
            "_model_name": "FloatProgressModel",
            "_view_count": null,
            "_view_module": "@jupyter-widgets/controls",
            "_view_module_version": "1.5.0",
            "_view_name": "ProgressView",
            "bar_style": "success",
            "description": "",
            "description_tooltip": null,
            "layout": "IPY_MODEL_55993007dbf44911b1e5a3b8869d3fd7",
            "max": 25000,
            "min": 0,
            "orientation": "horizontal",
            "style": "IPY_MODEL_04e989d43b9e4d7abc74e360e4066374",
            "value": 25000
          }
        },
        "f0f46dbf1d12409a91f061b71c5bdab1": {
          "model_module": "@jupyter-widgets/controls",
          "model_name": "HTMLModel",
          "model_module_version": "1.5.0",
          "state": {
            "_dom_classes": [],
            "_model_module": "@jupyter-widgets/controls",
            "_model_module_version": "1.5.0",
            "_model_name": "HTMLModel",
            "_view_count": null,
            "_view_module": "@jupyter-widgets/controls",
            "_view_module_version": "1.5.0",
            "_view_name": "HTMLView",
            "description": "",
            "description_tooltip": null,
            "layout": "IPY_MODEL_d464c8c28c054d9bb5133b5fcb8c8c15",
            "placeholder": "​",
            "style": "IPY_MODEL_ec46d24956d64983a11eb821d5b5022b",
            "value": " 25000/25000 [00:00&lt;00:00, 57027.60 examples/s]"
          }
        },
        "270655e4888141379ee1bf696484579b": {
          "model_module": "@jupyter-widgets/base",
          "model_name": "LayoutModel",
          "model_module_version": "1.2.0",
          "state": {
            "_model_module": "@jupyter-widgets/base",
            "_model_module_version": "1.2.0",
            "_model_name": "LayoutModel",
            "_view_count": null,
            "_view_module": "@jupyter-widgets/base",
            "_view_module_version": "1.2.0",
            "_view_name": "LayoutView",
            "align_content": null,
            "align_items": null,
            "align_self": null,
            "border": null,
            "bottom": null,
            "display": null,
            "flex": null,
            "flex_flow": null,
            "grid_area": null,
            "grid_auto_columns": null,
            "grid_auto_flow": null,
            "grid_auto_rows": null,
            "grid_column": null,
            "grid_gap": null,
            "grid_row": null,
            "grid_template_areas": null,
            "grid_template_columns": null,
            "grid_template_rows": null,
            "height": null,
            "justify_content": null,
            "justify_items": null,
            "left": null,
            "margin": null,
            "max_height": null,
            "max_width": null,
            "min_height": null,
            "min_width": null,
            "object_fit": null,
            "object_position": null,
            "order": null,
            "overflow": null,
            "overflow_x": null,
            "overflow_y": null,
            "padding": null,
            "right": null,
            "top": null,
            "visibility": null,
            "width": null
          }
        },
        "8e6c325b530b4d7fbe2e3d7227b5210b": {
          "model_module": "@jupyter-widgets/base",
          "model_name": "LayoutModel",
          "model_module_version": "1.2.0",
          "state": {
            "_model_module": "@jupyter-widgets/base",
            "_model_module_version": "1.2.0",
            "_model_name": "LayoutModel",
            "_view_count": null,
            "_view_module": "@jupyter-widgets/base",
            "_view_module_version": "1.2.0",
            "_view_name": "LayoutView",
            "align_content": null,
            "align_items": null,
            "align_self": null,
            "border": null,
            "bottom": null,
            "display": null,
            "flex": null,
            "flex_flow": null,
            "grid_area": null,
            "grid_auto_columns": null,
            "grid_auto_flow": null,
            "grid_auto_rows": null,
            "grid_column": null,
            "grid_gap": null,
            "grid_row": null,
            "grid_template_areas": null,
            "grid_template_columns": null,
            "grid_template_rows": null,
            "height": null,
            "justify_content": null,
            "justify_items": null,
            "left": null,
            "margin": null,
            "max_height": null,
            "max_width": null,
            "min_height": null,
            "min_width": null,
            "object_fit": null,
            "object_position": null,
            "order": null,
            "overflow": null,
            "overflow_x": null,
            "overflow_y": null,
            "padding": null,
            "right": null,
            "top": null,
            "visibility": null,
            "width": null
          }
        },
        "bf4e1ef1feaf4e70936b19ddaf0bea26": {
          "model_module": "@jupyter-widgets/controls",
          "model_name": "DescriptionStyleModel",
          "model_module_version": "1.5.0",
          "state": {
            "_model_module": "@jupyter-widgets/controls",
            "_model_module_version": "1.5.0",
            "_model_name": "DescriptionStyleModel",
            "_view_count": null,
            "_view_module": "@jupyter-widgets/base",
            "_view_module_version": "1.2.0",
            "_view_name": "StyleView",
            "description_width": ""
          }
        },
        "55993007dbf44911b1e5a3b8869d3fd7": {
          "model_module": "@jupyter-widgets/base",
          "model_name": "LayoutModel",
          "model_module_version": "1.2.0",
          "state": {
            "_model_module": "@jupyter-widgets/base",
            "_model_module_version": "1.2.0",
            "_model_name": "LayoutModel",
            "_view_count": null,
            "_view_module": "@jupyter-widgets/base",
            "_view_module_version": "1.2.0",
            "_view_name": "LayoutView",
            "align_content": null,
            "align_items": null,
            "align_self": null,
            "border": null,
            "bottom": null,
            "display": null,
            "flex": null,
            "flex_flow": null,
            "grid_area": null,
            "grid_auto_columns": null,
            "grid_auto_flow": null,
            "grid_auto_rows": null,
            "grid_column": null,
            "grid_gap": null,
            "grid_row": null,
            "grid_template_areas": null,
            "grid_template_columns": null,
            "grid_template_rows": null,
            "height": null,
            "justify_content": null,
            "justify_items": null,
            "left": null,
            "margin": null,
            "max_height": null,
            "max_width": null,
            "min_height": null,
            "min_width": null,
            "object_fit": null,
            "object_position": null,
            "order": null,
            "overflow": null,
            "overflow_x": null,
            "overflow_y": null,
            "padding": null,
            "right": null,
            "top": null,
            "visibility": null,
            "width": null
          }
        },
        "04e989d43b9e4d7abc74e360e4066374": {
          "model_module": "@jupyter-widgets/controls",
          "model_name": "ProgressStyleModel",
          "model_module_version": "1.5.0",
          "state": {
            "_model_module": "@jupyter-widgets/controls",
            "_model_module_version": "1.5.0",
            "_model_name": "ProgressStyleModel",
            "_view_count": null,
            "_view_module": "@jupyter-widgets/base",
            "_view_module_version": "1.2.0",
            "_view_name": "StyleView",
            "bar_color": null,
            "description_width": ""
          }
        },
        "d464c8c28c054d9bb5133b5fcb8c8c15": {
          "model_module": "@jupyter-widgets/base",
          "model_name": "LayoutModel",
          "model_module_version": "1.2.0",
          "state": {
            "_model_module": "@jupyter-widgets/base",
            "_model_module_version": "1.2.0",
            "_model_name": "LayoutModel",
            "_view_count": null,
            "_view_module": "@jupyter-widgets/base",
            "_view_module_version": "1.2.0",
            "_view_name": "LayoutView",
            "align_content": null,
            "align_items": null,
            "align_self": null,
            "border": null,
            "bottom": null,
            "display": null,
            "flex": null,
            "flex_flow": null,
            "grid_area": null,
            "grid_auto_columns": null,
            "grid_auto_flow": null,
            "grid_auto_rows": null,
            "grid_column": null,
            "grid_gap": null,
            "grid_row": null,
            "grid_template_areas": null,
            "grid_template_columns": null,
            "grid_template_rows": null,
            "height": null,
            "justify_content": null,
            "justify_items": null,
            "left": null,
            "margin": null,
            "max_height": null,
            "max_width": null,
            "min_height": null,
            "min_width": null,
            "object_fit": null,
            "object_position": null,
            "order": null,
            "overflow": null,
            "overflow_x": null,
            "overflow_y": null,
            "padding": null,
            "right": null,
            "top": null,
            "visibility": null,
            "width": null
          }
        },
        "ec46d24956d64983a11eb821d5b5022b": {
          "model_module": "@jupyter-widgets/controls",
          "model_name": "DescriptionStyleModel",
          "model_module_version": "1.5.0",
          "state": {
            "_model_module": "@jupyter-widgets/controls",
            "_model_module_version": "1.5.0",
            "_model_name": "DescriptionStyleModel",
            "_view_count": null,
            "_view_module": "@jupyter-widgets/base",
            "_view_module_version": "1.2.0",
            "_view_name": "StyleView",
            "description_width": ""
          }
        },
        "5f1735c032ea4b989ad94384cadf2555": {
          "model_module": "@jupyter-widgets/controls",
          "model_name": "HBoxModel",
          "model_module_version": "1.5.0",
          "state": {
            "_dom_classes": [],
            "_model_module": "@jupyter-widgets/controls",
            "_model_module_version": "1.5.0",
            "_model_name": "HBoxModel",
            "_view_count": null,
            "_view_module": "@jupyter-widgets/controls",
            "_view_module_version": "1.5.0",
            "_view_name": "HBoxView",
            "box_style": "",
            "children": [
              "IPY_MODEL_cae92ebbbf814549abac67596abd0fc6",
              "IPY_MODEL_d3f86de155c040118004ba1e3e838044",
              "IPY_MODEL_a3f685f0ae5848c4adc3b9c69d6f7701"
            ],
            "layout": "IPY_MODEL_24352d25bcfd43ba8cb3c87d8eff48ae"
          }
        },
        "cae92ebbbf814549abac67596abd0fc6": {
          "model_module": "@jupyter-widgets/controls",
          "model_name": "HTMLModel",
          "model_module_version": "1.5.0",
          "state": {
            "_dom_classes": [],
            "_model_module": "@jupyter-widgets/controls",
            "_model_module_version": "1.5.0",
            "_model_name": "HTMLModel",
            "_view_count": null,
            "_view_module": "@jupyter-widgets/controls",
            "_view_module_version": "1.5.0",
            "_view_name": "HTMLView",
            "description": "",
            "description_tooltip": null,
            "layout": "IPY_MODEL_4f4339e10c40498d8caf1450f397c077",
            "placeholder": "​",
            "style": "IPY_MODEL_fd0c54b59cac41bcbb2462bb0448a240",
            "value": "Generating test split: 100%"
          }
        },
        "d3f86de155c040118004ba1e3e838044": {
          "model_module": "@jupyter-widgets/controls",
          "model_name": "FloatProgressModel",
          "model_module_version": "1.5.0",
          "state": {
            "_dom_classes": [],
            "_model_module": "@jupyter-widgets/controls",
            "_model_module_version": "1.5.0",
            "_model_name": "FloatProgressModel",
            "_view_count": null,
            "_view_module": "@jupyter-widgets/controls",
            "_view_module_version": "1.5.0",
            "_view_name": "ProgressView",
            "bar_style": "success",
            "description": "",
            "description_tooltip": null,
            "layout": "IPY_MODEL_898574c996de4e1db23172d6097a6fc2",
            "max": 25000,
            "min": 0,
            "orientation": "horizontal",
            "style": "IPY_MODEL_61e8bc23b5b3469c84a552b9e503d5c6",
            "value": 25000
          }
        },
        "a3f685f0ae5848c4adc3b9c69d6f7701": {
          "model_module": "@jupyter-widgets/controls",
          "model_name": "HTMLModel",
          "model_module_version": "1.5.0",
          "state": {
            "_dom_classes": [],
            "_model_module": "@jupyter-widgets/controls",
            "_model_module_version": "1.5.0",
            "_model_name": "HTMLModel",
            "_view_count": null,
            "_view_module": "@jupyter-widgets/controls",
            "_view_module_version": "1.5.0",
            "_view_name": "HTMLView",
            "description": "",
            "description_tooltip": null,
            "layout": "IPY_MODEL_e02dde2df9a44f97a7108d3fc9382130",
            "placeholder": "​",
            "style": "IPY_MODEL_b8867260e83d49ce80288a8bd52b936e",
            "value": " 25000/25000 [00:00&lt;00:00, 143850.64 examples/s]"
          }
        },
        "24352d25bcfd43ba8cb3c87d8eff48ae": {
          "model_module": "@jupyter-widgets/base",
          "model_name": "LayoutModel",
          "model_module_version": "1.2.0",
          "state": {
            "_model_module": "@jupyter-widgets/base",
            "_model_module_version": "1.2.0",
            "_model_name": "LayoutModel",
            "_view_count": null,
            "_view_module": "@jupyter-widgets/base",
            "_view_module_version": "1.2.0",
            "_view_name": "LayoutView",
            "align_content": null,
            "align_items": null,
            "align_self": null,
            "border": null,
            "bottom": null,
            "display": null,
            "flex": null,
            "flex_flow": null,
            "grid_area": null,
            "grid_auto_columns": null,
            "grid_auto_flow": null,
            "grid_auto_rows": null,
            "grid_column": null,
            "grid_gap": null,
            "grid_row": null,
            "grid_template_areas": null,
            "grid_template_columns": null,
            "grid_template_rows": null,
            "height": null,
            "justify_content": null,
            "justify_items": null,
            "left": null,
            "margin": null,
            "max_height": null,
            "max_width": null,
            "min_height": null,
            "min_width": null,
            "object_fit": null,
            "object_position": null,
            "order": null,
            "overflow": null,
            "overflow_x": null,
            "overflow_y": null,
            "padding": null,
            "right": null,
            "top": null,
            "visibility": null,
            "width": null
          }
        },
        "4f4339e10c40498d8caf1450f397c077": {
          "model_module": "@jupyter-widgets/base",
          "model_name": "LayoutModel",
          "model_module_version": "1.2.0",
          "state": {
            "_model_module": "@jupyter-widgets/base",
            "_model_module_version": "1.2.0",
            "_model_name": "LayoutModel",
            "_view_count": null,
            "_view_module": "@jupyter-widgets/base",
            "_view_module_version": "1.2.0",
            "_view_name": "LayoutView",
            "align_content": null,
            "align_items": null,
            "align_self": null,
            "border": null,
            "bottom": null,
            "display": null,
            "flex": null,
            "flex_flow": null,
            "grid_area": null,
            "grid_auto_columns": null,
            "grid_auto_flow": null,
            "grid_auto_rows": null,
            "grid_column": null,
            "grid_gap": null,
            "grid_row": null,
            "grid_template_areas": null,
            "grid_template_columns": null,
            "grid_template_rows": null,
            "height": null,
            "justify_content": null,
            "justify_items": null,
            "left": null,
            "margin": null,
            "max_height": null,
            "max_width": null,
            "min_height": null,
            "min_width": null,
            "object_fit": null,
            "object_position": null,
            "order": null,
            "overflow": null,
            "overflow_x": null,
            "overflow_y": null,
            "padding": null,
            "right": null,
            "top": null,
            "visibility": null,
            "width": null
          }
        },
        "fd0c54b59cac41bcbb2462bb0448a240": {
          "model_module": "@jupyter-widgets/controls",
          "model_name": "DescriptionStyleModel",
          "model_module_version": "1.5.0",
          "state": {
            "_model_module": "@jupyter-widgets/controls",
            "_model_module_version": "1.5.0",
            "_model_name": "DescriptionStyleModel",
            "_view_count": null,
            "_view_module": "@jupyter-widgets/base",
            "_view_module_version": "1.2.0",
            "_view_name": "StyleView",
            "description_width": ""
          }
        },
        "898574c996de4e1db23172d6097a6fc2": {
          "model_module": "@jupyter-widgets/base",
          "model_name": "LayoutModel",
          "model_module_version": "1.2.0",
          "state": {
            "_model_module": "@jupyter-widgets/base",
            "_model_module_version": "1.2.0",
            "_model_name": "LayoutModel",
            "_view_count": null,
            "_view_module": "@jupyter-widgets/base",
            "_view_module_version": "1.2.0",
            "_view_name": "LayoutView",
            "align_content": null,
            "align_items": null,
            "align_self": null,
            "border": null,
            "bottom": null,
            "display": null,
            "flex": null,
            "flex_flow": null,
            "grid_area": null,
            "grid_auto_columns": null,
            "grid_auto_flow": null,
            "grid_auto_rows": null,
            "grid_column": null,
            "grid_gap": null,
            "grid_row": null,
            "grid_template_areas": null,
            "grid_template_columns": null,
            "grid_template_rows": null,
            "height": null,
            "justify_content": null,
            "justify_items": null,
            "left": null,
            "margin": null,
            "max_height": null,
            "max_width": null,
            "min_height": null,
            "min_width": null,
            "object_fit": null,
            "object_position": null,
            "order": null,
            "overflow": null,
            "overflow_x": null,
            "overflow_y": null,
            "padding": null,
            "right": null,
            "top": null,
            "visibility": null,
            "width": null
          }
        },
        "61e8bc23b5b3469c84a552b9e503d5c6": {
          "model_module": "@jupyter-widgets/controls",
          "model_name": "ProgressStyleModel",
          "model_module_version": "1.5.0",
          "state": {
            "_model_module": "@jupyter-widgets/controls",
            "_model_module_version": "1.5.0",
            "_model_name": "ProgressStyleModel",
            "_view_count": null,
            "_view_module": "@jupyter-widgets/base",
            "_view_module_version": "1.2.0",
            "_view_name": "StyleView",
            "bar_color": null,
            "description_width": ""
          }
        },
        "e02dde2df9a44f97a7108d3fc9382130": {
          "model_module": "@jupyter-widgets/base",
          "model_name": "LayoutModel",
          "model_module_version": "1.2.0",
          "state": {
            "_model_module": "@jupyter-widgets/base",
            "_model_module_version": "1.2.0",
            "_model_name": "LayoutModel",
            "_view_count": null,
            "_view_module": "@jupyter-widgets/base",
            "_view_module_version": "1.2.0",
            "_view_name": "LayoutView",
            "align_content": null,
            "align_items": null,
            "align_self": null,
            "border": null,
            "bottom": null,
            "display": null,
            "flex": null,
            "flex_flow": null,
            "grid_area": null,
            "grid_auto_columns": null,
            "grid_auto_flow": null,
            "grid_auto_rows": null,
            "grid_column": null,
            "grid_gap": null,
            "grid_row": null,
            "grid_template_areas": null,
            "grid_template_columns": null,
            "grid_template_rows": null,
            "height": null,
            "justify_content": null,
            "justify_items": null,
            "left": null,
            "margin": null,
            "max_height": null,
            "max_width": null,
            "min_height": null,
            "min_width": null,
            "object_fit": null,
            "object_position": null,
            "order": null,
            "overflow": null,
            "overflow_x": null,
            "overflow_y": null,
            "padding": null,
            "right": null,
            "top": null,
            "visibility": null,
            "width": null
          }
        },
        "b8867260e83d49ce80288a8bd52b936e": {
          "model_module": "@jupyter-widgets/controls",
          "model_name": "DescriptionStyleModel",
          "model_module_version": "1.5.0",
          "state": {
            "_model_module": "@jupyter-widgets/controls",
            "_model_module_version": "1.5.0",
            "_model_name": "DescriptionStyleModel",
            "_view_count": null,
            "_view_module": "@jupyter-widgets/base",
            "_view_module_version": "1.2.0",
            "_view_name": "StyleView",
            "description_width": ""
          }
        },
        "ec0f38a8a0e24777be32ab6f2dbe1820": {
          "model_module": "@jupyter-widgets/controls",
          "model_name": "HBoxModel",
          "model_module_version": "1.5.0",
          "state": {
            "_dom_classes": [],
            "_model_module": "@jupyter-widgets/controls",
            "_model_module_version": "1.5.0",
            "_model_name": "HBoxModel",
            "_view_count": null,
            "_view_module": "@jupyter-widgets/controls",
            "_view_module_version": "1.5.0",
            "_view_name": "HBoxView",
            "box_style": "",
            "children": [
              "IPY_MODEL_a3e2ac9bfa0f4a43a3984d4b747af496",
              "IPY_MODEL_65c8116a73294b7b83b7e0613306bc80",
              "IPY_MODEL_2419f9bb45044c94a89e273cfdf59b66"
            ],
            "layout": "IPY_MODEL_8c6c6a701c554ee3a2f7d58e3e6e0763"
          }
        },
        "a3e2ac9bfa0f4a43a3984d4b747af496": {
          "model_module": "@jupyter-widgets/controls",
          "model_name": "HTMLModel",
          "model_module_version": "1.5.0",
          "state": {
            "_dom_classes": [],
            "_model_module": "@jupyter-widgets/controls",
            "_model_module_version": "1.5.0",
            "_model_name": "HTMLModel",
            "_view_count": null,
            "_view_module": "@jupyter-widgets/controls",
            "_view_module_version": "1.5.0",
            "_view_name": "HTMLView",
            "description": "",
            "description_tooltip": null,
            "layout": "IPY_MODEL_a8adfb38afa143cab286fd64cdb6b302",
            "placeholder": "​",
            "style": "IPY_MODEL_74fdfaa8bd824e2391cc8786abfd6e8d",
            "value": "Generating unsupervised split: 100%"
          }
        },
        "65c8116a73294b7b83b7e0613306bc80": {
          "model_module": "@jupyter-widgets/controls",
          "model_name": "FloatProgressModel",
          "model_module_version": "1.5.0",
          "state": {
            "_dom_classes": [],
            "_model_module": "@jupyter-widgets/controls",
            "_model_module_version": "1.5.0",
            "_model_name": "FloatProgressModel",
            "_view_count": null,
            "_view_module": "@jupyter-widgets/controls",
            "_view_module_version": "1.5.0",
            "_view_name": "ProgressView",
            "bar_style": "success",
            "description": "",
            "description_tooltip": null,
            "layout": "IPY_MODEL_a5a9c235d9f940798b2825f0508a75e8",
            "max": 50000,
            "min": 0,
            "orientation": "horizontal",
            "style": "IPY_MODEL_b9caadac8d6d4b4db7963bb1b305a7e1",
            "value": 50000
          }
        },
        "2419f9bb45044c94a89e273cfdf59b66": {
          "model_module": "@jupyter-widgets/controls",
          "model_name": "HTMLModel",
          "model_module_version": "1.5.0",
          "state": {
            "_dom_classes": [],
            "_model_module": "@jupyter-widgets/controls",
            "_model_module_version": "1.5.0",
            "_model_name": "HTMLModel",
            "_view_count": null,
            "_view_module": "@jupyter-widgets/controls",
            "_view_module_version": "1.5.0",
            "_view_name": "HTMLView",
            "description": "",
            "description_tooltip": null,
            "layout": "IPY_MODEL_460e7f0864d2468faa46bc19c776f676",
            "placeholder": "​",
            "style": "IPY_MODEL_df6072696d634a1eb0a1abf7ff668e31",
            "value": " 50000/50000 [00:00&lt;00:00, 129902.28 examples/s]"
          }
        },
        "8c6c6a701c554ee3a2f7d58e3e6e0763": {
          "model_module": "@jupyter-widgets/base",
          "model_name": "LayoutModel",
          "model_module_version": "1.2.0",
          "state": {
            "_model_module": "@jupyter-widgets/base",
            "_model_module_version": "1.2.0",
            "_model_name": "LayoutModel",
            "_view_count": null,
            "_view_module": "@jupyter-widgets/base",
            "_view_module_version": "1.2.0",
            "_view_name": "LayoutView",
            "align_content": null,
            "align_items": null,
            "align_self": null,
            "border": null,
            "bottom": null,
            "display": null,
            "flex": null,
            "flex_flow": null,
            "grid_area": null,
            "grid_auto_columns": null,
            "grid_auto_flow": null,
            "grid_auto_rows": null,
            "grid_column": null,
            "grid_gap": null,
            "grid_row": null,
            "grid_template_areas": null,
            "grid_template_columns": null,
            "grid_template_rows": null,
            "height": null,
            "justify_content": null,
            "justify_items": null,
            "left": null,
            "margin": null,
            "max_height": null,
            "max_width": null,
            "min_height": null,
            "min_width": null,
            "object_fit": null,
            "object_position": null,
            "order": null,
            "overflow": null,
            "overflow_x": null,
            "overflow_y": null,
            "padding": null,
            "right": null,
            "top": null,
            "visibility": null,
            "width": null
          }
        },
        "a8adfb38afa143cab286fd64cdb6b302": {
          "model_module": "@jupyter-widgets/base",
          "model_name": "LayoutModel",
          "model_module_version": "1.2.0",
          "state": {
            "_model_module": "@jupyter-widgets/base",
            "_model_module_version": "1.2.0",
            "_model_name": "LayoutModel",
            "_view_count": null,
            "_view_module": "@jupyter-widgets/base",
            "_view_module_version": "1.2.0",
            "_view_name": "LayoutView",
            "align_content": null,
            "align_items": null,
            "align_self": null,
            "border": null,
            "bottom": null,
            "display": null,
            "flex": null,
            "flex_flow": null,
            "grid_area": null,
            "grid_auto_columns": null,
            "grid_auto_flow": null,
            "grid_auto_rows": null,
            "grid_column": null,
            "grid_gap": null,
            "grid_row": null,
            "grid_template_areas": null,
            "grid_template_columns": null,
            "grid_template_rows": null,
            "height": null,
            "justify_content": null,
            "justify_items": null,
            "left": null,
            "margin": null,
            "max_height": null,
            "max_width": null,
            "min_height": null,
            "min_width": null,
            "object_fit": null,
            "object_position": null,
            "order": null,
            "overflow": null,
            "overflow_x": null,
            "overflow_y": null,
            "padding": null,
            "right": null,
            "top": null,
            "visibility": null,
            "width": null
          }
        },
        "74fdfaa8bd824e2391cc8786abfd6e8d": {
          "model_module": "@jupyter-widgets/controls",
          "model_name": "DescriptionStyleModel",
          "model_module_version": "1.5.0",
          "state": {
            "_model_module": "@jupyter-widgets/controls",
            "_model_module_version": "1.5.0",
            "_model_name": "DescriptionStyleModel",
            "_view_count": null,
            "_view_module": "@jupyter-widgets/base",
            "_view_module_version": "1.2.0",
            "_view_name": "StyleView",
            "description_width": ""
          }
        },
        "a5a9c235d9f940798b2825f0508a75e8": {
          "model_module": "@jupyter-widgets/base",
          "model_name": "LayoutModel",
          "model_module_version": "1.2.0",
          "state": {
            "_model_module": "@jupyter-widgets/base",
            "_model_module_version": "1.2.0",
            "_model_name": "LayoutModel",
            "_view_count": null,
            "_view_module": "@jupyter-widgets/base",
            "_view_module_version": "1.2.0",
            "_view_name": "LayoutView",
            "align_content": null,
            "align_items": null,
            "align_self": null,
            "border": null,
            "bottom": null,
            "display": null,
            "flex": null,
            "flex_flow": null,
            "grid_area": null,
            "grid_auto_columns": null,
            "grid_auto_flow": null,
            "grid_auto_rows": null,
            "grid_column": null,
            "grid_gap": null,
            "grid_row": null,
            "grid_template_areas": null,
            "grid_template_columns": null,
            "grid_template_rows": null,
            "height": null,
            "justify_content": null,
            "justify_items": null,
            "left": null,
            "margin": null,
            "max_height": null,
            "max_width": null,
            "min_height": null,
            "min_width": null,
            "object_fit": null,
            "object_position": null,
            "order": null,
            "overflow": null,
            "overflow_x": null,
            "overflow_y": null,
            "padding": null,
            "right": null,
            "top": null,
            "visibility": null,
            "width": null
          }
        },
        "b9caadac8d6d4b4db7963bb1b305a7e1": {
          "model_module": "@jupyter-widgets/controls",
          "model_name": "ProgressStyleModel",
          "model_module_version": "1.5.0",
          "state": {
            "_model_module": "@jupyter-widgets/controls",
            "_model_module_version": "1.5.0",
            "_model_name": "ProgressStyleModel",
            "_view_count": null,
            "_view_module": "@jupyter-widgets/base",
            "_view_module_version": "1.2.0",
            "_view_name": "StyleView",
            "bar_color": null,
            "description_width": ""
          }
        },
        "460e7f0864d2468faa46bc19c776f676": {
          "model_module": "@jupyter-widgets/base",
          "model_name": "LayoutModel",
          "model_module_version": "1.2.0",
          "state": {
            "_model_module": "@jupyter-widgets/base",
            "_model_module_version": "1.2.0",
            "_model_name": "LayoutModel",
            "_view_count": null,
            "_view_module": "@jupyter-widgets/base",
            "_view_module_version": "1.2.0",
            "_view_name": "LayoutView",
            "align_content": null,
            "align_items": null,
            "align_self": null,
            "border": null,
            "bottom": null,
            "display": null,
            "flex": null,
            "flex_flow": null,
            "grid_area": null,
            "grid_auto_columns": null,
            "grid_auto_flow": null,
            "grid_auto_rows": null,
            "grid_column": null,
            "grid_gap": null,
            "grid_row": null,
            "grid_template_areas": null,
            "grid_template_columns": null,
            "grid_template_rows": null,
            "height": null,
            "justify_content": null,
            "justify_items": null,
            "left": null,
            "margin": null,
            "max_height": null,
            "max_width": null,
            "min_height": null,
            "min_width": null,
            "object_fit": null,
            "object_position": null,
            "order": null,
            "overflow": null,
            "overflow_x": null,
            "overflow_y": null,
            "padding": null,
            "right": null,
            "top": null,
            "visibility": null,
            "width": null
          }
        },
        "df6072696d634a1eb0a1abf7ff668e31": {
          "model_module": "@jupyter-widgets/controls",
          "model_name": "DescriptionStyleModel",
          "model_module_version": "1.5.0",
          "state": {
            "_model_module": "@jupyter-widgets/controls",
            "_model_module_version": "1.5.0",
            "_model_name": "DescriptionStyleModel",
            "_view_count": null,
            "_view_module": "@jupyter-widgets/base",
            "_view_module_version": "1.2.0",
            "_view_name": "StyleView",
            "description_width": ""
          }
        },
        "fb08444958c042658a1635ef93d3ead2": {
          "model_module": "@jupyter-widgets/controls",
          "model_name": "HBoxModel",
          "model_module_version": "1.5.0",
          "state": {
            "_dom_classes": [],
            "_model_module": "@jupyter-widgets/controls",
            "_model_module_version": "1.5.0",
            "_model_name": "HBoxModel",
            "_view_count": null,
            "_view_module": "@jupyter-widgets/controls",
            "_view_module_version": "1.5.0",
            "_view_name": "HBoxView",
            "box_style": "",
            "children": [
              "IPY_MODEL_d460c79274254305940a565d9b0b43e2",
              "IPY_MODEL_3b216e48ea13480294ce6faeb64f3930",
              "IPY_MODEL_dad4ca047eb44dfe938d69ccfb03114f"
            ],
            "layout": "IPY_MODEL_0c9c0a8da7c942b7a3503bd377d9becd"
          }
        },
        "d460c79274254305940a565d9b0b43e2": {
          "model_module": "@jupyter-widgets/controls",
          "model_name": "HTMLModel",
          "model_module_version": "1.5.0",
          "state": {
            "_dom_classes": [],
            "_model_module": "@jupyter-widgets/controls",
            "_model_module_version": "1.5.0",
            "_model_name": "HTMLModel",
            "_view_count": null,
            "_view_module": "@jupyter-widgets/controls",
            "_view_module_version": "1.5.0",
            "_view_name": "HTMLView",
            "description": "",
            "description_tooltip": null,
            "layout": "IPY_MODEL_c08f6efef8204fbfb4f2a3a3a65a2b73",
            "placeholder": "​",
            "style": "IPY_MODEL_5360262c1b724f6489ae0280a4e41084",
            "value": "tokenizer_config.json: 100%"
          }
        },
        "3b216e48ea13480294ce6faeb64f3930": {
          "model_module": "@jupyter-widgets/controls",
          "model_name": "FloatProgressModel",
          "model_module_version": "1.5.0",
          "state": {
            "_dom_classes": [],
            "_model_module": "@jupyter-widgets/controls",
            "_model_module_version": "1.5.0",
            "_model_name": "FloatProgressModel",
            "_view_count": null,
            "_view_module": "@jupyter-widgets/controls",
            "_view_module_version": "1.5.0",
            "_view_name": "ProgressView",
            "bar_style": "success",
            "description": "",
            "description_tooltip": null,
            "layout": "IPY_MODEL_9cb811de27d64bda99195609db00487c",
            "max": 26,
            "min": 0,
            "orientation": "horizontal",
            "style": "IPY_MODEL_2c21cf47e1be4f1da54cc94deae570de",
            "value": 26
          }
        },
        "dad4ca047eb44dfe938d69ccfb03114f": {
          "model_module": "@jupyter-widgets/controls",
          "model_name": "HTMLModel",
          "model_module_version": "1.5.0",
          "state": {
            "_dom_classes": [],
            "_model_module": "@jupyter-widgets/controls",
            "_model_module_version": "1.5.0",
            "_model_name": "HTMLModel",
            "_view_count": null,
            "_view_module": "@jupyter-widgets/controls",
            "_view_module_version": "1.5.0",
            "_view_name": "HTMLView",
            "description": "",
            "description_tooltip": null,
            "layout": "IPY_MODEL_699a86bbbda44ae381de752d884a21a4",
            "placeholder": "​",
            "style": "IPY_MODEL_f7490910247343ff8f0767e240d55b34",
            "value": " 26.0/26.0 [00:00&lt;00:00, 2.13kB/s]"
          }
        },
        "0c9c0a8da7c942b7a3503bd377d9becd": {
          "model_module": "@jupyter-widgets/base",
          "model_name": "LayoutModel",
          "model_module_version": "1.2.0",
          "state": {
            "_model_module": "@jupyter-widgets/base",
            "_model_module_version": "1.2.0",
            "_model_name": "LayoutModel",
            "_view_count": null,
            "_view_module": "@jupyter-widgets/base",
            "_view_module_version": "1.2.0",
            "_view_name": "LayoutView",
            "align_content": null,
            "align_items": null,
            "align_self": null,
            "border": null,
            "bottom": null,
            "display": null,
            "flex": null,
            "flex_flow": null,
            "grid_area": null,
            "grid_auto_columns": null,
            "grid_auto_flow": null,
            "grid_auto_rows": null,
            "grid_column": null,
            "grid_gap": null,
            "grid_row": null,
            "grid_template_areas": null,
            "grid_template_columns": null,
            "grid_template_rows": null,
            "height": null,
            "justify_content": null,
            "justify_items": null,
            "left": null,
            "margin": null,
            "max_height": null,
            "max_width": null,
            "min_height": null,
            "min_width": null,
            "object_fit": null,
            "object_position": null,
            "order": null,
            "overflow": null,
            "overflow_x": null,
            "overflow_y": null,
            "padding": null,
            "right": null,
            "top": null,
            "visibility": null,
            "width": null
          }
        },
        "c08f6efef8204fbfb4f2a3a3a65a2b73": {
          "model_module": "@jupyter-widgets/base",
          "model_name": "LayoutModel",
          "model_module_version": "1.2.0",
          "state": {
            "_model_module": "@jupyter-widgets/base",
            "_model_module_version": "1.2.0",
            "_model_name": "LayoutModel",
            "_view_count": null,
            "_view_module": "@jupyter-widgets/base",
            "_view_module_version": "1.2.0",
            "_view_name": "LayoutView",
            "align_content": null,
            "align_items": null,
            "align_self": null,
            "border": null,
            "bottom": null,
            "display": null,
            "flex": null,
            "flex_flow": null,
            "grid_area": null,
            "grid_auto_columns": null,
            "grid_auto_flow": null,
            "grid_auto_rows": null,
            "grid_column": null,
            "grid_gap": null,
            "grid_row": null,
            "grid_template_areas": null,
            "grid_template_columns": null,
            "grid_template_rows": null,
            "height": null,
            "justify_content": null,
            "justify_items": null,
            "left": null,
            "margin": null,
            "max_height": null,
            "max_width": null,
            "min_height": null,
            "min_width": null,
            "object_fit": null,
            "object_position": null,
            "order": null,
            "overflow": null,
            "overflow_x": null,
            "overflow_y": null,
            "padding": null,
            "right": null,
            "top": null,
            "visibility": null,
            "width": null
          }
        },
        "5360262c1b724f6489ae0280a4e41084": {
          "model_module": "@jupyter-widgets/controls",
          "model_name": "DescriptionStyleModel",
          "model_module_version": "1.5.0",
          "state": {
            "_model_module": "@jupyter-widgets/controls",
            "_model_module_version": "1.5.0",
            "_model_name": "DescriptionStyleModel",
            "_view_count": null,
            "_view_module": "@jupyter-widgets/base",
            "_view_module_version": "1.2.0",
            "_view_name": "StyleView",
            "description_width": ""
          }
        },
        "9cb811de27d64bda99195609db00487c": {
          "model_module": "@jupyter-widgets/base",
          "model_name": "LayoutModel",
          "model_module_version": "1.2.0",
          "state": {
            "_model_module": "@jupyter-widgets/base",
            "_model_module_version": "1.2.0",
            "_model_name": "LayoutModel",
            "_view_count": null,
            "_view_module": "@jupyter-widgets/base",
            "_view_module_version": "1.2.0",
            "_view_name": "LayoutView",
            "align_content": null,
            "align_items": null,
            "align_self": null,
            "border": null,
            "bottom": null,
            "display": null,
            "flex": null,
            "flex_flow": null,
            "grid_area": null,
            "grid_auto_columns": null,
            "grid_auto_flow": null,
            "grid_auto_rows": null,
            "grid_column": null,
            "grid_gap": null,
            "grid_row": null,
            "grid_template_areas": null,
            "grid_template_columns": null,
            "grid_template_rows": null,
            "height": null,
            "justify_content": null,
            "justify_items": null,
            "left": null,
            "margin": null,
            "max_height": null,
            "max_width": null,
            "min_height": null,
            "min_width": null,
            "object_fit": null,
            "object_position": null,
            "order": null,
            "overflow": null,
            "overflow_x": null,
            "overflow_y": null,
            "padding": null,
            "right": null,
            "top": null,
            "visibility": null,
            "width": null
          }
        },
        "2c21cf47e1be4f1da54cc94deae570de": {
          "model_module": "@jupyter-widgets/controls",
          "model_name": "ProgressStyleModel",
          "model_module_version": "1.5.0",
          "state": {
            "_model_module": "@jupyter-widgets/controls",
            "_model_module_version": "1.5.0",
            "_model_name": "ProgressStyleModel",
            "_view_count": null,
            "_view_module": "@jupyter-widgets/base",
            "_view_module_version": "1.2.0",
            "_view_name": "StyleView",
            "bar_color": null,
            "description_width": ""
          }
        },
        "699a86bbbda44ae381de752d884a21a4": {
          "model_module": "@jupyter-widgets/base",
          "model_name": "LayoutModel",
          "model_module_version": "1.2.0",
          "state": {
            "_model_module": "@jupyter-widgets/base",
            "_model_module_version": "1.2.0",
            "_model_name": "LayoutModel",
            "_view_count": null,
            "_view_module": "@jupyter-widgets/base",
            "_view_module_version": "1.2.0",
            "_view_name": "LayoutView",
            "align_content": null,
            "align_items": null,
            "align_self": null,
            "border": null,
            "bottom": null,
            "display": null,
            "flex": null,
            "flex_flow": null,
            "grid_area": null,
            "grid_auto_columns": null,
            "grid_auto_flow": null,
            "grid_auto_rows": null,
            "grid_column": null,
            "grid_gap": null,
            "grid_row": null,
            "grid_template_areas": null,
            "grid_template_columns": null,
            "grid_template_rows": null,
            "height": null,
            "justify_content": null,
            "justify_items": null,
            "left": null,
            "margin": null,
            "max_height": null,
            "max_width": null,
            "min_height": null,
            "min_width": null,
            "object_fit": null,
            "object_position": null,
            "order": null,
            "overflow": null,
            "overflow_x": null,
            "overflow_y": null,
            "padding": null,
            "right": null,
            "top": null,
            "visibility": null,
            "width": null
          }
        },
        "f7490910247343ff8f0767e240d55b34": {
          "model_module": "@jupyter-widgets/controls",
          "model_name": "DescriptionStyleModel",
          "model_module_version": "1.5.0",
          "state": {
            "_model_module": "@jupyter-widgets/controls",
            "_model_module_version": "1.5.0",
            "_model_name": "DescriptionStyleModel",
            "_view_count": null,
            "_view_module": "@jupyter-widgets/base",
            "_view_module_version": "1.2.0",
            "_view_name": "StyleView",
            "description_width": ""
          }
        },
        "f1a8dc26791a412dbe5737f40d9fa90b": {
          "model_module": "@jupyter-widgets/controls",
          "model_name": "HBoxModel",
          "model_module_version": "1.5.0",
          "state": {
            "_dom_classes": [],
            "_model_module": "@jupyter-widgets/controls",
            "_model_module_version": "1.5.0",
            "_model_name": "HBoxModel",
            "_view_count": null,
            "_view_module": "@jupyter-widgets/controls",
            "_view_module_version": "1.5.0",
            "_view_name": "HBoxView",
            "box_style": "",
            "children": [
              "IPY_MODEL_a41cfb7e53e348cb96c0ed9d80f72cbd",
              "IPY_MODEL_a102ea12a422429d86bc547b86929fd2",
              "IPY_MODEL_87150a59d39f4124936dc299d21a751a"
            ],
            "layout": "IPY_MODEL_91ac9f0402e5428294e6f23ede94c32f"
          }
        },
        "a41cfb7e53e348cb96c0ed9d80f72cbd": {
          "model_module": "@jupyter-widgets/controls",
          "model_name": "HTMLModel",
          "model_module_version": "1.5.0",
          "state": {
            "_dom_classes": [],
            "_model_module": "@jupyter-widgets/controls",
            "_model_module_version": "1.5.0",
            "_model_name": "HTMLModel",
            "_view_count": null,
            "_view_module": "@jupyter-widgets/controls",
            "_view_module_version": "1.5.0",
            "_view_name": "HTMLView",
            "description": "",
            "description_tooltip": null,
            "layout": "IPY_MODEL_f160a8d88ea047629f8005cc5c82b5ec",
            "placeholder": "​",
            "style": "IPY_MODEL_741dc4232048458e82a9a85783795f77",
            "value": "vocab.json: 100%"
          }
        },
        "a102ea12a422429d86bc547b86929fd2": {
          "model_module": "@jupyter-widgets/controls",
          "model_name": "FloatProgressModel",
          "model_module_version": "1.5.0",
          "state": {
            "_dom_classes": [],
            "_model_module": "@jupyter-widgets/controls",
            "_model_module_version": "1.5.0",
            "_model_name": "FloatProgressModel",
            "_view_count": null,
            "_view_module": "@jupyter-widgets/controls",
            "_view_module_version": "1.5.0",
            "_view_name": "ProgressView",
            "bar_style": "success",
            "description": "",
            "description_tooltip": null,
            "layout": "IPY_MODEL_007cf3dcf30c4e72b0b104a1b2433731",
            "max": 1042301,
            "min": 0,
            "orientation": "horizontal",
            "style": "IPY_MODEL_eee015af5b8948879ffddea83dbf9484",
            "value": 1042301
          }
        },
        "87150a59d39f4124936dc299d21a751a": {
          "model_module": "@jupyter-widgets/controls",
          "model_name": "HTMLModel",
          "model_module_version": "1.5.0",
          "state": {
            "_dom_classes": [],
            "_model_module": "@jupyter-widgets/controls",
            "_model_module_version": "1.5.0",
            "_model_name": "HTMLModel",
            "_view_count": null,
            "_view_module": "@jupyter-widgets/controls",
            "_view_module_version": "1.5.0",
            "_view_name": "HTMLView",
            "description": "",
            "description_tooltip": null,
            "layout": "IPY_MODEL_3d6c6b041ca241a0a2e44b93611b4c31",
            "placeholder": "​",
            "style": "IPY_MODEL_c22ec3a7dd814a34a33e8722fede423b",
            "value": " 1.04M/1.04M [00:00&lt;00:00, 4.82MB/s]"
          }
        },
        "91ac9f0402e5428294e6f23ede94c32f": {
          "model_module": "@jupyter-widgets/base",
          "model_name": "LayoutModel",
          "model_module_version": "1.2.0",
          "state": {
            "_model_module": "@jupyter-widgets/base",
            "_model_module_version": "1.2.0",
            "_model_name": "LayoutModel",
            "_view_count": null,
            "_view_module": "@jupyter-widgets/base",
            "_view_module_version": "1.2.0",
            "_view_name": "LayoutView",
            "align_content": null,
            "align_items": null,
            "align_self": null,
            "border": null,
            "bottom": null,
            "display": null,
            "flex": null,
            "flex_flow": null,
            "grid_area": null,
            "grid_auto_columns": null,
            "grid_auto_flow": null,
            "grid_auto_rows": null,
            "grid_column": null,
            "grid_gap": null,
            "grid_row": null,
            "grid_template_areas": null,
            "grid_template_columns": null,
            "grid_template_rows": null,
            "height": null,
            "justify_content": null,
            "justify_items": null,
            "left": null,
            "margin": null,
            "max_height": null,
            "max_width": null,
            "min_height": null,
            "min_width": null,
            "object_fit": null,
            "object_position": null,
            "order": null,
            "overflow": null,
            "overflow_x": null,
            "overflow_y": null,
            "padding": null,
            "right": null,
            "top": null,
            "visibility": null,
            "width": null
          }
        },
        "f160a8d88ea047629f8005cc5c82b5ec": {
          "model_module": "@jupyter-widgets/base",
          "model_name": "LayoutModel",
          "model_module_version": "1.2.0",
          "state": {
            "_model_module": "@jupyter-widgets/base",
            "_model_module_version": "1.2.0",
            "_model_name": "LayoutModel",
            "_view_count": null,
            "_view_module": "@jupyter-widgets/base",
            "_view_module_version": "1.2.0",
            "_view_name": "LayoutView",
            "align_content": null,
            "align_items": null,
            "align_self": null,
            "border": null,
            "bottom": null,
            "display": null,
            "flex": null,
            "flex_flow": null,
            "grid_area": null,
            "grid_auto_columns": null,
            "grid_auto_flow": null,
            "grid_auto_rows": null,
            "grid_column": null,
            "grid_gap": null,
            "grid_row": null,
            "grid_template_areas": null,
            "grid_template_columns": null,
            "grid_template_rows": null,
            "height": null,
            "justify_content": null,
            "justify_items": null,
            "left": null,
            "margin": null,
            "max_height": null,
            "max_width": null,
            "min_height": null,
            "min_width": null,
            "object_fit": null,
            "object_position": null,
            "order": null,
            "overflow": null,
            "overflow_x": null,
            "overflow_y": null,
            "padding": null,
            "right": null,
            "top": null,
            "visibility": null,
            "width": null
          }
        },
        "741dc4232048458e82a9a85783795f77": {
          "model_module": "@jupyter-widgets/controls",
          "model_name": "DescriptionStyleModel",
          "model_module_version": "1.5.0",
          "state": {
            "_model_module": "@jupyter-widgets/controls",
            "_model_module_version": "1.5.0",
            "_model_name": "DescriptionStyleModel",
            "_view_count": null,
            "_view_module": "@jupyter-widgets/base",
            "_view_module_version": "1.2.0",
            "_view_name": "StyleView",
            "description_width": ""
          }
        },
        "007cf3dcf30c4e72b0b104a1b2433731": {
          "model_module": "@jupyter-widgets/base",
          "model_name": "LayoutModel",
          "model_module_version": "1.2.0",
          "state": {
            "_model_module": "@jupyter-widgets/base",
            "_model_module_version": "1.2.0",
            "_model_name": "LayoutModel",
            "_view_count": null,
            "_view_module": "@jupyter-widgets/base",
            "_view_module_version": "1.2.0",
            "_view_name": "LayoutView",
            "align_content": null,
            "align_items": null,
            "align_self": null,
            "border": null,
            "bottom": null,
            "display": null,
            "flex": null,
            "flex_flow": null,
            "grid_area": null,
            "grid_auto_columns": null,
            "grid_auto_flow": null,
            "grid_auto_rows": null,
            "grid_column": null,
            "grid_gap": null,
            "grid_row": null,
            "grid_template_areas": null,
            "grid_template_columns": null,
            "grid_template_rows": null,
            "height": null,
            "justify_content": null,
            "justify_items": null,
            "left": null,
            "margin": null,
            "max_height": null,
            "max_width": null,
            "min_height": null,
            "min_width": null,
            "object_fit": null,
            "object_position": null,
            "order": null,
            "overflow": null,
            "overflow_x": null,
            "overflow_y": null,
            "padding": null,
            "right": null,
            "top": null,
            "visibility": null,
            "width": null
          }
        },
        "eee015af5b8948879ffddea83dbf9484": {
          "model_module": "@jupyter-widgets/controls",
          "model_name": "ProgressStyleModel",
          "model_module_version": "1.5.0",
          "state": {
            "_model_module": "@jupyter-widgets/controls",
            "_model_module_version": "1.5.0",
            "_model_name": "ProgressStyleModel",
            "_view_count": null,
            "_view_module": "@jupyter-widgets/base",
            "_view_module_version": "1.2.0",
            "_view_name": "StyleView",
            "bar_color": null,
            "description_width": ""
          }
        },
        "3d6c6b041ca241a0a2e44b93611b4c31": {
          "model_module": "@jupyter-widgets/base",
          "model_name": "LayoutModel",
          "model_module_version": "1.2.0",
          "state": {
            "_model_module": "@jupyter-widgets/base",
            "_model_module_version": "1.2.0",
            "_model_name": "LayoutModel",
            "_view_count": null,
            "_view_module": "@jupyter-widgets/base",
            "_view_module_version": "1.2.0",
            "_view_name": "LayoutView",
            "align_content": null,
            "align_items": null,
            "align_self": null,
            "border": null,
            "bottom": null,
            "display": null,
            "flex": null,
            "flex_flow": null,
            "grid_area": null,
            "grid_auto_columns": null,
            "grid_auto_flow": null,
            "grid_auto_rows": null,
            "grid_column": null,
            "grid_gap": null,
            "grid_row": null,
            "grid_template_areas": null,
            "grid_template_columns": null,
            "grid_template_rows": null,
            "height": null,
            "justify_content": null,
            "justify_items": null,
            "left": null,
            "margin": null,
            "max_height": null,
            "max_width": null,
            "min_height": null,
            "min_width": null,
            "object_fit": null,
            "object_position": null,
            "order": null,
            "overflow": null,
            "overflow_x": null,
            "overflow_y": null,
            "padding": null,
            "right": null,
            "top": null,
            "visibility": null,
            "width": null
          }
        },
        "c22ec3a7dd814a34a33e8722fede423b": {
          "model_module": "@jupyter-widgets/controls",
          "model_name": "DescriptionStyleModel",
          "model_module_version": "1.5.0",
          "state": {
            "_model_module": "@jupyter-widgets/controls",
            "_model_module_version": "1.5.0",
            "_model_name": "DescriptionStyleModel",
            "_view_count": null,
            "_view_module": "@jupyter-widgets/base",
            "_view_module_version": "1.2.0",
            "_view_name": "StyleView",
            "description_width": ""
          }
        },
        "6cb4f98d94e242bd97e8ea78828544e4": {
          "model_module": "@jupyter-widgets/controls",
          "model_name": "HBoxModel",
          "model_module_version": "1.5.0",
          "state": {
            "_dom_classes": [],
            "_model_module": "@jupyter-widgets/controls",
            "_model_module_version": "1.5.0",
            "_model_name": "HBoxModel",
            "_view_count": null,
            "_view_module": "@jupyter-widgets/controls",
            "_view_module_version": "1.5.0",
            "_view_name": "HBoxView",
            "box_style": "",
            "children": [
              "IPY_MODEL_e8fc48b6e49845939202a9fb40d7764e",
              "IPY_MODEL_07338593edec484fa732aeeebb41a532",
              "IPY_MODEL_0c0dc96c7d554da1b4f3b00a0a6da008"
            ],
            "layout": "IPY_MODEL_ec2880ddfc38441fbec7b89d9f204fd0"
          }
        },
        "e8fc48b6e49845939202a9fb40d7764e": {
          "model_module": "@jupyter-widgets/controls",
          "model_name": "HTMLModel",
          "model_module_version": "1.5.0",
          "state": {
            "_dom_classes": [],
            "_model_module": "@jupyter-widgets/controls",
            "_model_module_version": "1.5.0",
            "_model_name": "HTMLModel",
            "_view_count": null,
            "_view_module": "@jupyter-widgets/controls",
            "_view_module_version": "1.5.0",
            "_view_name": "HTMLView",
            "description": "",
            "description_tooltip": null,
            "layout": "IPY_MODEL_d950cf1921b24acdaa68aa40b8820355",
            "placeholder": "​",
            "style": "IPY_MODEL_8604e0bb213e4b7bb7d299a129a513b7",
            "value": "merges.txt: 100%"
          }
        },
        "07338593edec484fa732aeeebb41a532": {
          "model_module": "@jupyter-widgets/controls",
          "model_name": "FloatProgressModel",
          "model_module_version": "1.5.0",
          "state": {
            "_dom_classes": [],
            "_model_module": "@jupyter-widgets/controls",
            "_model_module_version": "1.5.0",
            "_model_name": "FloatProgressModel",
            "_view_count": null,
            "_view_module": "@jupyter-widgets/controls",
            "_view_module_version": "1.5.0",
            "_view_name": "ProgressView",
            "bar_style": "success",
            "description": "",
            "description_tooltip": null,
            "layout": "IPY_MODEL_70f1965ec29e42f7b10610291be4f78b",
            "max": 456318,
            "min": 0,
            "orientation": "horizontal",
            "style": "IPY_MODEL_5e72a528e94743a5b530ba66edb54f29",
            "value": 456318
          }
        },
        "0c0dc96c7d554da1b4f3b00a0a6da008": {
          "model_module": "@jupyter-widgets/controls",
          "model_name": "HTMLModel",
          "model_module_version": "1.5.0",
          "state": {
            "_dom_classes": [],
            "_model_module": "@jupyter-widgets/controls",
            "_model_module_version": "1.5.0",
            "_model_name": "HTMLModel",
            "_view_count": null,
            "_view_module": "@jupyter-widgets/controls",
            "_view_module_version": "1.5.0",
            "_view_name": "HTMLView",
            "description": "",
            "description_tooltip": null,
            "layout": "IPY_MODEL_aa8d6c8d79b6436f95f546b6c14c1ab9",
            "placeholder": "​",
            "style": "IPY_MODEL_4926099204ba441db4ca6c1aceb15079",
            "value": " 456k/456k [00:00&lt;00:00, 36.7MB/s]"
          }
        },
        "ec2880ddfc38441fbec7b89d9f204fd0": {
          "model_module": "@jupyter-widgets/base",
          "model_name": "LayoutModel",
          "model_module_version": "1.2.0",
          "state": {
            "_model_module": "@jupyter-widgets/base",
            "_model_module_version": "1.2.0",
            "_model_name": "LayoutModel",
            "_view_count": null,
            "_view_module": "@jupyter-widgets/base",
            "_view_module_version": "1.2.0",
            "_view_name": "LayoutView",
            "align_content": null,
            "align_items": null,
            "align_self": null,
            "border": null,
            "bottom": null,
            "display": null,
            "flex": null,
            "flex_flow": null,
            "grid_area": null,
            "grid_auto_columns": null,
            "grid_auto_flow": null,
            "grid_auto_rows": null,
            "grid_column": null,
            "grid_gap": null,
            "grid_row": null,
            "grid_template_areas": null,
            "grid_template_columns": null,
            "grid_template_rows": null,
            "height": null,
            "justify_content": null,
            "justify_items": null,
            "left": null,
            "margin": null,
            "max_height": null,
            "max_width": null,
            "min_height": null,
            "min_width": null,
            "object_fit": null,
            "object_position": null,
            "order": null,
            "overflow": null,
            "overflow_x": null,
            "overflow_y": null,
            "padding": null,
            "right": null,
            "top": null,
            "visibility": null,
            "width": null
          }
        },
        "d950cf1921b24acdaa68aa40b8820355": {
          "model_module": "@jupyter-widgets/base",
          "model_name": "LayoutModel",
          "model_module_version": "1.2.0",
          "state": {
            "_model_module": "@jupyter-widgets/base",
            "_model_module_version": "1.2.0",
            "_model_name": "LayoutModel",
            "_view_count": null,
            "_view_module": "@jupyter-widgets/base",
            "_view_module_version": "1.2.0",
            "_view_name": "LayoutView",
            "align_content": null,
            "align_items": null,
            "align_self": null,
            "border": null,
            "bottom": null,
            "display": null,
            "flex": null,
            "flex_flow": null,
            "grid_area": null,
            "grid_auto_columns": null,
            "grid_auto_flow": null,
            "grid_auto_rows": null,
            "grid_column": null,
            "grid_gap": null,
            "grid_row": null,
            "grid_template_areas": null,
            "grid_template_columns": null,
            "grid_template_rows": null,
            "height": null,
            "justify_content": null,
            "justify_items": null,
            "left": null,
            "margin": null,
            "max_height": null,
            "max_width": null,
            "min_height": null,
            "min_width": null,
            "object_fit": null,
            "object_position": null,
            "order": null,
            "overflow": null,
            "overflow_x": null,
            "overflow_y": null,
            "padding": null,
            "right": null,
            "top": null,
            "visibility": null,
            "width": null
          }
        },
        "8604e0bb213e4b7bb7d299a129a513b7": {
          "model_module": "@jupyter-widgets/controls",
          "model_name": "DescriptionStyleModel",
          "model_module_version": "1.5.0",
          "state": {
            "_model_module": "@jupyter-widgets/controls",
            "_model_module_version": "1.5.0",
            "_model_name": "DescriptionStyleModel",
            "_view_count": null,
            "_view_module": "@jupyter-widgets/base",
            "_view_module_version": "1.2.0",
            "_view_name": "StyleView",
            "description_width": ""
          }
        },
        "70f1965ec29e42f7b10610291be4f78b": {
          "model_module": "@jupyter-widgets/base",
          "model_name": "LayoutModel",
          "model_module_version": "1.2.0",
          "state": {
            "_model_module": "@jupyter-widgets/base",
            "_model_module_version": "1.2.0",
            "_model_name": "LayoutModel",
            "_view_count": null,
            "_view_module": "@jupyter-widgets/base",
            "_view_module_version": "1.2.0",
            "_view_name": "LayoutView",
            "align_content": null,
            "align_items": null,
            "align_self": null,
            "border": null,
            "bottom": null,
            "display": null,
            "flex": null,
            "flex_flow": null,
            "grid_area": null,
            "grid_auto_columns": null,
            "grid_auto_flow": null,
            "grid_auto_rows": null,
            "grid_column": null,
            "grid_gap": null,
            "grid_row": null,
            "grid_template_areas": null,
            "grid_template_columns": null,
            "grid_template_rows": null,
            "height": null,
            "justify_content": null,
            "justify_items": null,
            "left": null,
            "margin": null,
            "max_height": null,
            "max_width": null,
            "min_height": null,
            "min_width": null,
            "object_fit": null,
            "object_position": null,
            "order": null,
            "overflow": null,
            "overflow_x": null,
            "overflow_y": null,
            "padding": null,
            "right": null,
            "top": null,
            "visibility": null,
            "width": null
          }
        },
        "5e72a528e94743a5b530ba66edb54f29": {
          "model_module": "@jupyter-widgets/controls",
          "model_name": "ProgressStyleModel",
          "model_module_version": "1.5.0",
          "state": {
            "_model_module": "@jupyter-widgets/controls",
            "_model_module_version": "1.5.0",
            "_model_name": "ProgressStyleModel",
            "_view_count": null,
            "_view_module": "@jupyter-widgets/base",
            "_view_module_version": "1.2.0",
            "_view_name": "StyleView",
            "bar_color": null,
            "description_width": ""
          }
        },
        "aa8d6c8d79b6436f95f546b6c14c1ab9": {
          "model_module": "@jupyter-widgets/base",
          "model_name": "LayoutModel",
          "model_module_version": "1.2.0",
          "state": {
            "_model_module": "@jupyter-widgets/base",
            "_model_module_version": "1.2.0",
            "_model_name": "LayoutModel",
            "_view_count": null,
            "_view_module": "@jupyter-widgets/base",
            "_view_module_version": "1.2.0",
            "_view_name": "LayoutView",
            "align_content": null,
            "align_items": null,
            "align_self": null,
            "border": null,
            "bottom": null,
            "display": null,
            "flex": null,
            "flex_flow": null,
            "grid_area": null,
            "grid_auto_columns": null,
            "grid_auto_flow": null,
            "grid_auto_rows": null,
            "grid_column": null,
            "grid_gap": null,
            "grid_row": null,
            "grid_template_areas": null,
            "grid_template_columns": null,
            "grid_template_rows": null,
            "height": null,
            "justify_content": null,
            "justify_items": null,
            "left": null,
            "margin": null,
            "max_height": null,
            "max_width": null,
            "min_height": null,
            "min_width": null,
            "object_fit": null,
            "object_position": null,
            "order": null,
            "overflow": null,
            "overflow_x": null,
            "overflow_y": null,
            "padding": null,
            "right": null,
            "top": null,
            "visibility": null,
            "width": null
          }
        },
        "4926099204ba441db4ca6c1aceb15079": {
          "model_module": "@jupyter-widgets/controls",
          "model_name": "DescriptionStyleModel",
          "model_module_version": "1.5.0",
          "state": {
            "_model_module": "@jupyter-widgets/controls",
            "_model_module_version": "1.5.0",
            "_model_name": "DescriptionStyleModel",
            "_view_count": null,
            "_view_module": "@jupyter-widgets/base",
            "_view_module_version": "1.2.0",
            "_view_name": "StyleView",
            "description_width": ""
          }
        },
        "24f222f04cd441abb273b2b7aa097b24": {
          "model_module": "@jupyter-widgets/controls",
          "model_name": "HBoxModel",
          "model_module_version": "1.5.0",
          "state": {
            "_dom_classes": [],
            "_model_module": "@jupyter-widgets/controls",
            "_model_module_version": "1.5.0",
            "_model_name": "HBoxModel",
            "_view_count": null,
            "_view_module": "@jupyter-widgets/controls",
            "_view_module_version": "1.5.0",
            "_view_name": "HBoxView",
            "box_style": "",
            "children": [
              "IPY_MODEL_ec375ef69cd244eb9110c52d07fbb02b",
              "IPY_MODEL_e88f83e360f44313ba21d81ad9dad857",
              "IPY_MODEL_faae2d476dce4325aa8d335a97e4399f"
            ],
            "layout": "IPY_MODEL_f44b4ecfeb2c45c6ae080cd4410bf5d5"
          }
        },
        "ec375ef69cd244eb9110c52d07fbb02b": {
          "model_module": "@jupyter-widgets/controls",
          "model_name": "HTMLModel",
          "model_module_version": "1.5.0",
          "state": {
            "_dom_classes": [],
            "_model_module": "@jupyter-widgets/controls",
            "_model_module_version": "1.5.0",
            "_model_name": "HTMLModel",
            "_view_count": null,
            "_view_module": "@jupyter-widgets/controls",
            "_view_module_version": "1.5.0",
            "_view_name": "HTMLView",
            "description": "",
            "description_tooltip": null,
            "layout": "IPY_MODEL_7b2b0e9382d8446094509b3fb211ac48",
            "placeholder": "​",
            "style": "IPY_MODEL_564605f8973d45b3b26eb7c416811c9d",
            "value": "tokenizer.json: 100%"
          }
        },
        "e88f83e360f44313ba21d81ad9dad857": {
          "model_module": "@jupyter-widgets/controls",
          "model_name": "FloatProgressModel",
          "model_module_version": "1.5.0",
          "state": {
            "_dom_classes": [],
            "_model_module": "@jupyter-widgets/controls",
            "_model_module_version": "1.5.0",
            "_model_name": "FloatProgressModel",
            "_view_count": null,
            "_view_module": "@jupyter-widgets/controls",
            "_view_module_version": "1.5.0",
            "_view_name": "ProgressView",
            "bar_style": "success",
            "description": "",
            "description_tooltip": null,
            "layout": "IPY_MODEL_790c5835a8bc4c8189347f40073733d7",
            "max": 1355256,
            "min": 0,
            "orientation": "horizontal",
            "style": "IPY_MODEL_b230b44d4c874769afaf852547e1acb8",
            "value": 1355256
          }
        },
        "faae2d476dce4325aa8d335a97e4399f": {
          "model_module": "@jupyter-widgets/controls",
          "model_name": "HTMLModel",
          "model_module_version": "1.5.0",
          "state": {
            "_dom_classes": [],
            "_model_module": "@jupyter-widgets/controls",
            "_model_module_version": "1.5.0",
            "_model_name": "HTMLModel",
            "_view_count": null,
            "_view_module": "@jupyter-widgets/controls",
            "_view_module_version": "1.5.0",
            "_view_name": "HTMLView",
            "description": "",
            "description_tooltip": null,
            "layout": "IPY_MODEL_b1b4d5b1c6ce43d7be7207f752aabbb8",
            "placeholder": "​",
            "style": "IPY_MODEL_36e45fe7181b42aaa12dc8e1aa0c1ed7",
            "value": " 1.36M/1.36M [00:00&lt;00:00, 33.4MB/s]"
          }
        },
        "f44b4ecfeb2c45c6ae080cd4410bf5d5": {
          "model_module": "@jupyter-widgets/base",
          "model_name": "LayoutModel",
          "model_module_version": "1.2.0",
          "state": {
            "_model_module": "@jupyter-widgets/base",
            "_model_module_version": "1.2.0",
            "_model_name": "LayoutModel",
            "_view_count": null,
            "_view_module": "@jupyter-widgets/base",
            "_view_module_version": "1.2.0",
            "_view_name": "LayoutView",
            "align_content": null,
            "align_items": null,
            "align_self": null,
            "border": null,
            "bottom": null,
            "display": null,
            "flex": null,
            "flex_flow": null,
            "grid_area": null,
            "grid_auto_columns": null,
            "grid_auto_flow": null,
            "grid_auto_rows": null,
            "grid_column": null,
            "grid_gap": null,
            "grid_row": null,
            "grid_template_areas": null,
            "grid_template_columns": null,
            "grid_template_rows": null,
            "height": null,
            "justify_content": null,
            "justify_items": null,
            "left": null,
            "margin": null,
            "max_height": null,
            "max_width": null,
            "min_height": null,
            "min_width": null,
            "object_fit": null,
            "object_position": null,
            "order": null,
            "overflow": null,
            "overflow_x": null,
            "overflow_y": null,
            "padding": null,
            "right": null,
            "top": null,
            "visibility": null,
            "width": null
          }
        },
        "7b2b0e9382d8446094509b3fb211ac48": {
          "model_module": "@jupyter-widgets/base",
          "model_name": "LayoutModel",
          "model_module_version": "1.2.0",
          "state": {
            "_model_module": "@jupyter-widgets/base",
            "_model_module_version": "1.2.0",
            "_model_name": "LayoutModel",
            "_view_count": null,
            "_view_module": "@jupyter-widgets/base",
            "_view_module_version": "1.2.0",
            "_view_name": "LayoutView",
            "align_content": null,
            "align_items": null,
            "align_self": null,
            "border": null,
            "bottom": null,
            "display": null,
            "flex": null,
            "flex_flow": null,
            "grid_area": null,
            "grid_auto_columns": null,
            "grid_auto_flow": null,
            "grid_auto_rows": null,
            "grid_column": null,
            "grid_gap": null,
            "grid_row": null,
            "grid_template_areas": null,
            "grid_template_columns": null,
            "grid_template_rows": null,
            "height": null,
            "justify_content": null,
            "justify_items": null,
            "left": null,
            "margin": null,
            "max_height": null,
            "max_width": null,
            "min_height": null,
            "min_width": null,
            "object_fit": null,
            "object_position": null,
            "order": null,
            "overflow": null,
            "overflow_x": null,
            "overflow_y": null,
            "padding": null,
            "right": null,
            "top": null,
            "visibility": null,
            "width": null
          }
        },
        "564605f8973d45b3b26eb7c416811c9d": {
          "model_module": "@jupyter-widgets/controls",
          "model_name": "DescriptionStyleModel",
          "model_module_version": "1.5.0",
          "state": {
            "_model_module": "@jupyter-widgets/controls",
            "_model_module_version": "1.5.0",
            "_model_name": "DescriptionStyleModel",
            "_view_count": null,
            "_view_module": "@jupyter-widgets/base",
            "_view_module_version": "1.2.0",
            "_view_name": "StyleView",
            "description_width": ""
          }
        },
        "790c5835a8bc4c8189347f40073733d7": {
          "model_module": "@jupyter-widgets/base",
          "model_name": "LayoutModel",
          "model_module_version": "1.2.0",
          "state": {
            "_model_module": "@jupyter-widgets/base",
            "_model_module_version": "1.2.0",
            "_model_name": "LayoutModel",
            "_view_count": null,
            "_view_module": "@jupyter-widgets/base",
            "_view_module_version": "1.2.0",
            "_view_name": "LayoutView",
            "align_content": null,
            "align_items": null,
            "align_self": null,
            "border": null,
            "bottom": null,
            "display": null,
            "flex": null,
            "flex_flow": null,
            "grid_area": null,
            "grid_auto_columns": null,
            "grid_auto_flow": null,
            "grid_auto_rows": null,
            "grid_column": null,
            "grid_gap": null,
            "grid_row": null,
            "grid_template_areas": null,
            "grid_template_columns": null,
            "grid_template_rows": null,
            "height": null,
            "justify_content": null,
            "justify_items": null,
            "left": null,
            "margin": null,
            "max_height": null,
            "max_width": null,
            "min_height": null,
            "min_width": null,
            "object_fit": null,
            "object_position": null,
            "order": null,
            "overflow": null,
            "overflow_x": null,
            "overflow_y": null,
            "padding": null,
            "right": null,
            "top": null,
            "visibility": null,
            "width": null
          }
        },
        "b230b44d4c874769afaf852547e1acb8": {
          "model_module": "@jupyter-widgets/controls",
          "model_name": "ProgressStyleModel",
          "model_module_version": "1.5.0",
          "state": {
            "_model_module": "@jupyter-widgets/controls",
            "_model_module_version": "1.5.0",
            "_model_name": "ProgressStyleModel",
            "_view_count": null,
            "_view_module": "@jupyter-widgets/base",
            "_view_module_version": "1.2.0",
            "_view_name": "StyleView",
            "bar_color": null,
            "description_width": ""
          }
        },
        "b1b4d5b1c6ce43d7be7207f752aabbb8": {
          "model_module": "@jupyter-widgets/base",
          "model_name": "LayoutModel",
          "model_module_version": "1.2.0",
          "state": {
            "_model_module": "@jupyter-widgets/base",
            "_model_module_version": "1.2.0",
            "_model_name": "LayoutModel",
            "_view_count": null,
            "_view_module": "@jupyter-widgets/base",
            "_view_module_version": "1.2.0",
            "_view_name": "LayoutView",
            "align_content": null,
            "align_items": null,
            "align_self": null,
            "border": null,
            "bottom": null,
            "display": null,
            "flex": null,
            "flex_flow": null,
            "grid_area": null,
            "grid_auto_columns": null,
            "grid_auto_flow": null,
            "grid_auto_rows": null,
            "grid_column": null,
            "grid_gap": null,
            "grid_row": null,
            "grid_template_areas": null,
            "grid_template_columns": null,
            "grid_template_rows": null,
            "height": null,
            "justify_content": null,
            "justify_items": null,
            "left": null,
            "margin": null,
            "max_height": null,
            "max_width": null,
            "min_height": null,
            "min_width": null,
            "object_fit": null,
            "object_position": null,
            "order": null,
            "overflow": null,
            "overflow_x": null,
            "overflow_y": null,
            "padding": null,
            "right": null,
            "top": null,
            "visibility": null,
            "width": null
          }
        },
        "36e45fe7181b42aaa12dc8e1aa0c1ed7": {
          "model_module": "@jupyter-widgets/controls",
          "model_name": "DescriptionStyleModel",
          "model_module_version": "1.5.0",
          "state": {
            "_model_module": "@jupyter-widgets/controls",
            "_model_module_version": "1.5.0",
            "_model_name": "DescriptionStyleModel",
            "_view_count": null,
            "_view_module": "@jupyter-widgets/base",
            "_view_module_version": "1.2.0",
            "_view_name": "StyleView",
            "description_width": ""
          }
        },
        "f3c68da061284c9387ce6f14a9ef86e9": {
          "model_module": "@jupyter-widgets/controls",
          "model_name": "HBoxModel",
          "model_module_version": "1.5.0",
          "state": {
            "_dom_classes": [],
            "_model_module": "@jupyter-widgets/controls",
            "_model_module_version": "1.5.0",
            "_model_name": "HBoxModel",
            "_view_count": null,
            "_view_module": "@jupyter-widgets/controls",
            "_view_module_version": "1.5.0",
            "_view_name": "HBoxView",
            "box_style": "",
            "children": [
              "IPY_MODEL_3d6aa38163df45928bc8ec33bbf24bd6",
              "IPY_MODEL_2bedf9b084ea4780a6b48b554efc2c72",
              "IPY_MODEL_80db277c2f7a49d28564ee5e2e8cd4b2"
            ],
            "layout": "IPY_MODEL_4268cf2bdf25487fbcbeac7b1482cfe3"
          }
        },
        "3d6aa38163df45928bc8ec33bbf24bd6": {
          "model_module": "@jupyter-widgets/controls",
          "model_name": "HTMLModel",
          "model_module_version": "1.5.0",
          "state": {
            "_dom_classes": [],
            "_model_module": "@jupyter-widgets/controls",
            "_model_module_version": "1.5.0",
            "_model_name": "HTMLModel",
            "_view_count": null,
            "_view_module": "@jupyter-widgets/controls",
            "_view_module_version": "1.5.0",
            "_view_name": "HTMLView",
            "description": "",
            "description_tooltip": null,
            "layout": "IPY_MODEL_5077fb99d4d747ada56afcd27b69209a",
            "placeholder": "​",
            "style": "IPY_MODEL_1c48e595603943dc857e622f471c0ed0",
            "value": "config.json: 100%"
          }
        },
        "2bedf9b084ea4780a6b48b554efc2c72": {
          "model_module": "@jupyter-widgets/controls",
          "model_name": "FloatProgressModel",
          "model_module_version": "1.5.0",
          "state": {
            "_dom_classes": [],
            "_model_module": "@jupyter-widgets/controls",
            "_model_module_version": "1.5.0",
            "_model_name": "FloatProgressModel",
            "_view_count": null,
            "_view_module": "@jupyter-widgets/controls",
            "_view_module_version": "1.5.0",
            "_view_name": "ProgressView",
            "bar_style": "success",
            "description": "",
            "description_tooltip": null,
            "layout": "IPY_MODEL_09eb6874d078453f9cffd4ae4d5ca295",
            "max": 665,
            "min": 0,
            "orientation": "horizontal",
            "style": "IPY_MODEL_71777dbc291045d698efd60e192fc8de",
            "value": 665
          }
        },
        "80db277c2f7a49d28564ee5e2e8cd4b2": {
          "model_module": "@jupyter-widgets/controls",
          "model_name": "HTMLModel",
          "model_module_version": "1.5.0",
          "state": {
            "_dom_classes": [],
            "_model_module": "@jupyter-widgets/controls",
            "_model_module_version": "1.5.0",
            "_model_name": "HTMLModel",
            "_view_count": null,
            "_view_module": "@jupyter-widgets/controls",
            "_view_module_version": "1.5.0",
            "_view_name": "HTMLView",
            "description": "",
            "description_tooltip": null,
            "layout": "IPY_MODEL_f64991db7b084a339e34eca381770c0a",
            "placeholder": "​",
            "style": "IPY_MODEL_a861e0c5bf364c8298bb3fc46ab49d57",
            "value": " 665/665 [00:00&lt;00:00, 41.4kB/s]"
          }
        },
        "4268cf2bdf25487fbcbeac7b1482cfe3": {
          "model_module": "@jupyter-widgets/base",
          "model_name": "LayoutModel",
          "model_module_version": "1.2.0",
          "state": {
            "_model_module": "@jupyter-widgets/base",
            "_model_module_version": "1.2.0",
            "_model_name": "LayoutModel",
            "_view_count": null,
            "_view_module": "@jupyter-widgets/base",
            "_view_module_version": "1.2.0",
            "_view_name": "LayoutView",
            "align_content": null,
            "align_items": null,
            "align_self": null,
            "border": null,
            "bottom": null,
            "display": null,
            "flex": null,
            "flex_flow": null,
            "grid_area": null,
            "grid_auto_columns": null,
            "grid_auto_flow": null,
            "grid_auto_rows": null,
            "grid_column": null,
            "grid_gap": null,
            "grid_row": null,
            "grid_template_areas": null,
            "grid_template_columns": null,
            "grid_template_rows": null,
            "height": null,
            "justify_content": null,
            "justify_items": null,
            "left": null,
            "margin": null,
            "max_height": null,
            "max_width": null,
            "min_height": null,
            "min_width": null,
            "object_fit": null,
            "object_position": null,
            "order": null,
            "overflow": null,
            "overflow_x": null,
            "overflow_y": null,
            "padding": null,
            "right": null,
            "top": null,
            "visibility": null,
            "width": null
          }
        },
        "5077fb99d4d747ada56afcd27b69209a": {
          "model_module": "@jupyter-widgets/base",
          "model_name": "LayoutModel",
          "model_module_version": "1.2.0",
          "state": {
            "_model_module": "@jupyter-widgets/base",
            "_model_module_version": "1.2.0",
            "_model_name": "LayoutModel",
            "_view_count": null,
            "_view_module": "@jupyter-widgets/base",
            "_view_module_version": "1.2.0",
            "_view_name": "LayoutView",
            "align_content": null,
            "align_items": null,
            "align_self": null,
            "border": null,
            "bottom": null,
            "display": null,
            "flex": null,
            "flex_flow": null,
            "grid_area": null,
            "grid_auto_columns": null,
            "grid_auto_flow": null,
            "grid_auto_rows": null,
            "grid_column": null,
            "grid_gap": null,
            "grid_row": null,
            "grid_template_areas": null,
            "grid_template_columns": null,
            "grid_template_rows": null,
            "height": null,
            "justify_content": null,
            "justify_items": null,
            "left": null,
            "margin": null,
            "max_height": null,
            "max_width": null,
            "min_height": null,
            "min_width": null,
            "object_fit": null,
            "object_position": null,
            "order": null,
            "overflow": null,
            "overflow_x": null,
            "overflow_y": null,
            "padding": null,
            "right": null,
            "top": null,
            "visibility": null,
            "width": null
          }
        },
        "1c48e595603943dc857e622f471c0ed0": {
          "model_module": "@jupyter-widgets/controls",
          "model_name": "DescriptionStyleModel",
          "model_module_version": "1.5.0",
          "state": {
            "_model_module": "@jupyter-widgets/controls",
            "_model_module_version": "1.5.0",
            "_model_name": "DescriptionStyleModel",
            "_view_count": null,
            "_view_module": "@jupyter-widgets/base",
            "_view_module_version": "1.2.0",
            "_view_name": "StyleView",
            "description_width": ""
          }
        },
        "09eb6874d078453f9cffd4ae4d5ca295": {
          "model_module": "@jupyter-widgets/base",
          "model_name": "LayoutModel",
          "model_module_version": "1.2.0",
          "state": {
            "_model_module": "@jupyter-widgets/base",
            "_model_module_version": "1.2.0",
            "_model_name": "LayoutModel",
            "_view_count": null,
            "_view_module": "@jupyter-widgets/base",
            "_view_module_version": "1.2.0",
            "_view_name": "LayoutView",
            "align_content": null,
            "align_items": null,
            "align_self": null,
            "border": null,
            "bottom": null,
            "display": null,
            "flex": null,
            "flex_flow": null,
            "grid_area": null,
            "grid_auto_columns": null,
            "grid_auto_flow": null,
            "grid_auto_rows": null,
            "grid_column": null,
            "grid_gap": null,
            "grid_row": null,
            "grid_template_areas": null,
            "grid_template_columns": null,
            "grid_template_rows": null,
            "height": null,
            "justify_content": null,
            "justify_items": null,
            "left": null,
            "margin": null,
            "max_height": null,
            "max_width": null,
            "min_height": null,
            "min_width": null,
            "object_fit": null,
            "object_position": null,
            "order": null,
            "overflow": null,
            "overflow_x": null,
            "overflow_y": null,
            "padding": null,
            "right": null,
            "top": null,
            "visibility": null,
            "width": null
          }
        },
        "71777dbc291045d698efd60e192fc8de": {
          "model_module": "@jupyter-widgets/controls",
          "model_name": "ProgressStyleModel",
          "model_module_version": "1.5.0",
          "state": {
            "_model_module": "@jupyter-widgets/controls",
            "_model_module_version": "1.5.0",
            "_model_name": "ProgressStyleModel",
            "_view_count": null,
            "_view_module": "@jupyter-widgets/base",
            "_view_module_version": "1.2.0",
            "_view_name": "StyleView",
            "bar_color": null,
            "description_width": ""
          }
        },
        "f64991db7b084a339e34eca381770c0a": {
          "model_module": "@jupyter-widgets/base",
          "model_name": "LayoutModel",
          "model_module_version": "1.2.0",
          "state": {
            "_model_module": "@jupyter-widgets/base",
            "_model_module_version": "1.2.0",
            "_model_name": "LayoutModel",
            "_view_count": null,
            "_view_module": "@jupyter-widgets/base",
            "_view_module_version": "1.2.0",
            "_view_name": "LayoutView",
            "align_content": null,
            "align_items": null,
            "align_self": null,
            "border": null,
            "bottom": null,
            "display": null,
            "flex": null,
            "flex_flow": null,
            "grid_area": null,
            "grid_auto_columns": null,
            "grid_auto_flow": null,
            "grid_auto_rows": null,
            "grid_column": null,
            "grid_gap": null,
            "grid_row": null,
            "grid_template_areas": null,
            "grid_template_columns": null,
            "grid_template_rows": null,
            "height": null,
            "justify_content": null,
            "justify_items": null,
            "left": null,
            "margin": null,
            "max_height": null,
            "max_width": null,
            "min_height": null,
            "min_width": null,
            "object_fit": null,
            "object_position": null,
            "order": null,
            "overflow": null,
            "overflow_x": null,
            "overflow_y": null,
            "padding": null,
            "right": null,
            "top": null,
            "visibility": null,
            "width": null
          }
        },
        "a861e0c5bf364c8298bb3fc46ab49d57": {
          "model_module": "@jupyter-widgets/controls",
          "model_name": "DescriptionStyleModel",
          "model_module_version": "1.5.0",
          "state": {
            "_model_module": "@jupyter-widgets/controls",
            "_model_module_version": "1.5.0",
            "_model_name": "DescriptionStyleModel",
            "_view_count": null,
            "_view_module": "@jupyter-widgets/base",
            "_view_module_version": "1.2.0",
            "_view_name": "StyleView",
            "description_width": ""
          }
        }
      }
    }
  },
  "cells": [
    {
      "cell_type": "markdown",
      "metadata": {
        "id": "view-in-github",
        "colab_type": "text"
      },
      "source": [
        "<a href=\"https://colab.research.google.com/github/Dongjin-1203/Study-code/blob/main/NLP_%EC%A0%95%EB%A6%AC.ipynb\" target=\"_parent\"><img src=\"https://colab.research.google.com/assets/colab-badge.svg\" alt=\"Open In Colab\"/></a>"
      ]
    },
    {
      "cell_type": "markdown",
      "source": [
        "# NLP 총정리"
      ],
      "metadata": {
        "id": "i1ARpGaksrmj"
      }
    },
    {
      "cell_type": "code",
      "source": [
        "from google.colab import drive\n",
        "drive.mount('/content/drive')"
      ],
      "metadata": {
        "colab": {
          "base_uri": "https://localhost:8080/",
          "height": 318
        },
        "id": "XVvkaGLWR3ng",
        "outputId": "4b668898-28c6-440f-b84a-bfe2d24eb9b9"
      },
      "execution_count": 7,
      "outputs": [
        {
          "output_type": "error",
          "ename": "ValueError",
          "evalue": "mount failed",
          "traceback": [
            "\u001b[0;31m---------------------------------------------------------------------------\u001b[0m",
            "\u001b[0;31mValueError\u001b[0m                                Traceback (most recent call last)",
            "\u001b[0;32m/tmp/ipython-input-1408506528.py\u001b[0m in \u001b[0;36m<cell line: 0>\u001b[0;34m()\u001b[0m\n\u001b[1;32m      1\u001b[0m \u001b[0;32mfrom\u001b[0m \u001b[0mgoogle\u001b[0m\u001b[0;34m.\u001b[0m\u001b[0mcolab\u001b[0m \u001b[0;32mimport\u001b[0m \u001b[0mdrive\u001b[0m\u001b[0;34m\u001b[0m\u001b[0;34m\u001b[0m\u001b[0m\n\u001b[0;32m----> 2\u001b[0;31m \u001b[0mdrive\u001b[0m\u001b[0;34m.\u001b[0m\u001b[0mmount\u001b[0m\u001b[0;34m(\u001b[0m\u001b[0;34m'/content/drive'\u001b[0m\u001b[0;34m)\u001b[0m\u001b[0;34m\u001b[0m\u001b[0;34m\u001b[0m\u001b[0m\n\u001b[0m",
            "\u001b[0;32m/usr/local/lib/python3.11/dist-packages/google/colab/drive.py\u001b[0m in \u001b[0;36mmount\u001b[0;34m(mountpoint, force_remount, timeout_ms, readonly)\u001b[0m\n\u001b[1;32m     98\u001b[0m \u001b[0;32mdef\u001b[0m \u001b[0mmount\u001b[0m\u001b[0;34m(\u001b[0m\u001b[0mmountpoint\u001b[0m\u001b[0;34m,\u001b[0m \u001b[0mforce_remount\u001b[0m\u001b[0;34m=\u001b[0m\u001b[0;32mFalse\u001b[0m\u001b[0;34m,\u001b[0m \u001b[0mtimeout_ms\u001b[0m\u001b[0;34m=\u001b[0m\u001b[0;36m120000\u001b[0m\u001b[0;34m,\u001b[0m \u001b[0mreadonly\u001b[0m\u001b[0;34m=\u001b[0m\u001b[0;32mFalse\u001b[0m\u001b[0;34m)\u001b[0m\u001b[0;34m:\u001b[0m\u001b[0;34m\u001b[0m\u001b[0;34m\u001b[0m\u001b[0m\n\u001b[1;32m     99\u001b[0m   \u001b[0;34m\"\"\"Mount your Google Drive at the specified mountpoint path.\"\"\"\u001b[0m\u001b[0;34m\u001b[0m\u001b[0;34m\u001b[0m\u001b[0m\n\u001b[0;32m--> 100\u001b[0;31m   return _mount(\n\u001b[0m\u001b[1;32m    101\u001b[0m       \u001b[0mmountpoint\u001b[0m\u001b[0;34m,\u001b[0m\u001b[0;34m\u001b[0m\u001b[0;34m\u001b[0m\u001b[0m\n\u001b[1;32m    102\u001b[0m       \u001b[0mforce_remount\u001b[0m\u001b[0;34m=\u001b[0m\u001b[0mforce_remount\u001b[0m\u001b[0;34m,\u001b[0m\u001b[0;34m\u001b[0m\u001b[0;34m\u001b[0m\u001b[0m\n",
            "\u001b[0;32m/usr/local/lib/python3.11/dist-packages/google/colab/drive.py\u001b[0m in \u001b[0;36m_mount\u001b[0;34m(mountpoint, force_remount, timeout_ms, ephemeral, readonly)\u001b[0m\n\u001b[1;32m    275\u001b[0m             \u001b[0;34m'https://research.google.com/colaboratory/faq.html#drive-timeout'\u001b[0m\u001b[0;34m\u001b[0m\u001b[0;34m\u001b[0m\u001b[0m\n\u001b[1;32m    276\u001b[0m         )\n\u001b[0;32m--> 277\u001b[0;31m       \u001b[0;32mraise\u001b[0m \u001b[0mValueError\u001b[0m\u001b[0;34m(\u001b[0m\u001b[0;34m'mount failed'\u001b[0m \u001b[0;34m+\u001b[0m \u001b[0mextra_reason\u001b[0m\u001b[0;34m)\u001b[0m\u001b[0;34m\u001b[0m\u001b[0;34m\u001b[0m\u001b[0m\n\u001b[0m\u001b[1;32m    278\u001b[0m     \u001b[0;32melif\u001b[0m \u001b[0mcase\u001b[0m \u001b[0;34m==\u001b[0m \u001b[0;36m4\u001b[0m\u001b[0;34m:\u001b[0m\u001b[0;34m\u001b[0m\u001b[0;34m\u001b[0m\u001b[0m\n\u001b[1;32m    279\u001b[0m       \u001b[0;31m# Terminate the DriveFS binary before killing bash.\u001b[0m\u001b[0;34m\u001b[0m\u001b[0;34m\u001b[0m\u001b[0m\n",
            "\u001b[0;31mValueError\u001b[0m: mount failed"
          ]
        }
      ]
    },
    {
      "cell_type": "markdown",
      "source": [
        "# 단어 및 글자 토큰화\n",
        "\n",
        "토큰화는 자연어 처리에서 매우 중요한 전처리 과정으로 텍스트 데이터를 구조적으로 분해하여 개별 토큰으로 나누는 작업을 의미한다.\n",
        "토큰화 과정은 정확한 분석을 위해 필수이며, 단어나 문장의 빈도수, 출현 패턴 등을 파악할 수 있다.\n",
        "\n",
        "또한 작은 단위로 분해된 텍스트 데이터는 컴퓨터가 이하하고 처리하기 용이하다.\n",
        "\n",
        "토큰화는 텍스트 데이터럴 __단어 / 글자 단위로 나누는 기법__으로 나눌 수 있다."
      ],
      "metadata": {
        "id": "2lMNhPUuswAL"
      }
    },
    {
      "cell_type": "markdown",
      "source": [
        "## 단어 토큰화\n",
        "\n",
        "__단어 토큰화__는 자연어 처리 분야에서 핵심적인 전처리 작업 중 하나로 텍스트 데이터를 의미 있는 단위인 단어로 분리하는 작업이다.\n",
        "\n",
        "단어 단위로 나누기에 띄어쓰기, 문장부호를 기준으로 나뉘며 이를바탕으로 문장을 이해한다.\n",
        "단어 토큰화는 품사 태깅, 개체명 인식, 기계 번역 등의 작업에서 널리 사용되며 가장 일반적인 방법이다."
      ],
      "metadata": {
        "id": "0gF9hr7DtBkR"
      }
    },
    {
      "cell_type": "markdown",
      "source": [
        "**예제1 단어 토큰화**"
      ],
      "metadata": {
        "id": "oQ1chTRBv_80"
      }
    },
    {
      "cell_type": "code",
      "execution_count": null,
      "metadata": {
        "colab": {
          "base_uri": "https://localhost:8080/"
        },
        "id": "aoRa6G7msjcU",
        "outputId": "9f8cdfa3-9095-4795-d18e-caac0c4e2f03"
      },
      "outputs": [
        {
          "output_type": "execute_result",
          "data": {
            "text/plain": [
              "['현실과',\n",
              " '구분',\n",
              " '불가능한',\n",
              " 'cg.',\n",
              " '시각적',\n",
              " '즐거움은',\n",
              " '최고!',\n",
              " '더불어',\n",
              " 'ost는',\n",
              " '더더욱',\n",
              " '최고!!']"
            ]
          },
          "metadata": {},
          "execution_count": 2
        }
      ],
      "source": [
        "review = \"현실과 구분 불가능한 cg. 시각적 즐거움은 최고! 더불어 ost는 더더욱 최고!!\"\n",
        "tokenized = review.split()\n",
        "tokenized"
      ]
    },
    {
      "cell_type": "markdown",
      "source": [
        "위 출력 결과처럼 공백을 기준으로 나뉘는 것을 알 수 있다. 만약 특정기준으로 나누고 싶다면, 구분자를 입력해주면 된다.\n",
        "\n",
        "그리고 위 토큰을 보면 '최고!'가 있고 '최고!!'가 있다. 이는 뜻은 같지만 다른 토큰이다. __따라서 단어 토큰화는 한국어 접사, 문장부호, 오타 또는 띄어쓰기 오류에 취약하다.__"
      ],
      "metadata": {
        "id": "LOy1FPz4wqSI"
      }
    },
    {
      "cell_type": "markdown",
      "source": [
        "## 글자 토큰화\n",
        "__글자 토큰화__는 띄어쓰기뿐만 아니라 글자 단위로 문장을 나누는 방식으로, 비교적 작은 단어 사전을 구축할 수 있다는 장점이 있다. 작은 단어 사전을 사용하면 학습 시 컴퓨터 자원을 아낄 수 있으며, 전체 말뭉치를 학습할 때 각 단어를 더 자주 학습할 수 있다는 장점이 있다.\n",
        "\n",
        "글자 토큰화는 언어 모델링과 같은 시퀀스 예측작업에서 활용된다. 여를 들어 다음 문자를 예측하는 언어 모델링에서 글자 토큰화는 유용한 방식이다."
      ],
      "metadata": {
        "id": "XqowmT58xhj8"
      }
    },
    {
      "cell_type": "markdown",
      "source": [
        "**예제2 글자 토큰화**"
      ],
      "metadata": {
        "id": "eueC2i4ayc23"
      }
    },
    {
      "cell_type": "code",
      "source": [
        "review = \"현실과 구분 불가능한 cg. 시각적 즐거움은 최고! 더불어 ost는 더더욱 최고!!\"\n",
        "tokenized = list(review)\n",
        "tokenized"
      ],
      "metadata": {
        "colab": {
          "base_uri": "https://localhost:8080/"
        },
        "id": "YFb5RdmGwlui",
        "outputId": "6179d56d-4198-4794-8da8-f45a40314012"
      },
      "execution_count": null,
      "outputs": [
        {
          "output_type": "execute_result",
          "data": {
            "text/plain": [
              "['현',\n",
              " '실',\n",
              " '과',\n",
              " ' ',\n",
              " '구',\n",
              " '분',\n",
              " ' ',\n",
              " '불',\n",
              " '가',\n",
              " '능',\n",
              " '한',\n",
              " ' ',\n",
              " 'c',\n",
              " 'g',\n",
              " '.',\n",
              " ' ',\n",
              " '시',\n",
              " '각',\n",
              " '적',\n",
              " ' ',\n",
              " '즐',\n",
              " '거',\n",
              " '움',\n",
              " '은',\n",
              " ' ',\n",
              " '최',\n",
              " '고',\n",
              " '!',\n",
              " ' ',\n",
              " '더',\n",
              " '불',\n",
              " '어',\n",
              " ' ',\n",
              " 'o',\n",
              " 's',\n",
              " 't',\n",
              " '는',\n",
              " ' ',\n",
              " '더',\n",
              " '더',\n",
              " '욱',\n",
              " ' ',\n",
              " '최',\n",
              " '고',\n",
              " '!',\n",
              " '!']"
            ]
          },
          "metadata": {},
          "execution_count": 3
        }
      ]
    },
    {
      "cell_type": "markdown",
      "source": [
        "단어 토큰화와 다르게 공백도 토큰화가 진행되며 영어에경우 각 알파벳으로 나뉜다.\n",
        "\n",
        "하지만 한글은 하나에 글자에 여러 자음과 모음의 조합으로 이뤄져 있어 __자소 단위 토큰화__가 필요하다."
      ],
      "metadata": {
        "id": "rSoTyZxGyp3m"
      }
    },
    {
      "cell_type": "code",
      "source": [
        "!pip install jamo"
      ],
      "metadata": {
        "colab": {
          "base_uri": "https://localhost:8080/"
        },
        "id": "ph01cvZeVzgG",
        "outputId": "5ae51b96-7f4e-449b-ef1d-8cd933ee96e2"
      },
      "execution_count": null,
      "outputs": [
        {
          "output_type": "stream",
          "name": "stdout",
          "text": [
            "Collecting jamo\n",
            "  Downloading jamo-0.4.1-py3-none-any.whl.metadata (2.3 kB)\n",
            "Downloading jamo-0.4.1-py3-none-any.whl (9.5 kB)\n",
            "Installing collected packages: jamo\n",
            "Successfully installed jamo-0.4.1\n"
          ]
        }
      ]
    },
    {
      "cell_type": "markdown",
      "source": [
        "**예제3 자모(jamo) 라이브러리**"
      ],
      "metadata": {
        "id": "9h4bpXgCz0sg"
      }
    },
    {
      "cell_type": "code",
      "source": [
        "from jamo import h2j, j2hcj\n",
        "\n",
        "\n",
        "review = \"현실과 구분 불가능한 cg. 시각적 즐거음은 최고! 더불어 ost는 더더욱 최고!!\"\n",
        "decomposed = j2hcj(h2j(review))\n",
        "tokenized = list(decomposed)\n",
        "print(tokenized)"
      ],
      "metadata": {
        "colab": {
          "base_uri": "https://localhost:8080/"
        },
        "id": "fzcd9kwSyoZo",
        "outputId": "2c27fe4f-6acb-4dec-95af-97f9797706a6"
      },
      "execution_count": null,
      "outputs": [
        {
          "output_type": "stream",
          "name": "stdout",
          "text": [
            "['ㅎ', 'ㅕ', 'ㄴ', 'ㅅ', 'ㅣ', 'ㄹ', 'ㄱ', 'ㅘ', ' ', 'ㄱ', 'ㅜ', 'ㅂ', 'ㅜ', 'ㄴ', ' ', 'ㅂ', 'ㅜ', 'ㄹ', 'ㄱ', 'ㅏ', 'ㄴ', 'ㅡ', 'ㅇ', 'ㅎ', 'ㅏ', 'ㄴ', ' ', 'c', 'g', '.', ' ', 'ㅅ', 'ㅣ', 'ㄱ', 'ㅏ', 'ㄱ', 'ㅈ', 'ㅓ', 'ㄱ', ' ', 'ㅈ', 'ㅡ', 'ㄹ', 'ㄱ', 'ㅓ', 'ㅇ', 'ㅡ', 'ㅁ', 'ㅇ', 'ㅡ', 'ㄴ', ' ', 'ㅊ', 'ㅚ', 'ㄱ', 'ㅗ', '!', ' ', 'ㄷ', 'ㅓ', 'ㅂ', 'ㅜ', 'ㄹ', 'ㅇ', 'ㅓ', ' ', 'o', 's', 't', 'ㄴ', 'ㅡ', 'ㄴ', ' ', 'ㄷ', 'ㅓ', 'ㄷ', 'ㅓ', 'ㅇ', 'ㅜ', 'ㄱ', ' ', 'ㅊ', 'ㅚ', 'ㄱ', 'ㅗ', '!', '!']\n"
          ]
        }
      ]
    },
    {
      "cell_type": "markdown",
      "source": [
        "위와 같이 개별 토큰은 아무 의미도 가지지 못하며 자연어 모델이 각 토큰의 의미를 조합해 결과를 도출해야한다!"
      ],
      "metadata": {
        "id": "yk5EVLCi0efW"
      }
    },
    {
      "cell_type": "markdown",
      "source": [
        "# 형태소 토큰화\n",
        "\n",
        "__형태소 토큰화__는 텍스트를 형태소 단위로 나누는 토큰화 방법이고 언어의 문법과 구조를 고려해 단어를 분리하고 이를 의미 있는 단위로 분류하는 작업이다.\n",
        "\n",
        "형태소 토큰화는 한국어와 같이 교착어(Agglutinative Language)인 언어에서 중요하게 수행된다."
      ],
      "metadata": {
        "id": "hVFR-3ar1GZi"
      }
    },
    {
      "cell_type": "markdown",
      "source": [
        "## 형태소 어휘 사전\n",
        "\n",
        "__형태소 어휘 사전__은 자연어 처리에서 사용되는 단어의 집합인 어휘 사전 중에서도 각 단어의 형태소 정보를 포함하는 사전을 말한다. 이는 형태소 분석 작업에서 중요한 역할을 한다.\n",
        "\n",
        "텍스트 데이터를 형태소 분석하여 각 형태소에 해당하는 품사(Part Of Speech POS)를 태깅하는 작업을 POS Tagging이라고 한다. 이를 통해 자연어 처리 분야에서 문맥을 고려할 수 있어 더욱 정확한 분석이 가능해진다."
      ],
      "metadata": {
        "id": "7rVvdn8H1Mkz"
      }
    },
    {
      "cell_type": "markdown",
      "source": [
        "## KoNLPy\n",
        "\n",
        "KoNLPy는 한국어 자연어 처리를 위해 개발된 라이브러리로 명사 추출, 형태소 분석, 품사 태깅 등의 기능을 제공한다.\n",
        "\n",
        "**설치 방법**\n",
        "\n",
        "`pip install konlpy`\n",
        "\n",
        "KoNLPy는 JDK기반으로 개발 되었으며 __Okt, 꼬꼬마, 코모란, 한나눔, 메캅__ 등의  형태소 분석기를 지원한다."
      ],
      "metadata": {
        "id": "upI88TBB1QBR"
      }
    },
    {
      "cell_type": "markdown",
      "source": [
        "**예제4 Okt 토큰화**"
      ],
      "metadata": {
        "id": "DCAiNvDQ4Pxc"
      }
    },
    {
      "cell_type": "code",
      "source": [
        "!pip install konlpy"
      ],
      "metadata": {
        "id": "CILna60VTzk_",
        "colab": {
          "base_uri": "https://localhost:8080/"
        },
        "outputId": "62cc9094-2941-46c8-ad4f-1541e23da8be"
      },
      "execution_count": null,
      "outputs": [
        {
          "output_type": "stream",
          "name": "stdout",
          "text": [
            "Collecting konlpy\n",
            "  Downloading konlpy-0.6.0-py2.py3-none-any.whl.metadata (1.9 kB)\n",
            "Collecting JPype1>=0.7.0 (from konlpy)\n",
            "  Downloading jpype1-1.6.0-cp311-cp311-manylinux2014_x86_64.manylinux_2_17_x86_64.whl.metadata (5.0 kB)\n",
            "Requirement already satisfied: lxml>=4.1.0 in /usr/local/lib/python3.11/dist-packages (from konlpy) (5.4.0)\n",
            "Requirement already satisfied: numpy>=1.6 in /usr/local/lib/python3.11/dist-packages (from konlpy) (2.0.2)\n",
            "Requirement already satisfied: packaging in /usr/local/lib/python3.11/dist-packages (from JPype1>=0.7.0->konlpy) (25.0)\n",
            "Downloading konlpy-0.6.0-py2.py3-none-any.whl (19.4 MB)\n",
            "\u001b[2K   \u001b[90m━━━━━━━━━━━━━━━━━━━━━━━━━━━━━━━━━━━━━━━━\u001b[0m \u001b[32m19.4/19.4 MB\u001b[0m \u001b[31m70.1 MB/s\u001b[0m eta \u001b[36m0:00:00\u001b[0m\n",
            "\u001b[?25hDownloading jpype1-1.6.0-cp311-cp311-manylinux2014_x86_64.manylinux_2_17_x86_64.whl (496 kB)\n",
            "\u001b[2K   \u001b[90m━━━━━━━━━━━━━━━━━━━━━━━━━━━━━━━━━━━━━━━━\u001b[0m \u001b[32m496.6/496.6 kB\u001b[0m \u001b[31m36.8 MB/s\u001b[0m eta \u001b[36m0:00:00\u001b[0m\n",
            "\u001b[?25hInstalling collected packages: JPype1, konlpy\n",
            "Successfully installed JPype1-1.6.0 konlpy-0.6.0\n"
          ]
        }
      ]
    },
    {
      "cell_type": "code",
      "source": [
        "from konlpy.tag import Okt\n",
        "\n",
        "\n",
        "okt = Okt()\n",
        "\n",
        "sentence = \"무엇이든 상상할 수 있는 사람은 무엇이든 만들어 낼 수 있다.\"\n",
        "\n",
        "nouns = okt.nouns(sentence)\n",
        "phrases = okt.phrases(sentence)\n",
        "morphs = okt.morphs(sentence)\n",
        "pos = okt.pos(sentence)\n",
        "\n",
        "print(\"명사 추출 :\", nouns)\n",
        "print(\"구 추출 :\", phrases)\n",
        "print(\"형태소 추출 :\", morphs)\n",
        "print(\"품사 태깅 :\", pos)"
      ],
      "metadata": {
        "colab": {
          "base_uri": "https://localhost:8080/"
        },
        "id": "XyMcRuRD4TwX",
        "outputId": "c3aa1ef8-c3e4-4ffd-8464-3ef9d49420df"
      },
      "execution_count": null,
      "outputs": [
        {
          "output_type": "stream",
          "name": "stdout",
          "text": [
            "명사 추출 : ['무엇', '상상', '수', '사람', '무엇', '낼', '수']\n",
            "구 추출 : ['무엇', '상상', '상상할 수', '상상할 수 있는 사람', '사람']\n",
            "형태소 추출 : ['무엇', '이든', '상상', '할', '수', '있는', '사람', '은', '무엇', '이든', '만들어', '낼', '수', '있다', '.']\n",
            "품사 태깅 : [('무엇', 'Noun'), ('이든', 'Josa'), ('상상', 'Noun'), ('할', 'Verb'), ('수', 'Noun'), ('있는', 'Adjective'), ('사람', 'Noun'), ('은', 'Josa'), ('무엇', 'Noun'), ('이든', 'Josa'), ('만들어', 'Verb'), ('낼', 'Noun'), ('수', 'Noun'), ('있다', 'Adjective'), ('.', 'Punctuation')]\n"
          ]
        }
      ]
    },
    {
      "cell_type": "markdown",
      "source": [
        "**예제5 꼬꼬마 토큰화**"
      ],
      "metadata": {
        "id": "uDLfjZsA4m6J"
      }
    },
    {
      "cell_type": "code",
      "source": [
        "from konlpy.tag import Kkma\n",
        "\n",
        "\n",
        "kkma = Kkma()\n",
        "\n",
        "sentence = \"무엇이든 상상할 수 있는 사람은 무엇이든 만들어 낼 수 있다.\"\n",
        "\n",
        "nouns = kkma.nouns(sentence)\n",
        "sentences = kkma.sentences(sentence)\n",
        "morphs = kkma.morphs(sentence)\n",
        "pos = kkma.pos(sentence)\n",
        "\n",
        "print(\"명사 추출 :\", nouns)\n",
        "print(\"문장 추출 :\", sentences)\n",
        "print(\"형태소 추출 :\", morphs)\n",
        "print(\"품사 태깅 :\", pos)"
      ],
      "metadata": {
        "colab": {
          "base_uri": "https://localhost:8080/"
        },
        "id": "lT863RL74sEM",
        "outputId": "513d3492-eadf-4820-94b9-284dffacd3bf"
      },
      "execution_count": null,
      "outputs": [
        {
          "output_type": "stream",
          "name": "stdout",
          "text": [
            "명사 추출 : ['무엇', '상상', '수', '사람', '무엇']\n",
            "문장 추출 : ['무엇이든 상상할 수 있는 사람은 무엇이든 만들어 낼 수 있다.']\n",
            "형태소 추출 : ['무엇', '이', '든', '상상', '하', 'ㄹ', '수', '있', '는', '사람', '은', '무엇', '이', '든', '만들', '어', '내', 'ㄹ', '수', '있', '다', '.']\n",
            "품사 태깅 : [('무엇', 'NNG'), ('이', 'VCP'), ('든', 'ECE'), ('상상', 'NNG'), ('하', 'XSV'), ('ㄹ', 'ETD'), ('수', 'NNB'), ('있', 'VV'), ('는', 'ETD'), ('사람', 'NNG'), ('은', 'JX'), ('무엇', 'NP'), ('이', 'VCP'), ('든', 'ECE'), ('만들', 'VV'), ('어', 'ECD'), ('내', 'VXV'), ('ㄹ', 'ETD'), ('수', 'NNB'), ('있', 'VV'), ('다', 'EFN'), ('.', 'SF')]\n"
          ]
        }
      ]
    },
    {
      "cell_type": "markdown",
      "source": [
        "두 분석기가 각기다른 결과를 보여주고 있다. 이렇듯, 각 상황이나 시스템에 맞는 형태소 분석기를 사용해야 한다."
      ],
      "metadata": {
        "id": "7BOkCLg043un"
      }
    },
    {
      "cell_type": "markdown",
      "source": [
        "__KoNLPy Docs__\n",
        "\n",
        "https://konlpy.org/ko/v0.6.0/morph/"
      ],
      "metadata": {
        "id": "iywuQku65Rwr"
      }
    },
    {
      "cell_type": "markdown",
      "source": [
        "## NLTK\n",
        "\n",
        "NLTK는 자연어 처리를 위해 개발된 라이브러리로, 토큰화, 형태소 분석, 구문 분석, 개체명 인식, 감성 분석 등과 같은 기능을 제공한다.\n",
        "\n",
        "주로 영어에 사용되었으나 프랑스어, 네덜란드어, 독일어 등과 같은 다양한 언어의 자연어 처리를 위한 데이터와 모델을 제공한다.\n",
        "\n",
        "**설치 방법**\n",
        "\n",
        "`pip install nltk`\n",
        "\n",
        "NLTK에도 여러 분석기가 존재한다. 대표적으로 __Punkt, Averaged Perceptron Tagger__ 두가지가 있고 이는 __트리뱅크__라는 대규모 영어 말뭉치를 기반으로 학습 되었다."
      ],
      "metadata": {
        "id": "jO8xq9dB1Wm6"
      }
    },
    {
      "cell_type": "markdown",
      "source": [
        "**예제6 패키지 및 모델 다운로드**"
      ],
      "metadata": {
        "id": "63NlklPB7Ggc"
      }
    },
    {
      "cell_type": "code",
      "source": [
        "import nltk\n",
        "\n",
        "\n",
        "nltk.download(\"punkt\")\n",
        "nltk.download(\"averaged_perceptron_tagger\")\n",
        "nltk.download(\"punkt_tab\")  # 설치 해주지 않으면 LookupError가 날 수 있음\n",
        "nltk.download(\"averaged_perceptron_tagger_eng\")     # 설치 해주지 않으면 LookupError가 날 수 있음"
      ],
      "metadata": {
        "colab": {
          "base_uri": "https://localhost:8080/"
        },
        "id": "2JhSrPjF7Myh",
        "outputId": "2a0d002b-1535-4349-92bc-9a8663dfbd96"
      },
      "execution_count": null,
      "outputs": [
        {
          "output_type": "stream",
          "name": "stderr",
          "text": [
            "[nltk_data] Downloading package punkt to /root/nltk_data...\n",
            "[nltk_data]   Unzipping tokenizers/punkt.zip.\n",
            "[nltk_data] Downloading package averaged_perceptron_tagger to\n",
            "[nltk_data]     /root/nltk_data...\n",
            "[nltk_data]   Unzipping taggers/averaged_perceptron_tagger.zip.\n",
            "[nltk_data] Downloading package punkt_tab to /root/nltk_data...\n",
            "[nltk_data]   Unzipping tokenizers/punkt_tab.zip.\n",
            "[nltk_data] Downloading package averaged_perceptron_tagger_eng to\n",
            "[nltk_data]     /root/nltk_data...\n",
            "[nltk_data]   Unzipping taggers/averaged_perceptron_tagger_eng.zip.\n"
          ]
        },
        {
          "output_type": "execute_result",
          "data": {
            "text/plain": [
              "True"
            ]
          },
          "metadata": {},
          "execution_count": 9
        }
      ]
    },
    {
      "cell_type": "markdown",
      "source": [
        "**예제7 영문 토큰화**"
      ],
      "metadata": {
        "id": "gmNBtDPE7Tnx"
      }
    },
    {
      "cell_type": "code",
      "source": [
        "from nltk import tokenize\n",
        "\n",
        "\n",
        "sentence = \"Those who can imagine anything, can create the impossible.\"\n",
        "\n",
        "word_tokens = tokenize.word_tokenize(sentence)\n",
        "sent_tokens = tokenize.sent_tokenize(sentence)\n",
        "\n",
        "print(word_tokens)\n",
        "print(sent_tokens)"
      ],
      "metadata": {
        "colab": {
          "base_uri": "https://localhost:8080/"
        },
        "id": "8T5cxhmw7XaA",
        "outputId": "a6dab624-7356-4ed0-826f-94a837f8183b"
      },
      "execution_count": null,
      "outputs": [
        {
          "output_type": "stream",
          "name": "stdout",
          "text": [
            "['Those', 'who', 'can', 'imagine', 'anything', ',', 'can', 'create', 'the', 'impossible', '.']\n",
            "['Those who can imagine anything, can create the impossible.']\n"
          ]
        }
      ]
    },
    {
      "cell_type": "markdown",
      "source": [
        "나누는 기준은 사전 학습 모델을 통해 토큰화 한다.\n",
        "\n",
        "`word_tokenize`는 공백을 기준으로 단어를 나누고, 구두점 등을 처리해 각각의 단어를 리스트화 한다.\n",
        "\n",
        "`sent_tokenize`는 구두점을 기준으로 문장을 분리하고 리스트로 반환한다."
      ],
      "metadata": {
        "id": "Ti8oaZaQ7wK9"
      }
    },
    {
      "cell_type": "markdown",
      "source": [
        "**예제8 영문 품사 태깅**"
      ],
      "metadata": {
        "id": "yyBMLp4Q8V6o"
      }
    },
    {
      "cell_type": "code",
      "source": [
        "from nltk import tag\n",
        "from nltk import tokenize\n",
        "\n",
        "\n",
        "sentence = \"Those who can imagine anything, can create the impossible.\"\n",
        "\n",
        "word_tokens = tokenize.word_tokenize(sentence)\n",
        "pos = tag.pos_tag(word_tokens)\n",
        "\n",
        "print(pos)"
      ],
      "metadata": {
        "colab": {
          "base_uri": "https://localhost:8080/"
        },
        "id": "pPJVBdPc8aNd",
        "outputId": "da97e678-d4d6-4879-dd8c-000f38f833ba"
      },
      "execution_count": null,
      "outputs": [
        {
          "output_type": "stream",
          "name": "stdout",
          "text": [
            "[('Those', 'DT'), ('who', 'WP'), ('can', 'MD'), ('imagine', 'VB'), ('anything', 'NN'), (',', ','), ('can', 'MD'), ('create', 'VB'), ('the', 'DT'), ('impossible', 'JJ'), ('.', '.')]\n"
          ]
        }
      ]
    },
    {
      "cell_type": "markdown",
      "source": [
        "`pos_tag`는 토큰화된 문장에서 품사 태깅을 수행한다.\n",
        "\n",
        "품사 태깅을 수행하려면 토큰화 된 단어들이 들어가야하며 앞서 설치한 `averaged_perceptron_tagger`가 있어야하며, 혹여 LookupError시에는 `averaged_perceptron_tagger_eng`을 설치해주면 된다."
      ],
      "metadata": {
        "id": "fl0V9P-t8r2Q"
      }
    },
    {
      "cell_type": "markdown",
      "source": [
        "## spaCy\n",
        "\n",
        "spaCy는 사이썬 기반으로 개발 된 오픈 소스 라이브러리이다. NLTK와 마찬가지로 자연어 처리를 위한 기능을 제공한다.\n",
        "\n",
        "spaCy는 NLTK와 달리 효율적인 처리 속도와 높은 정확도를 제공하는 것을 목표로 한다.\n",
        "\n",
        "그래서 NLTK보다 더 크고 복잡하고 더 많은 리소스를 요구한다.\n",
        "\n",
        "**spaCy**\n",
        "\n",
        "```\n",
        "pip install spacy    \n",
        "python -m spacy download en_core_web_sm\n",
        "```\n",
        "\n",
        "spaCy는 GPU 가속을 비롯해 24개 이상의 언어로 사전 학습된 모델을 제공한다. `en_core_web_sm`는 영어로 사전 학습된 모델이다.\n",
        "\n",
        "GPU 가속 및 다른 언어를 사용하고자 하면 https://spacy.io/usage에서 파이프라인을 설치할 수 있다."
      ],
      "metadata": {
        "id": "0MXwUFHN1caT"
      }
    },
    {
      "cell_type": "markdown",
      "source": [
        "**예제9 spaCy 품사 태깅**"
      ],
      "metadata": {
        "id": "E4ilXXvI_mLj"
      }
    },
    {
      "cell_type": "code",
      "source": [
        "import spacy\n",
        "\n",
        "\n",
        "nlp = spacy.load(\"en_core_web_sm\")\n",
        "sentence = \"Those who can imagine anything, can create the impossible.\"\n",
        "doc = nlp(sentence)\n",
        "\n",
        "for token in doc:\n",
        "    print(f\"[{token.pos_:5} - {token.tag_:3}] : {token.text}\")"
      ],
      "metadata": {
        "colab": {
          "base_uri": "https://localhost:8080/"
        },
        "id": "YF1QFVro_rq8",
        "outputId": "dc0b1d67-1b51-4846-947b-54377b4adc4c"
      },
      "execution_count": null,
      "outputs": [
        {
          "output_type": "stream",
          "name": "stdout",
          "text": [
            "[PRON  - DT ] : Those\n",
            "[PRON  - WP ] : who\n",
            "[AUX   - MD ] : can\n",
            "[VERB  - VB ] : imagine\n",
            "[PRON  - NN ] : anything\n",
            "[PUNCT - ,  ] : ,\n",
            "[AUX   - MD ] : can\n",
            "[VERB  - VB ] : create\n",
            "[DET   - DT ] : the\n",
            "[ADJ   - JJ ] : impossible\n",
            "[PUNCT - .  ] : .\n"
          ]
        }
      ]
    },
    {
      "cell_type": "markdown",
      "source": [
        "spaCy는 사전 학습된 모델을 기반으로 처리하기에 `.load()`를 통해 모델을 설정해야한다.\n",
        "\n",
        "위 코드에서 spaCy는 doc객체에 여러 token으로 결과를 저장했다. token은 기본 품사 속성, 세분화 품사 속성, 원본 텍스트 데이터, 토큰 사이의 공백을 포함하는 텍스트 데이터, 벡터, 벡터 노름(vector_norm)등의 속성이 포함 되어있다."
      ],
      "metadata": {
        "id": "En_GO7vZ_yO_"
      }
    },
    {
      "cell_type": "markdown",
      "source": [
        "# 하위 단어 토큰화\n",
        "\n",
        "위에서 우리는 기본적인 문장 전처리 기술을 배웠다. 단어, 글자, 형태소 단위로 토큰화 하는 방법을 배웠지만, 인간의 언어는 시간과 시대에 따라 조금씩 변하고 특히 컴퓨터는 신조어나 고유어들에 약할 수 있다. 또한, 시스템을 분석하려는 텍스트 데이터는 컴퓨터, 스마트폰에 의해 생기는데 이는 오탈자가 있을 수 밖에 없다.이것은 모델의 토큰화를 방해한다.\n",
        "\n",
        "그래서 우리는 이를 해결할 방법 중 하나인 __하위 단어 토큰화__라는 것을 이용했다.\n",
        "하위 단어 토큰화는 단어의 길이를 줄이고 처리속도가 빨라질 뿐만아니라 OOV문제, 신조어, 은어, 고유어 등으로 인한 문제를 완화할 수 있다.\n",
        "\n",
        "하위 단어 토큰화 방법으로 바이트 페어 인코딩, 워드피스, 유니그램 모델 등이 있다."
      ],
      "metadata": {
        "id": "KzIkGEHo1iV6"
      }
    },
    {
      "cell_type": "markdown",
      "source": [
        "## 바이트 페어 인코딩\n",
        "\n",
        "__바이트 페어 인코딩__은 다이그램 코딩이라고도 불리며 텍스트 데이터에서 가장 빈번하게 등장하는 글자 쌍의 조합을 찾아 부호화하는 압축 알고리즘으로 초기에는 데이터 압축을 위해 개발하였으나, 자연어 처리 분야에서 하위단어 토큰화를 위한 방법으로 사용된다.\n",
        "\n",
        "이 알고리즘은 연속된 글자 쌍이 더 이상 나타나지 않거나 정해진 어휘 사전 크기에 도달할 때까지 조합탐지화 부호화를 반복하며 이 과정에서 자주등장하는 단어는 하나의 토큰으로 토큰화 하고, 덜 등장하는 단어는 여러 토큰의 조합으로 표현된다.\n",
        "\n",
        "**예시**\n",
        "- 원문. abracadabra\n",
        "- Step #1: AracadaAra\n",
        "- Step #2: ABcadAB\n",
        "- Step #3: CcadC\n",
        "\n",
        "1단계에서 자주보이는 Ab 글자 쌍을 A로 치환, 2단계에서 ra를 B, 3단계에서 AB를 C로 치환하였다. 이후는 치환 가능한 글자 쌍이 없으므로 CcadC로 압축 된 것이다. 이를 토크나이저로써 바이트 페어 인코딩은 자주 등장하는 글자 쌍을 찾아 치환하는 대신 어휘 사전에 추가한다.\n",
        "\n",
        "이번에는 빈도를 계산한 사전과 어휘 사전이 있다 가정하자.\n",
        "\n",
        "- 빈도 사전: ('low', 5), ('lower', 2), ('newest', 6), ('widest', 3)\n",
        "- 어휘 사전: ['low', 'lower', 'newest', 'widest']\n",
        "\n",
        "이를 BPE로 재구성 하면 우선 글자단위로 다 나눠준다.\n",
        "\n",
        "- 빈도 사전: ('l', 'o', 'w', 5), ('l', 'o',' w', 'e', 'r', 2), ('n', 'e', 'w', 'e', 's', 't', 6), ('w', 'i', 'd', 'e', 's', 't', 3)\n",
        "- 어휘 사전: ['d', 'e', 'i', 'l', 'n', 'o', 'r', 's', 't', 'w']\n",
        "\n",
        "빈도 사전을 기준으로 자주 등장한 글자 쌍을 찾는다. 이 경우에는 'e', 's'이다. 이를 es 쌍으로 추가한다.\n",
        "\n",
        "- 빈도 사전: ('l', 'o', 'w', 5), ('l', 'o',' w', 'e', 'r', 2), ('n', 'e', 'w', 'es', 't', 6), ('w', 'i', 'd', 'es', 't', 3)\n",
        "- 어휘 사전: ['d', 'e', 'i', 'l', 'n', 'o', 'r', 's', 't', 'w', 'es']\n",
        "\n",
        "동일 과정을 반복한다. 다음으로 많이 등장하는 단어는 'es', 't'이다.\n",
        "\n",
        "- 빈도 사전: ('l', 'o', 'w', 5), ('l', 'o',' w', 'e', 'r', 2), ('n', 'e', 'w', 'est', 6), ('w', 'i', 'd', 'est', 3)\n",
        "- 어휘 사전: ['d', 'e', 'i', 'l', 'n', 'o', 'r', 's', 't', 'w', 'es', 'est']\n",
        "\n",
        "계속해서 반복하면 다음과 같은 결과가 나온다.\n",
        "\n",
        "4번째\n",
        "- 빈도 사전: ('low', 5), ('low', 'e', 'r', 2), ('n', 'e', 'w', 'est', 6), ('w', 'i', 'd', 'est', 3)\n",
        "- 어휘 사전: ['d', 'e', 'i', 'l', 'n', 'o', 'r', 's', 't', 'w', 'es', 'est', 'lo', 'low']\n",
        "\n",
        "5번째\n",
        "- 빈도 사전: ('low', 5), ('low', 'e', 'r', 2), ('n', 'e', 'w', 'est', 6), ('w', 'i', 'd', 'est', 3)\n",
        "- 어휘 사전: ['d', 'e', 'i', 'l', 'n', 'o', 'r', 's', 't', 'w', 'es', 'est', 'lo', 'low', 'ne']\n",
        "\n",
        "6번째\n",
        "- 빈도 사전: ('low', 5), ('low', 'e', 'r', 2), ('n', 'e', 'w', 'est', 6), ('w', 'i', 'd', 'est', 3)\n",
        "- 어휘 사전: ['d', 'e', 'i', 'l', 'n', 'o', 'r', 's', 't', 'w', 'es', 'est', 'lo', 'low', 'ne', 'new']\n",
        "\n",
        "7번째\n",
        "- 빈도 사전: ('low', 5), ('low', 'e', 'r', 2), ('n', 'e', 'w', 'est', 6), ('w', 'i', 'd', 'est', 3)\n",
        "- 어휘 사전: ['d', 'e', 'i', 'l', 'n', 'o', 'r', 's', 't', 'w', 'es', 'est', 'lo', 'low', 'ne', 'new', 'newest']\n",
        "\n",
        "8번째\n",
        "- 빈도 사전: ('low', 5), ('low', 'e', 'r', 2), ('n', 'e', 'w', 'est', 6), ('w', 'i', 'd', 'est', 3)\n",
        "- 어휘 사전: ['d', 'e', 'i', 'l', 'n', 'o', 'r', 's', 't', 'w', 'es', 'est', 'lo', 'low', 'ne', 'new', 'newest']\n",
        "\n",
        "9번째\n",
        "- 빈도 사전: ('low', 5), ('low', 'e', 'r', 2), ('n', 'e', 'w', 'est', 6), ('w', 'i', 'd', 'est', 3)\n",
        "- 어휘 사전: ['d', 'e', 'i', 'l', 'n', 'o', 'r', 's', 't', 'w', 'es', 'est', 'lo', 'low', 'ne', 'new', 'newest', 'wi', 'wid']\n",
        "\n",
        "10번째\n",
        "- 빈도 사전: ('low', 5), ('low', 'e', 'r', 2), ('n', 'e', 'w', 'est', 6), ('w', 'i', 'd', 'est', 3)\n",
        "- 어휘 사전: ['d', 'e', 'i', 'l', 'n', 'o', 'r', 's', 't', 'w', 'es', 'est', 'lo', 'low', 'ne', 'new', 'newest', 'wi', 'wid', 'widest']\n",
        "\n",
        "11번째\n",
        "- 빈도 사전: ('low', 5), ('low', 'e', 'r', 2), ('n', 'e', 'w', 'est', 6), ('w', 'i', 'd', 'est', 3)\n",
        "- 어휘 사전: ['d', 'e', 'i', 'l', 'n', 'o', 'r', 's', 't', 'w', 'es', 'est', 'lo', 'low', 'ne', 'new', 'newest', 'wi', 'wid', 'widest', 'lowe', 'lower']\n",
        "\n",
        "위와 같은 과정으로 토큰화가 진행되고, 추후 말뭉치에 없는 단어가 나오게 되면 기존 어휘 사전을 참고해 토큰화하여 추가한다."
      ],
      "metadata": {
        "id": "mj688b1F1myB"
      }
    },
    {
      "cell_type": "markdown",
      "source": [
        "### 센텐스피스\n",
        "\n",
        "센텐스피스와 코포라 라이브러리를 활용해 토크나이저를 학습해보자.\n",
        "\n",
        "센텐스피스는 구글에서 개발한 오픈소스 하위단어 토크나이저이다. BPE와 유사한 알고리즘을 이용해 입력 데이터를 토큰화 하고 단어 사전을 생성한다. 또한 워드피스, 유니코드 기반의 다양한 알고리즘을 지원하며 다양한 파라미터를 제공하여 세밀한 토크나이징이 가능하다.\n",
        "\n",
        "코포라는 국립 국어원이나 AI hub에서 제공하는 말뭉치 데이터를 쉽게 사용할 수 있게 제공하는 오픈소스 라이브러리이다.\n",
        "\n",
        "**센텐스피스, 코포라 설치**\n",
        "```\n",
        "pip install sentencepiece Korpora\n",
        "```"
      ],
      "metadata": {
        "id": "f3agh5ePO7dK"
      }
    },
    {
      "cell_type": "code",
      "source": [
        "!pip install sentencepiece Korpora"
      ],
      "metadata": {
        "id": "NpLkgmgBVm35",
        "colab": {
          "base_uri": "https://localhost:8080/",
          "height": 476
        },
        "outputId": "b75f5ea4-50f6-4c1d-c327-67f557570ebe"
      },
      "execution_count": null,
      "outputs": [
        {
          "output_type": "stream",
          "name": "stdout",
          "text": [
            "Requirement already satisfied: sentencepiece in /usr/local/lib/python3.11/dist-packages (0.2.0)\n",
            "Collecting Korpora\n",
            "  Downloading Korpora-0.2.0-py3-none-any.whl.metadata (26 kB)\n",
            "Collecting dataclasses>=0.6 (from Korpora)\n",
            "  Downloading dataclasses-0.6-py3-none-any.whl.metadata (3.0 kB)\n",
            "Requirement already satisfied: numpy>=1.18.0 in /usr/local/lib/python3.11/dist-packages (from Korpora) (2.0.2)\n",
            "Requirement already satisfied: tqdm>=4.46.0 in /usr/local/lib/python3.11/dist-packages (from Korpora) (4.67.1)\n",
            "Requirement already satisfied: requests>=2.20.0 in /usr/local/lib/python3.11/dist-packages (from Korpora) (2.32.3)\n",
            "Requirement already satisfied: xlrd>=1.2.0 in /usr/local/lib/python3.11/dist-packages (from Korpora) (2.0.2)\n",
            "Requirement already satisfied: charset-normalizer<4,>=2 in /usr/local/lib/python3.11/dist-packages (from requests>=2.20.0->Korpora) (3.4.2)\n",
            "Requirement already satisfied: idna<4,>=2.5 in /usr/local/lib/python3.11/dist-packages (from requests>=2.20.0->Korpora) (3.10)\n",
            "Requirement already satisfied: urllib3<3,>=1.21.1 in /usr/local/lib/python3.11/dist-packages (from requests>=2.20.0->Korpora) (2.5.0)\n",
            "Requirement already satisfied: certifi>=2017.4.17 in /usr/local/lib/python3.11/dist-packages (from requests>=2.20.0->Korpora) (2025.8.3)\n",
            "Downloading Korpora-0.2.0-py3-none-any.whl (57 kB)\n",
            "\u001b[?25l   \u001b[90m━━━━━━━━━━━━━━━━━━━━━━━━━━━━━━━━━━━━━━━━\u001b[0m \u001b[32m0.0/57.8 kB\u001b[0m \u001b[31m?\u001b[0m eta \u001b[36m-:--:--\u001b[0m\r\u001b[2K   \u001b[90m━━━━━━━━━━━━━━━━━━━━━━━━━━━━━━━━━━━━━━━━\u001b[0m \u001b[32m57.8/57.8 kB\u001b[0m \u001b[31m5.9 MB/s\u001b[0m eta \u001b[36m0:00:00\u001b[0m\n",
            "\u001b[?25hDownloading dataclasses-0.6-py3-none-any.whl (14 kB)\n",
            "Installing collected packages: dataclasses, Korpora\n",
            "Successfully installed Korpora-0.2.0 dataclasses-0.6\n"
          ]
        },
        {
          "output_type": "display_data",
          "data": {
            "application/vnd.colab-display-data+json": {
              "pip_warning": {
                "packages": [
                  "dataclasses"
                ]
              },
              "id": "cd26ba6804df4f24939d50266e13de30"
            }
          },
          "metadata": {}
        }
      ]
    },
    {
      "cell_type": "markdown",
      "source": [
        "**예제10 청와대 청원 데이터 다운로드**"
      ],
      "metadata": {
        "id": "BEUOiTExPygl"
      }
    },
    {
      "cell_type": "code",
      "source": [
        "from Korpora import Korpora\n",
        "\n",
        "corpus = Korpora.load(\"korean_petitions\")\n",
        "dataset = corpus.train\n",
        "petition = dataset[0]\n",
        "\n",
        "print(\"청원 시작일 :\", petition.begin)\n",
        "print(\"청원 종료일 :\", petition.end)\n",
        "print(\"청원 동의 수 :\", petition.num_agree)\n",
        "print(\"청원 범주 :\", petition.category)\n",
        "print(\"청원 제목 :\", petition.title)\n",
        "print(\"청원 본문 :\", petition.text[:30])"
      ],
      "metadata": {
        "colab": {
          "base_uri": "https://localhost:8080/"
        },
        "id": "w5F-l8RaP50G",
        "outputId": "4257b7b3-a9f7-409f-a526-1b53f03f4743"
      },
      "execution_count": null,
      "outputs": [
        {
          "output_type": "stream",
          "name": "stdout",
          "text": [
            "\n",
            "    Korpora 는 다른 분들이 연구 목적으로 공유해주신 말뭉치들을\n",
            "    손쉽게 다운로드, 사용할 수 있는 기능만을 제공합니다.\n",
            "\n",
            "    말뭉치들을 공유해 주신 분들에게 감사드리며, 각 말뭉치 별 설명과 라이센스를 공유 드립니다.\n",
            "    해당 말뭉치에 대해 자세히 알고 싶으신 분은 아래의 description 을 참고,\n",
            "    해당 말뭉치를 연구/상용의 목적으로 이용하실 때에는 아래의 라이센스를 참고해 주시기 바랍니다.\n",
            "\n",
            "    # Description\n",
            "    Author : Hyunjoong Kim lovit@github\n",
            "    Repository : https://github.com/lovit/petitions_archive\n",
            "    References :\n",
            "\n",
            "    청와대 국민청원 게시판의 데이터를 월별로 수집한 것입니다.\n",
            "    청원은 게시판에 글을 올린 뒤, 한달 간 청원이 진행됩니다.\n",
            "    수집되는 데이터는 청원종료가 된 이후의 데이터이며, 청원 내 댓글은 수집되지 않습니다.\n",
            "    단 청원의 동의 개수는 수집됩니다.\n",
            "    자세한 내용은 위의 repository를 참고하세요.\n",
            "\n",
            "    # License\n",
            "    CC0 1.0 Universal (CC0 1.0) Public Domain Dedication\n",
            "    Details in https://creativecommons.org/publicdomain/zero/1.0/\n",
            "\n"
          ]
        },
        {
          "output_type": "stream",
          "name": "stderr",
          "text": [
            "[korean_petitions] download petitions_2017-08: 1.84MB [00:00, 75.1MB/s]\n",
            "[korean_petitions] download petitions_2017-09: 20.4MB [00:00, 217MB/s]\n",
            "[korean_petitions] download petitions_2017-10: 12.0MB [00:00, 111MB/s]                             \n",
            "[korean_petitions] download petitions_2017-11: 28.4MB [00:03, 7.26MB/s]                            \n",
            "[korean_petitions] download petitions_2017-12: 29.0MB [00:00, 346MB/s]\n",
            "[korean_petitions] download petitions_2018-01: 43.9MB [00:00, 350MB/s]                            \n",
            "[korean_petitions] download petitions_2018-02: 33.8MB [00:00, 320MB/s]                            \n",
            "[korean_petitions] download petitions_2018-03: 34.3MB [00:03, 11.0MB/s]                              \n",
            "[korean_petitions] download petitions_2018-04: 35.5MB [00:00, 338MB/s]                            \n",
            "[korean_petitions] download petitions_2018-05: 37.5MB [00:02, 13.8MB/s]                            \n",
            "[korean_petitions] download petitions_2018-06: 37.8MB [00:03, 12.3MB/s]                            \n",
            "[korean_petitions] download petitions_2018-07: 40.5MB [00:03, 12.6MB/s]                            \n",
            "[korean_petitions] download petitions_2018-08: 39.8MB [00:00, 314MB/s]                            \n",
            "[korean_petitions] download petitions_2018-09: 36.1MB [00:00, 313MB/s]                            \n",
            "[korean_petitions] download petitions_2018-10: 38.1MB [00:00, 348MB/s]                            \n",
            "[korean_petitions] download petitions_2018-11: 37.7MB [00:00, 243MB/s]                            \n",
            "[korean_petitions] download petitions_2018-12: 33.0MB [00:00, 323MB/s]                            \n",
            "[korean_petitions] download petitions_2019-01: 34.8MB [00:00, 334MB/s]                            \n",
            "[korean_petitions] download petitions_2019-02: 30.8MB [00:00, 276MB/s]                            \n",
            "[korean_petitions] download petitions_2019-03: 34.9MB [00:00, 278MB/s]                            \n"
          ]
        },
        {
          "output_type": "stream",
          "name": "stdout",
          "text": [
            "청원 시작일 : 2017-08-25\n",
            "청원 종료일 : 2017-09-24\n",
            "청원 동의 수 : 88\n",
            "청원 범주 : 육아/교육\n",
            "청원 제목 : 학교는 인력센터, 취업센터가 아닙니다. 정말 간곡히 부탁드립니다.\n",
            "청원 본문 : 안녕하세요. 현재 사대, 교대 등 교원양성학교들의 예비\n"
          ]
        }
      ]
    },
    {
      "cell_type": "markdown",
      "source": [
        "**예제11 학습 데이터셋 생성**"
      ],
      "metadata": {
        "id": "0XBxrV6oRE9f"
      }
    },
    {
      "cell_type": "code",
      "source": [
        "from Korpora import Korpora\n",
        "import os\n",
        "\n",
        "corpus = Korpora.load(\"korean_petitions\")\n",
        "petitions = corpus.get_all_texts()\n",
        "\n",
        "# Create the 'datasets' directory if it doesn't exist\n",
        "os.makedirs(\"../datasets\", exist_ok=True)\n",
        "\n",
        "with open(\"../datasets/corpus.txt\", \"w\", encoding=\"utf-8\") as f:\n",
        "    for petition in petitions:\n",
        "        f.write(petition + \"\\n\")"
      ],
      "metadata": {
        "colab": {
          "base_uri": "https://localhost:8080/"
        },
        "id": "dyazxRwQRJP_",
        "outputId": "b629d0e9-2191-44c5-e47f-2d0d3b15cf8e"
      },
      "execution_count": null,
      "outputs": [
        {
          "output_type": "stream",
          "name": "stdout",
          "text": [
            "\n",
            "    Korpora 는 다른 분들이 연구 목적으로 공유해주신 말뭉치들을\n",
            "    손쉽게 다운로드, 사용할 수 있는 기능만을 제공합니다.\n",
            "\n",
            "    말뭉치들을 공유해 주신 분들에게 감사드리며, 각 말뭉치 별 설명과 라이센스를 공유 드립니다.\n",
            "    해당 말뭉치에 대해 자세히 알고 싶으신 분은 아래의 description 을 참고,\n",
            "    해당 말뭉치를 연구/상용의 목적으로 이용하실 때에는 아래의 라이센스를 참고해 주시기 바랍니다.\n",
            "\n",
            "    # Description\n",
            "    Author : Hyunjoong Kim lovit@github\n",
            "    Repository : https://github.com/lovit/petitions_archive\n",
            "    References :\n",
            "\n",
            "    청와대 국민청원 게시판의 데이터를 월별로 수집한 것입니다.\n",
            "    청원은 게시판에 글을 올린 뒤, 한달 간 청원이 진행됩니다.\n",
            "    수집되는 데이터는 청원종료가 된 이후의 데이터이며, 청원 내 댓글은 수집되지 않습니다.\n",
            "    단 청원의 동의 개수는 수집됩니다.\n",
            "    자세한 내용은 위의 repository를 참고하세요.\n",
            "\n",
            "    # License\n",
            "    CC0 1.0 Universal (CC0 1.0) Public Domain Dedication\n",
            "    Details in https://creativecommons.org/publicdomain/zero/1.0/\n",
            "\n",
            "[Korpora] Corpus `korean_petitions` is already installed at /root/Korpora/korean_petitions/petitions_2017-08\n",
            "[Korpora] Corpus `korean_petitions` is already installed at /root/Korpora/korean_petitions/petitions_2017-09\n",
            "[Korpora] Corpus `korean_petitions` is already installed at /root/Korpora/korean_petitions/petitions_2017-10\n",
            "[Korpora] Corpus `korean_petitions` is already installed at /root/Korpora/korean_petitions/petitions_2017-11\n",
            "[Korpora] Corpus `korean_petitions` is already installed at /root/Korpora/korean_petitions/petitions_2017-12\n",
            "[Korpora] Corpus `korean_petitions` is already installed at /root/Korpora/korean_petitions/petitions_2018-01\n",
            "[Korpora] Corpus `korean_petitions` is already installed at /root/Korpora/korean_petitions/petitions_2018-02\n",
            "[Korpora] Corpus `korean_petitions` is already installed at /root/Korpora/korean_petitions/petitions_2018-03\n",
            "[Korpora] Corpus `korean_petitions` is already installed at /root/Korpora/korean_petitions/petitions_2018-04\n",
            "[Korpora] Corpus `korean_petitions` is already installed at /root/Korpora/korean_petitions/petitions_2018-05\n",
            "[Korpora] Corpus `korean_petitions` is already installed at /root/Korpora/korean_petitions/petitions_2018-06\n",
            "[Korpora] Corpus `korean_petitions` is already installed at /root/Korpora/korean_petitions/petitions_2018-07\n",
            "[Korpora] Corpus `korean_petitions` is already installed at /root/Korpora/korean_petitions/petitions_2018-08\n",
            "[Korpora] Corpus `korean_petitions` is already installed at /root/Korpora/korean_petitions/petitions_2018-09\n",
            "[Korpora] Corpus `korean_petitions` is already installed at /root/Korpora/korean_petitions/petitions_2018-10\n",
            "[Korpora] Corpus `korean_petitions` is already installed at /root/Korpora/korean_petitions/petitions_2018-11\n",
            "[Korpora] Corpus `korean_petitions` is already installed at /root/Korpora/korean_petitions/petitions_2018-12\n",
            "[Korpora] Corpus `korean_petitions` is already installed at /root/Korpora/korean_petitions/petitions_2019-01\n",
            "[Korpora] Corpus `korean_petitions` is already installed at /root/Korpora/korean_petitions/petitions_2019-02\n",
            "[Korpora] Corpus `korean_petitions` is already installed at /root/Korpora/korean_petitions/petitions_2019-03\n"
          ]
        }
      ]
    },
    {
      "cell_type": "markdown",
      "source": [
        "**예제12 토크나이저 모델 학습**"
      ],
      "metadata": {
        "id": "D7mUwFO_Swsk"
      }
    },
    {
      "cell_type": "code",
      "source": [
        "from sentencepiece import SentencePieceTrainer\n",
        "import os\n",
        "\n",
        "# Create the 'models' directory if it doesn't exist\n",
        "os.makedirs(\"../models\", exist_ok=True)\n",
        "\n",
        "SentencePieceTrainer.Train(\n",
        "    \"--input=../datasets/corpus.txt\\\n",
        "    --model_prefix=../models/petition_bpe\\\n",
        "    --vocab_size=8000 model_type=bpe\"\n",
        ")"
      ],
      "metadata": {
        "id": "Qr1j9RMIStXk"
      },
      "execution_count": null,
      "outputs": []
    },
    {
      "cell_type": "markdown",
      "source": [
        "https://github.com/google/sentencepiece 이곳에가면 SentencePieceTrainer의 다양한 파라미터를 확인할 수 있다.\n",
        "\n",
        "토크나이저 모델 학습이 완료가 되면 모델 파일과 단어 사전 파일이 생성된다.\n",
        "이 파일을 열면 어떻게 토큰화 되어있는지 확인할 수 있다.\n",
        "\n",
        "이제 토크나이저 모델과 어휘 사전 파일을 활용해 BPE 인코딩을 수행해보자."
      ],
      "metadata": {
        "id": "oZBPpILOZvCa"
      }
    },
    {
      "cell_type": "markdown",
      "source": [
        "**예제13 BPE 인코딩 토큰화**"
      ],
      "metadata": {
        "id": "ELazJKiEamj2"
      }
    },
    {
      "cell_type": "code",
      "source": [
        "from sentencepiece import SentencePieceProcessor\n",
        "\n",
        "\n",
        "tokenizer = SentencePieceProcessor()\n",
        "tokenizer.load(\"../models/petition_bpe.model\")\n",
        "\n",
        "sentence = \"안녕하세요, 토크나이저가 잘 학습되었군요!\"\n",
        "sentences = [\"이렇게 입력값을 리스트로 받아서\", \"쉽게 토크나이저를 사용할 수 있답니다\"]\n",
        "\n",
        "tokenized_sentence = tokenizer.encode_as_pieces(sentence)   # encode_as_pieces: 문장 토큰화\n",
        "tokenized_sentences = tokenizer.encode_as_pieces(sentences)\n",
        "print(\"단일 문장 토큰화 :\", tokenized_sentence)\n",
        "print(\"여러 문장 토큰화 :\", tokenized_sentences)\n",
        "\n",
        "encoded_sentence = tokenizer.encode_as_ids(sentence)    # 토큰을 정수로 인코딩\n",
        "encoded_sentences = tokenizer.encode_as_ids(sentences)\n",
        "print(\"단일 문장 정수 인코딩 :\", encoded_sentence)\n",
        "print(\"여러 문장 정수 인코딩 :\", encoded_sentences)\n",
        "\n",
        "decode_ids = tokenizer.decode_ids(encoded_sentences)    # 문자열 데이터로 변환\n",
        "decode_pieces = tokenizer.decode_pieces(encoded_sentences)    # 문자열 데이터로 변환\n",
        "print(\"정수 인코딩에서 문장 변환 :\", decode_ids)\n",
        "print(\"하위 단어 토큰에서 문장 변환 :\", decode_pieces)"
      ],
      "metadata": {
        "colab": {
          "base_uri": "https://localhost:8080/"
        },
        "id": "RgjcL6sUarem",
        "outputId": "e98aa22e-9387-49d1-e36d-c6a0c1992f63"
      },
      "execution_count": null,
      "outputs": [
        {
          "output_type": "stream",
          "name": "stdout",
          "text": [
            "단일 문장 토큰화 : ['▁안녕하세요', ',', '▁토', '크', '나', '이', '저', '가', '▁잘', '▁학', '습', '되었', '군요', '!']\n",
            "여러 문장 토큰화 : [['▁이렇게', '▁입', '력', '값을', '▁리', '스트', '로', '▁받아서'], ['▁쉽게', '▁토', '크', '나', '이', '저', '를', '▁사용할', '▁수', '▁있', '답니다']]\n",
            "단일 문장 정수 인코딩 : [667, 6553, 994, 6880, 6544, 6513, 6590, 6523, 161, 110, 6554, 872, 787, 6648]\n",
            "여러 문장 정수 인코딩 : [[372, 182, 6677, 4433, 1772, 1613, 6527, 4162], [1681, 994, 6880, 6544, 6513, 6590, 6536, 5852, 19, 5, 2639]]\n",
            "정수 인코딩에서 문장 변환 : ['이렇게 입력값을 리스트로 받아서', '쉽게 토크나이저를 사용할 수 있답니다']\n",
            "하위 단어 토큰에서 문장 변환 : ['이렇게 입력값을 리스트로 받아서', '쉽게 토크나이저를 사용할 수 있답니다']\n"
          ]
        }
      ]
    },
    {
      "cell_type": "markdown",
      "source": [
        "**어휘 사전 불러오기**"
      ],
      "metadata": {
        "id": "EdmV7kEdejL2"
      }
    },
    {
      "cell_type": "code",
      "source": [
        "from sentencepiece import SentencePieceProcessor\n",
        "\n",
        "\n",
        "tokenizer = SentencePieceProcessor()\n",
        "tokenizer.load(\"../models/petition_bpe.model\")\n",
        "\n",
        "vocab = {idx: tokenizer.id_to_piece(idx) for idx in range(tokenizer.get_piece_size())}      # get_piece_size: 모델에서 생성된 하위 단어 개수를 반환 / id_to_piece: 정수값을 하위 단어로 변환하는 메서드\n",
        "print(list(vocab.items())[:5])\n",
        "print(\"vocab size :\", len(vocab))"
      ],
      "metadata": {
        "colab": {
          "base_uri": "https://localhost:8080/"
        },
        "id": "3V4a7W_keoFv",
        "outputId": "2a15d189-d888-4a78-89d6-3343a516a3a7"
      },
      "execution_count": null,
      "outputs": [
        {
          "output_type": "stream",
          "name": "stdout",
          "text": [
            "[(0, '<unk>'), (1, '<s>'), (2, '</s>'), (3, '니다'), (4, '▁이')]\n",
            "vocab size : 8000\n"
          ]
        }
      ]
    },
    {
      "cell_type": "markdown",
      "source": [
        "unk는 unknown의 약자로 OOV발생 시 매핑되는 토큰이고 s와 /s 는 문장의 시작점과 종료지점을 표시하는 토큰이다.\n",
        "\n",
        "어휘 사전의 크기는 모델 학습 시 설정한 8000으로 학습 되었고 이 라이브러리는 설정값에 따라 학습 방법이니ㅏ 어휘 사전 크기가 달라질 수 있다."
      ],
      "metadata": {
        "id": "UGOJLPT3flfq"
      }
    },
    {
      "cell_type": "markdown",
      "source": [
        "## 워드피스\n",
        "\n",
        "워드피스 토크나이저는 바이트 페어 인코딩 토크나이저와 유사한 방법으로 학습되지만, 빈도 기반이 아닌 확률 기반으로 글자 쌍을 병합한다.\n",
        "\n",
        "워드피스는 학습 과정에서 확률적인 정보를 사용한다. 모델이 새로운 하위 단어를 생성할 때 이전 하위 단어와 함께 나타날 확률을 계산해 가장 높은 확률을 가진 하위 단어를 선택한다. 이렇게 선택된 하위 단어는 이후에 더 높은 확률로 선택될 가능성이 높으며, 이를 통해 모델이 좀 더 정확한 하위 단어로 분리할 수 있다.\n",
        "\n",
        "$score = \\frac{f(x,y)}{f(x)f(y)}$\n",
        "\n",
        "위 식은 글자 쌍에 대한 점수이다. $f$는 빈도를 나타내는 함수, $x$, $y$병합하고자 하는 하위 단어이다.\n",
        "\n",
        "이 수식을 적용해 어휘 사전 구축 방법을 알아보자.\n",
        "\n",
        "- 빈도 사전: ('l', 'o', 'w', 5), ('l', 'o',' w', 'e', 'r', 2), ('n', 'e', 'w', 'e', 's', 't', 6), ('w', 'i', 'd', 'e', 's', 't', 3)\n",
        "- 어휘 사전: ['d', 'e', 'i', 'l', 'n', 'o', 'r', 's', 't', 'w']\n",
        "\n",
        "\n",
        "가장 빈번하게 등장하는 쌍은 9번 등장한 e와 s이다. 하지만 e는 여기서 17번, s는 9번 등장하여 계산을한다면 약 0.06이 된다. 반면, i와 d는 쌍으로는 3번 등장했지만 i 3번, d 3번 하면 약 0.33의 결과가 나오므로 id쌍을 만든다.\n",
        "\n",
        "- 빈도 사전: ('l', 'o', 'w', 5), ('l', 'o',' w', 'e', 'r', 2), ('n', 'e', 'w', 'e', 's', 't', 6), ('w', 'i', 'd', 'e', 's', 't', 3)\n",
        "- 어휘 사전: ['d', 'e', 'i', 'l', 'n', 'o', 'r', 's', 't', 'w', 'id']\n",
        "\n",
        "동일과정을 반복하여 추가 계산을 해보면 l,o쌍이 0.14로 확률이 높다.\n",
        "\n",
        "- 빈도 사전: ('l', 'o', 'w', 5), ('l', 'o',' w', 'e', 'r', 2), ('n', 'e', 'w', 'e', 's', 't', 6), ('w', 'i', 'd', 'e', 's', 't', 3)\n",
        "- 어휘 사전: ['d', 'e', 'i', 'l', 'n', 'o', 'r', 's', 't', 'w', 'id', 'lo']\n",
        "\n",
        "이를 계속 반복해 더이상 연속된 글자 쌍이 나타나지 않을 때까지 시행한다."
      ],
      "metadata": {
        "id": "tLpC1F1H1z49"
      }
    },
    {
      "cell_type": "markdown",
      "source": [
        "### 토크나이저\n",
        "\n",
        "토크나이저 라이브러리의 워드피스 API를 이용하면 쉽고 빠르게 토크나이저를 구현하고 학습할 수 있다. 이번에는 허깅 페이스의 토크나이저스 라이브러리를 이용해보겠다.\n",
        "\n",
        "**허깅 페이스 토크나이저 라이브러리 설치**\n",
        "\n",
        "```\n",
        "pip install tokenizers\n",
        "```\n",
        "\n",
        "토크나이저 라이브러리는 정규화와 사전 토큰화를 제공한다.\n",
        "\n",
        "정규화는 일관된 형식으로 텍스트를 표준화하고 모호한 경우를 방지하기 위해 일부 문자를 대체하거나 제거하는 등의 작업을 수행한다.\n",
        "\n",
        "사전 토큰화는 입력 문장을 토큰화하기 전에 단어와 같은 작은 단위로 나누는 기능을 제공한다. 공백이나 구두점을 기준으로 입력 문장을 나눠 텍스트 데이터를 효율적으로 처리하고 모델의 성능을 향상 시킬 수 있다."
      ],
      "metadata": {
        "id": "2zMQ4rOl5Dau"
      }
    },
    {
      "cell_type": "code",
      "source": [
        "from tokenizers import Tokenizer\n",
        "from tokenizers.models import WordPiece\n",
        "from tokenizers.normalizers import Sequence, NFD, Lowercase\n",
        "from tokenizers.pre_tokenizers import Whitespace\n",
        "\n",
        "\n",
        "tokenizer = Tokenizer(WordPiece())  # 워드피스 모델 불러오기\n",
        "tokenizer.normalizer = Sequence([NFD(), Lowercase()])\n",
        "# Sequence형식으로 정규화 실시 NFD: 유니코드 정규화 / Lowercase: 소문자 변환\n",
        "tokenizer.pre_tokenizer = Whitespace()  # 사전 토큰화 방식 불러오기. 공백, 구두점 기준으로 분리\n",
        "\n",
        "tokenizer.train([\"../datasets/corpus.txt\"])     # 학습\n",
        "tokenizer.save(\"../models/petition_wordpiece.json\")     # 결과 저장"
      ],
      "metadata": {
        "id": "GMvbf_Ql0FiD"
      },
      "execution_count": null,
      "outputs": []
    },
    {
      "cell_type": "markdown",
      "source": [
        "**예제16 워드피스 토큰화**"
      ],
      "metadata": {
        "id": "meIrGCrT7d4H"
      }
    },
    {
      "cell_type": "code",
      "source": [
        "from tokenizers import Tokenizer\n",
        "from tokenizers.decoders import WordPiece as WordPieceDecoder\n",
        "\n",
        "\n",
        "tokenizer = Tokenizer.from_file(\"../models/petition_wordpiece.json\")    # 학습 결과 불러오기\n",
        "tokenizer.decoder = WordPieceDecoder()  #워드피스 디코더로 설정\n",
        "\n",
        "sentence = \"안녕하세요, 토크나이저가 잘 학습되었군요!\"\n",
        "sentences = [\"이렇게 입력값을 리스트로 받아서\", \"쉽게 토크나이저를 사용할 수 있답니다\"]\n",
        "\n",
        "encoded_sentence = tokenizer.encode(sentence)   # encode로 문장을 토큰화\n",
        "encoded_sentences = tokenizer.encode_batch(sentences)   # 여러문장 토큰화\n",
        "\n",
        "print(\"인코더 형식 :\", type(encoded_sentence))\n",
        "\n",
        "print(\"단일 문장 토큰화 :\", encoded_sentence.tokens)    # tokens속성으로 값 확인 가능\n",
        "print(\"여러 문장 토큰화 :\", [enc.tokens for enc in encoded_sentences])\n",
        "\n",
        "print(\"단일 문장 정수 인코딩 :\", encoded_sentence.ids)      # ids속성으로 문장의 ID출력\n",
        "print(\"여러 문장 정수 인코딩 :\", [enc.ids for enc in encoded_sentences])\n",
        "\n",
        "print(\"정수 인코딩에서 문장 변환 :\", tokenizer.decode(encoded_sentence.ids))    # decode메서드로 정수 인코딩 결과를 다시 문장으로 변환"
      ],
      "metadata": {
        "colab": {
          "base_uri": "https://localhost:8080/"
        },
        "id": "q1WfplwI6Rd5",
        "outputId": "96871955-c4af-4aa6-f300-dea235edcfc4"
      },
      "execution_count": null,
      "outputs": [
        {
          "output_type": "stream",
          "name": "stdout",
          "text": [
            "인코더 형식 : <class 'tokenizers.Encoding'>\n",
            "단일 문장 토큰화 : ['안녕하세요', ',', '토', '##크', '##나이', '##저', '##가', '잘', '학습', '##되었', '##군요', '!']\n",
            "여러 문장 토큰화 : [['이렇게', '입력', '##값을', '리스트', '##로', '받아서'], ['쉽게', '토', '##크', '##나이', '##저', '##를', '사용할', '수', '있다', '##ᆸ니다']]\n",
            "단일 문장 정수 인코딩 : [8760, 11, 8693, 8415, 16269, 7536, 7488, 7842, 15016, 8670, 8734, 0]\n",
            "여러 문장 정수 인코딩 : [[8187, 19643, 13834, 28119, 7495, 12607], [9739, 8693, 8415, 16269, 7536, 7510, 14129, 7562, 8157, 7489]]\n",
            "정수 인코딩에서 문장 변환 : 안녕하세요, 토크나이저가 잘 학습되었군요!\n"
          ]
        }
      ]
    },
    {
      "cell_type": "markdown",
      "source": [
        "# 임베딩\n",
        "\n",
        "앞서 배운 토큰화는 데이터를 컴퓨터가 읽을 수 있는 형태로 바꿔 준 것에 불구하고 컴퓨터가 텍스트를 이해하기 위해 텍스트를 숫자로 바꿔주는 __텍스트 벡터화__가 필요하다.\n",
        "\n",
        "기초적인 텍스트 벡터화에는 __원-핫 인코딩, 빈도 벡터화__등이 있다.\n",
        "\n",
        "원핫 인코딩은 문서에 등장하는 모든 단어를 고유 색인 값으로 매핑하고 색인 위치를 1, 나머지를 0으로 표현하는 방법이다.\n",
        "\n",
        "빈도 벡터화는 문서에 단어의 빈도수를 세어 해당 단어의 빈도를 벡터로 표현하는 방법이다. 예를 들어 apple이라는 단어가 6번 등장하면 벡터값을 6을 할당한다.\n",
        "\n",
        "원-핫 인코딩 방식은 여러번 등장하더라도 벡터가 1,0으로 표현되는 반면 빈도 벡터화는 그렇지 않다.\n",
        "\n",
        "이런 방식은 쉽고 간단하긴 하나 벡터의 희소성이 크다는 단점이 있다\n",
        "\n",
        "예를 들어 텍스트 벡터가 입력 텍스트의 의미를 내포하지 않고 있어 두 문장이 의미적으로 유사하더라도 벡터는 아닐 수 있고 원-핫 인코딩과 빈도벡터가 같은 경우, 토큰 개수만큼 벡터 차원을 가져야 하는데 문장 내에 존재하는 토큰의 수가 떨어져 컴퓨팅 비용의 증가나 차원의 저주같은 문제가 생길 수 있다.\n",
        "\n",
        "이러한 문제가 있어 __워드 임베딩__이란 기법을 사용하는 것이다.\n",
        "\n",
        "워드 임베딩은 단어를 고정된 길이의 실수 벡터로 표현하는 방법으로, 단어의 의미를 벡터 공간에서 다른 언어와의 상대적 위치로 표현해 단어간의 관계를 추론한다.\n",
        "\n",
        "워드 임베딩은 고정된 임베딩을 학습하기에 다의어나 문맥 정보를 다루기 어렵다는 단점이 있어 인공 신경망을 활용해 동적 임베딩 기법을 사용한다."
      ],
      "metadata": {
        "id": "s8wbFlq7e95q"
      }
    },
    {
      "cell_type": "markdown",
      "source": [
        "## 언어 모델\n",
        "\n",
        "언어 모델이란 입력된 문장으로 각 문장을 생성할 수 있는 확률을 계산하는 모델을 말한다.\n",
        "\n",
        "언어 모델은 자동 번역, 음성 인식, 텍스트 요약 등 다양한 자연어 처리 분야에서 활용된다."
      ],
      "metadata": {
        "id": "DVXmQt91ldMd"
      }
    },
    {
      "cell_type": "markdown",
      "source": [
        "### 자기회귀 언어 모델\n",
        "\n",
        "입력된 문장들의 조건부 확률을 이용해 다음에 올 단어를 예측한다. 언어 모델에서 조건부 확률은 이전 단어들의 시퀀스가 주어졌을 때, 다음 단어의 확률을 계산하는 것을 의미한다.\n",
        "\n",
        "\n",
        "언어 모델의 조건부 확률\n",
        "\n",
        "$P(w_t|w_1, w_2, w_3, \\cdots , w_{t-1}) = \\frac{P(w_1, w_2, \\cdots , w_t)}{P(w_1, w_2, \\cdots , w_{t-1})}$\n",
        "\n",
        "언어 모델에서 조건부 확률을 계산하기 위해 이전에 등장한 단어 시퀀스를 기반으로 다음 단어의 확률을 계산한다. 위 수식에 연쇄법칙을 적용하면 아래 식이 나온다.\n",
        "\n",
        "$P(w_t|w_1, w_2, w_3, \\cdots , w_{t-1}) = P(w_1)P(w_2|w_1)\\cdots P(w_t|w_1, w_2, \\cdots , w_{t-1})$\n",
        "\n",
        "자기회귀 언어 모델에서는 각 시점에서 다음에 올 토큰을 예측하는 것이 중요하다. 이를 위해 입력 토큰 $w_1$을 바탕으로 모델은 다음토큰이 등장할 확률을 계산하고 그 다음모델의 출력값을 입력값으로 받아 다음 토큰이 출력할 값을 계산한다.\n",
        "\n",
        "이런 방식으로 출력값이 입력값으로 사용되는 특징 때문에 자기회귀라는 이름이 붙었다."
      ],
      "metadata": {
        "id": "P-TnXxbIl3wa"
      }
    },
    {
      "cell_type": "markdown",
      "source": [
        "### 통계적 언어 모델\n",
        "\n",
        "통계적 언어 모델은 언어의 통계적 구조를 이용해 문장이나 단어의 시퀀스를 생성하거나 분석한다. 시퀀스에 대한 확률분포를 추정하여 문장의 문맥을 파악해 다음에 등장할 단어의 확률을 예측한다.\n",
        "\n",
        "일반적으로 마르코프 체인을 이용해 구현 된다. 마르코프 체인은 빈도 기반으 ㅣ조건부 확률 모델 중 하나로 이전 상태와 현재 상태 간의 전이 확률을 이용해 다음 상태를 예측한다.\n",
        "\n",
        "빈도 기반의 조건부 확률 모델에서는 주어진 데이터에서 각 변수가 발생한 빈도수를 기반으로 확률을 계산한다. 예를들어 말뭉치에 안녕하세요라는 문장이 1000번, 안녕하세요 만나서가 700번, 안녕하세요 반갑습니다가 100번 등장한다 가정하면 그 확률은 아래와 같다.\n",
        "\n",
        "$P(만나서|안녕하세요) = \\frac{P(안녕하세요 만나서)}{P(안녕하세요)} = \\frac{700}{1000}$\n",
        "\n",
        "$P(반갑습니다|안녕하세요) = \\frac{P(안녕하세요 반갑습니다)}{P(안녕하세요)} = \\frac{700}{1000}$\n",
        "\n",
        "이 방법은 단어의 순서와 빈도에만 기초해 문장의 확률을 예측하므로 문맥을 제대로 파악하지 못하면 불완전하거나 부적절한 결과를 생성할 수 있다. 또한 한 번도 등장한 적이 없는 단어나 문장에 대해서는 정확한 확률을 예측하기 어렵다.(데이터 희소성)\n",
        "\n",
        "하지만 통계적 언어 모델은 기존에 학습한 텍스트 데이터에서 패턴을 찾아 확률 분보를 생성하므로, 이를 이용해 새로운 문장을 생성할 수 있으며, 다양한 종류의 텍스트 데어를 학습할 수 있다.\n",
        "\n",
        "통계적 언어 모델은 대규모 자연어 데이터를 처리하는 데 효과적이며, 딥러닝 등의 인공지능 기술이 발전하며 더욱 강력한 모델을 구현할 수 있게 되었다.\n",
        "\n",
        "최근 연구되는 자연어 처리 기법은 언어 모델을 활용해 가중치를 사전 학습한다. 대표적으로 GPT, BERT가 있다."
      ],
      "metadata": {
        "id": "ZTC0tOlxs_RN"
      }
    },
    {
      "cell_type": "markdown",
      "source": [
        "## N-gram\n",
        "\n",
        "가장 기초적인 통계적 언어모델이다. N-gram은 텍스트에서 N개의 연속된 단어 시퀀스를 하나의 단위로 취급하여 특정 단어 시퀀스가 등장할 확률을 추정한다.\n",
        "\n",
        "N-gram모델은 입력 텍스트를 하나의 토큰 단위로 분석하지 않고 N개의 토큰을 묶어서 분석한다. 이때, 연속된 N개의 단어를 하나의 단위로 취급하여 추론하는 모델이며 N이 1개일때 유니그램, 2는 바이그램, 3은 트라이그램이라 부른다. (4이상은 N-gram이라고 한다.)\n",
        "\n",
        "N-gram 언어 모델은 모든 토큰을 사용하지 않고 N-1개의 토큰만을 고려해 확률을 계산한다. 수식은 아래와 같다.\n",
        "\n",
        "$P(w_t|w_{t-1}, w_{t-2}, \\cdots , w_{t-N+1})$\n",
        "\n",
        "**예제1 N-gram**"
      ],
      "metadata": {
        "id": "nujVytDWz5_q"
      }
    },
    {
      "cell_type": "code",
      "source": [
        "import nltk\n",
        "\n",
        "\n",
        "def ngrams(sentence, n):\n",
        "    words = sentence.split()\n",
        "    ngrams = zip(*[words[i:] for i in range(n)])\n",
        "    return list(ngrams)\n",
        "\n",
        "sentence = \"안녕하세요 만나서 진심으로 반가워요\"\n",
        "\n",
        "# 순수 파이썬 코드로 구현한 N-gram\n",
        "unigram = ngrams(sentence, 1)\n",
        "bigram = ngrams(sentence, 2)\n",
        "trigram = ngrams(sentence, 3)\n",
        "\n",
        "print(unigram)\n",
        "print(bigram)\n",
        "print(trigram)\n",
        "\n",
        "# NLTK 사용\n",
        "unigram = nltk.ngrams(sentence.split(), 1)\n",
        "bigram = nltk.ngrams(sentence.split(), 2)\n",
        "trigram = nltk.ngrams(sentence.split(), 3)\n",
        "\n",
        "print(list(unigram))\n",
        "print(list(bigram))\n",
        "print(list(trigram))"
      ],
      "metadata": {
        "colab": {
          "base_uri": "https://localhost:8080/"
        },
        "id": "rPtKzTwc2YUT",
        "outputId": "8075ee6c-2a1d-4ee1-96e1-f3c519a7d9de"
      },
      "execution_count": null,
      "outputs": [
        {
          "output_type": "stream",
          "name": "stdout",
          "text": [
            "[('안녕하세요',), ('만나서',), ('진심으로',), ('반가워요',)]\n",
            "[('안녕하세요', '만나서'), ('만나서', '진심으로'), ('진심으로', '반가워요')]\n",
            "[('안녕하세요', '만나서', '진심으로'), ('만나서', '진심으로', '반가워요')]\n",
            "[('안녕하세요',), ('만나서',), ('진심으로',), ('반가워요',)]\n",
            "[('안녕하세요', '만나서'), ('만나서', '진심으로'), ('진심으로', '반가워요')]\n",
            "[('안녕하세요', '만나서', '진심으로'), ('만나서', '진심으로', '반가워요')]\n"
          ]
        }
      ]
    },
    {
      "cell_type": "markdown",
      "source": [
        "N-gram은 NLTK에서 지원하며 파이썬으로 직접 구현한 것과 동일한 결과물이 출력된 것을 볼 수 있다.\n",
        "\n",
        "N-gram은 작은 규모의 데이터셋에서 연속된 문자열 패턴을 분석하는데 큰 효과를 보인다.\n",
        "\n",
        "N-gram은 시퀀스에서 연속된 n개의 단어를 추출하므로 단어의 순서가 중요한 자연어 처리 작업 및 문자열 패턴 분석에 활용된다."
      ],
      "metadata": {
        "id": "zVFhD7V3dwk2"
      }
    },
    {
      "cell_type": "markdown",
      "source": [
        "## TF_IDF\n",
        "\n",
        "TF-IDF는 텍스트 문서에서 특정 단어의 중요도를 계산하는 방법으로 문서 내에서 단어의 중요도를 평가하는데 사용되는 통계적인 __가중치__를 의미한다. 즉, BoW(문서나 문장을 단어집합으로 표현하는 방법으로, 문서나 문장에 등장하는 단어의 중복을 허용해 빈도를 기록한다.)에 가중치를 부여하는 방법이다."
      ],
      "metadata": {
        "id": "54XZsxu2emNY"
      }
    },
    {
      "cell_type": "markdown",
      "source": [
        "### 단어 빈도\n",
        "\n",
        "단어 빈도는 문서 내에서 특정단어의 빈도수를 나타내는 값이다.\n",
        "\n",
        "$TF(t,d) = count(t,d)$\n",
        "\n",
        "BoW 벡터 표현방법에서 처럼 문서내에서 단어가 등장한 빈도수를 계산하며 해당 단어의 상대적인 중요도를 측정하는데 사용된다. 많이 등장할수록 중요 단어로 인식 될 수 있지만, 특정 문서에서 자주 사용되는 단어라면 전문 용어나 관용어로 간주할 수 있다. 또는 문서 길이가 단순히 길어지면 TF값이 높아질 수 있다."
      ],
      "metadata": {
        "id": "qPbjEya7foji"
      }
    },
    {
      "cell_type": "markdown",
      "source": [
        "### 문서 빈도\n",
        "\n",
        "문서 빈도는 한 단어가 얼마나 많은 문서에 나타나는지를 의미한다. 특정 단어가 많은 문서에 나타나면 문서 집합에서 단어가 나타나는 횟수를 계산한다.\n",
        "\n",
        "$DF(t,D) = count(t \\in d:d \\in D)$\n",
        "\n",
        "DF는 단어가 몇 개의 문서에서 등장하는지 계산한다. DF 값이 높으면 특정 단어가 많은 문서에서 등장한다고 볼 수 있다. 그 단어는 일반적으로 널리 사용되며, 중요도가 낮을 수 있다."
      ],
      "metadata": {
        "id": "K7JMAdP6g5c8"
      }
    },
    {
      "cell_type": "markdown",
      "source": [
        "### 역문서 빈도\n",
        "\n",
        "역문서 빈도는 전체 문서 수를 문서 빈도로 나눈 다음에 로그를 취한 값을 말한다. 이는 문서 내에서 특정 단어가 얼마나 중요한지를 나타낸다. 문서 빈도가 높을수록 해당 단어가 일반적이고 상대적으로 중요하지 않다는 의미가 된다. 그래서 문서 빈도(DF)의 역수를 취하면 단어의 빈도수가 적을수록 IDF가 커지게 보정하는 역할을 한다.\n",
        "\n",
        "$IDF(t,D) = log(\\frac{count(D)}{1+DF(t,D)})$\n",
        "\n",
        "분모에 1을 더하는 이유는 만약 어떤 단어가 한번도 등장하지 않는다면 DF는 0이 되며 분모가 0이되는 경우가 발생한다. 이를 방지하기 위해 1을 더한 것이다.\n",
        "로그를 취하므로서 너무 큰값이 나오는 것을 방지한다."
      ],
      "metadata": {
        "id": "zWJQ7krniPMY"
      }
    },
    {
      "cell_type": "markdown",
      "source": [
        "### TF-IDF\n",
        "\n",
        "TF-IDF는 앞선 내용에서 TF와 IDF를 곱한값을 사용한다.\n",
        "\n",
        "$TF-IDF(t,d,D) = TF(t,d) \\times IDF(t,D)$\n",
        "\n",
        "문서 내에 단어가 자주 등장하지만 전체 문서 내에 해당단어가 적게 등장하면 TF-IDF는 커진다. 그래서 전체 문서에 자주 등장할 확률이 있는 관사나 관용어는 가중치가 낮아진다."
      ],
      "metadata": {
        "id": "hI8aSodgj6fV"
      }
    },
    {
      "cell_type": "markdown",
      "source": [
        "TF-IDF는 사이킷런에서 클래스 제공을해준다.\n",
        "\n",
        "**TF-IDF 클래스**\n",
        "\n",
        "```\n",
        "tfidf_vectorizer = sklearn.feature_extraction.text.TfidfVectorizer(\n",
        "    input = \"content\"   # 문자열 또는 바이트 형태 입력값. 파일명 가능\n",
        "    encoding = \"utf-8\",\n",
        "    lowercase = True,   # 소문자 변환\n",
        "    stop_words = None,  # 불용어 처리, 등록된 불용어는 사전에 등록되지 않는다.\n",
        "    ngram_range = (1, 1),   # N-gram 범위 지정(최소, 최대)\n",
        "    max_df = 1.0,    # max_df 가 정수면 해당 등장 횟수를 초과하는 단어를, 1이하 실수이면 해당 비율을 초과하는 단어를 불용어처리를 한다.\n",
        "    min_df = 1,    # 위에 내용과 반대\n",
        "    vocabulary = None,  # 미리 구축한 단어 사전 등록\n",
        "    smooth_idf = True   # IDF 계산시 분모에 1을 더한다.\n",
        ")\n",
        "```"
      ],
      "metadata": {
        "id": "MEPtUlznmBXT"
      }
    },
    {
      "cell_type": "markdown",
      "source": [
        "**예제2 TF-IDF 계산**"
      ],
      "metadata": {
        "id": "PQafgCnFsaYQ"
      }
    },
    {
      "cell_type": "code",
      "source": [
        "from sklearn.feature_extraction.text import TfidfVectorizer\n",
        "\n",
        "\n",
        "corpus = [\n",
        "    \"That movie is famous movie\",\n",
        "    \"I like that actor\",\n",
        "    \"I don’t like that actor\"\n",
        "]\n",
        "\n",
        "tfidf_vectorizer = TfidfVectorizer()\n",
        "tfidf_vectorizer.fit(corpus)\n",
        "tfidf_matrix = tfidf_vectorizer.transform(corpus)\n",
        "# tfidf_matrix = tfidf_vectorizer.fit_transform(corpus)\n",
        "\n",
        "print(tfidf_matrix.toarray())\n",
        "print(tfidf_vectorizer.vocabulary_)"
      ],
      "metadata": {
        "colab": {
          "base_uri": "https://localhost:8080/"
        },
        "id": "6Rx5JqKZmPU_",
        "outputId": "99a6b13f-f899-4bae-825b-0b3b9aaa826c"
      },
      "execution_count": null,
      "outputs": [
        {
          "output_type": "stream",
          "name": "stdout",
          "text": [
            "[[0.         0.         0.39687454 0.39687454 0.         0.79374908\n",
            "  0.2344005 ]\n",
            " [0.61980538 0.         0.         0.         0.61980538 0.\n",
            "  0.48133417]\n",
            " [0.4804584  0.63174505 0.         0.         0.4804584  0.\n",
            "  0.37311881]]\n",
            "{'that': 6, 'movie': 5, 'is': 3, 'famous': 2, 'like': 4, 'actor': 0, 'don': 1}\n"
          ]
        }
      ]
    },
    {
      "cell_type": "markdown",
      "source": [
        "## Word2Vec\n",
        "\n",
        "Word2Vec는 2013년 구글에서 공개한 임베딩 모델로 단어간의 유사성을 측정하기 위해 분포 가설을 기반으로 개발했다.\n",
        "\n",
        "분포 가설이란 같은 문맥에서 함께 자주 나타나는 단어들은 서로 유사한 의미를 가질 가능성이 높다는 가정이다. 분포 가설은 단어 간의 동시 발생 확률 분포를 이용해 단어 간의 유사성을 측정한다.\n",
        "\n",
        "예를 들어 '내일 자동차를 타고 부산에 간다'와 '내일 비행기를 타고 부산에 간다'라는 두 문장에서 자동차와 비행기는 주변에 분포한 단어들이 동일하거나 유사하므로 비슷한 의미를 가질 것이라고 예상한다.\n",
        "\n",
        "이러한 가정을 통해 단어의 분산 표현(단어를 고차원 벡터 공간에 매핑하여 단어의 의미를 담는 것)을 학습할 수 있다.\n",
        "\n",
        "분포 가설에 따라 단어의 의미는 문맥상 분포적 특성을 통해 나타난다. 즉, 유사한 문맥에서 등장하는 단어는 비슷한 벡터 공간상 위치를 갖는다.\n",
        "\n",
        "이러한 방법으로 빈도 기반의 벡터화 기법에서 발생했던 단어의 의미 정보를 저장하지 못하는 한계를 극복했으며, 대량의 텍스트 데이터에서 단어 간의 관계를 파악하고 벡터 공간상에서 유사한 단어를 군집화해 단어의 의미 정보를 효과적으로 표현했다."
      ],
      "metadata": {
        "id": "JxZx_wmXtNHw"
      }
    },
    {
      "cell_type": "markdown",
      "source": [
        "### 단어 벡터화\n",
        "\n",
        "단어 벡터화에는 희소 표현과 밀집 표현이 있다. 희소표현에는 원-핫 인코딩, TF-IDF등의 빈도 기반 방법이 해당되고, Word2Vec은 밀집 표현에 해당된다.\n",
        "\n",
        "밀집표현은 단어를 고정된 크기의 실수 벡터로 표현하기 때문에 단어 사전의 크기가 커지더라도 벡터의 크기가 커지지 않는다. 벡터 공간상에서 단어 간의 거리를 효과적으로 계산할 수 있으며, 벡터의 대부분이 0이 아닌 실수로 이뤄져 효율적으로 공간을 활용할 수 있다.\n",
        "\n",
        "희소 표현으로 벡터 요소를 표현한다 해보자. 만일 5000개의 단어가 사전에 있고 이를 10개의 토큰으로 표현하게 되면 최소 4999개의 0이 포함된 벡터가 나올 것이고 굉장한 낭비이다.\n",
        "\n",
        "이에 비해 밀집 표현으로 벡터를 표현하면 단어사전이 커지더라도 벡터의 크기는 커지지 않아 효율적이다.\n",
        "\n",
        "또한 밀집 표현 벡터화는 학습을 통해 단어를 벡터화 하기에 단어의 의미를 비교할 수 있다. 밀집 표현된 벡터를 단어 임베딩 벡터라고 한다."
      ],
      "metadata": {
        "id": "IpnV-WUNzBnA"
      }
    },
    {
      "cell_type": "markdown",
      "source": [
        "### CBoW\n",
        "\n",
        "CBoW는 주변에 있는 단어를 가지고 중간에 있는 단어를 예측하는 방법이다. 예측해야하는 단어를 중심 단어, 예측에 이용되는 단어를 주변 단어라고 한다.\n",
        "\n",
        "중심 단어를 예측하기 위해 볌위를 정해줘야하는데 이를 윈도(window)라고 한다.\n",
        "\n",
        "학습을 위해 윈도를 이동해 가며 학습하는데 이를 슬라이딩 윈도라고 한다.\n",
        "\n",
        "CBoW의 학습데이터는 (주변 단어 | 중심 단어)로 구성된다. CBoW 모델은 각 입력 단어의 원-핫 벡터를 입력값으로 받고 입력 문장의 모든 단어의 임베딩 벡터를 평균내어 중심 단어의 임베딩 벡터를 예측한다.\n",
        "\n",
        "https://reniew.github.io/21/ 링크에 단어 임베딩과 Word2Vec, CBoW에 관한 정리와 다이어그램이 있으니 참고하자."
      ],
      "metadata": {
        "id": "2gJz-3zpY1jE"
      }
    },
    {
      "cell_type": "markdown",
      "source": [
        "### Skip-gram\n",
        "\n",
        "Skip-gram은 CBoW와 반대로 중심 단어를 입력으로 받아 주변단어를 예측하는 모델이다. 따라서 Skip-gram은 중심 단어를 기준으로 양쪽으로 윈도 크기만큼 단어들을 주변 단어로 삼아 훈련 데이터셋을 만든다.\n",
        "\n",
        "이때 중심단어와 각 주변 단어를 하나의 쌍으로 하여 모델을 학습시킨다. 그래서 CBoW와 달리 한 윈도에서 여러개의 학습데이터가 만들어진다. 그래서 더 많은 학습 데이터를 추출할 수 있고 CBoW보다 뛰어난 성능을 보인다.\n",
        "\n",
        "https://www.blog.data101.io/353 링크에 Skip-gram의 데이터 생성 과정에대해 잘 설명 되어있다.\n",
        "\n",
        "**실습**\n",
        "\n",
        "Word2Vec 모델은 학습할 단어의 수를 V로, 임베딩 차원을 E로 설정해 $W_{V\\times E}$행렬과 $W_{V\\times E}^\\prime$행렬을 최적화하며 학습한다. 이때, $W_{V\\times E}$행렬은 __룩업(배열이나 리스트 등의 데이터 구조에서 인덱스를 이용해 해당하는 값을 찾아오는 연산을 의미.)__연산을 수행하는데, __임베딩__클래스를 사용하면 간편하게 구현할 수 있다.\n",
        "\n",
        "임베딩 클래스는 단어나 범주형 변수와 같은 __이산 변수를 연속적인 벡터 형태로 변환__(룩업)해 사용할 수 있다. 연속적인 벡터 표현은 모델이 학습하는 동안 단어의 의미와 관련된 정보를 포착하고, 이를 기반으로 단어 간의 유사도를 계산한다.\n",
        "\n",
        "```\n",
        "embedding = torch.nn.Embedding(\n",
        "    num_embeddings,  # 이산 변수의 개수로 단어 사전의 크기\n",
        "    embedding_dim,  # 임베딩 벡터의 차원 수로 임베딩 벡터의 크기\n",
        "    padding_idx=None,  # 패딩 토큰의 인덱스를 지정해 해당 인덱스의 임베딩 벡터를 0으로 설정함.\n",
        "    # 병렬 처리를 위해 입력 배치의 문장 길이가 동일해야 하므로 입력 문장들을 일정한 길이로 맞추는 역할을 한다.\n",
        "    # 패딩 인덱스는 임베딩 수보다 작아야 하며 패딩 인덱스의 벡터값은 모델 학습 시 최적화 되지 않음.\n",
        "    max_norm=None,  # 임베딩 벡터의 최대 크기 지정. 임베딩 벡터 크기가 norm값 보다 크면 잘라내고 크기를 줄인다.\n",
        "    norm_type=2.0  # 임베깅 벡터 크기를 제한하는 방법을 선택(기본: 2 - L2 정규화, 1 - L1 정규화)\n",
        ")\n",
        "```\n",
        "\n",
        "**예제3 기본 Skip-gram 클래스**"
      ],
      "metadata": {
        "id": "Jw3DKmKFlMwR"
      }
    },
    {
      "cell_type": "code",
      "source": [
        "from torch import nn\n",
        "\n",
        "class VanillaSkipgram(nn.Module):\n",
        "    def __init__(self, vocab_size, embedding_dim):\n",
        "        super().__init__()\n",
        "        self.embedding = nn.Embedding(\n",
        "            num_embeddings = vocab_size,\n",
        "            embedding_dim = embedding_dim\n",
        "        )\n",
        "        self.linear = nn.Linear(\n",
        "            in_features = embedding_dim,\n",
        "            out_features = vocab_size\n",
        "        )\n",
        "\n",
        "    def forward(self, input_ids):\n",
        "        embeddings = self.embedding(input_ids) # Removed the extra comma here\n",
        "        output = self.linear(embeddings)\n",
        "        return output"
      ],
      "metadata": {
        "id": "3u6sN3MOS8gl"
      },
      "execution_count": null,
      "outputs": []
    },
    {
      "cell_type": "markdown",
      "source": [
        "**예제4 영화 리뷰데이터세트 전처리**"
      ],
      "metadata": {
        "id": "BImQ_oP4VfwD"
      }
    },
    {
      "cell_type": "code",
      "source": [
        "!pip install sentencepiece Korpora"
      ],
      "metadata": {
        "colab": {
          "base_uri": "https://localhost:8080/",
          "height": 451
        },
        "id": "RzvHhRcqV46W",
        "outputId": "f5758ff8-0ff6-4aa2-a74b-263ee1062e3a"
      },
      "execution_count": null,
      "outputs": [
        {
          "output_type": "stream",
          "name": "stdout",
          "text": [
            "Requirement already satisfied: sentencepiece in /usr/local/lib/python3.11/dist-packages (0.2.0)\n",
            "Collecting Korpora\n",
            "  Downloading Korpora-0.2.0-py3-none-any.whl.metadata (26 kB)\n",
            "Collecting dataclasses>=0.6 (from Korpora)\n",
            "  Downloading dataclasses-0.6-py3-none-any.whl.metadata (3.0 kB)\n",
            "Requirement already satisfied: numpy>=1.18.0 in /usr/local/lib/python3.11/dist-packages (from Korpora) (2.0.2)\n",
            "Requirement already satisfied: tqdm>=4.46.0 in /usr/local/lib/python3.11/dist-packages (from Korpora) (4.67.1)\n",
            "Requirement already satisfied: requests>=2.20.0 in /usr/local/lib/python3.11/dist-packages (from Korpora) (2.32.3)\n",
            "Requirement already satisfied: xlrd>=1.2.0 in /usr/local/lib/python3.11/dist-packages (from Korpora) (2.0.2)\n",
            "Requirement already satisfied: charset-normalizer<4,>=2 in /usr/local/lib/python3.11/dist-packages (from requests>=2.20.0->Korpora) (3.4.2)\n",
            "Requirement already satisfied: idna<4,>=2.5 in /usr/local/lib/python3.11/dist-packages (from requests>=2.20.0->Korpora) (3.10)\n",
            "Requirement already satisfied: urllib3<3,>=1.21.1 in /usr/local/lib/python3.11/dist-packages (from requests>=2.20.0->Korpora) (2.5.0)\n",
            "Requirement already satisfied: certifi>=2017.4.17 in /usr/local/lib/python3.11/dist-packages (from requests>=2.20.0->Korpora) (2025.8.3)\n",
            "Downloading Korpora-0.2.0-py3-none-any.whl (57 kB)\n",
            "\u001b[2K   \u001b[90m━━━━━━━━━━━━━━━━━━━━━━━━━━━━━━━━━━━━━━━━\u001b[0m \u001b[32m57.8/57.8 kB\u001b[0m \u001b[31m2.3 MB/s\u001b[0m eta \u001b[36m0:00:00\u001b[0m\n",
            "\u001b[?25hDownloading dataclasses-0.6-py3-none-any.whl (14 kB)\n",
            "Installing collected packages: dataclasses, Korpora\n",
            "Successfully installed Korpora-0.2.0 dataclasses-0.6\n"
          ]
        },
        {
          "output_type": "display_data",
          "data": {
            "application/vnd.colab-display-data+json": {
              "pip_warning": {
                "packages": [
                  "dataclasses"
                ]
              },
              "id": "d71148b5320045d7bdeaa69e75cc813e"
            }
          },
          "metadata": {}
        }
      ]
    },
    {
      "cell_type": "code",
      "source": [
        "!pip install konlpy"
      ],
      "metadata": {
        "colab": {
          "base_uri": "https://localhost:8080/"
        },
        "id": "Uef0ksMFWNaF",
        "outputId": "9cc23a9f-1fa0-476a-abcb-77a8012b33ef"
      },
      "execution_count": null,
      "outputs": [
        {
          "output_type": "stream",
          "name": "stdout",
          "text": [
            "Collecting konlpy\n",
            "  Downloading konlpy-0.6.0-py2.py3-none-any.whl.metadata (1.9 kB)\n",
            "Collecting JPype1>=0.7.0 (from konlpy)\n",
            "  Downloading jpype1-1.6.0-cp311-cp311-manylinux2014_x86_64.manylinux_2_17_x86_64.whl.metadata (5.0 kB)\n",
            "Requirement already satisfied: lxml>=4.1.0 in /usr/local/lib/python3.11/dist-packages (from konlpy) (5.4.0)\n",
            "Requirement already satisfied: numpy>=1.6 in /usr/local/lib/python3.11/dist-packages (from konlpy) (2.0.2)\n",
            "Requirement already satisfied: packaging in /usr/local/lib/python3.11/dist-packages (from JPype1>=0.7.0->konlpy) (25.0)\n",
            "Downloading konlpy-0.6.0-py2.py3-none-any.whl (19.4 MB)\n",
            "\u001b[2K   \u001b[90m━━━━━━━━━━━━━━━━━━━━━━━━━━━━━━━━━━━━━━━━\u001b[0m \u001b[32m19.4/19.4 MB\u001b[0m \u001b[31m69.1 MB/s\u001b[0m eta \u001b[36m0:00:00\u001b[0m\n",
            "\u001b[?25hDownloading jpype1-1.6.0-cp311-cp311-manylinux2014_x86_64.manylinux_2_17_x86_64.whl (496 kB)\n",
            "\u001b[2K   \u001b[90m━━━━━━━━━━━━━━━━━━━━━━━━━━━━━━━━━━━━━━━━\u001b[0m \u001b[32m496.6/496.6 kB\u001b[0m \u001b[31m31.5 MB/s\u001b[0m eta \u001b[36m0:00:00\u001b[0m\n",
            "\u001b[?25hInstalling collected packages: JPype1, konlpy\n",
            "Successfully installed JPype1-1.6.0 konlpy-0.6.0\n"
          ]
        }
      ]
    },
    {
      "cell_type": "code",
      "source": [
        "import pandas as pd\n",
        "from Korpora import Korpora\n",
        "from konlpy.tag import Okt\n",
        "\n",
        "# 코퍼스 선언\n",
        "corpus = Korpora.load(\"nsmc\")\n",
        "corpus = pd.DataFrame(corpus.test)\n",
        "\n",
        "# 토큰화\n",
        "tokenizer = Okt()\n",
        "tokens = [tokenizer.morphs(review) for review in corpus.text]\n",
        "print(tokens[:3])"
      ],
      "metadata": {
        "colab": {
          "base_uri": "https://localhost:8080/"
        },
        "id": "_eZP3h6wVl0Z",
        "outputId": "0b527b6e-693e-4c77-844c-f4b2f53dc068"
      },
      "execution_count": null,
      "outputs": [
        {
          "output_type": "stream",
          "name": "stdout",
          "text": [
            "\n",
            "    Korpora 는 다른 분들이 연구 목적으로 공유해주신 말뭉치들을\n",
            "    손쉽게 다운로드, 사용할 수 있는 기능만을 제공합니다.\n",
            "\n",
            "    말뭉치들을 공유해 주신 분들에게 감사드리며, 각 말뭉치 별 설명과 라이센스를 공유 드립니다.\n",
            "    해당 말뭉치에 대해 자세히 알고 싶으신 분은 아래의 description 을 참고,\n",
            "    해당 말뭉치를 연구/상용의 목적으로 이용하실 때에는 아래의 라이센스를 참고해 주시기 바랍니다.\n",
            "\n",
            "    # Description\n",
            "    Author : e9t@github\n",
            "    Repository : https://github.com/e9t/nsmc\n",
            "    References : www.lucypark.kr/docs/2015-pyconkr/#39\n",
            "\n",
            "    Naver sentiment movie corpus v1.0\n",
            "    This is a movie review dataset in the Korean language.\n",
            "    Reviews were scraped from Naver Movies.\n",
            "\n",
            "    The dataset construction is based on the method noted in\n",
            "    [Large movie review dataset][^1] from Maas et al., 2011.\n",
            "\n",
            "    [^1]: http://ai.stanford.edu/~amaas/data/sentiment/\n",
            "\n",
            "    # License\n",
            "    CC0 1.0 Universal (CC0 1.0) Public Domain Dedication\n",
            "    Details in https://creativecommons.org/publicdomain/zero/1.0/\n",
            "\n",
            "[Korpora] Corpus `nsmc` is already installed at /root/Korpora/nsmc/ratings_train.txt\n",
            "[Korpora] Corpus `nsmc` is already installed at /root/Korpora/nsmc/ratings_test.txt\n",
            "[['굳', 'ㅋ'], ['GDNTOPCLASSINTHECLUB'], ['뭐', '야', '이', '평점', '들', '은', '....', '나쁘진', '않지만', '10', '점', '짜', '리', '는', '더', '더욱', '아니잖아']]\n"
          ]
        }
      ]
    },
    {
      "cell_type": "markdown",
      "source": [
        "**예제5 단어 사전 구축**"
      ],
      "metadata": {
        "id": "Hpgq5xoEYsSV"
      }
    },
    {
      "cell_type": "code",
      "source": [
        "from collections import Counter\n",
        "\n",
        "# 단어 사전 구축\n",
        "def build_vocab(corpus, n_vocab, special_tokens):\n",
        "    counter = Counter()     # 토큰 개수 확인\n",
        "    for tokens in corpus:\n",
        "        counter.update(tokens)\n",
        "    vocab = special_tokens\n",
        "    for token, count in counter.most_common(n_vocab):\n",
        "        vocab.append(token)\n",
        "    return vocab\n",
        "\n",
        "vocab = build_vocab(corpus=tokens, n_vocab=5000, special_tokens=[\"<unk>\"])      # 단어 사전에 없는 단어를 <unk>토큰으로 대체하기 위해 special_tokens를 선언했다.\n",
        "token_to_id = {token: idx for idx, token in enumerate(vocab)}\n",
        "id_to_token = {idx: token for idx, token in enumerate(vocab)}\n",
        "\n",
        "print(vocab[:10])\n",
        "print(len(vocab))   # 단어사전 길이5000에 특수 토큰1개 까지 해서 5001개"
      ],
      "metadata": {
        "colab": {
          "base_uri": "https://localhost:8080/"
        },
        "id": "CTi4_yKvYw8f",
        "outputId": "5299bcc9-3027-4aaf-eee4-0119d37325bd"
      },
      "execution_count": null,
      "outputs": [
        {
          "output_type": "stream",
          "name": "stdout",
          "text": [
            "['<unk>', '.', '이', '영화', '의', '..', '가', '에', '...', '을']\n",
            "5001\n"
          ]
        }
      ]
    },
    {
      "cell_type": "markdown",
      "source": [
        "**예제6 Skip-gram 단어 쌍 추출**"
      ],
      "metadata": {
        "id": "6nFymtdPg_BC"
      }
    },
    {
      "cell_type": "code",
      "source": [
        "# 단어 쌍 추출\n",
        "def get_word_pairs(tokens, window_size):\n",
        "    pairs = []\n",
        "    for sentence in tokens:\n",
        "        sentence_length = len(sentence)\n",
        "        for idx, center_word in enumerate(sentence):\n",
        "            # 탐색 구간 지정: 문장의 경계를 넘지 않도록 주의\n",
        "            window_start = max(0, idx - window_size)\n",
        "            window_end = min(sentence_length, idx + window_size + 1)\n",
        "            center_word = sentence[idx]\n",
        "            context_words = sentence[window_start:idx] + sentence[idx+1:window_end]\n",
        "            for context_word in context_words:\n",
        "                pairs.append([center_word, context_word])\n",
        "    return pairs\n",
        "\n",
        "word_pairs = get_word_pairs(tokens, window_size=2)\n",
        "print(word_pairs[:5])"
      ],
      "metadata": {
        "colab": {
          "base_uri": "https://localhost:8080/"
        },
        "id": "KplEJieQhMjm",
        "outputId": "f956ed4d-62b2-410f-dba1-49c1da49808f"
      },
      "execution_count": null,
      "outputs": [
        {
          "output_type": "stream",
          "name": "stdout",
          "text": [
            "[['굳', 'ㅋ'], ['ㅋ', '굳'], ['뭐', '야'], ['뭐', '이'], ['야', '뭐']]\n"
          ]
        }
      ]
    },
    {
      "cell_type": "markdown",
      "source": [
        "**예제7 인덱스 쌍 변환**"
      ],
      "metadata": {
        "id": "AipnUz4tuUWi"
      }
    },
    {
      "cell_type": "code",
      "source": [
        "def get_index_pairs(word_pairs, token_to_id):\n",
        "    pairs = []\n",
        "    unk_index = token_to_id[\"<unk>\"]\n",
        "    for word_pair in word_pairs:\n",
        "        center_word, context_word = word_pair\n",
        "        center_index = token_to_id.get(center_word, unk_index)\n",
        "        context_index = token_to_id.get(context_word, unk_index)\n",
        "        pairs.append([center_index, context_index])\n",
        "    return pairs\n",
        "\n",
        "\n",
        "index_pairs = get_index_pairs(word_pairs, token_to_id)\n",
        "print(index_pairs[:5])\n",
        "print(len(vocab))"
      ],
      "metadata": {
        "colab": {
          "base_uri": "https://localhost:8080/"
        },
        "id": "d1t3w2FmxZkT",
        "outputId": "b0c2b081-a8a6-4f60-d392-77804e4cf2cc"
      },
      "execution_count": null,
      "outputs": [
        {
          "output_type": "stream",
          "name": "stdout",
          "text": [
            "[[595, 100], [100, 595], [77, 176], [77, 2], [176, 77]]\n",
            "5001\n"
          ]
        }
      ]
    },
    {
      "cell_type": "markdown",
      "source": [
        "**예제8 데이터로더 적용**"
      ],
      "metadata": {
        "id": "apqD2jzExeoK"
      }
    },
    {
      "cell_type": "code",
      "source": [
        "import torch\n",
        "from torch.utils.data import TensorDataset, DataLoader\n",
        "\n",
        "# 단어쌍을 텐서로 변환\n",
        "index_pairs = torch.tensor(index_pairs)\n",
        "center_indexes = index_pairs[:, 0]\n",
        "context_indexes = index_pairs[:, 1]\n",
        "\n",
        "dataset = TensorDataset(center_indexes, context_indexes)\n",
        "dataloader = DataLoader(dataset, batch_size=32, shuffle=True)"
      ],
      "metadata": {
        "id": "cG-SURHRxkO9"
      },
      "execution_count": null,
      "outputs": []
    },
    {
      "cell_type": "markdown",
      "source": [
        "**예제9 Skip-gram 모델 준비**"
      ],
      "metadata": {
        "id": "EVBO42VXx3hs"
      }
    },
    {
      "cell_type": "code",
      "source": [
        "from torch import optim\n",
        "\n",
        "device = \"cuda\" if torch.cuda.is_available() else \"cpu\"\n",
        "word2vec = VanillaSkipgram(vocab_size=len(token_to_id), embedding_dim=128).to(device)\n",
        "criterion = nn.CrossEntropyLoss().to(device)\n",
        "optimizer = optim.SGD(word2vec.parameters(), lr=0.1)"
      ],
      "metadata": {
        "id": "tbmQ_KEcyKAh"
      },
      "execution_count": null,
      "outputs": []
    },
    {
      "cell_type": "markdown",
      "source": [
        "**예제10 모델 학습**"
      ],
      "metadata": {
        "id": "NqjzaE4KyPN0"
      }
    },
    {
      "cell_type": "code",
      "source": [
        "for epoch in range(10):\n",
        "    cost = 0.0\n",
        "    for input_ids, target_ids in dataloader:\n",
        "        input_ids = input_ids.to(device)\n",
        "        target_ids = target_ids.to(device)\n",
        "\n",
        "        logits = word2vec(input_ids)\n",
        "        loss = criterion(logits, target_ids)\n",
        "\n",
        "        optimizer.zero_grad()\n",
        "        loss.backward()\n",
        "        optimizer.step()\n",
        "\n",
        "        cost += loss\n",
        "\n",
        "    cost = cost / len(dataloader)\n",
        "    print(f\"Epoch : {epoch+1:4d}, Cost : {cost:.3f}\")"
      ],
      "metadata": {
        "colab": {
          "base_uri": "https://localhost:8080/"
        },
        "id": "IOyp1i2_ySDU",
        "outputId": "68d9ba53-1872-4429-df81-b06a13729b23"
      },
      "execution_count": null,
      "outputs": [
        {
          "output_type": "stream",
          "name": "stdout",
          "text": [
            "Epoch :    1, Cost : 6.196\n",
            "Epoch :    2, Cost : 5.981\n",
            "Epoch :    3, Cost : 5.931\n",
            "Epoch :    4, Cost : 5.901\n",
            "Epoch :    5, Cost : 5.879\n",
            "Epoch :    6, Cost : 5.862\n",
            "Epoch :    7, Cost : 5.847\n",
            "Epoch :    8, Cost : 5.834\n",
            "Epoch :    9, Cost : 5.822\n",
            "Epoch :   10, Cost : 5.812\n"
          ]
        }
      ]
    },
    {
      "cell_type": "markdown",
      "source": [
        "**예제11 임베딩 값 추출**"
      ],
      "metadata": {
        "id": "Z7484ery3tFl"
      }
    },
    {
      "cell_type": "code",
      "source": [
        "token_to_embedding = dict()\n",
        "embedding_matrix = word2vec.embedding.weight.detach().cpu().numpy()\n",
        "\n",
        "for word, embedding in zip(vocab, embedding_matrix):\n",
        "    token_to_embedding[word] = embedding\n",
        "\n",
        "index = 30\n",
        "token = vocab[index]\n",
        "token_embedding = token_to_embedding[token]\n",
        "print(token)\n",
        "print(token_embedding)"
      ],
      "metadata": {
        "colab": {
          "base_uri": "https://localhost:8080/"
        },
        "id": "Ucs-xGpV3wZO",
        "outputId": "44f04523-f635-4854-9750-84a401833f69"
      },
      "execution_count": null,
      "outputs": [
        {
          "output_type": "stream",
          "name": "stdout",
          "text": [
            "연기\n",
            "[-0.3138322   0.63234013 -0.8135999   0.16403873  0.4248039  -1.3998375\n",
            " -1.3413075  -0.14470072  0.9595877  -0.5902127  -1.486693    0.27782288\n",
            " -0.1221083  -0.24955271  0.07255645 -0.270792    1.238364    0.30257654\n",
            " -0.94090194 -0.87884295  0.4468749  -1.1813976  -0.13524853  0.14081746\n",
            " -1.2610563   1.2052584  -0.41063243 -0.7307844   0.06623446 -0.3573198\n",
            "  0.9784512   0.5872654  -2.515568   -0.81870353 -0.46787933  0.6167379\n",
            " -0.08659018  1.2215097  -0.6403556   0.5171093   0.2573679   0.19807912\n",
            " -1.0309634   0.18601812  1.9397566   0.05055966  0.40003866  0.6649197\n",
            " -0.8819643  -0.22857802  0.78639525  0.37067065  0.4270564   0.03185772\n",
            "  0.761853   -0.06979126  1.2305583  -0.08378909 -0.59683555  0.39305493\n",
            "  2.0753527  -0.87213486 -1.1068225  -0.6683612   0.33620107 -0.9223261\n",
            " -0.88533217 -0.5728379   1.0592022  -2.1923528  -0.0728803   0.2327228\n",
            " -0.6766303  -1.2041185  -0.81515944 -0.88956976  2.0172758   0.2560349\n",
            "  0.41021937 -0.11889981  1.566716   -0.41204304 -0.99185395 -0.7589987\n",
            " -0.35112193 -0.07764686 -1.101672    0.5830342   0.91504955 -0.7901901\n",
            "  0.1102566  -0.24339005 -0.7105819  -0.31844404  0.49776018  1.4271389\n",
            " -0.62729925  0.20639636 -0.03735858  0.77617246 -0.23725694  0.4484059\n",
            " -1.1797713   0.87968093 -2.406843    0.03744636  0.123044   -0.12660687\n",
            " -0.31919852  0.4838855  -1.0310022   0.55143416 -0.7382107  -1.2700803\n",
            " -0.95684236 -1.0178951   0.4156357  -0.90069383 -1.3785707  -1.2172978\n",
            " -0.02213333  0.66038376  0.5102426   0.22334604 -0.10531351 -0.30493426\n",
            "  2.6628666  -0.83406705]\n"
          ]
        }
      ]
    },
    {
      "cell_type": "markdown",
      "source": [
        "코사인 유사도를 통해 임베딩의 유사도를 측정한다."
      ],
      "metadata": {
        "id": "KcMSCSxl36kO"
      }
    },
    {
      "cell_type": "markdown",
      "source": [
        "**예제12 단어 임베딩 유사도 계산**"
      ],
      "metadata": {
        "id": "-8YzMpXh4Ove"
      }
    },
    {
      "cell_type": "code",
      "source": [
        "import numpy as np\n",
        "from numpy.linalg import norm\n",
        "\n",
        "\n",
        "def cosine_similarity(a, b):\n",
        "    cosine = np.dot(b, a) / (norm(b, axis=1) * norm(a))\n",
        "    return cosine\n",
        "\n",
        "def top_n_index(cosine_matrix, n):\n",
        "    closest_indexes = cosine_matrix.argsort()[::-1]\n",
        "    top_n = closest_indexes[1 : n + 1]\n",
        "    return top_n\n",
        "\n",
        "\n",
        "cosine_matrix = cosine_similarity(token_embedding, embedding_matrix)\n",
        "top_n = top_n_index(cosine_matrix, n=5)\n",
        "\n",
        "print(f\"{token}와 가장 유사한 5 개 단어\")\n",
        "for index in top_n:\n",
        "    print(f\"{id_to_token[index]} - 유사도 : {cosine_matrix[index]:.4f}\")"
      ],
      "metadata": {
        "colab": {
          "base_uri": "https://localhost:8080/"
        },
        "id": "TZK7DYNh4TS5",
        "outputId": "5be938b0-bd19-4187-d773-0c61039f8a30"
      },
      "execution_count": null,
      "outputs": [
        {
          "output_type": "stream",
          "name": "stdout",
          "text": [
            "연기와 가장 유사한 5 개 단어\n",
            "이뻐 - 유사도 : 0.2866\n",
            "다른 - 유사도 : 0.2803\n",
            "보이 - 유사도 : 0.2730\n",
            "배우 - 유사도 : 0.2727\n",
            "없다는게 - 유사도 : 0.2697\n"
          ]
        }
      ]
    },
    {
      "cell_type": "markdown",
      "source": [
        "### 계층적 소프트맥스\n",
        "\n",
        "계층적 소프트맥스는 출력층을 이진 트리구조로 표현해 연산을 수행한다. 이때 자주 등장하는 단어일수록 트리의 상위 노드에 위치하고, 드물게 등장하는 단어 일수록 하위 노드에 배치된다.\n",
        "\n",
        "머신러닝 트리모델과 유사한 구조이고 각 노드는 학습이 가능한 벡터를 가지며, 입력값은 해당 노드의 벡터의 내적값을 계산한 후 시그모이드 함수를 통해 확률을 계산한다.\n",
        "\n",
        "https://uponthesky.tistory.com/15 참고 링크"
      ],
      "metadata": {
        "id": "m50ARkszm01c"
      }
    },
    {
      "cell_type": "markdown",
      "source": [
        "### 네거티브 샘플링\n",
        "\n",
        "네거티브 샘플링은 Word2Vec 모델에서 사용되는 확률적인 샘플링 기법으로 전체 단어 집합에서 일부단어를 샘플링하여 오답단어로 사용한다.\n",
        "\n",
        "학습 윈도에서 등장하지 않은 단어 N(5~20개)개를 추출하여 정답 단어와 소프트맥스 연산을 수행한다.\n",
        "\n",
        "$P(w_i)=\\frac{f(W_i)^{0.75}}{\\sum_{j=0}^V f(W_i)^{0.75}}$\n",
        "\n",
        "위 수식대로 계산이 진행되며 $w_i$출현 빈도를 계산할 단어이다. $P(w_i)$는 단어 $w_i$가 네거티브 샘플로 추출될 확률이다. 이때 0.75제곱은 정규화 상수이고 이는 실험을 통해 얻어진 값이다.\n",
        "\n",
        "네거티브 샘플링에서는 입력 단어 쌍이 데이터로부터 추출된 단어 쌍인지, 아니면 네거티브 샘플링으로 생성된 단어 쌍인지 이진분류를 한다. 분류모델은 로지스틱 회귀모델이고 학습과정에서 추출할 단어의 확률 분포를 구하기 위해 먼저 각 단어에 대한 가중치를 학습한다.\n",
        "\n",
        "https://woochan-autobiography.tistory.com/564 이 링크에서 네거티브 샘플링이 어떻게 되는것인지, Word2Vec모델에서 출력이 어떻게 되는지 정리가 되어있다.\n",
        "\n",
        "네거티브 샘플링을 하면 이진분류모델(데이터셋에서 나온 훈련 데이터냐 아니냐)로 학습 목적이 바뀐다. Word2Vec모델은 입력 단어의 임베딩과 샘플이 맞는지 여부를 나타내는 레이블을 내적 연산하고 그 값을 시그모에드 함수를 통해 확률로 변환을 한다."
      ],
      "metadata": {
        "id": "p1C3FNlUpOiC"
      }
    },
    {
      "cell_type": "markdown",
      "source": [
        "### 모델 실습: Gensim\n",
        "\n",
        "매우 간단한 구조인 Word2Vec 모델을 학습할 때 데이터 수가 적은 경우에도 학습에는 오랜 시간이 걸린다. 이런 경우 계층적 소프트맥스나 네거티브 샘플링 같은 기법을 사용하면 더 효율적이다.\n",
        "\n",
        "Gensim 라이브러리를 활용하면 Word2Vec과 같은 NLP 모델을 쉽게 구성할 수 있다. 젠심 라이브러리는 대용량 텍스트 데이터의 처리를 위한 메모리 효율적인 방법을 제공해 대규모 데이터 세트에서도 효과적인 모델을 학습할 수 있다.\n",
        "\n",
        "또한 학습된 모델을 저장하여 관리할 수 있고, 비슷한 단어 찾기 등 유사도와 관련된 기능도 제공하여 자연어 처리에 필요한 다양한 기능을 제공한다.\n",
        "\n",
        "**Gensim 설치**\n",
        "```\n",
        "!pip install gensim\n",
        "```\n",
        "\n",
        "젠심은 사이썬을 이용해 병렬 처리나 네거티브 샘플링 등을 적용하고, 젠심으로 파이 토치를 이용한 학습보다 빠른 속도로 학습할 수 있다.\n",
        "\n",
        "```\n",
        "word2vec = gensim.models.Word2Vec(\n",
        "    sentences = None,  # 학습 데이터\n",
        "    corpus_file = None,  # 학습데이터 파일 경로\n",
        "    vector_size = 100,  # 임베딩 벡터 크기\n",
        "    alpha = 0.025,  # 학습률\n",
        "    window = 5,  # 학습의 윈도우 크기\n",
        "    sg = 0,  # Skip-gram 사용여부(1: Skip-gram, 0: CBoW)\n",
        "    hs = 0,  # 계층적 소프트맥수 사용여부(1: 사용, 0: 안사용)\n",
        "    cbow_mean = 1,  # 단어 합 벡터의 평균화 여부(1: 사용, 0: 안사용)\n",
        "    negative = 5,  # 네거티브 샘플링 개수\n",
        "    ns_exponent = 0.75,  # 네거티브 샘플링 확률의 지수\n",
        "    max_final_vocab = None   # 단어 사전의 최대 크기를 의미한다. 최소 빈도를 충족하는 단어가 최대 최종 단어 사전보다 많으면 자주 등장한 단어 순으로 단어사전을 구축\n",
        "    epoch = 5,\n",
        "    batch_words = 10000\n",
        ")\n",
        "```\n",
        "**예제13 Word2Vec 모델 학습**"
      ],
      "metadata": {
        "id": "Ym8u5-Revrim"
      }
    },
    {
      "cell_type": "code",
      "source": [
        "!pip install sentencepiece Korpora konlpy"
      ],
      "metadata": {
        "colab": {
          "base_uri": "https://localhost:8080/",
          "height": 634
        },
        "id": "scCi3cvY5_TQ",
        "outputId": "f882d06e-b157-4f19-d36b-7a763193c37e"
      },
      "execution_count": 3,
      "outputs": [
        {
          "output_type": "stream",
          "name": "stdout",
          "text": [
            "Requirement already satisfied: sentencepiece in /usr/local/lib/python3.11/dist-packages (0.2.0)\n",
            "Collecting Korpora\n",
            "  Downloading Korpora-0.2.0-py3-none-any.whl.metadata (26 kB)\n",
            "Collecting konlpy\n",
            "  Downloading konlpy-0.6.0-py2.py3-none-any.whl.metadata (1.9 kB)\n",
            "Collecting dataclasses>=0.6 (from Korpora)\n",
            "  Downloading dataclasses-0.6-py3-none-any.whl.metadata (3.0 kB)\n",
            "Requirement already satisfied: numpy>=1.18.0 in /usr/local/lib/python3.11/dist-packages (from Korpora) (2.0.2)\n",
            "Requirement already satisfied: tqdm>=4.46.0 in /usr/local/lib/python3.11/dist-packages (from Korpora) (4.67.1)\n",
            "Requirement already satisfied: requests>=2.20.0 in /usr/local/lib/python3.11/dist-packages (from Korpora) (2.32.3)\n",
            "Requirement already satisfied: xlrd>=1.2.0 in /usr/local/lib/python3.11/dist-packages (from Korpora) (2.0.2)\n",
            "Collecting JPype1>=0.7.0 (from konlpy)\n",
            "  Downloading jpype1-1.6.0-cp311-cp311-manylinux2014_x86_64.manylinux_2_17_x86_64.whl.metadata (5.0 kB)\n",
            "Requirement already satisfied: lxml>=4.1.0 in /usr/local/lib/python3.11/dist-packages (from konlpy) (5.4.0)\n",
            "Requirement already satisfied: packaging in /usr/local/lib/python3.11/dist-packages (from JPype1>=0.7.0->konlpy) (25.0)\n",
            "Requirement already satisfied: charset-normalizer<4,>=2 in /usr/local/lib/python3.11/dist-packages (from requests>=2.20.0->Korpora) (3.4.3)\n",
            "Requirement already satisfied: idna<4,>=2.5 in /usr/local/lib/python3.11/dist-packages (from requests>=2.20.0->Korpora) (3.10)\n",
            "Requirement already satisfied: urllib3<3,>=1.21.1 in /usr/local/lib/python3.11/dist-packages (from requests>=2.20.0->Korpora) (2.5.0)\n",
            "Requirement already satisfied: certifi>=2017.4.17 in /usr/local/lib/python3.11/dist-packages (from requests>=2.20.0->Korpora) (2025.8.3)\n",
            "Downloading Korpora-0.2.0-py3-none-any.whl (57 kB)\n",
            "\u001b[2K   \u001b[90m━━━━━━━━━━━━━━━━━━━━━━━━━━━━━━━━━━━━━━━━\u001b[0m \u001b[32m57.8/57.8 kB\u001b[0m \u001b[31m4.7 MB/s\u001b[0m eta \u001b[36m0:00:00\u001b[0m\n",
            "\u001b[?25hDownloading konlpy-0.6.0-py2.py3-none-any.whl (19.4 MB)\n",
            "\u001b[2K   \u001b[90m━━━━━━━━━━━━━━━━━━━━━━━━━━━━━━━━━━━━━━━━\u001b[0m \u001b[32m19.4/19.4 MB\u001b[0m \u001b[31m34.5 MB/s\u001b[0m eta \u001b[36m0:00:00\u001b[0m\n",
            "\u001b[?25hDownloading dataclasses-0.6-py3-none-any.whl (14 kB)\n",
            "Downloading jpype1-1.6.0-cp311-cp311-manylinux2014_x86_64.manylinux_2_17_x86_64.whl (496 kB)\n",
            "\u001b[2K   \u001b[90m━━━━━━━━━━━━━━━━━━━━━━━━━━━━━━━━━━━━━━━━\u001b[0m \u001b[32m496.6/496.6 kB\u001b[0m \u001b[31m26.8 MB/s\u001b[0m eta \u001b[36m0:00:00\u001b[0m\n",
            "\u001b[?25hInstalling collected packages: dataclasses, JPype1, Korpora, konlpy\n",
            "Successfully installed JPype1-1.6.0 Korpora-0.2.0 dataclasses-0.6 konlpy-0.6.0\n"
          ]
        },
        {
          "output_type": "display_data",
          "data": {
            "application/vnd.colab-display-data+json": {
              "pip_warning": {
                "packages": [
                  "dataclasses"
                ]
              },
              "id": "fa7e52668dce48bdb8da1f7553cc2dc3"
            }
          },
          "metadata": {}
        }
      ]
    },
    {
      "cell_type": "code",
      "source": [
        "!pip install gensim"
      ],
      "metadata": {
        "colab": {
          "base_uri": "https://localhost:8080/",
          "height": 708
        },
        "id": "EznDv7f39DAK",
        "outputId": "10770792-6a50-4087-e85b-a1b0c4b4b31e"
      },
      "execution_count": 9,
      "outputs": [
        {
          "output_type": "stream",
          "name": "stdout",
          "text": [
            "Collecting gensim\n",
            "  Downloading gensim-4.3.3-cp311-cp311-manylinux_2_17_x86_64.manylinux2014_x86_64.whl.metadata (8.1 kB)\n",
            "Collecting numpy<2.0,>=1.18.5 (from gensim)\n",
            "  Downloading numpy-1.26.4-cp311-cp311-manylinux_2_17_x86_64.manylinux2014_x86_64.whl.metadata (61 kB)\n",
            "\u001b[2K     \u001b[90m━━━━━━━━━━━━━━━━━━━━━━━━━━━━━━━━━━━━━━━━\u001b[0m \u001b[32m61.0/61.0 kB\u001b[0m \u001b[31m3.3 MB/s\u001b[0m eta \u001b[36m0:00:00\u001b[0m\n",
            "\u001b[?25hCollecting scipy<1.14.0,>=1.7.0 (from gensim)\n",
            "  Downloading scipy-1.13.1-cp311-cp311-manylinux_2_17_x86_64.manylinux2014_x86_64.whl.metadata (60 kB)\n",
            "\u001b[2K     \u001b[90m━━━━━━━━━━━━━━━━━━━━━━━━━━━━━━━━━━━━━━━━\u001b[0m \u001b[32m60.6/60.6 kB\u001b[0m \u001b[31m6.3 MB/s\u001b[0m eta \u001b[36m0:00:00\u001b[0m\n",
            "\u001b[?25hRequirement already satisfied: smart-open>=1.8.1 in /usr/local/lib/python3.11/dist-packages (from gensim) (7.3.0.post1)\n",
            "Requirement already satisfied: wrapt in /usr/local/lib/python3.11/dist-packages (from smart-open>=1.8.1->gensim) (1.17.2)\n",
            "Downloading gensim-4.3.3-cp311-cp311-manylinux_2_17_x86_64.manylinux2014_x86_64.whl (26.7 MB)\n",
            "\u001b[2K   \u001b[90m━━━━━━━━━━━━━━━━━━━━━━━━━━━━━━━━━━━━━━━━\u001b[0m \u001b[32m26.7/26.7 MB\u001b[0m \u001b[31m72.1 MB/s\u001b[0m eta \u001b[36m0:00:00\u001b[0m\n",
            "\u001b[?25hDownloading numpy-1.26.4-cp311-cp311-manylinux_2_17_x86_64.manylinux2014_x86_64.whl (18.3 MB)\n",
            "\u001b[2K   \u001b[90m━━━━━━━━━━━━━━━━━━━━━━━━━━━━━━━━━━━━━━━━\u001b[0m \u001b[32m18.3/18.3 MB\u001b[0m \u001b[31m99.3 MB/s\u001b[0m eta \u001b[36m0:00:00\u001b[0m\n",
            "\u001b[?25hDownloading scipy-1.13.1-cp311-cp311-manylinux_2_17_x86_64.manylinux2014_x86_64.whl (38.6 MB)\n",
            "\u001b[2K   \u001b[90m━━━━━━━━━━━━━━━━━━━━━━━━━━━━━━━━━━━━━━━━\u001b[0m \u001b[32m38.6/38.6 MB\u001b[0m \u001b[31m14.0 MB/s\u001b[0m eta \u001b[36m0:00:00\u001b[0m\n",
            "\u001b[?25hInstalling collected packages: numpy, scipy, gensim\n",
            "  Attempting uninstall: numpy\n",
            "    Found existing installation: numpy 2.0.2\n",
            "    Uninstalling numpy-2.0.2:\n",
            "      Successfully uninstalled numpy-2.0.2\n",
            "  Attempting uninstall: scipy\n",
            "    Found existing installation: scipy 1.16.1\n",
            "    Uninstalling scipy-1.16.1:\n",
            "      Successfully uninstalled scipy-1.16.1\n",
            "\u001b[31mERROR: pip's dependency resolver does not currently take into account all the packages that are installed. This behaviour is the source of the following dependency conflicts.\n",
            "tsfresh 0.21.0 requires scipy>=1.14.0; python_version >= \"3.10\", but you have scipy 1.13.1 which is incompatible.\n",
            "opencv-python 4.12.0.88 requires numpy<2.3.0,>=2; python_version >= \"3.9\", but you have numpy 1.26.4 which is incompatible.\n",
            "thinc 8.3.6 requires numpy<3.0.0,>=2.0.0, but you have numpy 1.26.4 which is incompatible.\n",
            "opencv-python-headless 4.12.0.88 requires numpy<2.3.0,>=2; python_version >= \"3.9\", but you have numpy 1.26.4 which is incompatible.\n",
            "opencv-contrib-python 4.12.0.88 requires numpy<2.3.0,>=2; python_version >= \"3.9\", but you have numpy 1.26.4 which is incompatible.\u001b[0m\u001b[31m\n",
            "\u001b[0mSuccessfully installed gensim-4.3.3 numpy-1.26.4 scipy-1.13.1\n"
          ]
        },
        {
          "output_type": "display_data",
          "data": {
            "application/vnd.colab-display-data+json": {
              "pip_warning": {
                "packages": [
                  "numpy"
                ]
              },
              "id": "454113fe7146441bb07931c37726ea5b"
            }
          },
          "metadata": {}
        }
      ]
    },
    {
      "cell_type": "code",
      "source": [
        "import pandas as pd\n",
        "from Korpora import Korpora\n",
        "from konlpy.tag import Okt\n",
        "\n",
        "# 코퍼스 생성 / 데이터 프레임 변환\n",
        "corpus = Korpora.load(\"nsmc\")\n",
        "corpus = pd.DataFrame(corpus.test)"
      ],
      "metadata": {
        "colab": {
          "base_uri": "https://localhost:8080/"
        },
        "id": "OabpHb2o530P",
        "outputId": "763541ff-15bf-492d-b117-8c925d3d060d"
      },
      "execution_count": 1,
      "outputs": [
        {
          "output_type": "stream",
          "name": "stdout",
          "text": [
            "\n",
            "    Korpora 는 다른 분들이 연구 목적으로 공유해주신 말뭉치들을\n",
            "    손쉽게 다운로드, 사용할 수 있는 기능만을 제공합니다.\n",
            "\n",
            "    말뭉치들을 공유해 주신 분들에게 감사드리며, 각 말뭉치 별 설명과 라이센스를 공유 드립니다.\n",
            "    해당 말뭉치에 대해 자세히 알고 싶으신 분은 아래의 description 을 참고,\n",
            "    해당 말뭉치를 연구/상용의 목적으로 이용하실 때에는 아래의 라이센스를 참고해 주시기 바랍니다.\n",
            "\n",
            "    # Description\n",
            "    Author : e9t@github\n",
            "    Repository : https://github.com/e9t/nsmc\n",
            "    References : www.lucypark.kr/docs/2015-pyconkr/#39\n",
            "\n",
            "    Naver sentiment movie corpus v1.0\n",
            "    This is a movie review dataset in the Korean language.\n",
            "    Reviews were scraped from Naver Movies.\n",
            "\n",
            "    The dataset construction is based on the method noted in\n",
            "    [Large movie review dataset][^1] from Maas et al., 2011.\n",
            "\n",
            "    [^1]: http://ai.stanford.edu/~amaas/data/sentiment/\n",
            "\n",
            "    # License\n",
            "    CC0 1.0 Universal (CC0 1.0) Public Domain Dedication\n",
            "    Details in https://creativecommons.org/publicdomain/zero/1.0/\n",
            "\n",
            "[Korpora] Corpus `nsmc` is already installed at /root/Korpora/nsmc/ratings_train.txt\n",
            "[Korpora] Corpus `nsmc` is already installed at /root/Korpora/nsmc/ratings_test.txt\n"
          ]
        }
      ]
    },
    {
      "cell_type": "code",
      "source": [
        "# 토큰화\n",
        "tokenizer = Okt()\n",
        "tokens = [tokenizer.morphs(review) for review in corpus.text]"
      ],
      "metadata": {
        "id": "EiLokP_n6RNR"
      },
      "execution_count": 2,
      "outputs": []
    },
    {
      "cell_type": "code",
      "source": [
        "from gensim.models import Word2Vec\n",
        "\n",
        "word2vec = Word2Vec(\n",
        "    sentences=tokens,\n",
        "    vector_size=128,\n",
        "    window=5,\n",
        "    min_count=1,\n",
        "    sg=1,\n",
        "    epochs=3,\n",
        "    max_final_vocab=10000\n",
        ")"
      ],
      "metadata": {
        "id": "jigpp_ib89Xd"
      },
      "execution_count": 3,
      "outputs": []
    },
    {
      "cell_type": "markdown",
      "source": [
        "**예제14 임베딩 추출 및 유사도 계산**"
      ],
      "metadata": {
        "id": "0B5-dunX-gkg"
      }
    },
    {
      "cell_type": "code",
      "source": [
        "word = \"연기\"\n",
        "print(word2vec.wv[word])    # 단어 벡터와 유사도 계산 결과\n",
        "print(word2vec.wv.most_similar(word, topn=5))       # 유사 단어 5개 추출\n",
        "print(word2vec.wv.similarity(w1=word, w2=\"연기력\"))"
      ],
      "metadata": {
        "colab": {
          "base_uri": "https://localhost:8080/"
        },
        "id": "_0rYEeYS-krZ",
        "outputId": "5380c825-6f34-4f2f-a84f-5c977507d308"
      },
      "execution_count": 4,
      "outputs": [
        {
          "output_type": "stream",
          "name": "stdout",
          "text": [
            "[-9.31754485e-02 -2.61156052e-01  3.30786079e-01  3.00796032e-01\n",
            "  7.46272728e-02  1.81755394e-01  7.04306737e-02  8.55713151e-03\n",
            " -7.38197505e-01  3.99832755e-01 -1.05741814e-01 -3.06390263e-02\n",
            " -2.43785977e-01  1.16714716e-01 -2.71429956e-01 -2.61985958e-01\n",
            " -1.61808357e-01  1.00326003e-03 -2.53671914e-01  4.21295643e-01\n",
            "  6.42553210e-01  3.04849565e-01 -2.89477021e-01 -1.31662488e-01\n",
            " -3.74423563e-01 -7.53450841e-02 -3.47370505e-01  5.17008156e-02\n",
            "  1.62640512e-01 -1.71329483e-01 -4.11011577e-01  2.33955383e-01\n",
            "  4.25195724e-01 -2.26906061e-01  3.08662802e-01 -9.47081670e-02\n",
            " -1.65524647e-01  8.16064551e-02 -3.38523000e-01 -4.41862345e-01\n",
            " -1.42158747e-01  8.79149586e-02 -2.47466996e-01 -5.44641435e-01\n",
            " -3.71472359e-01 -7.37818927e-02 -3.03122163e-01 -1.25919461e-01\n",
            "  7.73998126e-02 -3.85045707e-02  6.91615462e-01  1.52505785e-01\n",
            "  1.06794097e-01  4.93691536e-04 -4.45258647e-01 -1.45596102e-01\n",
            "  1.51602164e-01  1.62849545e-01 -1.19639650e-01  2.62113184e-01\n",
            "  1.59097537e-01 -3.22440892e-01  8.77594277e-02 -7.12543586e-03\n",
            " -3.08365375e-01  3.06584954e-01 -6.35515377e-02  4.78463173e-01\n",
            "  4.67728227e-01 -2.56684542e-01 -2.77940899e-01 -1.22227399e-02\n",
            " -3.83507788e-01  3.50687504e-02 -7.99387097e-02  1.92388073e-02\n",
            " -2.85987377e-01 -1.52020782e-01 -4.42564249e-01  4.09177810e-01\n",
            "  9.15561393e-02  2.10071817e-01  5.15833199e-01  8.30883265e-01\n",
            "  1.58144116e-01  4.58217412e-01  1.10314973e-01 -4.20585960e-01\n",
            " -1.15415312e-01 -1.70027599e-01 -3.00698727e-01 -2.82126784e-01\n",
            "  3.00214440e-01  1.76696464e-01  4.86525953e-01 -1.72618404e-01\n",
            " -1.30204707e-01  8.28899071e-02 -2.04070106e-01 -3.51663113e-01\n",
            " -1.75626457e-01  9.91489142e-02  2.80868739e-01 -2.57391870e-01\n",
            " -8.13270584e-02  9.47918743e-02  3.23832095e-01  1.89431623e-01\n",
            "  1.21237569e-01 -5.15487850e-01  3.29255879e-01 -1.53200343e-01\n",
            " -2.66001821e-01 -1.33239981e-02  2.18096524e-01 -2.07278877e-01\n",
            "  5.07080317e-01  4.13927436e-01 -1.29987165e-01  2.45495245e-01\n",
            "  5.92647009e-02 -2.17402264e-01  1.34641781e-01 -1.16171509e-01\n",
            " -5.24265841e-02  1.00037955e-01 -5.90035915e-01 -1.79194659e-01]\n",
            "[('연기력', 0.7612825036048889), ('연기자', 0.7244047522544861), ('캐스팅', 0.7123674154281616), ('조연', 0.7110012769699097), ('여배우', 0.7076730132102966)]\n",
            "0.76128256\n"
          ]
        }
      ]
    },
    {
      "cell_type": "markdown",
      "source": [
        "Word2Vec은 분포 가설을 통해 쉽고 빠르게 단어의 임베딩을 학습할 수 있지만, 단어의 형태학적 특징을 반영하지 못한다는 한계가 있다.\n",
        "\n",
        "특히 한국어 같은 교착어 학습이 제한되며 학습시 많은 OOV를 발생시킬 수 있다."
      ],
      "metadata": {
        "id": "bA6wKMcUAtgJ"
      }
    },
    {
      "cell_type": "markdown",
      "source": [
        "## fastText\n",
        "\n",
        "fastText는 2015년 메타에서 개발한 오픈소스 임베딩 모델로, 텍스트 분류 및 텍스트 마이닝을 위한 알고리즘이다. fastText는 단어와 문장을 벡터로 변환하는 기술을 기반으로 하며, 이를 통해 머신러닝 알고리즘이 텍스트 데이터를 분석하고 이해하는데 사용된다.\n",
        "\n",
        "Word2Vec과 차이는 fastText는 단어의 하위 단어를 고려해 더 높은 정확도와 성능을 제공한다. 이때문에 N-gram을 사용해 단어를 분해하고 벡터화 한다.\n",
        "\n",
        "fastText에서는 단어의 벡터화를 위해 <. >과 같은 특수기호를 사용해 단어의 시작과 끝을 나타낸다.\n",
        "\n",
        "기호가 추가된 단어는 N-gram을 위해 하위 단어 집합으로 분해 된다.\n",
        "\n",
        "**예시**    \n",
        "'서울특별시' n=2인 바이그램으로 분해    \n",
        " => '서울', '울특', '특별', '별시'\n",
        "\n",
        " 분해된 하위 단어 집합에는 나눠지지 않은 단어 자신도 포함되며, 단어 집합이 만들어지면 각 하위 단어는 고유한 벡터값을 갖게 된다.\n",
        "\n",
        " 이러한 하위 단어 벡터들은 단어의 벡터 표현을 구성하며, 이를 사용하여 자연어 처리 작업을 수행한다.\n",
        "\n",
        " 일반적으로 fastText는 다양한 N-gram을 적용해 입력 토큰을 분해하고 하위 단어 벡터를 구성함으로써 단어의 부분 문자열을 고려하는 유연하고 정확한 하위 단어 집합을 생성한다.\n",
        "\n",
        " 즉, 같은 하위 단어를 공유하는 단어끼리는 정보를 공유해 학습하며 비슷한 단어끼리는 비슷한 임베딩 벡터를 갖게 되고 단어 간 유사도를 높일 수 있다. 그리고 OOV단어도 하위 단어로 나눠 임베딩을 계산할 수 있다.\n",
        "\n",
        " 이렇게 하위 단어 기반의 임베딩 방법을 사용하면, 말뭉치에 등장하지 않은 단어라도 유사한 하위 단어를 가지고 있으면 유사한 임베딩 벡터를 갖게 된다.\n",
        "\n",
        " **FastText 클래스**\n",
        " ```\n",
        " fasttext = gensim.models.FastText(\n",
        "    sentences = None,\n",
        "    corpus_file = None,\n",
        "    vector_size = 100,\n",
        "    alpha = 0.025,\n",
        "    window = 5,\n",
        "    min_count = 5,\n",
        "    workers = 3,\n",
        "    sg = 0,\n",
        "    hs = 0,\n",
        "    cbow_mean = 1,\n",
        "    negative = 5,\n",
        "    ns_exponent = 0.75,\n",
        "    max_final_vocab = None,\n",
        "    epoch = 5,\n",
        "    batch_words = 10000,\n",
        "    min_n = 3,  # 사용할 N-gram의 최소값\n",
        "    max_n = 6  # 사용할 N-gram의 최대값\n",
        " )\n",
        " ```\n",
        " 나머지는 Word2Vec의 파라미터와 같다."
      ],
      "metadata": {
        "id": "NM6C0mG-GOD3"
      }
    },
    {
      "cell_type": "markdown",
      "source": [
        "**예제15 KoNLI 데이터세트 전처리**"
      ],
      "metadata": {
        "id": "KF93Tkkabn-d"
      }
    },
    {
      "cell_type": "code",
      "source": [
        "from Korpora import Korpora\n",
        "\n",
        "corpus = Korpora.load(\"kornli\")\n",
        "corpus_texts = corpus.get_all_texts() + corpus.get_all_pairs()\n",
        "# get_all_texts(): 문장을 튜플로\n",
        "# get_all_pairs():  입력 문장과 쌍을 이루는 대응 문장을 튜플 형태로 반환\n",
        "tokens = [sentence.split() for sentence in corpus_texts]\n",
        "\n",
        "print(tokens[:3])"
      ],
      "metadata": {
        "colab": {
          "base_uri": "https://localhost:8080/"
        },
        "id": "LOykGBEsbdEe",
        "outputId": "4f6e766f-89e2-40b3-e3a5-f4ec3e4d4084"
      },
      "execution_count": 5,
      "outputs": [
        {
          "output_type": "stream",
          "name": "stdout",
          "text": [
            "\n",
            "    Korpora 는 다른 분들이 연구 목적으로 공유해주신 말뭉치들을\n",
            "    손쉽게 다운로드, 사용할 수 있는 기능만을 제공합니다.\n",
            "\n",
            "    말뭉치들을 공유해 주신 분들에게 감사드리며, 각 말뭉치 별 설명과 라이센스를 공유 드립니다.\n",
            "    해당 말뭉치에 대해 자세히 알고 싶으신 분은 아래의 description 을 참고,\n",
            "    해당 말뭉치를 연구/상용의 목적으로 이용하실 때에는 아래의 라이센스를 참고해 주시기 바랍니다.\n",
            "\n",
            "    # Description\n",
            "    Author : KakaoBrain\n",
            "    Repository : https://github.com/kakaobrain/KorNLUDatasets\n",
            "    References :\n",
            "        - Ham, J., Choe, Y. J., Park, K., Choi, I., & Soh, H. (2020). KorNLI and KorSTS: New Benchmark\n",
            "           Datasets for Korean Natural Language Understanding. arXiv preprint arXiv:2004.03289.\n",
            "           (https://arxiv.org/abs/2004.03289)\n",
            "\n",
            "    This is the dataset repository for our paper\n",
            "    \"KorNLI and KorSTS: New Benchmark Datasets for Korean Natural Language Understanding.\"\n",
            "    (https://arxiv.org/abs/2004.03289)\n",
            "    We introduce KorNLI and KorSTS, which are NLI and STS datasets in Korean.\n",
            "\n",
            "    # License\n",
            "    Creative Commons Attribution-ShareAlike license (CC BY-SA 4.0)\n",
            "    Details in https://creativecommons.org/licenses/by-sa/4.0/\n",
            "\n"
          ]
        },
        {
          "output_type": "stream",
          "name": "stderr",
          "text": [
            "[kornli] download multinli.train.ko.tsv: 83.6MB [00:02, 40.4MB/s]                            \n",
            "[kornli] download snli_1.0_train.ko.tsv: 78.5MB [00:00, 248MB/s]                            \n",
            "[kornli] download xnli.dev.ko.tsv: 516kB [00:00, 8.12MB/s]\n",
            "[kornli] download xnli.test.ko.tsv: 1.04MB [00:00, 14.3MB/s]\n"
          ]
        },
        {
          "output_type": "stream",
          "name": "stdout",
          "text": [
            "[['개념적으로', '크림', '스키밍은', '제품과', '지리라는', '두', '가지', '기본', '차원을', '가지고', '있다.'], ['시즌', '중에', '알고', '있는', '거', '알아?', '네', '레벨에서', '다음', '레벨로', '잃어버리는', '거야', '브레이브스가', '모팀을', '떠올리기로', '결정하면', '브레이브스가', '트리플', 'A에서', '한', '남자를', '떠올리기로', '결정하면', '더블', 'A가', '그를', '대신하러', '올라가고', 'A', '한', '명이', '그를', '대신하러', '올라간다.'], ['우리', '번호', '중', '하나가', '당신의', '지시를', '세밀하게', '수행할', '것이다.']]\n"
          ]
        }
      ]
    },
    {
      "cell_type": "markdown",
      "source": [
        "KoNLI데이터 셋은 자연어 추론을 위한 데이터셋이다.\n",
        "* 자연어 추론: 두 개 이상의 문장이 주어졌을때, 두 문장 간의 관계를 분류하는 작업을 말함.\n",
        "\n",
        "이를 통해 주어진 문장이 함의 관계, 중립 관계, 불일치 관계 중 어느 관계에 해당되는지 분류할 수 있다."
      ],
      "metadata": {
        "id": "aPjVHfojgL8Y"
      }
    },
    {
      "cell_type": "markdown",
      "source": [
        "**예제16 fastText 모델 실습**"
      ],
      "metadata": {
        "id": "kn7o7aZpi9hZ"
      }
    },
    {
      "cell_type": "code",
      "source": [
        "from gensim.models import FastText\n",
        "\n",
        "\n",
        "fastText = FastText(\n",
        "    sentences=tokens,\n",
        "    vector_size=128,\n",
        "    window=5,\n",
        "    min_count=5,\n",
        "    sg=1,\n",
        "    max_final_vocab=20000,\n",
        "    epochs=3,\n",
        "    min_n=2,\n",
        "    max_n=6\n",
        ")"
      ],
      "metadata": {
        "id": "SmiSwq56i8-s"
      },
      "execution_count": 6,
      "outputs": []
    },
    {
      "cell_type": "code",
      "source": [
        "# 모델 저장\n",
        "# fastText.save(\"../models/fastText.model\")\n",
        "# fastText = FastText.load(\"../models/fastText.model\")"
      ],
      "metadata": {
        "id": "HjhRBwmZjJCt"
      },
      "execution_count": 7,
      "outputs": []
    },
    {
      "cell_type": "markdown",
      "source": [
        "**예제17 fastText OOV 처리**"
      ],
      "metadata": {
        "id": "148kCHnMjvZt"
      }
    },
    {
      "cell_type": "code",
      "source": [
        "oov_token = \"사랑해요\"\n",
        "oov_vector = fastText.wv[oov_token]\n",
        "\n",
        "print(oov_token in fastText.wv.index_to_key)\n",
        "# wv.index_to_key: 학습된 단어 사전을 나타내는 리스트\n",
        "print(fastText.wv.most_similar(oov_vector, topn=5))"
      ],
      "metadata": {
        "colab": {
          "base_uri": "https://localhost:8080/"
        },
        "id": "7lmZYm9bj0vF",
        "outputId": "b8824353-b116-4cbc-a76b-29664a8128a1"
      },
      "execution_count": 8,
      "outputs": [
        {
          "output_type": "stream",
          "name": "stdout",
          "text": [
            "False\n",
            "[('사랑', 0.8846595883369446), ('사랑에', 0.8430585265159607), ('사랑의', 0.7911879420280457), ('사랑을', 0.7782157063484192), ('사랑하는', 0.7682992219924927)]\n"
          ]
        }
      ]
    },
    {
      "cell_type": "markdown",
      "source": [
        "단어 사전 리스트에는 '사랑해요'라는 단어가 없어 OOV토큰으로 처리가된다.\n",
        "\n",
        "Word2Vec 모델은 단어 사전에 존재하지 않는 단어는 임베딩을 계산할 수 없었다. 하지만 fastText는 하위 단어로 나눠 있기에 단어를 하위단어로 분해하고 하위 단어의 임베딩을 모두 합해서 전체 토큰의 임베딩을 계산한다. 이런식으로 OOV문제를해결할 수 있다."
      ],
      "metadata": {
        "id": "jWni-UaikAnk"
      }
    },
    {
      "cell_type": "markdown",
      "source": [],
      "metadata": {
        "id": "akNpP57gj29I"
      }
    },
    {
      "cell_type": "markdown",
      "source": [
        "# 실습"
      ],
      "metadata": {
        "id": "AGIpooshBvqq"
      }
    },
    {
      "cell_type": "markdown",
      "source": [
        "## 데이터 불러오기"
      ],
      "metadata": {
        "id": "t2EMc5hBFmSm"
      }
    },
    {
      "cell_type": "code",
      "source": [
        "from datasets import load_dataset\n",
        "\n",
        "# AG_NEWS 데이터셋 로드\n",
        "dataset = load_dataset(\"imdb\", split=\"train\")\n",
        "\n",
        "# 데이터셋 구조 확인\n",
        "print(dataset)"
      ],
      "metadata": {
        "colab": {
          "base_uri": "https://localhost:8080/",
          "height": 448,
          "referenced_widgets": [
            "d92b3d80b5d84bba98b7d8b398400ff3",
            "1c20eb15f292490693e481070be8f858",
            "76dd6c3108c04768bf03ae0389539eb8",
            "90b7924286c24b7b8a23ca6ab401a7cd",
            "84a17d66cc0e4ecb9af588f8db6d4221",
            "2852aa15dbb94417b84143bc8aae14fe",
            "def98b608ef445b199e2719283ec0e43",
            "2d7111eecb46439cbaea06b3adf4436d",
            "3c82de4550dd4130a21801a8a94a6845",
            "d0f8868e4a29411081d5504814fdf25c",
            "4d34f4d813134e8c9f5f23c11d8f237f",
            "97ca72c25b69475db4341ddded25629f",
            "8bdc9ab567c941a5b59218d0b4256d2e",
            "e98beeb8315b45a3baf47859eb0f0011",
            "4184c8b0e62740aba4c5336ade6c6176",
            "29bdc4319b8942649bd2b8e19b938334",
            "c4d358b45d1248efacb3bdd37cd46102",
            "91fa58d9dda14e849ecfd516c7ff34d4",
            "ab69dbf2a3054eaaa8b9f48fb1acffb6",
            "d7be861151e9446384a07057488105c3",
            "c57da4e2c0d84323a5389e47c7d28b8e",
            "5b8de8843c024b35b14840b3a645c979",
            "f2e98028776246a1806290f6cc00734c",
            "f496eed78e2b4aa089d55f427878581b",
            "f19438ddb7c848abbf56565e892fc114",
            "0463f4f1c7c64a908d21ddcc3e733449",
            "7e321597adbd4a08bfbc898cbd36fbbc",
            "599984835df440df9ba27e8a6dd65712",
            "9b4785991c914c24afd9d45e6eea888b",
            "f0d3a7087804442eba4cd96733da677b",
            "252cd96e053647ac8600346602194245",
            "19bade2e49bf48938e2e147946aeca2b",
            "119ab45f23384a4d8a4b6f19202ea634",
            "71542f08a3d642b1a52c303ee3204848",
            "7992e4785d0c41529a66d6df4727401e",
            "6d4f8c5b97a045d79c4c9ac7449b371e",
            "a3551833b0be4d03b3724a4045ccad36",
            "1953104d51994d32958c46dea95db610",
            "14e63e24317f470e9db854c0dd570ac1",
            "3cf408319bf847cc8e02bd9e07b0c007",
            "7a00b6e4f306422489e420a5bfc81f8c",
            "b57a08a9e8b3406d814a39f032112d00",
            "ee048bf1c2104f84b482aed3551a41ef",
            "9b91d85907284969acea5a0428f6a2a2",
            "b0b02cd768914291b019ddc44b97cbe3",
            "f7acf6dabdcb4f0bbdb37f1f4a1b35b6",
            "ef728442c77642bb979dfa9f93da0d14",
            "f0f46dbf1d12409a91f061b71c5bdab1",
            "270655e4888141379ee1bf696484579b",
            "8e6c325b530b4d7fbe2e3d7227b5210b",
            "bf4e1ef1feaf4e70936b19ddaf0bea26",
            "55993007dbf44911b1e5a3b8869d3fd7",
            "04e989d43b9e4d7abc74e360e4066374",
            "d464c8c28c054d9bb5133b5fcb8c8c15",
            "ec46d24956d64983a11eb821d5b5022b",
            "5f1735c032ea4b989ad94384cadf2555",
            "cae92ebbbf814549abac67596abd0fc6",
            "d3f86de155c040118004ba1e3e838044",
            "a3f685f0ae5848c4adc3b9c69d6f7701",
            "24352d25bcfd43ba8cb3c87d8eff48ae",
            "4f4339e10c40498d8caf1450f397c077",
            "fd0c54b59cac41bcbb2462bb0448a240",
            "898574c996de4e1db23172d6097a6fc2",
            "61e8bc23b5b3469c84a552b9e503d5c6",
            "e02dde2df9a44f97a7108d3fc9382130",
            "b8867260e83d49ce80288a8bd52b936e",
            "ec0f38a8a0e24777be32ab6f2dbe1820",
            "a3e2ac9bfa0f4a43a3984d4b747af496",
            "65c8116a73294b7b83b7e0613306bc80",
            "2419f9bb45044c94a89e273cfdf59b66",
            "8c6c6a701c554ee3a2f7d58e3e6e0763",
            "a8adfb38afa143cab286fd64cdb6b302",
            "74fdfaa8bd824e2391cc8786abfd6e8d",
            "a5a9c235d9f940798b2825f0508a75e8",
            "b9caadac8d6d4b4db7963bb1b305a7e1",
            "460e7f0864d2468faa46bc19c776f676",
            "df6072696d634a1eb0a1abf7ff668e31"
          ]
        },
        "id": "y8xUMN60BvMo",
        "outputId": "8c72e8a9-2358-4414-9940-47e5f76c5bb9"
      },
      "execution_count": null,
      "outputs": [
        {
          "output_type": "stream",
          "name": "stderr",
          "text": [
            "/usr/local/lib/python3.11/dist-packages/huggingface_hub/utils/_auth.py:94: UserWarning: \n",
            "The secret `HF_TOKEN` does not exist in your Colab secrets.\n",
            "To authenticate with the Hugging Face Hub, create a token in your settings tab (https://huggingface.co/settings/tokens), set it as secret in your Google Colab and restart your session.\n",
            "You will be able to reuse this secret in all of your notebooks.\n",
            "Please note that authentication is recommended but still optional to access public models or datasets.\n",
            "  warnings.warn(\n"
          ]
        },
        {
          "output_type": "display_data",
          "data": {
            "text/plain": [
              "README.md: 0.00B [00:00, ?B/s]"
            ],
            "application/vnd.jupyter.widget-view+json": {
              "version_major": 2,
              "version_minor": 0,
              "model_id": "d92b3d80b5d84bba98b7d8b398400ff3"
            }
          },
          "metadata": {}
        },
        {
          "output_type": "display_data",
          "data": {
            "text/plain": [
              "train-00000-of-00001.parquet:   0%|          | 0.00/21.0M [00:00<?, ?B/s]"
            ],
            "application/vnd.jupyter.widget-view+json": {
              "version_major": 2,
              "version_minor": 0,
              "model_id": "97ca72c25b69475db4341ddded25629f"
            }
          },
          "metadata": {}
        },
        {
          "output_type": "display_data",
          "data": {
            "text/plain": [
              "test-00000-of-00001.parquet:   0%|          | 0.00/20.5M [00:00<?, ?B/s]"
            ],
            "application/vnd.jupyter.widget-view+json": {
              "version_major": 2,
              "version_minor": 0,
              "model_id": "f2e98028776246a1806290f6cc00734c"
            }
          },
          "metadata": {}
        },
        {
          "output_type": "display_data",
          "data": {
            "text/plain": [
              "unsupervised-00000-of-00001.parquet:   0%|          | 0.00/42.0M [00:00<?, ?B/s]"
            ],
            "application/vnd.jupyter.widget-view+json": {
              "version_major": 2,
              "version_minor": 0,
              "model_id": "71542f08a3d642b1a52c303ee3204848"
            }
          },
          "metadata": {}
        },
        {
          "output_type": "display_data",
          "data": {
            "text/plain": [
              "Generating train split:   0%|          | 0/25000 [00:00<?, ? examples/s]"
            ],
            "application/vnd.jupyter.widget-view+json": {
              "version_major": 2,
              "version_minor": 0,
              "model_id": "b0b02cd768914291b019ddc44b97cbe3"
            }
          },
          "metadata": {}
        },
        {
          "output_type": "display_data",
          "data": {
            "text/plain": [
              "Generating test split:   0%|          | 0/25000 [00:00<?, ? examples/s]"
            ],
            "application/vnd.jupyter.widget-view+json": {
              "version_major": 2,
              "version_minor": 0,
              "model_id": "5f1735c032ea4b989ad94384cadf2555"
            }
          },
          "metadata": {}
        },
        {
          "output_type": "display_data",
          "data": {
            "text/plain": [
              "Generating unsupervised split:   0%|          | 0/50000 [00:00<?, ? examples/s]"
            ],
            "application/vnd.jupyter.widget-view+json": {
              "version_major": 2,
              "version_minor": 0,
              "model_id": "ec0f38a8a0e24777be32ab6f2dbe1820"
            }
          },
          "metadata": {}
        },
        {
          "output_type": "stream",
          "name": "stdout",
          "text": [
            "Dataset({\n",
            "    features: ['text', 'label'],\n",
            "    num_rows: 25000\n",
            "})\n"
          ]
        }
      ]
    },
    {
      "cell_type": "markdown",
      "source": [
        "### datasets 라이브러리 기본제공 데이터 셋 표\n",
        "\n",
        "|데이터셋 이름|설명|\n",
        "|-------------|----|\n",
        "|GLUE|자연 언어 이해를 평가하는 벤치마크 세트. 다양한 작업과 데이터셋 포함 |\n",
        "|SQuAD|스탠포드 대학교에서 개발한 질문 답변 데이터셋으로, 문맥을 기반으로 질문에 답해야함.|\n",
        "|Commom Crwal|웹에서 수집된 막대한 양의 텍스트 데이터를 포함하는 데이터셋|\n",
        "|WMT|기계 번역을 위한 여러 연도의 데이터를 포함하는 데이터셋|\n",
        "|SNLI|자연 언어 추론을 위한 데이터셋으로, 두 문장 간의 관계 판별에 사용|\n",
        "|IMDb|인터넷 영화 데이터베이스의 리뷰로, 감성 분석을 위한 긍정적 또는 부정적 리뷰로 구분됨.|"
      ],
      "metadata": {
        "id": "Ccih7emQCJJ9"
      }
    },
    {
      "cell_type": "code",
      "source": [
        "idx = 1\n",
        "print(dataset[idx])"
      ],
      "metadata": {
        "colab": {
          "base_uri": "https://localhost:8080/"
        },
        "id": "SOlwaTKe8dHY",
        "outputId": "2975c85a-7357-49f2-c9db-596ba82059ea"
      },
      "execution_count": null,
      "outputs": [
        {
          "output_type": "stream",
          "name": "stdout",
          "text": [
            "{'text': '\"I Am Curious: Yellow\" is a risible and pretentious steaming pile. It doesn\\'t matter what one\\'s political views are because this film can hardly be taken seriously on any level. As for the claim that frontal male nudity is an automatic NC-17, that isn\\'t true. I\\'ve seen R-rated films with male nudity. Granted, they only offer some fleeting views, but where are the R-rated films with gaping vulvas and flapping labia? Nowhere, because they don\\'t exist. The same goes for those crappy cable shows: schlongs swinging in the breeze but not a clitoris in sight. And those pretentious indie movies like The Brown Bunny, in which we\\'re treated to the site of Vincent Gallo\\'s throbbing johnson, but not a trace of pink visible on Chloe Sevigny. Before crying (or implying) \"double-standard\" in matters of nudity, the mentally obtuse should take into account one unavoidably obvious anatomical difference between men and women: there are no genitals on display when actresses appears nude, and the same cannot be said for a man. In fact, you generally won\\'t see female genitals in an American film in anything short of porn or explicit erotica. This alleged double-standard is less a double standard than an admittedly depressing ability to come to terms culturally with the insides of women\\'s bodies.', 'label': 0}\n"
          ]
        }
      ]
    },
    {
      "cell_type": "markdown",
      "source": [
        "## 데이터 전처리\n",
        "\n",
        "데이터 전처리에는 여러 기법이 있다.\n",
        "\n",
        "1. 텍스트 정제: 문자,공백,특수 기호 등을 제거하여 데이터를 깨끗하게 만드는 과정\n",
        "2. 토큰화: 텍스트를 의미 있는 단위로 분리하는 과정\n",
        "3. 정규화: 텍스트 데이터 내의 변형된 형태를 표준 형태로 통일하는 과정\n",
        "4. 불용어 제거: 불용어는 자주 등장하지만 분석에는 별 도움이 되지 않는 단어로 영어기준 the, is, at같은 단어들이 있다.\n",
        "5. 임베딩: 임베딩은 단어나 문장 같은 텍스트를 고차원에서 저차원의 연속적인 벡터로 변환하는 기술이다. 이 벡터는 텍스트의 의미적, 문맥적 특성을 포착할 수 있으며, 이러한 벡터 표현은 머신러닝 알고리즘에서 사용될 수 있습니다."
      ],
      "metadata": {
        "id": "7Nn6CRqAEJvE"
      }
    },
    {
      "cell_type": "markdown",
      "source": [
        "### 기본 데이터 정제"
      ],
      "metadata": {
        "id": "CONC0Kv_F4LD"
      }
    },
    {
      "cell_type": "markdown",
      "source": [
        "#### 1. 공백 제거/소문자 변환"
      ],
      "metadata": {
        "id": "67gV1fkuF7T9"
      }
    },
    {
      "cell_type": "code",
      "source": [
        "text = \"  Hello, World! This is an example text. \\t\\n\"\n",
        "\n",
        "# 텍스트를 소문자로 변환하세요.\n",
        "lowercase_text = text.lower()\n",
        "print(lowercase_text)\n",
        "\n",
        "# 텍스트의 양 끝 공백을 제거하세요.\n",
        "cleaned_text = lowercase_text.strip()\n",
        "print(cleaned_text)"
      ],
      "metadata": {
        "colab": {
          "base_uri": "https://localhost:8080/"
        },
        "id": "wrjUoSJ6F6Q9",
        "outputId": "da113bef-fe43-4e8b-bc6a-217bdc271c7f"
      },
      "execution_count": null,
      "outputs": [
        {
          "output_type": "stream",
          "name": "stdout",
          "text": [
            "  hello, world! this is an example text. \t\n",
            "\n",
            "hello, world! this is an example text.\n"
          ]
        }
      ]
    },
    {
      "cell_type": "markdown",
      "source": [
        "#### 2. 특수문자 제거"
      ],
      "metadata": {
        "id": "h8RfqcSoGHDq"
      }
    },
    {
      "cell_type": "code",
      "source": [
        "# 예시 텍스트\n",
        "text = \"Hello, World! This is an example text with #hash and @mentions.\"\n",
        "\n",
        "# 특정 문자 제거: '#'과 '@'\n",
        "cleaned_text = text.replace('#', '').replace('@', '')\n",
        "print(cleaned_text)"
      ],
      "metadata": {
        "colab": {
          "base_uri": "https://localhost:8080/"
        },
        "id": "Z5H75_1bGB0m",
        "outputId": "8414067e-17ac-4e0b-f7ca-2d8baebfeaf2"
      },
      "execution_count": null,
      "outputs": [
        {
          "output_type": "stream",
          "name": "stdout",
          "text": [
            "Hello, World! This is an example text with hash and mentions.\n"
          ]
        }
      ]
    },
    {
      "cell_type": "markdown",
      "source": [
        "#### 3. 정규표현식을 이용한 데이터 정제"
      ],
      "metadata": {
        "id": "GTIccK4fGxhL"
      }
    },
    {
      "cell_type": "code",
      "source": [
        "import re\n",
        "\n",
        "# 예시 텍스트\n",
        "text = \"Hello,    World! This\\tis an\\nexample text.\"\n",
        "\n",
        "# 다중 공백을 하나의 공백으로 축소\n",
        "pattern = r'\\s+'\n",
        "cleaned_text = re.sub(pattern, ' ', text)\n",
        "print(cleaned_text)"
      ],
      "metadata": {
        "colab": {
          "base_uri": "https://localhost:8080/"
        },
        "id": "oKOOYce3Ghoc",
        "outputId": "d93a828a-5b4c-410e-b123-907ccb39c82b"
      },
      "execution_count": null,
      "outputs": [
        {
          "output_type": "stream",
          "name": "stdout",
          "text": [
            "Hello, World! This is an example text.\n"
          ]
        }
      ]
    },
    {
      "cell_type": "code",
      "source": [
        "# 예시 텍스트\n",
        "text = \"This is an example text with numbers 12345 and 67890.\"\n",
        "\n",
        "# 모든 숫자 제거\n",
        "pattern = r'\\d+'\n",
        "cleaned_text = re.sub(pattern, '', text)\n",
        "print(cleaned_text)"
      ],
      "metadata": {
        "colab": {
          "base_uri": "https://localhost:8080/"
        },
        "id": "bvZntTFRGw6k",
        "outputId": "cf61846c-4fb3-4ed4-c80b-e44592a0de3d"
      },
      "execution_count": null,
      "outputs": [
        {
          "output_type": "stream",
          "name": "stdout",
          "text": [
            "This is an example text with numbers  and .\n"
          ]
        }
      ]
    },
    {
      "cell_type": "markdown",
      "source": [
        "#### 4. 이모지 제거"
      ],
      "metadata": {
        "id": "ixAleXaJHYgb"
      }
    },
    {
      "cell_type": "code",
      "source": [
        "!pip install emoji"
      ],
      "metadata": {
        "colab": {
          "base_uri": "https://localhost:8080/"
        },
        "id": "GAik3HUlHRV0",
        "outputId": "66f6c79a-7f00-4050-99c0-646ec54e7568"
      },
      "execution_count": null,
      "outputs": [
        {
          "output_type": "stream",
          "name": "stdout",
          "text": [
            "Collecting emoji\n",
            "  Downloading emoji-2.14.1-py3-none-any.whl.metadata (5.7 kB)\n",
            "Downloading emoji-2.14.1-py3-none-any.whl (590 kB)\n",
            "\u001b[?25l   \u001b[90m━━━━━━━━━━━━━━━━━━━━━━━━━━━━━━━━━━━━━━━━\u001b[0m \u001b[32m0.0/590.6 kB\u001b[0m \u001b[31m?\u001b[0m eta \u001b[36m-:--:--\u001b[0m\r\u001b[2K   \u001b[90m━━━━━━━━━━━━━━━━━━━━━━━━━━━━━━━━━━━━━━━━\u001b[0m \u001b[32m590.6/590.6 kB\u001b[0m \u001b[31m30.7 MB/s\u001b[0m eta \u001b[36m0:00:00\u001b[0m\n",
            "\u001b[?25hInstalling collected packages: emoji\n",
            "Successfully installed emoji-2.14.1\n"
          ]
        }
      ]
    },
    {
      "cell_type": "code",
      "source": [
        "import emoji\n",
        "\n",
        "# 텍스트 예시\n",
        "text_with_emoji = \"Here is a smiley 😊\"\n",
        "text_without_emoji = \"Here is no smiley\"\n",
        "\n",
        "# 이모티콘 존재 여부 직접 출력\n",
        "print(\"이모티콘 존재 여부 (있음):\", emoji.emoji_count(text_with_emoji)>0)\n",
        "print(\"이모티콘 존재 여부 (없음):\", emoji.emoji_count(text_without_emoji)>0)"
      ],
      "metadata": {
        "colab": {
          "base_uri": "https://localhost:8080/"
        },
        "id": "RbD1sriUHgha",
        "outputId": "ffe120a0-945f-4b84-cec5-e1730c6c5425"
      },
      "execution_count": null,
      "outputs": [
        {
          "output_type": "stream",
          "name": "stdout",
          "text": [
            "이모티콘 존재 여부 (있음): True\n",
            "이모티콘 존재 여부 (없음): False\n"
          ]
        }
      ]
    },
    {
      "cell_type": "code",
      "source": [
        "import emoji\n",
        "\n",
        "# 예시 텍스트\n",
        "text = \"Here is a smiley 😊 and a wink 😉, let's remove them!\"\n",
        "\n",
        "# emoji 라이브러리를 사용하여 이모티콘 제거\n",
        "cleaned_text = emoji.replace_emoji(text, replace='')\n",
        "\n",
        "print(cleaned_text)"
      ],
      "metadata": {
        "colab": {
          "base_uri": "https://localhost:8080/"
        },
        "id": "nHuCMOPgIieA",
        "outputId": "db7ebdde-5366-44e2-ae10-b970a3f73b70"
      },
      "execution_count": null,
      "outputs": [
        {
          "output_type": "stream",
          "name": "stdout",
          "text": [
            "Here is a smiley  and a wink , let's remove them!\n"
          ]
        }
      ]
    },
    {
      "cell_type": "code",
      "source": [
        "text = \"I am happy 😊 and you?\"\n",
        "\n",
        "cleaned_text = emoji.replace_emoji(text, replace=\"happy\")\n",
        "print(cleaned_text)"
      ],
      "metadata": {
        "colab": {
          "base_uri": "https://localhost:8080/"
        },
        "id": "Ll0jQSpYIsxY",
        "outputId": "e9f390bb-0593-45ff-868e-ca46f647f99a"
      },
      "execution_count": null,
      "outputs": [
        {
          "output_type": "stream",
          "name": "stdout",
          "text": [
            "I am happy happy and you?\n"
          ]
        }
      ]
    },
    {
      "cell_type": "markdown",
      "source": [
        "#### 5. html에서 문자열 추출"
      ],
      "metadata": {
        "id": "wwCtakzfJBhe"
      }
    },
    {
      "cell_type": "code",
      "source": [
        "from bs4 import BeautifulSoup\n",
        "\n",
        "# 예시 HTML 문자열\n",
        "html_doc = \"\"\"\n",
        "<html>\n",
        "<head>\n",
        "    <title>The Dormouse's story</title>\n",
        "</head>\n",
        "<body>\n",
        "    <p class=\"title\"><b>The Dormouse's story</b></p>\n",
        "\n",
        "    <p class=\"story\">Once upon a time there were three little sisters; and their names were\n",
        "    <a href=\"http://example.com/elsie\" class=\"sister\" id=\"link1\">Elsie</a>,\n",
        "    <a href=\"http://example.com/lacie\" class=\"sister\" id=\"link2\">Lacie</a> and\n",
        "    <a href=\"http://example.com/tillie\" class=\"sister\" id=\"link3\">Tillie</a>;\n",
        "    and they lived at the bottom of a well.</p>\n",
        "\n",
        "    <p class=\"story\">...</p>\n",
        "</body>\n",
        "</html>\n",
        "\"\"\"\n",
        "\n",
        "# BeautifulSoup 객체 생성, 'html.parser' 사용\n",
        "soup = BeautifulSoup(html_doc, 'html.parser')\n",
        "\n",
        "# BeautifulSoup의 get_text() 메소드를 사용하여 HTML에서 모든 텍스트 추출\n",
        "cleaned_text = soup.get_text()\n",
        "print(cleaned_text)"
      ],
      "metadata": {
        "colab": {
          "base_uri": "https://localhost:8080/"
        },
        "id": "radnIUIJI_q0",
        "outputId": "bc92a67e-b042-4140-ce20-a3629fc76d0d"
      },
      "execution_count": null,
      "outputs": [
        {
          "output_type": "stream",
          "name": "stdout",
          "text": [
            "\n",
            "\n",
            "\n",
            "The Dormouse's story\n",
            "\n",
            "\n",
            "The Dormouse's story\n",
            "Once upon a time there were three little sisters; and their names were\n",
            "    Elsie,\n",
            "    Lacie and\n",
            "    Tillie;\n",
            "    and they lived at the bottom of a well.\n",
            "...\n",
            "\n",
            "\n",
            "\n"
          ]
        }
      ]
    },
    {
      "cell_type": "markdown",
      "source": [
        "### 토크나이저\n",
        "\n",
        "위에서도 다루긴하나 표현에는 여러 방법이 있기에 한번 더 다룬다."
      ],
      "metadata": {
        "id": "fB252ZOOcjTi"
      }
    },
    {
      "cell_type": "code",
      "source": [
        "# 공백 기반 토크나이저\n",
        "def tokenizer(text):\n",
        "    # 공백을 기준으로 분리\n",
        "    tokens = text.split()\n",
        "    return tokens\n",
        "\n",
        "# 텍스트 입력\n",
        "text = \"tv future in the hands of viewers with home theatre systems plasma high-definition tvs and digital video recorders moving into the living room the way people watch tv will be radically different in five years time.\"\n",
        "\n",
        "# 공백을 기준으로 텍스트 토크나이징\n",
        "tokens = tokenizer(text)\n",
        "\n",
        "# 토큰 출력\n",
        "print(tokens)"
      ],
      "metadata": {
        "colab": {
          "base_uri": "https://localhost:8080/"
        },
        "id": "y3F86J7CJPwG",
        "outputId": "dbb31021-3adf-44eb-b15b-483af1b0372a"
      },
      "execution_count": null,
      "outputs": [
        {
          "output_type": "stream",
          "name": "stdout",
          "text": [
            "['tv', 'future', 'in', 'the', 'hands', 'of', 'viewers', 'with', 'home', 'theatre', 'systems', 'plasma', 'high-definition', 'tvs', 'and', 'digital', 'video', 'recorders', 'moving', 'into', 'the', 'living', 'room', 'the', 'way', 'people', 'watch', 'tv', 'will', 'be', 'radically', 'different', 'in', 'five', 'years', 'time.']\n"
          ]
        }
      ]
    },
    {
      "cell_type": "code",
      "source": [
        "# 정규 표현식 토크나이저\n",
        "import re\n",
        "\n",
        "def tokenizer(text):\n",
        "    # 정규 표현식을 사용하여 단어가 아닌 문자를 기준으로 텍스트를 분리합니다.\n",
        "    pattern = r'\\b\\w+\\b'\n",
        "    tokens = re.findall(pattern, text)\n",
        "    return tokens\n",
        "\n",
        "# 테스트 코드\n",
        "text = \"Hello, world! This is a test sentence. Let's see how it tokenizes.\"\n",
        "tokens = tokenizer(text)\n",
        "print(tokens)"
      ],
      "metadata": {
        "colab": {
          "base_uri": "https://localhost:8080/"
        },
        "id": "6RCufkgxdIGU",
        "outputId": "70613ae4-6663-4569-f488-a99a23b4c280"
      },
      "execution_count": null,
      "outputs": [
        {
          "output_type": "stream",
          "name": "stdout",
          "text": [
            "['Hello', 'world', 'This', 'is', 'a', 'test', 'sentence', 'Let', 's', 'see', 'how', 'it', 'tokenizes']\n"
          ]
        }
      ]
    },
    {
      "cell_type": "markdown",
      "source": [
        "#### GPT2 토크나이저"
      ],
      "metadata": {
        "id": "ZUne1HwFeWj8"
      }
    },
    {
      "cell_type": "code",
      "source": [
        "from transformers import GPT2Tokenizer\n",
        "\n",
        "# GPT-2 사전학습된 토크나이저 로드\n",
        "tokenizer = GPT2Tokenizer.from_pretrained(\"gpt2\")\n",
        "\n",
        "# 테스트 텍스트\n",
        "text = \"The quick brown fox jumps over the lazy dog\"\n",
        "\n",
        "# 텍스트를 토크나이징\n",
        "encoded_input = tokenizer.encode(text)\n",
        "tokens = tokenizer.convert_ids_to_tokens(encoded_input)\n",
        "\n",
        "print(\"Encoded Input:\", encoded_input)\n",
        "print(\"Tokens:\", tokens)"
      ],
      "metadata": {
        "colab": {
          "base_uri": "https://localhost:8080/",
          "height": 347,
          "referenced_widgets": [
            "fb08444958c042658a1635ef93d3ead2",
            "d460c79274254305940a565d9b0b43e2",
            "3b216e48ea13480294ce6faeb64f3930",
            "dad4ca047eb44dfe938d69ccfb03114f",
            "0c9c0a8da7c942b7a3503bd377d9becd",
            "c08f6efef8204fbfb4f2a3a3a65a2b73",
            "5360262c1b724f6489ae0280a4e41084",
            "9cb811de27d64bda99195609db00487c",
            "2c21cf47e1be4f1da54cc94deae570de",
            "699a86bbbda44ae381de752d884a21a4",
            "f7490910247343ff8f0767e240d55b34",
            "f1a8dc26791a412dbe5737f40d9fa90b",
            "a41cfb7e53e348cb96c0ed9d80f72cbd",
            "a102ea12a422429d86bc547b86929fd2",
            "87150a59d39f4124936dc299d21a751a",
            "91ac9f0402e5428294e6f23ede94c32f",
            "f160a8d88ea047629f8005cc5c82b5ec",
            "741dc4232048458e82a9a85783795f77",
            "007cf3dcf30c4e72b0b104a1b2433731",
            "eee015af5b8948879ffddea83dbf9484",
            "3d6c6b041ca241a0a2e44b93611b4c31",
            "c22ec3a7dd814a34a33e8722fede423b",
            "6cb4f98d94e242bd97e8ea78828544e4",
            "e8fc48b6e49845939202a9fb40d7764e",
            "07338593edec484fa732aeeebb41a532",
            "0c0dc96c7d554da1b4f3b00a0a6da008",
            "ec2880ddfc38441fbec7b89d9f204fd0",
            "d950cf1921b24acdaa68aa40b8820355",
            "8604e0bb213e4b7bb7d299a129a513b7",
            "70f1965ec29e42f7b10610291be4f78b",
            "5e72a528e94743a5b530ba66edb54f29",
            "aa8d6c8d79b6436f95f546b6c14c1ab9",
            "4926099204ba441db4ca6c1aceb15079",
            "24f222f04cd441abb273b2b7aa097b24",
            "ec375ef69cd244eb9110c52d07fbb02b",
            "e88f83e360f44313ba21d81ad9dad857",
            "faae2d476dce4325aa8d335a97e4399f",
            "f44b4ecfeb2c45c6ae080cd4410bf5d5",
            "7b2b0e9382d8446094509b3fb211ac48",
            "564605f8973d45b3b26eb7c416811c9d",
            "790c5835a8bc4c8189347f40073733d7",
            "b230b44d4c874769afaf852547e1acb8",
            "b1b4d5b1c6ce43d7be7207f752aabbb8",
            "36e45fe7181b42aaa12dc8e1aa0c1ed7",
            "f3c68da061284c9387ce6f14a9ef86e9",
            "3d6aa38163df45928bc8ec33bbf24bd6",
            "2bedf9b084ea4780a6b48b554efc2c72",
            "80db277c2f7a49d28564ee5e2e8cd4b2",
            "4268cf2bdf25487fbcbeac7b1482cfe3",
            "5077fb99d4d747ada56afcd27b69209a",
            "1c48e595603943dc857e622f471c0ed0",
            "09eb6874d078453f9cffd4ae4d5ca295",
            "71777dbc291045d698efd60e192fc8de",
            "f64991db7b084a339e34eca381770c0a",
            "a861e0c5bf364c8298bb3fc46ab49d57"
          ]
        },
        "id": "94wrA2TrdX1G",
        "outputId": "49891cfb-4fbe-48b9-a81f-5eebfc45bc3c"
      },
      "execution_count": null,
      "outputs": [
        {
          "output_type": "stream",
          "name": "stderr",
          "text": [
            "/usr/local/lib/python3.11/dist-packages/huggingface_hub/utils/_auth.py:94: UserWarning: \n",
            "The secret `HF_TOKEN` does not exist in your Colab secrets.\n",
            "To authenticate with the Hugging Face Hub, create a token in your settings tab (https://huggingface.co/settings/tokens), set it as secret in your Google Colab and restart your session.\n",
            "You will be able to reuse this secret in all of your notebooks.\n",
            "Please note that authentication is recommended but still optional to access public models or datasets.\n",
            "  warnings.warn(\n"
          ]
        },
        {
          "output_type": "display_data",
          "data": {
            "text/plain": [
              "tokenizer_config.json:   0%|          | 0.00/26.0 [00:00<?, ?B/s]"
            ],
            "application/vnd.jupyter.widget-view+json": {
              "version_major": 2,
              "version_minor": 0,
              "model_id": "fb08444958c042658a1635ef93d3ead2"
            }
          },
          "metadata": {}
        },
        {
          "output_type": "display_data",
          "data": {
            "text/plain": [
              "vocab.json:   0%|          | 0.00/1.04M [00:00<?, ?B/s]"
            ],
            "application/vnd.jupyter.widget-view+json": {
              "version_major": 2,
              "version_minor": 0,
              "model_id": "f1a8dc26791a412dbe5737f40d9fa90b"
            }
          },
          "metadata": {}
        },
        {
          "output_type": "display_data",
          "data": {
            "text/plain": [
              "merges.txt:   0%|          | 0.00/456k [00:00<?, ?B/s]"
            ],
            "application/vnd.jupyter.widget-view+json": {
              "version_major": 2,
              "version_minor": 0,
              "model_id": "6cb4f98d94e242bd97e8ea78828544e4"
            }
          },
          "metadata": {}
        },
        {
          "output_type": "display_data",
          "data": {
            "text/plain": [
              "tokenizer.json:   0%|          | 0.00/1.36M [00:00<?, ?B/s]"
            ],
            "application/vnd.jupyter.widget-view+json": {
              "version_major": 2,
              "version_minor": 0,
              "model_id": "24f222f04cd441abb273b2b7aa097b24"
            }
          },
          "metadata": {}
        },
        {
          "output_type": "display_data",
          "data": {
            "text/plain": [
              "config.json:   0%|          | 0.00/665 [00:00<?, ?B/s]"
            ],
            "application/vnd.jupyter.widget-view+json": {
              "version_major": 2,
              "version_minor": 0,
              "model_id": "f3c68da061284c9387ce6f14a9ef86e9"
            }
          },
          "metadata": {}
        },
        {
          "output_type": "stream",
          "name": "stdout",
          "text": [
            "Encoded Input: [464, 2068, 7586, 21831, 18045, 625, 262, 16931, 3290]\n",
            "Tokens: ['The', 'Ġquick', 'Ġbrown', 'Ġfox', 'Ġjumps', 'Ġover', 'Ġthe', 'Ġlazy', 'Ġdog']\n"
          ]
        }
      ]
    },
    {
      "cell_type": "markdown",
      "source": [
        "### 임베딩"
      ],
      "metadata": {
        "id": "HQIlTJxiezK1"
      }
    },
    {
      "cell_type": "code",
      "source": [],
      "metadata": {
        "id": "UjEe0QX-ell8"
      },
      "execution_count": null,
      "outputs": []
    },
    {
      "cell_type": "code",
      "metadata": {
        "id": "bc0e1a57"
      },
      "source": [
        "for epoch in range(10):\n",
        "    cost = 0.0\n",
        "    for input_ids, target_ids in dataloader:\n",
        "        input_ids = input_ids.to(device)\n",
        "        target_ids = target_ids.to(device)\n",
        "\n",
        "        logits = word2vec(input_ids)\n",
        "        loss = criterion(logits, target_ids)\n",
        "\n",
        "        optimizer.zero_grad()\n",
        "        loss.backward()\n",
        "        optimizer.step()\n",
        "\n",
        "        cost += loss\n",
        "\n",
        "    cost = cost / len(dataloader)\n",
        "    print(f\"Epoch : {epoch+1:4d}, Cost : {cost:.3f}\")"
      ],
      "execution_count": null,
      "outputs": []
    }
  ]
}