{
  "nbformat": 4,
  "nbformat_minor": 0,
  "metadata": {
    "colab": {
      "provenance": [],
      "gpuType": "T4",
      "toc_visible": true,
      "authorship_tag": "ABX9TyMPRX3q7ZGAIMNedtR8jzZp",
      "include_colab_link": true
    },
    "kernelspec": {
      "name": "python3",
      "display_name": "Python 3"
    },
    "language_info": {
      "name": "python"
    },
    "accelerator": "GPU"
  },
  "cells": [
    {
      "cell_type": "markdown",
      "metadata": {
        "id": "view-in-github",
        "colab_type": "text"
      },
      "source": [
        "<a href=\"https://colab.research.google.com/github/Dongjin-1203/Study-code/blob/main/NLP_%EC%8B%A4%EC%8A%B5(IMDB)_ML.ipynb\" target=\"_parent\"><img src=\"https://colab.research.google.com/assets/colab-badge.svg\" alt=\"Open In Colab\"/></a>"
      ]
    },
    {
      "cell_type": "markdown",
      "source": [
        "# NLP 실습: 영화 리뷰 감정분석(IMDB)\n",
        "\n",
        "인터넷 영화 데이터베이스(Internet Movie Database)로부터 가져온 양극단의 리뷰 5만 개로 이루어진 IMDB 데이터셋을 사용하겠습니다.2 이 데이터셋은 훈련 데이터 2만 5,000개와 테스트 데이터 2만 5,000개로 나뉘어 있고 각각 50%는 부정, 50%는 긍정 리뷰로 구성되어 있습니다.\n",
        "출처: https://thebook.io/080315/0182/"
      ],
      "metadata": {
        "id": "i1ARpGaksrmj"
      }
    },
    {
      "cell_type": "code",
      "source": [
        "from google.colab import drive\n",
        "drive.mount('/content/drive')"
      ],
      "metadata": {
        "colab": {
          "base_uri": "https://localhost:8080/"
        },
        "id": "XVvkaGLWR3ng",
        "outputId": "32a33429-11f5-4ede-caa0-75f038d424e9"
      },
      "execution_count": 1,
      "outputs": [
        {
          "output_type": "stream",
          "name": "stdout",
          "text": [
            "Drive already mounted at /content/drive; to attempt to forcibly remount, call drive.mount(\"/content/drive\", force_remount=True).\n"
          ]
        }
      ]
    },
    {
      "cell_type": "code",
      "source": [
        "!sudo apt-get install -y fonts-nanum\n",
        "!sudo fc-cache -fv\n",
        "!rm ~/.cache/matplotlib -rf"
      ],
      "metadata": {
        "colab": {
          "base_uri": "https://localhost:8080/"
        },
        "id": "0gCgzEIvWbrd",
        "outputId": "2cb4e3a7-32d7-411e-afb5-ad92a2a94a38"
      },
      "execution_count": 2,
      "outputs": [
        {
          "output_type": "stream",
          "name": "stdout",
          "text": [
            "Reading package lists... Done\n",
            "Building dependency tree... Done\n",
            "Reading state information... Done\n",
            "fonts-nanum is already the newest version (20200506-1).\n",
            "0 upgraded, 0 newly installed, 0 to remove and 35 not upgraded.\n",
            "/usr/share/fonts: caching, new cache contents: 0 fonts, 1 dirs\n",
            "/usr/share/fonts/truetype: caching, new cache contents: 0 fonts, 3 dirs\n",
            "/usr/share/fonts/truetype/humor-sans: caching, new cache contents: 1 fonts, 0 dirs\n",
            "/usr/share/fonts/truetype/liberation: caching, new cache contents: 16 fonts, 0 dirs\n",
            "/usr/share/fonts/truetype/nanum: caching, new cache contents: 12 fonts, 0 dirs\n",
            "/usr/local/share/fonts: caching, new cache contents: 0 fonts, 0 dirs\n",
            "/root/.local/share/fonts: skipping, no such directory\n",
            "/root/.fonts: skipping, no such directory\n",
            "/usr/share/fonts/truetype: skipping, looped directory detected\n",
            "/usr/share/fonts/truetype/humor-sans: skipping, looped directory detected\n",
            "/usr/share/fonts/truetype/liberation: skipping, looped directory detected\n",
            "/usr/share/fonts/truetype/nanum: skipping, looped directory detected\n",
            "/var/cache/fontconfig: cleaning cache directory\n",
            "/root/.cache/fontconfig: not cleaning non-existent cache directory\n",
            "/root/.fontconfig: not cleaning non-existent cache directory\n",
            "fc-cache: succeeded\n"
          ]
        }
      ]
    },
    {
      "cell_type": "code",
      "source": [
        "import matplotlib.pyplot as plt\n",
        "plt.rc('font', family='NanumBarunGothic')\n",
        "plt.rcParams['axes.unicode_minus'] =False"
      ],
      "metadata": {
        "id": "bSegCURhWxoJ"
      },
      "execution_count": 3,
      "outputs": []
    },
    {
      "cell_type": "markdown",
      "source": [
        "# 데이터 불러오기"
      ],
      "metadata": {
        "id": "5GIByM4K-xA9"
      }
    },
    {
      "cell_type": "code",
      "source": [
        "import pandas as pd\n",
        "import numpy as np\n",
        "import matplotlib.pyplot as plt\n",
        "import seaborn as sns\n",
        "from collections import Counter\n",
        "import warnings\n",
        "warnings.filterwarnings('ignore')"
      ],
      "metadata": {
        "id": "QqsiduOa-2yw"
      },
      "execution_count": 4,
      "outputs": []
    },
    {
      "cell_type": "code",
      "source": [
        "# IMDB 데이터 다운로드\n",
        "from datasets import load_dataset\n",
        "imdb = load_dataset(\"imdb\")"
      ],
      "metadata": {
        "id": "RqWVUHbo-9BX"
      },
      "execution_count": 5,
      "outputs": []
    },
    {
      "cell_type": "code",
      "source": [
        "# DataFrame으로 변환\n",
        "train_df = pd.DataFrame(imdb['train'])\n",
        "test_df = pd.DataFrame(imdb['test'])"
      ],
      "metadata": {
        "id": "2sxSfpCCBwBL"
      },
      "execution_count": 6,
      "outputs": []
    },
    {
      "cell_type": "code",
      "source": [
        "train_df.head()"
      ],
      "metadata": {
        "colab": {
          "base_uri": "https://localhost:8080/",
          "height": 206
        },
        "id": "xD6MaUx8EoM3",
        "outputId": "ccae7d7c-deb2-4594-b2f7-f07c4ff6c883"
      },
      "execution_count": 7,
      "outputs": [
        {
          "output_type": "execute_result",
          "data": {
            "text/plain": [
              "                                                text  label\n",
              "0  I rented I AM CURIOUS-YELLOW from my video sto...      0\n",
              "1  \"I Am Curious: Yellow\" is a risible and preten...      0\n",
              "2  If only to avoid making this type of film in t...      0\n",
              "3  This film was probably inspired by Godard's Ma...      0\n",
              "4  Oh, brother...after hearing about this ridicul...      0"
            ],
            "text/html": [
              "\n",
              "  <div id=\"df-649a4375-82c4-437b-b5a6-2967c1460797\" class=\"colab-df-container\">\n",
              "    <div>\n",
              "<style scoped>\n",
              "    .dataframe tbody tr th:only-of-type {\n",
              "        vertical-align: middle;\n",
              "    }\n",
              "\n",
              "    .dataframe tbody tr th {\n",
              "        vertical-align: top;\n",
              "    }\n",
              "\n",
              "    .dataframe thead th {\n",
              "        text-align: right;\n",
              "    }\n",
              "</style>\n",
              "<table border=\"1\" class=\"dataframe\">\n",
              "  <thead>\n",
              "    <tr style=\"text-align: right;\">\n",
              "      <th></th>\n",
              "      <th>text</th>\n",
              "      <th>label</th>\n",
              "    </tr>\n",
              "  </thead>\n",
              "  <tbody>\n",
              "    <tr>\n",
              "      <th>0</th>\n",
              "      <td>I rented I AM CURIOUS-YELLOW from my video sto...</td>\n",
              "      <td>0</td>\n",
              "    </tr>\n",
              "    <tr>\n",
              "      <th>1</th>\n",
              "      <td>\"I Am Curious: Yellow\" is a risible and preten...</td>\n",
              "      <td>0</td>\n",
              "    </tr>\n",
              "    <tr>\n",
              "      <th>2</th>\n",
              "      <td>If only to avoid making this type of film in t...</td>\n",
              "      <td>0</td>\n",
              "    </tr>\n",
              "    <tr>\n",
              "      <th>3</th>\n",
              "      <td>This film was probably inspired by Godard's Ma...</td>\n",
              "      <td>0</td>\n",
              "    </tr>\n",
              "    <tr>\n",
              "      <th>4</th>\n",
              "      <td>Oh, brother...after hearing about this ridicul...</td>\n",
              "      <td>0</td>\n",
              "    </tr>\n",
              "  </tbody>\n",
              "</table>\n",
              "</div>\n",
              "    <div class=\"colab-df-buttons\">\n",
              "\n",
              "  <div class=\"colab-df-container\">\n",
              "    <button class=\"colab-df-convert\" onclick=\"convertToInteractive('df-649a4375-82c4-437b-b5a6-2967c1460797')\"\n",
              "            title=\"Convert this dataframe to an interactive table.\"\n",
              "            style=\"display:none;\">\n",
              "\n",
              "  <svg xmlns=\"http://www.w3.org/2000/svg\" height=\"24px\" viewBox=\"0 -960 960 960\">\n",
              "    <path d=\"M120-120v-720h720v720H120Zm60-500h600v-160H180v160Zm220 220h160v-160H400v160Zm0 220h160v-160H400v160ZM180-400h160v-160H180v160Zm440 0h160v-160H620v160ZM180-180h160v-160H180v160Zm440 0h160v-160H620v160Z\"/>\n",
              "  </svg>\n",
              "    </button>\n",
              "\n",
              "  <style>\n",
              "    .colab-df-container {\n",
              "      display:flex;\n",
              "      gap: 12px;\n",
              "    }\n",
              "\n",
              "    .colab-df-convert {\n",
              "      background-color: #E8F0FE;\n",
              "      border: none;\n",
              "      border-radius: 50%;\n",
              "      cursor: pointer;\n",
              "      display: none;\n",
              "      fill: #1967D2;\n",
              "      height: 32px;\n",
              "      padding: 0 0 0 0;\n",
              "      width: 32px;\n",
              "    }\n",
              "\n",
              "    .colab-df-convert:hover {\n",
              "      background-color: #E2EBFA;\n",
              "      box-shadow: 0px 1px 2px rgba(60, 64, 67, 0.3), 0px 1px 3px 1px rgba(60, 64, 67, 0.15);\n",
              "      fill: #174EA6;\n",
              "    }\n",
              "\n",
              "    .colab-df-buttons div {\n",
              "      margin-bottom: 4px;\n",
              "    }\n",
              "\n",
              "    [theme=dark] .colab-df-convert {\n",
              "      background-color: #3B4455;\n",
              "      fill: #D2E3FC;\n",
              "    }\n",
              "\n",
              "    [theme=dark] .colab-df-convert:hover {\n",
              "      background-color: #434B5C;\n",
              "      box-shadow: 0px 1px 3px 1px rgba(0, 0, 0, 0.15);\n",
              "      filter: drop-shadow(0px 1px 2px rgba(0, 0, 0, 0.3));\n",
              "      fill: #FFFFFF;\n",
              "    }\n",
              "  </style>\n",
              "\n",
              "    <script>\n",
              "      const buttonEl =\n",
              "        document.querySelector('#df-649a4375-82c4-437b-b5a6-2967c1460797 button.colab-df-convert');\n",
              "      buttonEl.style.display =\n",
              "        google.colab.kernel.accessAllowed ? 'block' : 'none';\n",
              "\n",
              "      async function convertToInteractive(key) {\n",
              "        const element = document.querySelector('#df-649a4375-82c4-437b-b5a6-2967c1460797');\n",
              "        const dataTable =\n",
              "          await google.colab.kernel.invokeFunction('convertToInteractive',\n",
              "                                                    [key], {});\n",
              "        if (!dataTable) return;\n",
              "\n",
              "        const docLinkHtml = 'Like what you see? Visit the ' +\n",
              "          '<a target=\"_blank\" href=https://colab.research.google.com/notebooks/data_table.ipynb>data table notebook</a>'\n",
              "          + ' to learn more about interactive tables.';\n",
              "        element.innerHTML = '';\n",
              "        dataTable['output_type'] = 'display_data';\n",
              "        await google.colab.output.renderOutput(dataTable, element);\n",
              "        const docLink = document.createElement('div');\n",
              "        docLink.innerHTML = docLinkHtml;\n",
              "        element.appendChild(docLink);\n",
              "      }\n",
              "    </script>\n",
              "  </div>\n",
              "\n",
              "\n",
              "    <div id=\"df-144f505d-fc0c-4483-85a5-ff27fb08d004\">\n",
              "      <button class=\"colab-df-quickchart\" onclick=\"quickchart('df-144f505d-fc0c-4483-85a5-ff27fb08d004')\"\n",
              "                title=\"Suggest charts\"\n",
              "                style=\"display:none;\">\n",
              "\n",
              "<svg xmlns=\"http://www.w3.org/2000/svg\" height=\"24px\"viewBox=\"0 0 24 24\"\n",
              "     width=\"24px\">\n",
              "    <g>\n",
              "        <path d=\"M19 3H5c-1.1 0-2 .9-2 2v14c0 1.1.9 2 2 2h14c1.1 0 2-.9 2-2V5c0-1.1-.9-2-2-2zM9 17H7v-7h2v7zm4 0h-2V7h2v10zm4 0h-2v-4h2v4z\"/>\n",
              "    </g>\n",
              "</svg>\n",
              "      </button>\n",
              "\n",
              "<style>\n",
              "  .colab-df-quickchart {\n",
              "      --bg-color: #E8F0FE;\n",
              "      --fill-color: #1967D2;\n",
              "      --hover-bg-color: #E2EBFA;\n",
              "      --hover-fill-color: #174EA6;\n",
              "      --disabled-fill-color: #AAA;\n",
              "      --disabled-bg-color: #DDD;\n",
              "  }\n",
              "\n",
              "  [theme=dark] .colab-df-quickchart {\n",
              "      --bg-color: #3B4455;\n",
              "      --fill-color: #D2E3FC;\n",
              "      --hover-bg-color: #434B5C;\n",
              "      --hover-fill-color: #FFFFFF;\n",
              "      --disabled-bg-color: #3B4455;\n",
              "      --disabled-fill-color: #666;\n",
              "  }\n",
              "\n",
              "  .colab-df-quickchart {\n",
              "    background-color: var(--bg-color);\n",
              "    border: none;\n",
              "    border-radius: 50%;\n",
              "    cursor: pointer;\n",
              "    display: none;\n",
              "    fill: var(--fill-color);\n",
              "    height: 32px;\n",
              "    padding: 0;\n",
              "    width: 32px;\n",
              "  }\n",
              "\n",
              "  .colab-df-quickchart:hover {\n",
              "    background-color: var(--hover-bg-color);\n",
              "    box-shadow: 0 1px 2px rgba(60, 64, 67, 0.3), 0 1px 3px 1px rgba(60, 64, 67, 0.15);\n",
              "    fill: var(--button-hover-fill-color);\n",
              "  }\n",
              "\n",
              "  .colab-df-quickchart-complete:disabled,\n",
              "  .colab-df-quickchart-complete:disabled:hover {\n",
              "    background-color: var(--disabled-bg-color);\n",
              "    fill: var(--disabled-fill-color);\n",
              "    box-shadow: none;\n",
              "  }\n",
              "\n",
              "  .colab-df-spinner {\n",
              "    border: 2px solid var(--fill-color);\n",
              "    border-color: transparent;\n",
              "    border-bottom-color: var(--fill-color);\n",
              "    animation:\n",
              "      spin 1s steps(1) infinite;\n",
              "  }\n",
              "\n",
              "  @keyframes spin {\n",
              "    0% {\n",
              "      border-color: transparent;\n",
              "      border-bottom-color: var(--fill-color);\n",
              "      border-left-color: var(--fill-color);\n",
              "    }\n",
              "    20% {\n",
              "      border-color: transparent;\n",
              "      border-left-color: var(--fill-color);\n",
              "      border-top-color: var(--fill-color);\n",
              "    }\n",
              "    30% {\n",
              "      border-color: transparent;\n",
              "      border-left-color: var(--fill-color);\n",
              "      border-top-color: var(--fill-color);\n",
              "      border-right-color: var(--fill-color);\n",
              "    }\n",
              "    40% {\n",
              "      border-color: transparent;\n",
              "      border-right-color: var(--fill-color);\n",
              "      border-top-color: var(--fill-color);\n",
              "    }\n",
              "    60% {\n",
              "      border-color: transparent;\n",
              "      border-right-color: var(--fill-color);\n",
              "    }\n",
              "    80% {\n",
              "      border-color: transparent;\n",
              "      border-right-color: var(--fill-color);\n",
              "      border-bottom-color: var(--fill-color);\n",
              "    }\n",
              "    90% {\n",
              "      border-color: transparent;\n",
              "      border-bottom-color: var(--fill-color);\n",
              "    }\n",
              "  }\n",
              "</style>\n",
              "\n",
              "      <script>\n",
              "        async function quickchart(key) {\n",
              "          const quickchartButtonEl =\n",
              "            document.querySelector('#' + key + ' button');\n",
              "          quickchartButtonEl.disabled = true;  // To prevent multiple clicks.\n",
              "          quickchartButtonEl.classList.add('colab-df-spinner');\n",
              "          try {\n",
              "            const charts = await google.colab.kernel.invokeFunction(\n",
              "                'suggestCharts', [key], {});\n",
              "          } catch (error) {\n",
              "            console.error('Error during call to suggestCharts:', error);\n",
              "          }\n",
              "          quickchartButtonEl.classList.remove('colab-df-spinner');\n",
              "          quickchartButtonEl.classList.add('colab-df-quickchart-complete');\n",
              "        }\n",
              "        (() => {\n",
              "          let quickchartButtonEl =\n",
              "            document.querySelector('#df-144f505d-fc0c-4483-85a5-ff27fb08d004 button');\n",
              "          quickchartButtonEl.style.display =\n",
              "            google.colab.kernel.accessAllowed ? 'block' : 'none';\n",
              "        })();\n",
              "      </script>\n",
              "    </div>\n",
              "\n",
              "    </div>\n",
              "  </div>\n"
            ],
            "application/vnd.google.colaboratory.intrinsic+json": {
              "type": "dataframe",
              "variable_name": "train_df",
              "summary": "{\n  \"name\": \"train_df\",\n  \"rows\": 25000,\n  \"fields\": [\n    {\n      \"column\": \"text\",\n      \"properties\": {\n        \"dtype\": \"string\",\n        \"num_unique_values\": 24904,\n        \"samples\": [\n          \"Although I didn't like Stanley & Iris tremendously as a film, I did admire the acting. Jane Fonda and Robert De Niro are great in this movie. I haven't always been a fan of Fonda's work but here she is delicate and strong at the same time. De Niro has the ability to make every role he portrays into acting gold. He gives a great performance in this film and there is a great scene where he has to take his father to a home for elderly people because he can't care for him anymore that will break your heart. I wouldn't really recommend this film as a great cinematic entertainment, but I will say you won't see much bette acting anywhere.\",\n          \"Yet again one of the most misunderstood Goddesses of my country has been twisted by \\\"Westerners\\\" who cannot understand the esoteric symbolism of the Mother Goddess in her dark forms. The Mother takes on the frightening form of Kali Mata to destroy our inner demons, and to terrify our egos. And though blood sacrifice is given to Kali and Durga, the events depicted in this film are just absurd. The Mother takes on a wrathful form to be wrathful to our inner demons, limitations, and ego when no other form will suffice. It's also in her wrathful form that she burns away all your Karmas in the \\\"Smashan\\\" fires that you cultivate in your heart for her to dance on if you love her, and she will bring you to reality and truth. Reality and truth has a dark side as well as light, which serves a purpose. The Mother is the embodiment of the physical Universe as well, she is Nature. Nature can be cruel and destructive to maintain balance. You cannot have growth and life without death and destruction. Kali represents the force of destruction for the purpose of new growth and life both mundane and spiritual in the universe. It's very outrageous to me that people who know nothing of India or it's divinity can just take one of our beloved Goddesses and use her like a cheap prostitute to make some low-budget, talentless horror film. How dare they take our beloved Mother and portray her as a horror that makes people chop their eyelids off!? She is only horrific to those who are attached to their ego and who live in delusion , greed, anger, and other inner-demons. It's very clear to me that the person who wrote this movie must have a very serious self-deluding ego, and serious inner-demons to see Kali as so horrible and terrible. When the ego drops away she becomes a form that is enchanting, beautiful, and young, a beauty that is so enchanting to behold that she enchants the entire Universe with it. Kali Maa is an ancient Mother, not to be trifled with for the sake of entertainment, let's just hope that in her endless compassion and mercy that she does not take on wrathful form to those involved with this movie.<br /><br />The audacity that Westerners have in using religions like my own, or the religions of the Caribbean Islands such as Santeria, and Vodou which are actually very positive, and other such religions to twist and exaggerate misunderstood elements that the Western mind cannot comprehend, is totally ridiculous. It's clear that there is no respect for what people live, breathe and believe in when it comes to these kind of flicks.<br /><br />Kali Maa in reality is a caring and compassionate mother, whom we shed tears at her beautiful feet in devotion and love for. And I am happy that my Mother takes on wrathful form sometimes to protect her devotees from themselves and from outside forces.<br /><br />Many Praises to the REAL Kali Maa, who has shown MANY the path of God and realization.\",\n          \"Paris is the place to be to enjoy beautiful art and music, and to fall madly in love - as is the case in this film. Boy meets girl, they fall in love, but something stands in their way of eternal happiness, the classic story.<br /><br />The wonderful music of George Gerschwin complements the great dancing by Gene Kelly and Leslie Caron. \\\"An American in Paris\\\" is a humorous, light-hearted, loving film well worth watching.<br /><br />8/10<br /><br />\"\n        ],\n        \"semantic_type\": \"\",\n        \"description\": \"\"\n      }\n    },\n    {\n      \"column\": \"label\",\n      \"properties\": {\n        \"dtype\": \"number\",\n        \"std\": 0,\n        \"min\": 0,\n        \"max\": 1,\n        \"num_unique_values\": 2,\n        \"samples\": [\n          1,\n          0\n        ],\n        \"semantic_type\": \"\",\n        \"description\": \"\"\n      }\n    }\n  ]\n}"
            }
          },
          "metadata": {},
          "execution_count": 7
        }
      ]
    },
    {
      "cell_type": "markdown",
      "source": [
        "# 데이터 탐색 및 분석"
      ],
      "metadata": {
        "id": "_iIdFHZACEtq"
      }
    },
    {
      "cell_type": "code",
      "source": [
        "# 기본 정보\n",
        "print(f\"📋 기본 정보:\")\n",
        "print(f\"   컬럼: {list(train_df.columns)}\")     # 컬럼: ['text', 'label']\n",
        "print(f\"   훈련 데이터 크기: {train_df.shape}\")     # 훈련 데이터 크기: (25000, 2)\n",
        "print(f\"   테스트 데이터 크기: {test_df.shape}\")    # 테스트 데이터 크기: (25000, 2)"
      ],
      "metadata": {
        "colab": {
          "base_uri": "https://localhost:8080/"
        },
        "id": "bwF3xKx_B3Cx",
        "outputId": "b8a2accf-b641-4e3b-d1b4-239749e6e0bc"
      },
      "execution_count": 8,
      "outputs": [
        {
          "output_type": "stream",
          "name": "stdout",
          "text": [
            "📋 기본 정보:\n",
            "   컬럼: ['text', 'label']\n",
            "   훈련 데이터 크기: (25000, 2)\n",
            "   테스트 데이터 크기: (25000, 2)\n"
          ]
        }
      ]
    },
    {
      "cell_type": "markdown",
      "source": [
        "text, label 칼럼으로 이뤄져 있고 훈련 테스트 모두 25000개의 데이터가 있다."
      ],
      "metadata": {
        "id": "lVrwmpmBCO12"
      }
    },
    {
      "cell_type": "code",
      "source": [
        "# 레이블 분포\n",
        "print(f\"\\n📊 감정 레이블 분포:\")\n",
        "label_counts = train_df['label'].value_counts().sort_index()    # 인덱스 기준(sort_index())으로 value를 세\n",
        "for label, count in label_counts.items():\n",
        "    sentiment = \"Positive\" if label == 1 else \"Negative\"    # 긍정리뷰와 부정리뷰로 매핑\n",
        "    percentage = count / len(train_df) * 100\n",
        "    print(f\"   {sentiment} ({label}): {count:,}개 ({percentage:.1f}%)\")"
      ],
      "metadata": {
        "colab": {
          "base_uri": "https://localhost:8080/"
        },
        "id": "3qe8GqStCN0c",
        "outputId": "1649e4fa-5444-464f-f8c4-f4c45a1878a5"
      },
      "execution_count": 9,
      "outputs": [
        {
          "output_type": "stream",
          "name": "stdout",
          "text": [
            "\n",
            "📊 감정 레이블 분포:\n",
            "   Negative (0): 12,500개 (50.0%)\n",
            "   Positive (1): 12,500개 (50.0%)\n"
          ]
        }
      ]
    },
    {
      "cell_type": "code",
      "source": [
        "# 텍스트 길이 분석\n",
        "train_df['text_length'] = train_df['text'].str.len()\n",
        "train_df['word_count'] = train_df['text'].str.split().str.len()"
      ],
      "metadata": {
        "id": "VweY7kMwDZ49"
      },
      "execution_count": 10,
      "outputs": []
    },
    {
      "cell_type": "code",
      "source": [
        "print(train_df['text'].str.len())\n",
        "# .str: 문자열 접근자 - pandas에서 문자열 메서드를 사용하기 위한 접근자\n",
        "# .len(): 각 문자열의 길이(문자 개수)를 계산"
      ],
      "metadata": {
        "colab": {
          "base_uri": "https://localhost:8080/"
        },
        "id": "mjl7VPwmHY_z",
        "outputId": "43154e1b-7609-4903-8a0c-8e1dfefb3432"
      },
      "execution_count": 11,
      "outputs": [
        {
          "output_type": "stream",
          "name": "stdout",
          "text": [
            "0        1640\n",
            "1        1294\n",
            "2         528\n",
            "3         706\n",
            "4        1814\n",
            "         ... \n",
            "24995     637\n",
            "24996    1091\n",
            "24997     740\n",
            "24998    4066\n",
            "24999     319\n",
            "Name: text, Length: 25000, dtype: int64\n"
          ]
        }
      ]
    },
    {
      "cell_type": "code",
      "source": [
        "print(f\"\\n📏 텍스트 통계:\")\n",
        "print(f\"   평균 글자 수: {train_df['text_length'].mean():.0f}\")\n",
        "print(f\"   평균 단어 수: {train_df['word_count'].mean():.0f}\")\n",
        "print(f\"   최대 글자 수: {train_df['text_length'].max():,}\")\n",
        "print(f\"   최소 글자 수: {train_df['text_length'].min()}\")"
      ],
      "metadata": {
        "colab": {
          "base_uri": "https://localhost:8080/"
        },
        "id": "QEpAAYgJHINd",
        "outputId": "13519df7-34f3-4177-dc39-0bf157ed9546"
      },
      "execution_count": 12,
      "outputs": [
        {
          "output_type": "stream",
          "name": "stdout",
          "text": [
            "\n",
            "📏 텍스트 통계:\n",
            "   평균 글자 수: 1325\n",
            "   평균 단어 수: 234\n",
            "   최대 글자 수: 13,704\n",
            "   최소 글자 수: 52\n"
          ]
        }
      ]
    },
    {
      "cell_type": "markdown",
      "source": [
        "# 샘플 데이터 탐색 시각화"
      ],
      "metadata": {
        "id": "5FIZ545_VK9l"
      }
    },
    {
      "cell_type": "code",
      "source": [
        "n_samples=5\n",
        "\n",
        "for i in range(n_samples):\n",
        "    text = train_df.iloc[i]['text']\n",
        "    label = train_df.iloc[i]['label']\n",
        "    sentiment = \"😊 Positive\" if label == 1 else \"😞 Negative\"\n",
        "\n",
        "    # 텍스트가 너무 길면 앞부분만 표시\n",
        "    display_text = text[:200] + \"...\" if len(text) > 200 else text\n",
        "\n",
        "    print(f\"\\n📄 Sample {i+1}:\")\n",
        "    print(f\"   감정: {sentiment}\")\n",
        "    print(f\"   리뷰: {display_text}\")\n",
        "    print(f\"   길이: {len(text)}자, {len(text.split())}단어\")"
      ],
      "metadata": {
        "colab": {
          "base_uri": "https://localhost:8080/"
        },
        "id": "zT9n2Ce8HV81",
        "outputId": "035630f3-bee8-4747-f185-5b90674bd209"
      },
      "execution_count": 13,
      "outputs": [
        {
          "output_type": "stream",
          "name": "stdout",
          "text": [
            "\n",
            "📄 Sample 1:\n",
            "   감정: 😞 Negative\n",
            "   리뷰: I rented I AM CURIOUS-YELLOW from my video store because of all the controversy that surrounded it when it was first released in 1967. I also heard that at first it was seized by U.S. customs if it ev...\n",
            "   길이: 1640자, 288단어\n",
            "\n",
            "📄 Sample 2:\n",
            "   감정: 😞 Negative\n",
            "   리뷰: \"I Am Curious: Yellow\" is a risible and pretentious steaming pile. It doesn't matter what one's political views are because this film can hardly be taken seriously on any level. As for the claim that ...\n",
            "   길이: 1294자, 214단어\n",
            "\n",
            "📄 Sample 3:\n",
            "   감정: 😞 Negative\n",
            "   리뷰: If only to avoid making this type of film in the future. This film is interesting as an experiment but tells no cogent story.<br /><br />One might feel virtuous for sitting thru it because it touches ...\n",
            "   길이: 528자, 93단어\n",
            "\n",
            "📄 Sample 4:\n",
            "   감정: 😞 Negative\n",
            "   리뷰: This film was probably inspired by Godard's Masculin, féminin and I urge you to see that film instead.<br /><br />The film has two strong elements and those are, (1) the realistic acting (2) the impre...\n",
            "   길이: 706자, 118단어\n",
            "\n",
            "📄 Sample 5:\n",
            "   감정: 😞 Negative\n",
            "   리뷰: Oh, brother...after hearing about this ridiculous film for umpteen years all I can think of is that old Peggy Lee song..<br /><br />\"Is that all there is??\" ...I was just an early teen when this smoke...\n",
            "   길이: 1814자, 311단어\n"
          ]
        }
      ]
    },
    {
      "cell_type": "code",
      "source": [
        "fig, axes = plt.subplots(2, 2, figsize=(15, 10))\n",
        "\n",
        "# 1. 감정 레이블 분포\n",
        "label_counts = train_df['label'].value_counts().sort_index()\n",
        "bars1 = axes[0, 0].bar(['Negative (0)', 'Positive (1)'], label_counts.values,\n",
        "                        color=['#ff6b6b', '#4ecdc4'], alpha=0.8)\n",
        "axes[0, 0].set_title('감정 레이블 분포', fontsize=14, fontweight='bold')\n",
        "axes[0, 0].set_ylabel('개수')\n",
        "\n",
        "# 막대에 수치 표시\n",
        "for bar in bars1:\n",
        "    height = bar.get_height()\n",
        "    axes[0, 0].text(bar.get_x() + bar.get_width()/2., height,\n",
        "                    f'{int(height):,}', ha='center', va='bottom')\n",
        "\n",
        "# 2. 텍스트 길이 분포\n",
        "axes[0, 1].hist(train_df['text_length'], bins=50, alpha=0.7, color='skyblue',\n",
        "                edgecolor='black')\n",
        "axes[0, 1].set_title('텍스트 길이 분포')\n",
        "axes[0, 1].set_xlabel('글자 수')\n",
        "axes[0, 1].set_ylabel('빈도')\n",
        "axes[0, 1].axvline(train_df['text_length'].mean(), color='red', linestyle='--',\n",
        "                    label=f'평균: {train_df[\"text_length\"].mean():.0f}')\n",
        "axes[0, 1].legend()\n",
        "\n",
        "# 3. 단어 수 분포\n",
        "axes[1, 0].hist(train_df['word_count'], bins=50, alpha=0.7, color='lightgreen',\n",
        "                edgecolor='black')\n",
        "axes[1, 0].set_title('단어 수 분포')\n",
        "axes[1, 0].set_xlabel('단어 수')\n",
        "axes[1, 0].set_ylabel('빈도')\n",
        "axes[1, 0].axvline(train_df['word_count'].mean(), color='red', linestyle='--',\n",
        "                    label=f'평균: {train_df[\"word_count\"].mean():.0f}')\n",
        "axes[1, 0].legend()\n",
        "\n",
        "# 4. 감정별 평균 길이 비교\n",
        "pos_lengths = train_df[train_df['label'] == 1]['text_length']\n",
        "neg_lengths = train_df[train_df['label'] == 0]['text_length']\n",
        "\n",
        "axes[1, 1].boxplot([neg_lengths, pos_lengths],\n",
        "                    labels=['Negative', 'Positive'])\n",
        "axes[1, 1].set_title('감정별 텍스트 길이 비교')\n",
        "axes[1, 1].set_ylabel('글자 수')\n",
        "\n",
        "plt.tight_layout()\n",
        "plt.show()"
      ],
      "metadata": {
        "colab": {
          "base_uri": "https://localhost:8080/",
          "height": 1000
        },
        "id": "5mPxjNgPVq_T",
        "outputId": "56996d5d-2997-4098-ec2c-642dce72fc80"
      },
      "execution_count": 14,
      "outputs": [
        {
          "output_type": "display_data",
          "data": {
            "text/plain": [
              "<Figure size 1500x1000 with 4 Axes>"
            ],
            "image/png": "[encoded data removed]"
          },
          "metadata": {}
        }
      ]
    },
    {
      "cell_type": "markdown",
      "source": [
        "빈도가 높은 단어 15개 출력"
      ],
      "metadata": {
        "id": "E2ELo-w0YTK3"
      }
    },
    {
      "cell_type": "code",
      "source": [
        "# 전체 단어 추출\n",
        "top_n=15\n",
        "\n",
        "all_words = []\n",
        "for text in train_df['text']:\n",
        "    words = text.lower().split()\n",
        "    all_words.extend(words)\n",
        "\n",
        "# 단어 빈도 계산\n",
        "word_freq = Counter(all_words)\n",
        "total_words = len(all_words)\n",
        "unique_words = len(word_freq)\n",
        "\n",
        "print(f\"📈 전체 통계:\")\n",
        "print(f\"   총 단어 수: {total_words:,}개\")\n",
        "print(f\"   고유 단어 수: {unique_words:,}개\")\n",
        "print(f\"   어휘 다양성: {unique_words/total_words:.4f}\")\n",
        "\n",
        "print(f\"\\n🔤 가장 빈번한 단어 Top {top_n}:\")\n",
        "for i, (word, freq) in enumerate(word_freq.most_common(top_n), 1):\n",
        "    percentage = freq / total_words * 100\n",
        "    print(f\"   {i:2d}. {word:15s}: {freq:6,}회 ({percentage:.2f}%)\")"
      ],
      "metadata": {
        "colab": {
          "base_uri": "https://localhost:8080/"
        },
        "id": "wzY91xyDV7Ek",
        "outputId": "a17264d5-494e-40af-f1e2-529e408dc984"
      },
      "execution_count": 15,
      "outputs": [
        {
          "output_type": "stream",
          "name": "stdout",
          "text": [
            "📈 전체 통계:\n",
            "   총 단어 수: 5,844,680개\n",
            "   고유 단어 수: 251,637개\n",
            "   어휘 다양성: 0.0431\n",
            "\n",
            "🔤 가장 빈번한 단어 Top 15:\n",
            "    1. the            : 322,198회 (5.51%)\n",
            "    2. a              : 159,953회 (2.74%)\n",
            "    3. and            : 158,572회 (2.71%)\n",
            "    4. of             : 144,462회 (2.47%)\n",
            "    5. to             : 133,967회 (2.29%)\n",
            "    6. is             : 104,171회 (1.78%)\n",
            "    7. in             : 90,527회 (1.55%)\n",
            "    8. i              : 70,480회 (1.21%)\n",
            "    9. this           : 69,714회 (1.19%)\n",
            "   10. that           : 66,292회 (1.13%)\n",
            "   11. it             : 65,505회 (1.12%)\n",
            "   12. /><br          : 50,935회 (0.87%)\n",
            "   13. was            : 47,024회 (0.80%)\n",
            "   14. as             : 45,102회 (0.77%)\n",
            "   15. for            : 42,843회 (0.73%)\n"
          ]
        }
      ]
    },
    {
      "cell_type": "markdown",
      "source": [
        "/><br가 꽤 빈번하게 나오는 것을 확인했다.\n",
        "\n",
        "html 마크업 문법이거나 문장 사이 구분자 같다.   \n",
        "※ 특정 문자가 있는 문장만 출력하는 구문이 있으면 좋을 것 같다."
      ],
      "metadata": {
        "id": "Mh43ZIiwaWHK"
      }
    },
    {
      "cell_type": "markdown",
      "source": [
        "# 결측값, 중복값, 공백, 극단값 확인"
      ],
      "metadata": {
        "id": "nDZZaWh2bMHZ"
      }
    },
    {
      "cell_type": "code",
      "source": [
        "pd.set_option('display.max_colwidth', None)  # 칼럼 폭 제한 없음\n",
        "find_br = train_df[train_df['text'].str.contains('/><br')]"
      ],
      "metadata": {
        "id": "OWmXaVfib_Xc"
      },
      "execution_count": 16,
      "outputs": []
    },
    {
      "cell_type": "code",
      "source": [
        "find_br['text'].head(2)"
      ],
      "metadata": {
        "colab": {
          "base_uri": "https://localhost:8080/",
          "height": 303
        },
        "id": "hBNVVGeWhEWi",
        "outputId": "d57a57fd-05af-4154-aca4-8c7efb82968b"
      },
      "execution_count": 17,
      "outputs": [
        {
          "output_type": "execute_result",
          "data": {
            "text/plain": [
              "0    I rented I AM CURIOUS-YELLOW from my video store because of all the controversy that surrounded it when it was first released in 1967. I also heard that at first it was seized by U.S. customs if it ever tried to enter this country, therefore being a fan of films considered \"controversial\" I really had to see this for myself.<br /><br />The plot is centered around a young Swedish drama student named Lena who wants to learn everything she can about life. In particular she wants to focus her attentions to making some sort of documentary on what the average Swede thought about certain political issues such as the Vietnam War and race issues in the United States. In between asking politicians and ordinary denizens of Stockholm about their opinions on politics, she has sex with her drama teacher, classmates, and married men.<br /><br />What kills me about I AM CURIOUS-YELLOW is that 40 years ago, this was considered pornographic. Really, the sex and nudity scenes are few and far between, even then it's not shot like some cheaply made porno. While my countrymen mind find it shocking, in reality sex and nudity are a major staple in Swedish cinema. Even Ingmar Bergman, arguably their answer to good old boy John Ford, had sex scenes in his films.<br /><br />I do commend the filmmakers for the fact that any sex shown in the film is shown for artistic purposes rather than just to shock people and make money to be shown in pornographic theaters in America. I AM CURIOUS-YELLOW is a good film for anyone wanting to study the meat and potatoes (no pun intended) of Swedish cinema. But really, this film doesn't have much of a plot.\n",
              "2                                                                                                                                                                                                                                                                                                                                                                                                                                                                                                                                                                                                                                                                                                                                                                                                                                                                                                                                                                                                                                                                                                                                                            If only to avoid making this type of film in the future. This film is interesting as an experiment but tells no cogent story.<br /><br />One might feel virtuous for sitting thru it because it touches on so many IMPORTANT issues but it does so without any discernable motive. The viewer comes away with no new perspectives (unless one comes up with one while one's mind wanders, as it will invariably do during this pointless film).<br /><br />One might better spend one's time staring out a window at a tree growing.<br /><br />\n",
              "Name: text, dtype: object"
            ],
            "text/html": [
              "<div>\n",
              "<style scoped>\n",
              "    .dataframe tbody tr th:only-of-type {\n",
              "        vertical-align: middle;\n",
              "    }\n",
              "\n",
              "    .dataframe tbody tr th {\n",
              "        vertical-align: top;\n",
              "    }\n",
              "\n",
              "    .dataframe thead th {\n",
              "        text-align: right;\n",
              "    }\n",
              "</style>\n",
              "<table border=\"1\" class=\"dataframe\">\n",
              "  <thead>\n",
              "    <tr style=\"text-align: right;\">\n",
              "      <th></th>\n",
              "      <th>text</th>\n",
              "    </tr>\n",
              "  </thead>\n",
              "  <tbody>\n",
              "    <tr>\n",
              "      <th>0</th>\n",
              "      <td>I rented I AM CURIOUS-YELLOW from my video store because of all the controversy that surrounded it when it was first released in 1967. I also heard that at first it was seized by U.S. customs if it ever tried to enter this country, therefore being a fan of films considered \"controversial\" I really had to see this for myself.&lt;br /&gt;&lt;br /&gt;The plot is centered around a young Swedish drama student named Lena who wants to learn everything she can about life. In particular she wants to focus her attentions to making some sort of documentary on what the average Swede thought about certain political issues such as the Vietnam War and race issues in the United States. In between asking politicians and ordinary denizens of Stockholm about their opinions on politics, she has sex with her drama teacher, classmates, and married men.&lt;br /&gt;&lt;br /&gt;What kills me about I AM CURIOUS-YELLOW is that 40 years ago, this was considered pornographic. Really, the sex and nudity scenes are few and far between, even then it's not shot like some cheaply made porno. While my countrymen mind find it shocking, in reality sex and nudity are a major staple in Swedish cinema. Even Ingmar Bergman, arguably their answer to good old boy John Ford, had sex scenes in his films.&lt;br /&gt;&lt;br /&gt;I do commend the filmmakers for the fact that any sex shown in the film is shown for artistic purposes rather than just to shock people and make money to be shown in pornographic theaters in America. I AM CURIOUS-YELLOW is a good film for anyone wanting to study the meat and potatoes (no pun intended) of Swedish cinema. But really, this film doesn't have much of a plot.</td>\n",
              "    </tr>\n",
              "    <tr>\n",
              "      <th>2</th>\n",
              "      <td>If only to avoid making this type of film in the future. This film is interesting as an experiment but tells no cogent story.&lt;br /&gt;&lt;br /&gt;One might feel virtuous for sitting thru it because it touches on so many IMPORTANT issues but it does so without any discernable motive. The viewer comes away with no new perspectives (unless one comes up with one while one's mind wanders, as it will invariably do during this pointless film).&lt;br /&gt;&lt;br /&gt;One might better spend one's time staring out a window at a tree growing.&lt;br /&gt;&lt;br /&gt;</td>\n",
              "    </tr>\n",
              "  </tbody>\n",
              "</table>\n",
              "</div><br><label><b>dtype:</b> object</label>"
            ]
          },
          "metadata": {},
          "execution_count": 17
        }
      ]
    },
    {
      "cell_type": "code",
      "source": [
        "print(find_br['text'].head(1))"
      ],
      "metadata": {
        "colab": {
          "base_uri": "https://localhost:8080/"
        },
        "id": "IlFvtsL7c0wS",
        "outputId": "9ea92541-6674-45a1-c9e6-b15cfd3b8c53"
      },
      "execution_count": 18,
      "outputs": [
        {
          "output_type": "stream",
          "name": "stdout",
          "text": [
            "0    I rented I AM CURIOUS-YELLOW from my video store because of all the controversy that surrounded it when it was first released in 1967. I also heard that at first it was seized by U.S. customs if it ever tried to enter this country, therefore being a fan of films considered \"controversial\" I really had to see this for myself.<br /><br />The plot is centered around a young Swedish drama student named Lena who wants to learn everything she can about life. In particular she wants to focus her attentions to making some sort of documentary on what the average Swede thought about certain political issues such as the Vietnam War and race issues in the United States. In between asking politicians and ordinary denizens of Stockholm about their opinions on politics, she has sex with her drama teacher, classmates, and married men.<br /><br />What kills me about I AM CURIOUS-YELLOW is that 40 years ago, this was considered pornographic. Really, the sex and nudity scenes are few and far between, even then it's not shot like some cheaply made porno. While my countrymen mind find it shocking, in reality sex and nudity are a major staple in Swedish cinema. Even Ingmar Bergman, arguably their answer to good old boy John Ford, had sex scenes in his films.<br /><br />I do commend the filmmakers for the fact that any sex shown in the film is shown for artistic purposes rather than just to shock people and make money to be shown in pornographic theaters in America. I AM CURIOUS-YELLOW is a good film for anyone wanting to study the meat and potatoes (no pun intended) of Swedish cinema. But really, this film doesn't have much of a plot.\n",
            "Name: text, dtype: object\n"
          ]
        }
      ]
    },
    {
      "cell_type": "markdown",
      "source": [
        "문장이 여러개가 있는 것을 확인했다."
      ],
      "metadata": {
        "id": "Ql-eP7rAgCYU"
      }
    },
    {
      "cell_type": "code",
      "source": [
        "# 결측값 확인\n",
        "missing_text = train_df['text'].isnull().sum()\n",
        "missing_label = train_df['label'].isnull().sum()\n",
        "print(f\"📋 결측값:\")\n",
        "print(f\"   텍스트: {missing_text}개\")\n",
        "print(f\"   레이블: {missing_label}개\")"
      ],
      "metadata": {
        "colab": {
          "base_uri": "https://localhost:8080/"
        },
        "id": "5uUhl0xyYQDM",
        "outputId": "72c60b05-cc9f-4ca9-fa16-8a09acb35640"
      },
      "execution_count": 19,
      "outputs": [
        {
          "output_type": "stream",
          "name": "stdout",
          "text": [
            "📋 결측값:\n",
            "   텍스트: 0개\n",
            "   레이블: 0개\n"
          ]
        }
      ]
    },
    {
      "cell_type": "code",
      "source": [
        "# 빈 텍스트 확인\n",
        "empty_text = (train_df['text'].str.strip() == '').sum()\n",
        "print(f\"   빈 텍스트: {empty_text}개\")"
      ],
      "metadata": {
        "colab": {
          "base_uri": "https://localhost:8080/"
        },
        "id": "JEnkSRSgbWyw",
        "outputId": "3107fa52-a8f1-4e4c-a9b7-62f6744d7495"
      },
      "execution_count": 20,
      "outputs": [
        {
          "output_type": "stream",
          "name": "stdout",
          "text": [
            "   빈 텍스트: 0개\n"
          ]
        }
      ]
    },
    {
      "cell_type": "code",
      "source": [
        "# 중복 확인\n",
        "duplicates = train_df.duplicated().sum()\n",
        "print(f\"   중복 데이터: {duplicates}개\")"
      ],
      "metadata": {
        "colab": {
          "base_uri": "https://localhost:8080/"
        },
        "id": "WGKuLyulbZV4",
        "outputId": "c0b8a9ac-4809-4d7d-bd9e-ae4f317daa57"
      },
      "execution_count": 21,
      "outputs": [
        {
          "output_type": "stream",
          "name": "stdout",
          "text": [
            "   중복 데이터: 96개\n"
          ]
        }
      ]
    },
    {
      "cell_type": "code",
      "source": [
        "# 극단적으로 짧거나 긴 텍스트\n",
        "very_short = (train_df['text_length'] < 50).sum()\n",
        "very_long = (train_df['text_length'] > 5000).sum()\n",
        "print(f\"   매우 짧은 텍스트 (<50자): {very_short}개\")\n",
        "print(f\"   매우 긴 텍스트 (>5000자): {very_long}개\")\n",
        "\n",
        "if missing_text == 0 and missing_label == 0 and empty_text == 0:\n",
        "    print(\"   ✅ 데이터 품질 양호!\")\n",
        "else:\n",
        "    print(\"   ⚠️ 데이터 전처리 필요\")"
      ],
      "metadata": {
        "colab": {
          "base_uri": "https://localhost:8080/"
        },
        "id": "E4lyEoX0beuy",
        "outputId": "71ccbd40-bfec-44c8-85dc-fb01ccd4106c"
      },
      "execution_count": 22,
      "outputs": [
        {
          "output_type": "stream",
          "name": "stdout",
          "text": [
            "   매우 짧은 텍스트 (<50자): 0개\n",
            "   매우 긴 텍스트 (>5000자): 313개\n",
            "   ✅ 데이터 품질 양호!\n"
          ]
        }
      ]
    },
    {
      "cell_type": "markdown",
      "source": [
        "## 현재까지 파악한 것\n",
        "\n",
        "1. 문장의 길이가 상당하다.\n",
        "2. /><br가 있어 불용어 처리가 필요하다."
      ],
      "metadata": {
        "id": "YbsdlmQTi1sX"
      }
    },
    {
      "cell_type": "markdown",
      "source": [
        "# 데이터 전처리 및 토큰화"
      ],
      "metadata": {
        "id": "ljTWKPaHjLic"
      }
    },
    {
      "cell_type": "markdown",
      "source": [
        "## 데이터 전처리"
      ],
      "metadata": {
        "id": "P2x0D0sgjO_O"
      }
    },
    {
      "cell_type": "code",
      "source": [
        "import re\n",
        "import string\n",
        "# NLTK 라이브러리\n",
        "import nltk\n",
        "from nltk.corpus import stopwords\n",
        "from nltk.tokenize import word_tokenize\n",
        "from nltk.stem import PorterStemmer, WordNetLemmatizer"
      ],
      "metadata": {
        "id": "IAtm1iRVbiEC"
      },
      "execution_count": 23,
      "outputs": []
    },
    {
      "cell_type": "code",
      "source": [
        "# NLTK 데이터 다운로드 (최초 한 번만)\n",
        "def download_nltk_data():\n",
        "    \"\"\"NLTK 필요 데이터 다운로드\"\"\"\n",
        "    nltk_data = ['punkt', 'stopwords', 'wordnet', 'averaged_perceptron_tagger', 'punkt_tab']\n",
        "\n",
        "    for data in nltk_data:\n",
        "        try:\n",
        "            nltk.data.find(f'tokenizers/{data}' if data == 'punkt' or data == 'punkt_tab' else\n",
        "                          f'corpora/{data}' if data in ['stopwords', 'wordnet'] else\n",
        "                          f'taggers/{data}')\n",
        "        except LookupError:\n",
        "            print(f\"📥 NLTK {data} 다운로드 중...\")\n",
        "            nltk.download(data, quiet=True)\n",
        "    print(\"✅ 다운로드 완료!\")"
      ],
      "metadata": {
        "id": "_9JQEjjdmW9A"
      },
      "execution_count": 24,
      "outputs": []
    },
    {
      "cell_type": "code",
      "source": [
        "# NLTK 데이터 다운로드\n",
        "download_nltk_data()"
      ],
      "metadata": {
        "colab": {
          "base_uri": "https://localhost:8080/"
        },
        "id": "L8QE2oLmmijr",
        "outputId": "d2662e53-59c5-4720-fca9-59a8062c79b9"
      },
      "execution_count": 25,
      "outputs": [
        {
          "output_type": "stream",
          "name": "stdout",
          "text": [
            "📥 NLTK wordnet 다운로드 중...\n",
            "✅ 다운로드 완료!\n"
          ]
        }
      ]
    },
    {
      "cell_type": "code",
      "source": [
        "class IMDBPreprocessor:\n",
        "    \"\"\"IMDB 데이터 전용 전처리 클래스\"\"\"\n",
        "\n",
        "    def __init__(self):\n",
        "        # 도구 초기화\n",
        "        self.stemmer = PorterStemmer()\n",
        "        self.lemmatizer = WordNetLemmatizer()\n",
        "        self.stop_words = set(stopwords.words('english'))\n",
        "\n",
        "        # IMDB 특화 불용어 추가\n",
        "        self.custom_stopwords = {\n",
        "            'movie', 'film', 'movies', 'films', 'cinema', 'watch', 'watching',\n",
        "            'watched', 'see', 'seen', 'show', 'series', 'episode', 'character',\n",
        "            'characters', 'story', 'plot', 'scene', 'scenes', 'director',\n",
        "            'actor', 'actress', 'acting', 'performance', 'cast', 'script',\n",
        "            'one', 'two', 'would', 'could', 'should', 'also', 'get', 'go',\n",
        "            'time', 'even', 'really', 'much', 'well', 'way', 'make', 'made',\n",
        "            'take', 'year', 'years', 'end', 'first', 'last', 'good', 'bad'\n",
        "        }\n",
        "        self.stop_words.update(self.custom_stopwords)\n",
        "\n",
        "        # 축약형 사전\n",
        "        self.contractions = {\n",
        "            \"don't\": \"do not\", \"won't\": \"will not\", \"can't\": \"cannot\",\n",
        "            \"n't\": \" not\", \"'re\": \" are\", \"'ve\": \" have\", \"'ll\": \" will\",\n",
        "            \"'d\": \" would\", \"'m\": \" am\", \"it's\": \"it is\", \"that's\": \"that is\",\n",
        "            \"there's\": \"there is\", \"here's\": \"here is\", \"what's\": \"what is\",\n",
        "            \"where's\": \"where is\", \"who's\": \"who is\", \"how's\": \"how is\",\n",
        "            \"let's\": \"let us\", \"i'm\": \"i am\", \"you're\": \"you are\",\n",
        "            \"we're\": \"we are\", \"they're\": \"they are\", \"i've\": \"i have\",\n",
        "            \"you've\": \"you have\", \"we've\": \"we have\", \"they've\": \"they have\",\n",
        "            \"i'll\": \"i will\", \"you'll\": \"you will\", \"we'll\": \"we will\",\n",
        "            \"they'll\": \"they will\", \"i'd\": \"i would\", \"you'd\": \"you would\",\n",
        "            \"we'd\": \"we would\", \"they'd\": \"they would\"\n",
        "        }\n",
        "\n",
        "    def clean_html(self, text):\n",
        "        \"\"\"HTML 태그 제거\"\"\"\n",
        "        # IMDB 데이터에 특히 많은 <br /> 태그 제거\n",
        "        text = re.sub(r'<br\\s*/?>', ' ', text, flags=re.IGNORECASE)\n",
        "        # 기타 HTML 태그 제거\n",
        "        text = re.sub(r'<[^>]+>', '', text)\n",
        "        return text\n",
        "\n",
        "    def clean_urls_emails(self, text):\n",
        "        \"\"\"URL과 이메일 제거\"\"\"\n",
        "        # URL 제거\n",
        "        text = re.sub(r'http\\S+|www\\S+|https\\S+', '', text, flags=re.MULTILINE)\n",
        "        # 이메일 제거\n",
        "        text = re.sub(r'\\S+@\\S+', '', text)\n",
        "        return text\n",
        "\n",
        "    def expand_contractions(self, text):\n",
        "        \"\"\"축약형 확장\"\"\"\n",
        "        for contraction, expansion in self.contractions.items():\n",
        "            text = text.replace(contraction, expansion)\n",
        "        return text\n",
        "\n",
        "    def clean_text(self, text):\n",
        "        \"\"\"기본 텍스트 정제\"\"\"\n",
        "        if not isinstance(text, str):\n",
        "            return \"\"\n",
        "\n",
        "        # 1. HTML 태그 제거\n",
        "        text = self.clean_html(text)\n",
        "\n",
        "        # 2. URL, 이메일 제거\n",
        "        text = self.clean_urls_emails(text)\n",
        "\n",
        "        # 3. 소문자 변환\n",
        "        text = text.lower()\n",
        "\n",
        "        # 4. 축약형 확장\n",
        "        text = self.expand_contractions(text)\n",
        "\n",
        "        # 5. 숫자 제거 (선택적 - 평점 등이 중요할 수 있음)\n",
        "        # text = re.sub(r'\\d+', '', text)\n",
        "\n",
        "        # 6. 특수문자 제거 (문자와 공백만 남김)\n",
        "        text = re.sub(r'[^a-zA-Z\\s]', ' ', text)\n",
        "\n",
        "        # 7. 연속된 공백을 하나로\n",
        "        text = re.sub(r'\\s+', ' ', text)\n",
        "\n",
        "        # 8. 양쪽 공백 제거\n",
        "        text = text.strip()\n",
        "\n",
        "        return text\n",
        "\n",
        "    def tokenize_and_filter(self, text):\n",
        "        \"\"\"토큰화 및 필터링\"\"\"\n",
        "        # 토큰화: 단어 토큰화\n",
        "        tokens = word_tokenize(text)\n",
        "\n",
        "        # 구두점 제거\n",
        "        tokens = [token for token in tokens if token not in string.punctuation]\n",
        "\n",
        "        # 길이가 2 이상인 토큰만 선택\n",
        "        tokens = [token for token in tokens if len(token) >= 2]\n",
        "\n",
        "        # 불용어 제거\n",
        "        tokens = [token for token in tokens if token.lower() not in self.stop_words]\n",
        "\n",
        "        return tokens\n",
        "\n",
        "    def lemmatize_tokens(self, tokens):\n",
        "        \"\"\"표제어 추출\"\"\"\n",
        "        return [self.lemmatizer.lemmatize(token) for token in tokens]\n",
        "\n",
        "    def stem_tokens(self, tokens):\n",
        "        \"\"\"어간 추출\"\"\"\n",
        "        return [self.stemmer.stem(token) for token in tokens]\n",
        "\n",
        "    def preprocess_text(self, text, use_lemmatization=True, use_stemming=False):\n",
        "        \"\"\"전체 전처리 파이프라인\"\"\"\n",
        "        # 1. 텍스트 정제\n",
        "        cleaned_text = self.clean_text(text)\n",
        "\n",
        "        # 2. 토큰화 및 필터링\n",
        "        tokens = self.tokenize_and_filter(cleaned_text)\n",
        "\n",
        "        # 3. 표제어 추출 또는 어간 추출\n",
        "        if use_lemmatization:\n",
        "            tokens = self.lemmatize_tokens(tokens)\n",
        "        elif use_stemming:\n",
        "            tokens = self.stem_tokens(tokens)\n",
        "\n",
        "        return tokens\n",
        "\n",
        "    def process_dataframe(self, df, text_column='text'):\n",
        "        \"\"\"DataFrame 전처리\"\"\"\n",
        "        print(f\"📊 {len(df)}개 텍스트 전처리 중...\")\n",
        "\n",
        "        # 1. 원본 텍스트 정제\n",
        "        print(\"   1단계: 텍스트 정제...\")\n",
        "        df['cleaned_text'] = df[text_column].apply(self.clean_text)\n",
        "\n",
        "        # 2. 토큰화\n",
        "        print(\"   2단계: 토큰화 및 표제어 추출...\")\n",
        "        df['tokens'] = df['cleaned_text'].apply(\n",
        "            lambda x: self.preprocess_text(x, use_lemmatization=True)\n",
        "        )\n",
        "\n",
        "        # 3. 토큰을 문자열로 결합 (나중에 벡터화할 때 사용)\n",
        "        df['processed_text'] = df['tokens'].apply(lambda x: ' '.join(x))\n",
        "\n",
        "        # 4. 통계 계산\n",
        "        df['token_count'] = df['tokens'].apply(len)\n",
        "        df['processed_length'] = df['processed_text'].str.len()\n",
        "\n",
        "        print(f\"   ✅ 전처리 완료!\")\n",
        "        return df"
      ],
      "metadata": {
        "id": "kntrCY0NmjWR"
      },
      "execution_count": 26,
      "outputs": []
    },
    {
      "cell_type": "code",
      "source": [
        "# Step 1에서 로드한 데이터 확인\n",
        "try:\n",
        "    train_df = train_df.copy()  # Step 1에서 저장된 변수 사용\n",
        "    test_df = test_df.copy()\n",
        "    print(f\"✅ Step 1 데이터 로드 완료\")\n",
        "    print(f\"   훈련 데이터: {len(train_df):,}개\")\n",
        "    print(f\"   테스트 데이터: {len(test_df):,}개\")\n",
        "except NameError:\n",
        "    print(\"❌ Step 1을 먼저 실행하여 데이터를 로드하세요.\")"
      ],
      "metadata": {
        "colab": {
          "base_uri": "https://localhost:8080/"
        },
        "id": "Mq1AJSaQn6EW",
        "outputId": "96e3c7c9-dd33-4a9a-e290-0505c040c682"
      },
      "execution_count": 27,
      "outputs": [
        {
          "output_type": "stream",
          "name": "stdout",
          "text": [
            "✅ Step 1 데이터 로드 완료\n",
            "   훈련 데이터: 25,000개\n",
            "   테스트 데이터: 25,000개\n"
          ]
        }
      ]
    },
    {
      "cell_type": "code",
      "source": [
        "# 전처리기 초기화\n",
        "preprocessor = IMDBPreprocessor()"
      ],
      "metadata": {
        "id": "SpfO5KI_nZYG"
      },
      "execution_count": 28,
      "outputs": []
    },
    {
      "cell_type": "code",
      "source": [
        "# 훈련 데이터 전처리\n",
        "train_processed = preprocessor.process_dataframe(train_df)\n",
        "test_processed = preprocessor.process_dataframe(test_df)"
      ],
      "metadata": {
        "colab": {
          "base_uri": "https://localhost:8080/"
        },
        "id": "4N41e_BfnpKo",
        "outputId": "c955d01f-46b3-4c33-9512-873c2d5c17d0"
      },
      "execution_count": 29,
      "outputs": [
        {
          "output_type": "stream",
          "name": "stdout",
          "text": [
            "📊 25000개 텍스트 전처리 중...\n",
            "   1단계: 텍스트 정제...\n",
            "   2단계: 토큰화 및 표제어 추출...\n",
            "   ✅ 전처리 완료!\n",
            "📊 25000개 텍스트 전처리 중...\n",
            "   1단계: 텍스트 정제...\n",
            "   2단계: 토큰화 및 표제어 추출...\n",
            "   ✅ 전처리 완료!\n"
          ]
        }
      ]
    },
    {
      "cell_type": "code",
      "source": [
        "def analyze_preprocessing_results(original_df, processed_df):\n",
        "    \"\"\"전처리 결과 분석\"\"\"\n",
        "    print(f\"\\n📊 전처리 결과 분석\")\n",
        "    print(\"=\" * 40)\n",
        "\n",
        "    # 기본 통계\n",
        "    original_avg_length = original_df['text'].str.len().mean()\n",
        "    processed_avg_length = processed_df['processed_length'].mean()\n",
        "    original_avg_words = original_df['text'].str.split().str.len().mean()\n",
        "    processed_avg_tokens = processed_df['token_count'].mean()\n",
        "\n",
        "    print(f\"📏 길이 변화:\")\n",
        "    print(f\"   원본 평균 글자 수: {original_avg_length:.0f}\")\n",
        "    print(f\"   처리 후 평균 글자 수: {processed_avg_length:.0f}\")\n",
        "    print(f\"   글자 수 감소율: {(1 - processed_avg_length/original_avg_length)*100:.1f}%\")\n",
        "\n",
        "    print(f\"\\n🔤 토큰 변화:\")\n",
        "    print(f\"   원본 평균 단어 수: {original_avg_words:.0f}\")\n",
        "    print(f\"   처리 후 평균 토큰 수: {processed_avg_tokens:.0f}\")\n",
        "    print(f\"   토큰 수 감소율: {(1 - processed_avg_tokens/original_avg_words)*100:.1f}%\")\n",
        "\n",
        "    # 시각화\n",
        "    fig, axes = plt.subplots(2, 2, figsize=(15, 10))\n",
        "\n",
        "    # 1. 전처리 전후 길이 비교\n",
        "    axes[0, 0].hist(original_df['text'].str.len(), bins=50, alpha=0.7,\n",
        "                   label='전처리 전', color='red')\n",
        "    axes[0, 0].hist(processed_df['processed_length'], bins=50, alpha=0.7,\n",
        "                   label='전처리 후', color='blue')\n",
        "    axes[0, 0].set_title('텍스트 길이 비교')\n",
        "    axes[0, 0].set_xlabel('글자 수')\n",
        "    axes[0, 0].set_ylabel('빈도')\n",
        "    axes[0, 0].legend()\n",
        "\n",
        "    # 2. 토큰 수 분포\n",
        "    axes[0, 1].hist(processed_df['token_count'], bins=50, alpha=0.7, color='green')\n",
        "    axes[0, 1].set_title('전처리 후 토큰 수 분포')\n",
        "    axes[0, 1].set_xlabel('토큰 수')\n",
        "    axes[0, 1].set_ylabel('빈도')\n",
        "    axes[0, 1].axvline(processed_df['token_count'].mean(), color='red',\n",
        "                      linestyle='--', label=f'평균: {processed_df[\"token_count\"].mean():.0f}')\n",
        "    axes[0, 1].legend()\n",
        "\n",
        "    # 3. 감정별 토큰 수 비교\n",
        "    pos_tokens = processed_df[processed_df['label'] == 1]['token_count']\n",
        "    neg_tokens = processed_df[processed_df['label'] == 0]['token_count']\n",
        "\n",
        "    axes[1, 0].boxplot([neg_tokens, pos_tokens],\n",
        "                      labels=['Negative', 'Positive'])\n",
        "    axes[1, 0].set_title('감정별 토큰 수 비교')\n",
        "    axes[1, 0].set_ylabel('토큰 수')\n",
        "\n",
        "    # 4. 전처리 효과 (길이 감소율 분포)\n",
        "    length_reduction = (1 - processed_df['processed_length'] /\n",
        "                       original_df['text'].str.len()) * 100\n",
        "\n",
        "    axes[1, 1].hist(length_reduction, bins=50, alpha=0.7, color='orange')\n",
        "    axes[1, 1].set_title('길이 감소율 분포')\n",
        "    axes[1, 1].set_xlabel('감소율 (%)')\n",
        "    axes[1, 1].set_ylabel('빈도')\n",
        "    axes[1, 1].axvline(length_reduction.mean(), color='red',\n",
        "                      linestyle='--', label=f'평균: {length_reduction.mean():.1f}%')\n",
        "    axes[1, 1].legend()\n",
        "\n",
        "    plt.tight_layout()\n",
        "    plt.show()"
      ],
      "metadata": {
        "id": "TObE-Vgfn0GS"
      },
      "execution_count": 30,
      "outputs": []
    },
    {
      "cell_type": "code",
      "source": [
        "def show_preprocessing_examples(original_df, processed_df, n_examples=3):\n",
        "    \"\"\"전처리 전후 비교 예시\"\"\"\n",
        "    print(f\"\\n📝 전처리 전후 비교 예시\")\n",
        "    print(\"=\" * 60)\n",
        "\n",
        "    for i in range(n_examples):\n",
        "        original_text = original_df.iloc[i]['text']\n",
        "        processed_text = processed_df.iloc[i]['processed_text']\n",
        "        tokens = processed_df.iloc[i]['tokens']\n",
        "\n",
        "        print(f\"\\n📄 예시 {i+1}:\")\n",
        "        print(f\"🔸 원본 (길이: {len(original_text)}자):\")\n",
        "        print(f\"   {original_text[:200]}...\")\n",
        "\n",
        "        print(f\"🔹 전처리 후 (길이: {len(processed_text)}자, 토큰: {len(tokens)}개):\")\n",
        "        print(f\"   {processed_text[:200]}...\")\n",
        "\n",
        "        print(f\"🔸 토큰 (첫 15개):\")\n",
        "        print(f\"   {tokens[:15]}\")"
      ],
      "metadata": {
        "id": "GgFgKc5UtLDl"
      },
      "execution_count": 31,
      "outputs": []
    },
    {
      "cell_type": "code",
      "source": [
        "def analyze_vocabulary_changes(original_df, processed_df):\n",
        "    \"\"\"어휘 변화 분석\"\"\"\n",
        "    print(f\"\\n📚 어휘 변화 분석\")\n",
        "    print(\"=\" * 40)\n",
        "\n",
        "    # 원본 어휘\n",
        "    original_words = []\n",
        "    for text in original_df['text']:\n",
        "        words = text.lower().split()\n",
        "        original_words.extend(words)\n",
        "\n",
        "    # 전처리 후 어휘\n",
        "    processed_words = []\n",
        "    for tokens in processed_df['tokens']:\n",
        "        processed_words.extend(tokens)\n",
        "\n",
        "    original_vocab = set(original_words)\n",
        "    processed_vocab = set(processed_words)\n",
        "\n",
        "    print(f\"📊 어휘 통계:\")\n",
        "    print(f\"   전처리 전 고유 단어 수: {len(original_vocab):,}개\")\n",
        "    print(f\"   전처리 후 고유 단어 수: {len(processed_vocab):,}개\")\n",
        "    print(f\"   어휘 감소율: {(1 - len(processed_vocab)/len(original_vocab))*100:.1f}%\")\n",
        "\n",
        "    # 빈도 분석\n",
        "    original_freq = Counter(original_words)\n",
        "    processed_freq = Counter(processed_words)\n",
        "\n",
        "    print(f\"\\n🔤 가장 빈번한 단어 비교 (Top 10):\")\n",
        "    print(f\"{'전처리 전':<20} {'전처리 후':<20}\")\n",
        "    print(\"-\" * 42)\n",
        "\n",
        "    original_top = original_freq.most_common(10)\n",
        "    processed_top = processed_freq.most_common(10)\n",
        "\n",
        "    for i in range(10):\n",
        "        orig_word, orig_freq = original_top[i]\n",
        "        proc_word, proc_freq = processed_top[i]\n",
        "        print(f\"{orig_word:<15} {orig_freq:>4,}   {proc_word:<15} {proc_freq:>4,}\")"
      ],
      "metadata": {
        "id": "QYwrtBOdtPIe"
      },
      "execution_count": 32,
      "outputs": []
    },
    {
      "cell_type": "code",
      "source": [
        "# 결과 분석\n",
        "analyze_preprocessing_results(train_df, train_processed)\n",
        "\n",
        "# 예시 확인\n",
        "show_preprocessing_examples(train_df, train_processed)\n",
        "\n",
        "# 어휘 변화 분석\n",
        "analyze_vocabulary_changes(train_df, train_processed)"
      ],
      "metadata": {
        "colab": {
          "base_uri": "https://localhost:8080/",
          "height": 1000
        },
        "id": "0Pbqi0TbtTFN",
        "outputId": "ce54d6ed-1e02-4df2-dad2-6e3355a3a75d"
      },
      "execution_count": 33,
      "outputs": [
        {
          "output_type": "stream",
          "name": "stdout",
          "text": [
            "\n",
            "📊 전처리 결과 분석\n",
            "========================================\n",
            "📏 길이 변화:\n",
            "   원본 평균 글자 수: 1325\n",
            "   처리 후 평균 글자 수: 716\n",
            "   글자 수 감소율: 45.9%\n",
            "\n",
            "🔤 토큰 변화:\n",
            "   원본 평균 단어 수: 234\n",
            "   처리 후 평균 토큰 수: 102\n",
            "   토큰 수 감소율: 56.3%\n"
          ]
        },
        {
          "output_type": "display_data",
          "data": {
            "text/plain": [
              "<Figure size 1500x1000 with 4 Axes>"
            ],
            "image/png": "[encoded data removed]"
          },
          "metadata": {}
        },
        {
          "output_type": "stream",
          "name": "stdout",
          "text": [
            "\n",
            "📝 전처리 전후 비교 예시\n",
            "============================================================\n",
            "\n",
            "📄 예시 1:\n",
            "🔸 원본 (길이: 1640자):\n",
            "   I rented I AM CURIOUS-YELLOW from my video store because of all the controversy that surrounded it when it was first released in 1967. I also heard that at first it was seized by U.S. customs if it ev...\n",
            "🔹 전처리 후 (길이: 867자, 토큰: 121개):\n",
            "   rented curious yellow video store controversy surrounded released heard seized custom ever tried enter country therefore fan considered controversial centered around young swedish drama student named ...\n",
            "🔸 토큰 (첫 15개):\n",
            "   ['rented', 'curious', 'yellow', 'video', 'store', 'controversy', 'surrounded', 'released', 'heard', 'seized', 'custom', 'ever', 'tried', 'enter', 'country']\n",
            "\n",
            "📄 예시 2:\n",
            "🔸 원본 (길이: 1294자):\n",
            "   \"I Am Curious: Yellow\" is a risible and pretentious steaming pile. It doesn't matter what one's political views are because this film can hardly be taken seriously on any level. As for the claim that ...\n",
            "🔹 전처리 후 (길이: 769자, 토큰: 106개):\n",
            "   curious yellow risible pretentious steaming pile matter political view hardly taken seriously level claim frontal male nudity automatic nc true rated male nudity granted offer fleeting view rated gapi...\n",
            "🔸 토큰 (첫 15개):\n",
            "   ['curious', 'yellow', 'risible', 'pretentious', 'steaming', 'pile', 'matter', 'political', 'view', 'hardly', 'taken', 'seriously', 'level', 'claim', 'frontal']\n",
            "\n",
            "📄 예시 3:\n",
            "🔸 원본 (길이: 528자):\n",
            "   If only to avoid making this type of film in the future. This film is interesting as an experiment but tells no cogent story.<br /><br />One might feel virtuous for sitting thru it because it touches ...\n",
            "🔹 전처리 후 (길이: 272자, 토큰: 38개):\n",
            "   avoid making type future interesting experiment tell cogent might feel virtuous sitting thru touch many important issue without discernable motive viewer come away new perspective unless come mind wan...\n",
            "🔸 토큰 (첫 15개):\n",
            "   ['avoid', 'making', 'type', 'future', 'interesting', 'experiment', 'tell', 'cogent', 'might', 'feel', 'virtuous', 'sitting', 'thru', 'touch', 'many']\n",
            "\n",
            "📚 어휘 변화 분석\n",
            "========================================\n",
            "📊 어휘 통계:\n",
            "   전처리 전 고유 단어 수: 251,637개\n",
            "   전처리 후 고유 단어 수: 65,831개\n",
            "   어휘 감소율: 73.8%\n",
            "\n",
            "🔤 가장 빈번한 단어 비교 (Top 10):\n",
            "전처리 전                전처리 후               \n",
            "------------------------------------------\n",
            "the             322,198   like            20,747\n",
            "a               159,953   people          9,387\n",
            "and             158,572   great           9,091\n",
            "of              144,462   thing           8,217\n",
            "to              133,967   life            8,038\n",
            "is              104,171   think           7,735\n",
            "in              90,527   know            7,068\n",
            "i               70,480   love            6,857\n",
            "this            69,714   many            6,675\n",
            "that            66,292   look            6,561\n"
          ]
        }
      ]
    },
    {
      "cell_type": "markdown",
      "source": [
        "관용어들 제거를 통해 빈번한 단어 순위가 많이 바뀌었다.\n",
        "\n",
        "html 문법도 제거와 문장 길이 조정을 통해 질좋은 데이터가 되었다.\n"
      ],
      "metadata": {
        "id": "8pw8e_G63y-T"
      }
    },
    {
      "cell_type": "code",
      "source": [
        "# 전역 변수로 저장\n",
        "globals()['imdb_train_processed'] = train_processed\n",
        "globals()['imdb_test_processed'] = test_processed"
      ],
      "metadata": {
        "id": "4AFjD_3S9Tcr"
      },
      "execution_count": 34,
      "outputs": []
    },
    {
      "cell_type": "markdown",
      "source": [
        "# 모델링"
      ],
      "metadata": {
        "id": "sGJkFVVY7QI9"
      }
    },
    {
      "cell_type": "markdown",
      "source": [
        "## 머신러닝"
      ],
      "metadata": {
        "id": "5hYtWl367ST-"
      }
    },
    {
      "cell_type": "code",
      "source": [
        "from sklearn.feature_extraction.text import TfidfVectorizer, CountVectorizer\n",
        "from sklearn.model_selection import train_test_split, cross_val_score, GridSearchCV\n",
        "from sklearn.naive_bayes import MultinomialNB\n",
        "from sklearn.svm import SVC\n",
        "from sklearn.linear_model import LogisticRegression\n",
        "from sklearn.ensemble import RandomForestClassifier, GradientBoostingClassifier\n",
        "from sklearn.metrics import (accuracy_score, precision_score, recall_score, f1_score,\n",
        "                           classification_report, confusion_matrix, roc_auc_score, roc_curve)\n",
        "import time"
      ],
      "metadata": {
        "id": "msFLNRov9eX_"
      },
      "execution_count": 35,
      "outputs": []
    },
    {
      "cell_type": "markdown",
      "source": [
        "### 임베딩(TF-IDF, Count)"
      ],
      "metadata": {
        "id": "Psu-7xJNUsnE"
      }
    },
    {
      "cell_type": "code",
      "source": [
        "print(\"🚀 IMDB 감정분석 - 나이브베이즈 vs 로지스틱회귀\")\n",
        "print(\"=\" * 60)"
      ],
      "metadata": {
        "colab": {
          "base_uri": "https://localhost:8080/"
        },
        "id": "6qNAeYo4kgwO",
        "outputId": "48059397-695c-4306-d35b-cf91c40cfc7d"
      },
      "execution_count": 36,
      "outputs": [
        {
          "output_type": "stream",
          "name": "stdout",
          "text": [
            "🚀 IMDB 감정분석 - 나이브베이즈 vs 로지스틱회귀\n",
            "============================================================\n"
          ]
        }
      ]
    },
    {
      "cell_type": "code",
      "source": [
        "# Step 2에서 전처리된 데이터 확인\n",
        "try:\n",
        "    train_df = train_processed.copy()\n",
        "    test_df = test_processed.copy()\n",
        "    print(f\"✅ 전처리된 데이터 로드 완료\")\n",
        "    print(f\"   훈련 데이터: {len(train_df):,}개\")\n",
        "    print(f\"   테스트 데이터: {len(test_df):,}개\")\n",
        "\n",
        "    # 빈 텍스트 제거\n",
        "    train_df = train_df[train_df['processed_text'].str.strip() != '']\n",
        "    test_df = test_df[test_df['processed_text'].str.strip() != '']\n",
        "\n",
        "    print(f\"✅ 정제 후 데이터:\")\n",
        "    print(f\"   훈련 데이터: {len(train_df):,}개\")\n",
        "    print(f\"   테스트 데이터: {len(test_df):,}개\")\n",
        "\n",
        "except NameError:\n",
        "    print(\"❌ Step 2를 먼저 실행하여 전처리된 데이터를 준비하세요.\")"
      ],
      "metadata": {
        "colab": {
          "base_uri": "https://localhost:8080/"
        },
        "id": "XbOvBJXQcyZZ",
        "outputId": "d9a4bcdb-4b60-4e3a-e87e-fef43dc4729b"
      },
      "execution_count": 37,
      "outputs": [
        {
          "output_type": "stream",
          "name": "stdout",
          "text": [
            "✅ 전처리된 데이터 로드 완료\n",
            "   훈련 데이터: 25,000개\n",
            "   테스트 데이터: 25,000개\n",
            "✅ 정제 후 데이터:\n",
            "   훈련 데이터: 25,000개\n",
            "   테스트 데이터: 25,000개\n"
          ]
        }
      ]
    },
    {
      "cell_type": "code",
      "source": [
        "print(\"\\n📊 TF-IDF 특성 추출\")\n",
        "print(\"=\" * 40)\n",
        "\n",
        "# TF-IDF 벡터라이저 설정\n",
        "vectorizer = TfidfVectorizer(\n",
        "    max_features=10000,          # 최대 10,000개 특성\n",
        "    ngram_range=(1, 2),          # 1-gram과 2-gram 사용\n",
        "    min_df=2,                    # 최소 2번 이상 나타난 단어\n",
        "    max_df=0.8,                  # 전체 문서의 80% 이하에서 나타난 단어\n",
        "    sublinear_tf=True,           # 로그 스케일링\n",
        "    stop_words='english'         # 영어 불용어 제거\n",
        ")\n",
        "\n",
        "print(\"🔧 TF-IDF 설정:\")\n",
        "print(f\"   최대 특성 수: 10,000\")\n",
        "print(f\"   N-gram 범위: (1, 2)\")\n",
        "print(f\"   최소 문서 빈도: 2\")\n",
        "print(f\"   최대 문서 빈도: 0.8\")\n",
        "\n",
        "# 벡터화 실행\n",
        "print(\"\\n🔄 벡터화 중...\")\n",
        "start_time = time.time()\n",
        "\n",
        "X_train = vectorizer.fit_transform(train_df['processed_text'])\n",
        "X_test = vectorizer.transform(test_df['processed_text'])\n",
        "y_train = train_df['label'].values\n",
        "y_test = test_df['label'].values\n",
        "\n",
        "vectorization_time = time.time() - start_time\n",
        "\n",
        "print(f\"✅ 벡터화 완료! ({vectorization_time:.2f}초)\")\n",
        "print(f\"   훈련 데이터 크기: {X_train.shape}\")\n",
        "print(f\"   테스트 데이터 크기: {X_test.shape}\")\n",
        "print(f\"   실제 특성 수: {X_train.shape[1]:,}\")\n",
        "print(f\"   희소성: {(1.0 - X_train.nnz / (X_train.shape[0] * X_train.shape[1])) * 100:.1f}%\")"
      ],
      "metadata": {
        "colab": {
          "base_uri": "https://localhost:8080/"
        },
        "id": "Iwjwo8WtkuOT",
        "outputId": "661f596d-8e14-456f-f28a-a6a2be16fbb7"
      },
      "execution_count": 38,
      "outputs": [
        {
          "output_type": "stream",
          "name": "stdout",
          "text": [
            "\n",
            "📊 TF-IDF 특성 추출\n",
            "========================================\n",
            "🔧 TF-IDF 설정:\n",
            "   최대 특성 수: 10,000\n",
            "   N-gram 범위: (1, 2)\n",
            "   최소 문서 빈도: 2\n",
            "   최대 문서 빈도: 0.8\n",
            "\n",
            "🔄 벡터화 중...\n",
            "✅ 벡터화 완료! (13.19초)\n",
            "   훈련 데이터 크기: (25000, 10000)\n",
            "   테스트 데이터 크기: (25000, 10000)\n",
            "   실제 특성 수: 10,000\n",
            "   희소성: 99.3%\n"
          ]
        }
      ]
    },
    {
      "cell_type": "markdown",
      "source": [
        "### 모델 학습 및 평가"
      ],
      "metadata": {
        "id": "nJASAn8zfgLC"
      }
    },
    {
      "cell_type": "code",
      "source": [
        "print(\"\\n🎯 나이브 베이즈 모델 학습\")\n",
        "print(\"=\" * 40)\n",
        "\n",
        "# 하이퍼파라미터 그리드\n",
        "nb_param_grid = {\n",
        "    'alpha': [0.01, 0.1, 0.5, 1.0, 2.0, 5.0]\n",
        "}\n",
        "\n",
        "print(\"🔍 그리드 서치로 최적 파라미터 찾는 중...\")\n",
        "start_time = time.time()\n",
        "\n",
        "# 그리드 서치\n",
        "nb_grid = GridSearchCV(\n",
        "    MultinomialNB(),\n",
        "    nb_param_grid,\n",
        "    cv=5,\n",
        "    scoring='f1',\n",
        "    n_jobs=-1,\n",
        "    verbose=0\n",
        ")\n",
        "\n",
        "nb_grid.fit(X_train, y_train)\n",
        "nb_model = nb_grid.best_estimator_\n",
        "\n",
        "# 예측\n",
        "nb_pred = nb_model.predict(X_test)\n",
        "nb_pred_proba = nb_model.predict_proba(X_test)[:, 1]\n",
        "\n",
        "# 성능 계산\n",
        "nb_accuracy = accuracy_score(y_test, nb_pred)\n",
        "nb_precision = precision_score(y_test, nb_pred)\n",
        "nb_recall = recall_score(y_test, nb_pred)\n",
        "nb_f1 = f1_score(y_test, nb_pred)\n",
        "nb_auc = roc_auc_score(y_test, nb_pred_proba)\n",
        "\n",
        "# 교차검증\n",
        "nb_cv_scores = cross_val_score(nb_model, X_train, y_train, cv=5, scoring='f1')\n",
        "nb_training_time = time.time() - start_time\n",
        "\n",
        "print(f\"✅ 나이브 베이즈 학습 완료!\")\n",
        "print(f\"   최적 파라미터: {nb_grid.best_params_}\")\n",
        "print(f\"   정확도: {nb_accuracy:.4f}\")\n",
        "print(f\"   정밀도: {nb_precision:.4f}\")\n",
        "print(f\"   재현율: {nb_recall:.4f}\")\n",
        "print(f\"   F1 점수: {nb_f1:.4f}\")\n",
        "print(f\"   AUC: {nb_auc:.4f}\")\n",
        "print(f\"   교차검증: {nb_cv_scores.mean():.4f} (±{nb_cv_scores.std():.4f})\")\n",
        "print(f\"   학습 시간: {nb_training_time:.2f}초\")"
      ],
      "metadata": {
        "colab": {
          "base_uri": "https://localhost:8080/"
        },
        "id": "gX9F07rVcEfB",
        "outputId": "be05fa4b-6568-4afd-bc89-b1d583155d94"
      },
      "execution_count": 39,
      "outputs": [
        {
          "output_type": "stream",
          "name": "stdout",
          "text": [
            "\n",
            "🎯 나이브 베이즈 모델 학습\n",
            "========================================\n",
            "🔍 그리드 서치로 최적 파라미터 찾는 중...\n",
            "✅ 나이브 베이즈 학습 완료!\n",
            "   최적 파라미터: {'alpha': 5.0}\n",
            "   정확도: 0.8450\n",
            "   정밀도: 0.8689\n",
            "   재현율: 0.8125\n",
            "   F1 점수: 0.8398\n",
            "   AUC: 0.9250\n",
            "   교차검증: 0.8270 (±0.0132)\n",
            "   학습 시간: 4.17초\n"
          ]
        }
      ]
    },
    {
      "cell_type": "code",
      "source": [
        "print(\"\\n🎯 로지스틱 회귀 모델 학습\")\n",
        "print(\"=\" * 40)\n",
        "\n",
        "# 하이퍼파라미터 그리드\n",
        "lr_param_grid = {\n",
        "    'C': [0.1, 1, 10, 100],\n",
        "    'penalty': ['l1', 'l2'],\n",
        "    'solver': ['liblinear']\n",
        "}\n",
        "\n",
        "print(\"🔍 그리드 서치로 최적 파라미터 찾는 중...\")\n",
        "start_time = time.time()\n",
        "\n",
        "# 그리드 서치\n",
        "lr_grid = GridSearchCV(\n",
        "    LogisticRegression(random_state=42, max_iter=1000),\n",
        "    lr_param_grid,\n",
        "    cv=5,\n",
        "    scoring='f1',\n",
        "    n_jobs=-1,\n",
        "    verbose=0\n",
        ")\n",
        "\n",
        "lr_grid.fit(X_train, y_train)\n",
        "lr_model = lr_grid.best_estimator_\n",
        "\n",
        "# 예측\n",
        "lr_pred = lr_model.predict(X_test)\n",
        "lr_pred_proba = lr_model.predict_proba(X_test)[:, 1]\n",
        "\n",
        "# 성능 계산\n",
        "lr_accuracy = accuracy_score(y_test, lr_pred)\n",
        "lr_precision = precision_score(y_test, lr_pred)\n",
        "lr_recall = recall_score(y_test, lr_pred)\n",
        "lr_f1 = f1_score(y_test, lr_pred)\n",
        "lr_auc = roc_auc_score(y_test, lr_pred_proba)\n",
        "\n",
        "# 교차검증\n",
        "lr_cv_scores = cross_val_score(lr_model, X_train, y_train, cv=5, scoring='f1')\n",
        "lr_training_time = time.time() - start_time\n",
        "\n",
        "print(f\"✅ 로지스틱 회귀 학습 완료!\")\n",
        "print(f\"   최적 파라미터: {lr_grid.best_params_}\")\n",
        "print(f\"   정확도: {lr_accuracy:.4f}\")\n",
        "print(f\"   정밀도: {lr_precision:.4f}\")\n",
        "print(f\"   재현율: {lr_recall:.4f}\")\n",
        "print(f\"   F1 점수: {lr_f1:.4f}\")\n",
        "print(f\"   AUC: {lr_auc:.4f}\")\n",
        "print(f\"   교차검증: {lr_cv_scores.mean():.4f} (±{lr_cv_scores.std():.4f})\")\n",
        "print(f\"   학습 시간: {lr_training_time:.2f}초\")"
      ],
      "metadata": {
        "colab": {
          "base_uri": "https://localhost:8080/"
        },
        "id": "0Z6_t_ewk_lt",
        "outputId": "97914e11-153b-421b-f99f-d01ce4c53692"
      },
      "execution_count": 40,
      "outputs": [
        {
          "output_type": "stream",
          "name": "stdout",
          "text": [
            "\n",
            "🎯 로지스틱 회귀 모델 학습\n",
            "========================================\n",
            "🔍 그리드 서치로 최적 파라미터 찾는 중...\n",
            "✅ 로지스틱 회귀 학습 완료!\n",
            "   최적 파라미터: {'C': 1, 'penalty': 'l2', 'solver': 'liblinear'}\n",
            "   정확도: 0.8787\n",
            "   정밀도: 0.8773\n",
            "   재현율: 0.8806\n",
            "   F1 점수: 0.8789\n",
            "   AUC: 0.9502\n",
            "   교차검증: 0.8607 (±0.0048)\n",
            "   학습 시간: 15.11초\n"
          ]
        }
      ]
    },
    {
      "cell_type": "markdown",
      "source": [
        "### 모델 성능 비교"
      ],
      "metadata": {
        "id": "l0Y9hFMMoft0"
      }
    },
    {
      "cell_type": "code",
      "source": [
        "print(\"\\n📊 모델 성능 비교\")\n",
        "print(\"=\" * 50)\n",
        "\n",
        "# 결과 정리\n",
        "comparison_data = {\n",
        "    '메트릭': ['정확도', 'F1 점수', 'AUC', '교차검증', '학습시간(초)'],\n",
        "    '나이브 베이즈': [\n",
        "        f\"{nb_accuracy:.4f}\",\n",
        "        f\"{nb_f1:.4f}\",\n",
        "        f\"{nb_auc:.4f}\",\n",
        "        f\"{nb_cv_scores.mean():.4f}±{nb_cv_scores.std():.3f}\",\n",
        "        f\"{nb_training_time:.2f}\"\n",
        "    ],\n",
        "    '로지스틱 회귀': [\n",
        "        f\"{lr_accuracy:.4f}\",\n",
        "        f\"{lr_f1:.4f}\",\n",
        "        f\"{lr_auc:.4f}\",\n",
        "        f\"{lr_cv_scores.mean():.4f}±{lr_cv_scores.std():.3f}\",\n",
        "        f\"{lr_training_time:.2f}\"\n",
        "    ]\n",
        "}\n",
        "\n",
        "comparison_df = pd.DataFrame(comparison_data)\n",
        "print(comparison_df.to_string(index=False))\n",
        "\n",
        "# 최고 성능 모델 찾기\n",
        "if nb_f1 > lr_f1:\n",
        "    best_model_name = \"나이브 베이즈\"\n",
        "    best_model = nb_model\n",
        "    best_f1 = nb_f1\n",
        "    best_accuracy = nb_accuracy\n",
        "else:\n",
        "    best_model_name = \"로지스틱 회귀\"\n",
        "    best_model = lr_model\n",
        "    best_f1 = lr_f1\n",
        "    best_accuracy = lr_accuracy\n",
        "\n",
        "print(f\"\\n🏆 최고 성능 모델: {best_model_name}\")\n",
        "print(f\"   F1 점수: {best_f1:.4f}\")\n",
        "print(f\"   정확도: {best_accuracy:.4f}\")"
      ],
      "metadata": {
        "colab": {
          "base_uri": "https://localhost:8080/"
        },
        "id": "JHOJ7PPglEqo",
        "outputId": "f295c4a3-1134-4673-8278-ba25cc78c7b7"
      },
      "execution_count": 41,
      "outputs": [
        {
          "output_type": "stream",
          "name": "stdout",
          "text": [
            "\n",
            "📊 모델 성능 비교\n",
            "==================================================\n",
            "    메트릭      나이브 베이즈      로지스틱 회귀\n",
            "    정확도       0.8450       0.8787\n",
            "  F1 점수       0.8398       0.8789\n",
            "    AUC       0.9250       0.9502\n",
            "   교차검증 0.8270±0.013 0.8607±0.005\n",
            "학습시간(초)         4.17        15.11\n",
            "\n",
            "🏆 최고 성능 모델: 로지스틱 회귀\n",
            "   F1 점수: 0.8789\n",
            "   정확도: 0.8787\n"
          ]
        }
      ]
    },
    {
      "cell_type": "markdown",
      "source": [
        "### 성능 시각화"
      ],
      "metadata": {
        "id": "YTEmncf8ojSq"
      }
    },
    {
      "cell_type": "code",
      "source": [
        "print(\"\\n📈 성능 시각화\")\n",
        "print(\"=\" * 30)\n",
        "\n",
        "# 1. 성능 메트릭 비교\n",
        "fig, axes = plt.subplots(2, 2, figsize=(15, 10))\n",
        "\n",
        "# 메트릭별 비교\n",
        "metrics = [nb_accuracy, nb_f1, nb_auc]\n",
        "lr_metrics = [lr_accuracy, lr_f1, lr_auc]\n",
        "metric_names = ['정확도', 'F1 점수', 'AUC']\n",
        "model_names = ['나이브 베이즈', '로지스틱 회귀']\n",
        "\n",
        "x = np.arange(len(metric_names))\n",
        "width = 0.35\n",
        "\n",
        "bars1 = axes[0, 0].bar(x - width/2, metrics, width, label='나이브 베이즈', alpha=0.8, color='skyblue')\n",
        "bars2 = axes[0, 0].bar(x + width/2, lr_metrics, width, label='로지스틱 회귀', alpha=0.8, color='lightcoral')\n",
        "\n",
        "axes[0, 0].set_xlabel('메트릭')\n",
        "axes[0, 0].set_ylabel('점수')\n",
        "axes[0, 0].set_title('성능 메트릭 비교')\n",
        "axes[0, 0].set_xticks(x)\n",
        "axes[0, 0].set_xticklabels(metric_names)\n",
        "axes[0, 0].legend()\n",
        "axes[0, 0].set_ylim(0, 1)\n",
        "\n",
        "# 값 표시\n",
        "for bars in [bars1, bars2]:\n",
        "    for bar in bars:\n",
        "        height = bar.get_height()\n",
        "        axes[0, 0].text(bar.get_x() + bar.get_width()/2., height + 0.01,\n",
        "                       f'{height:.3f}', ha='center', va='bottom')\n",
        "\n",
        "# 2. 학습 시간 비교\n",
        "time_comparison = [nb_training_time, lr_training_time]\n",
        "bars_time = axes[0, 1].bar(model_names, time_comparison, alpha=0.8, color=['skyblue', 'lightcoral'])\n",
        "axes[0, 1].set_ylabel('시간 (초)')\n",
        "axes[0, 1].set_title('학습 시간 비교')\n",
        "\n",
        "for bar in bars_time:\n",
        "    height = bar.get_height()\n",
        "    axes[0, 1].text(bar.get_x() + bar.get_width()/2., height,\n",
        "                   f'{height:.2f}s', ha='center', va='bottom')\n",
        "\n",
        "# 3. 나이브 베이즈 혼동 행렬\n",
        "nb_cm = confusion_matrix(y_test, nb_pred)\n",
        "sns.heatmap(nb_cm, annot=True, fmt='d', cmap='Blues',\n",
        "           xticklabels=['Negative', 'Positive'],\n",
        "           yticklabels=['Negative', 'Positive'],\n",
        "           ax=axes[1, 0])\n",
        "axes[1, 0].set_title(f'나이브 베이즈 혼동 행렬\\n정확도: {nb_accuracy:.3f}')\n",
        "axes[1, 0].set_xlabel('예측값')\n",
        "axes[1, 0].set_ylabel('실제값')\n",
        "\n",
        "# 4. 로지스틱 회귀 혼동 행렬\n",
        "lr_cm = confusion_matrix(y_test, lr_pred)\n",
        "sns.heatmap(lr_cm, annot=True, fmt='d', cmap='Reds',\n",
        "           xticklabels=['Negative', 'Positive'],\n",
        "           yticklabels=['Negative', 'Positive'],\n",
        "           ax=axes[1, 1])\n",
        "axes[1, 1].set_title(f'로지스틱 회귀 혼동 행렬\\n정확도: {lr_accuracy:.3f}')\n",
        "axes[1, 1].set_xlabel('예측값')\n",
        "axes[1, 1].set_ylabel('실제값')\n",
        "\n",
        "plt.tight_layout()\n",
        "plt.show()\n",
        "\n",
        "# ROC 곡선 비교\n",
        "plt.figure(figsize=(10, 8))\n",
        "\n",
        "# 나이브 베이즈 ROC\n",
        "nb_fpr, nb_tpr, _ = roc_curve(y_test, nb_pred_proba)\n",
        "plt.plot(nb_fpr, nb_tpr, label=f'나이브 베이즈 (AUC = {nb_auc:.3f})', linewidth=2, color='blue')\n",
        "\n",
        "# 로지스틱 회귀 ROC\n",
        "lr_fpr, lr_tpr, _ = roc_curve(y_test, lr_pred_proba)\n",
        "plt.plot(lr_fpr, lr_tpr, label=f'로지스틱 회귀 (AUC = {lr_auc:.3f})', linewidth=2, color='red')\n",
        "\n",
        "plt.plot([0, 1], [0, 1], 'k--', alpha=0.6, label='Random')\n",
        "plt.xlim([0.0, 1.0])\n",
        "plt.ylim([0.0, 1.05])\n",
        "plt.xlabel('False Positive Rate')\n",
        "plt.ylabel('True Positive Rate')\n",
        "plt.title('ROC 곡선 비교')\n",
        "plt.legend(loc=\"lower right\")\n",
        "plt.grid(True, alpha=0.3)\n",
        "plt.show()"
      ],
      "metadata": {
        "colab": {
          "base_uri": "https://localhost:8080/",
          "height": 1000
        },
        "id": "JSRBocrllIVh",
        "outputId": "1d367ced-307c-4dc3-836b-86d4824eaea5"
      },
      "execution_count": 42,
      "outputs": [
        {
          "output_type": "stream",
          "name": "stdout",
          "text": [
            "\n",
            "📈 성능 시각화\n",
            "==============================\n"
          ]
        },
        {
          "output_type": "display_data",
          "data": {
            "text/plain": [
              "<Figure size 1500x1000 with 6 Axes>"
            ],
            "image/png": "[encoded data removed]"
          },
          "metadata": {}
        },
        {
          "output_type": "display_data",
          "data": {
            "text/plain": [
              "<Figure size 1000x800 with 1 Axes>"
            ],
            "image/png": "[encoded data removed]"
          },
          "metadata": {}
        }
      ]
    },
    {
      "cell_type": "markdown",
      "source": [
        "### 특성 중요도 분석(로지스틱)"
      ],
      "metadata": {
        "id": "sPp1evUYopmu"
      }
    },
    {
      "cell_type": "code",
      "source": [
        "print(\"\\n🔍 특성 중요도 분석 (로지스틱 회귀)\")\n",
        "print(\"=\" * 50)\n",
        "\n",
        "# 특성 이름 가져오기\n",
        "feature_names = vectorizer.get_feature_names_out()\n",
        "\n",
        "# 로지스틱 회귀 계수 분석\n",
        "lr_coef = lr_model.coef_[0]\n",
        "feature_importance = list(zip(feature_names, lr_coef))\n",
        "\n",
        "# 긍정 예측에 중요한 특성 (높은 계수)\n",
        "positive_features = sorted(feature_importance, key=lambda x: x[1], reverse=True)[:15]\n",
        "\n",
        "# 부정 예측에 중요한 특성 (낮은 계수)\n",
        "negative_features = sorted(feature_importance, key=lambda x: x[1])[:15]\n",
        "\n",
        "print(\"🟢 긍정 예측에 중요한 특성 Top 15:\")\n",
        "for i, (feature, coef) in enumerate(positive_features, 1):\n",
        "    print(f\"   {i:2d}. {feature:20s}: {coef:8.4f}\")\n",
        "\n",
        "print(\"\\n🔴 부정 예측에 중요한 특성 Top 15:\")\n",
        "for i, (feature, coef) in enumerate(negative_features, 1):\n",
        "    print(f\"   {i:2d}. {feature:20s}: {coef:8.4f}\")\n",
        "\n",
        "# 특성 중요도 시각화\n",
        "fig, (ax1, ax2) = plt.subplots(1, 2, figsize=(16, 8))\n",
        "\n",
        "# 긍정적 특성\n",
        "pos_features, pos_scores = zip(*positive_features)\n",
        "bars1 = ax1.barh(range(len(pos_features)), pos_scores, color='green', alpha=0.7)\n",
        "ax1.set_yticks(range(len(pos_features)))\n",
        "ax1.set_yticklabels(pos_features)\n",
        "ax1.set_xlabel('계수 값')\n",
        "ax1.set_title('긍정 예측에 중요한 특성')\n",
        "ax1.invert_yaxis()\n",
        "\n",
        "# 부정적 특성\n",
        "neg_features, neg_scores = zip(*negative_features)\n",
        "bars2 = ax2.barh(range(len(neg_features)), [abs(s) for s in neg_scores], color='red', alpha=0.7)\n",
        "ax2.set_yticks(range(len(neg_features)))\n",
        "ax2.set_yticklabels(neg_features)\n",
        "ax2.set_xlabel('계수 값 (절댓값)')\n",
        "ax2.set_title('부정 예측에 중요한 특성')\n",
        "ax2.invert_yaxis()\n",
        "\n",
        "plt.tight_layout()\n",
        "plt.show()"
      ],
      "metadata": {
        "colab": {
          "base_uri": "https://localhost:8080/",
          "height": 1000
        },
        "id": "CKUfZHThlNy1",
        "outputId": "1ae1bc78-e601-4bee-a2f1-5b9f70fe8b45"
      },
      "execution_count": 43,
      "outputs": [
        {
          "output_type": "stream",
          "name": "stdout",
          "text": [
            "\n",
            "🔍 특성 중요도 분석 (로지스틱 회귀)\n",
            "==================================================\n",
            "🟢 긍정 예측에 중요한 특성 Top 15:\n",
            "    1. great               :   6.6409\n",
            "    2. excellent           :   6.1895\n",
            "    3. best                :   5.2168\n",
            "    4. wonderful           :   4.8212\n",
            "    5. perfect             :   4.7883\n",
            "    6. favorite            :   4.6509\n",
            "    7. amazing             :   4.0259\n",
            "    8. loved               :   3.8081\n",
            "    9. today               :   3.7473\n",
            "   10. enjoyed             :   3.5571\n",
            "   11. love                :   3.5484\n",
            "   12. fun                 :   3.5377\n",
            "   13. superb              :   3.3926\n",
            "   14. brilliant           :   3.3875\n",
            "   15. fantastic           :   3.1426\n",
            "\n",
            "🔴 부정 예측에 중요한 특성 Top 15:\n",
            "    1. worst               :  -9.1355\n",
            "    2. awful               :  -6.7128\n",
            "    3. waste               :  -6.4590\n",
            "    4. boring              :  -5.6337\n",
            "    5. worse               :  -5.3273\n",
            "    6. poor                :  -5.2568\n",
            "    7. terrible            :  -4.9960\n",
            "    8. horrible            :  -4.6011\n",
            "    9. poorly              :  -4.5212\n",
            "   10. unfortunately       :  -4.2506\n",
            "   11. dull                :  -4.2319\n",
            "   12. disappointment      :  -4.1078\n",
            "   13. supposed            :  -4.0250\n",
            "   14. fails               :  -3.8740\n",
            "   15. ridiculous          :  -3.8279\n"
          ]
        },
        {
          "output_type": "display_data",
          "data": {
            "text/plain": [
              "<Figure size 1600x800 with 2 Axes>"
            ],
            "image/png": "[encoded data removed]"
          },
          "metadata": {}
        }
      ]
    },
    {
      "cell_type": "markdown",
      "source": [
        "### 실제 예측"
      ],
      "metadata": {
        "id": "EtC8f1H9owvX"
      }
    },
    {
      "cell_type": "code",
      "source": [
        "print(\"\\n🧪 실제 예측 테스트\")\n",
        "print(\"=\" * 40)\n",
        "\n",
        "# 테스트할 샘플 텍스트들\n",
        "sample_texts = [\n",
        "    \"This movie is absolutely fantastic! Great acting and amazing story. Highly recommend!\",\n",
        "    \"Terrible film. Complete waste of time and money. Very disappointed with everything.\",\n",
        "    \"It was okay, not great but not terrible either. Average movie with decent acting.\",\n",
        "    \"One of the best movies I've ever seen! Brilliant direction and outstanding performances!\",\n",
        "    \"Boring and predictable plot. Poor character development. Not worth watching.\"\n",
        "]\n",
        "\n",
        "print(f\"📝 {best_model_name} 모델로 예측:\")\n",
        "\n",
        "for i, text in enumerate(sample_texts, 1):\n",
        "    # 벡터화\n",
        "    X_sample = vectorizer.transform([text])\n",
        "\n",
        "    # 예측\n",
        "    prediction = best_model.predict(X_sample)[0]\n",
        "    probability = best_model.predict_proba(X_sample)[0]\n",
        "\n",
        "    sentiment = \"😊 Positive\" if prediction == 1 else \"😞 Negative\"\n",
        "    confidence = max(probability)\n",
        "\n",
        "    print(f\"\\n테스트 {i}:\")\n",
        "    print(f\"   텍스트: {text}\")\n",
        "    print(f\"   예측: {sentiment}\")\n",
        "    print(f\"   신뢰도: {confidence:.3f}\")"
      ],
      "metadata": {
        "colab": {
          "base_uri": "https://localhost:8080/"
        },
        "id": "0_J4CHuclQ8u",
        "outputId": "60cfa857-c0d5-4674-cb81-70391b9db5c7"
      },
      "execution_count": 44,
      "outputs": [
        {
          "output_type": "stream",
          "name": "stdout",
          "text": [
            "\n",
            "🧪 실제 예측 테스트\n",
            "========================================\n",
            "📝 로지스틱 회귀 모델로 예측:\n",
            "\n",
            "테스트 1:\n",
            "   텍스트: This movie is absolutely fantastic! Great acting and amazing story. Highly recommend!\n",
            "   예측: 😊 Positive\n",
            "   신뢰도: 0.997\n",
            "\n",
            "테스트 2:\n",
            "   텍스트: Terrible film. Complete waste of time and money. Very disappointed with everything.\n",
            "   예측: 😞 Negative\n",
            "   신뢰도: 0.997\n",
            "\n",
            "테스트 3:\n",
            "   텍스트: It was okay, not great but not terrible either. Average movie with decent acting.\n",
            "   예측: 😞 Negative\n",
            "   신뢰도: 0.928\n",
            "\n",
            "테스트 4:\n",
            "   텍스트: One of the best movies I've ever seen! Brilliant direction and outstanding performances!\n",
            "   예측: 😊 Positive\n",
            "   신뢰도: 0.984\n",
            "\n",
            "테스트 5:\n",
            "   텍스트: Boring and predictable plot. Poor character development. Not worth watching.\n",
            "   예측: 😞 Negative\n",
            "   신뢰도: 0.996\n"
          ]
        }
      ]
    },
    {
      "cell_type": "markdown",
      "source": [
        "### 결과"
      ],
      "metadata": {
        "id": "9m6awZ9TozYd"
      }
    },
    {
      "cell_type": "code",
      "source": [
        "print(f\"\\n🎉 IMDB 감정분석 완료!\")\n",
        "print(\"=\" * 50)\n",
        "print(f\"✅ TF-IDF 벡터화 완료 ({X_train.shape[1]:,}개 특성)\")\n",
        "print(f\"✅ 나이브 베이즈 학습 완료 (F1: {nb_f1:.4f})\")\n",
        "print(f\"✅ 로지스틱 회귀 학습 완료 (F1: {lr_f1:.4f})\")\n",
        "print(f\"✅ 최고 성능 모델: {best_model_name}\")\n",
        "print(f\"✅ 특성 중요도 분석 완료\")\n",
        "print(f\"✅ 실제 예측 테스트 완료\")\n",
        "\n",
        "print(f\"\\n📊 최종 성능:\")\n",
        "print(f\"   정확도: {best_accuracy:.4f}\")\n",
        "print(f\"   F1 점수: {best_f1:.4f}\")\n",
        "\n",
        "print(f\"\\n🎯 학습된 내용:\")\n",
        "print(\"   1. 텍스트 전처리 (정제, 토큰화, 불용어 제거)\")\n",
        "print(\"   2. TF-IDF 특성 추출 (텍스트 → 숫자 벡터)\")\n",
        "print(\"   3. 머신러닝 모델 학습 (나이브베이즈, 로지스틱회귀)\")\n",
        "print(\"   4. 모델 평가 및 비교\")\n",
        "print(\"   5. 특성 중요도 분석\")\n",
        "print(\"   6. 실제 예측 및 활용\")\n",
        "\n",
        "print(f\"\\n🚀 다음 단계 제안:\")\n",
        "print(\"   - 딥러닝 모델 (LSTM, CNN) 시도\")\n",
        "print(\"   - 앙상블 방법 적용\")\n",
        "print(\"   - 하이퍼파라미터 세부 튜닝\")\n",
        "print(\"   - 다른 데이터셋으로 실험\")"
      ],
      "metadata": {
        "colab": {
          "base_uri": "https://localhost:8080/"
        },
        "id": "z0zRyACDlUB6",
        "outputId": "2fe2aadf-304a-47de-cc0b-b30f9798acc5"
      },
      "execution_count": 45,
      "outputs": [
        {
          "output_type": "stream",
          "name": "stdout",
          "text": [
            "\n",
            "🎉 IMDB 감정분석 완료!\n",
            "==================================================\n",
            "✅ TF-IDF 벡터화 완료 (10,000개 특성)\n",
            "✅ 나이브 베이즈 학습 완료 (F1: 0.8398)\n",
            "✅ 로지스틱 회귀 학습 완료 (F1: 0.8789)\n",
            "✅ 최고 성능 모델: 로지스틱 회귀\n",
            "✅ 특성 중요도 분석 완료\n",
            "✅ 실제 예측 테스트 완료\n",
            "\n",
            "📊 최종 성능:\n",
            "   정확도: 0.8787\n",
            "   F1 점수: 0.8789\n",
            "\n",
            "🎯 학습된 내용:\n",
            "   1. 텍스트 전처리 (정제, 토큰화, 불용어 제거)\n",
            "   2. TF-IDF 특성 추출 (텍스트 → 숫자 벡터)\n",
            "   3. 머신러닝 모델 학습 (나이브베이즈, 로지스틱회귀)\n",
            "   4. 모델 평가 및 비교\n",
            "   5. 특성 중요도 분석\n",
            "   6. 실제 예측 및 활용\n",
            "\n",
            "🚀 다음 단계 제안:\n",
            "   - 딥러닝 모델 (LSTM, CNN) 시도\n",
            "   - 앙상블 방법 적용\n",
            "   - 하이퍼파라미터 세부 튜닝\n",
            "   - 다른 데이터셋으로 실험\n"
          ]
        }
      ]
    }
  ]
}