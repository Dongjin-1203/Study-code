{
  "nbformat": 4,
  "nbformat_minor": 0,
  "metadata": {
    "colab": {
      "provenance": [],
      "gpuType": "T4",
      "authorship_tag": "ABX9TyPQKCw1hXx1CXt79S5kVbxl",
      "include_colab_link": true
    },
    "kernelspec": {
      "name": "python3",
      "display_name": "Python 3"
    },
    "language_info": {
      "name": "python"
    },
    "accelerator": "GPU",
    "widgets": {
      "application/vnd.jupyter.widget-state+json": {
        "6c692853821c4775b0809b48857e071d": {
          "model_module": "@jupyter-widgets/controls",
          "model_name": "HBoxModel",
          "model_module_version": "1.5.0",
          "state": {
            "_dom_classes": [],
            "_model_module": "@jupyter-widgets/controls",
            "_model_module_version": "1.5.0",
            "_model_name": "HBoxModel",
            "_view_count": null,
            "_view_module": "@jupyter-widgets/controls",
            "_view_module_version": "1.5.0",
            "_view_name": "HBoxView",
            "box_style": "",
            "children": [
              "IPY_MODEL_a83d9ace043b46a38b3cb872bb6ef5ba",
              "IPY_MODEL_67cd16c383ac4816bf210703bfd6ea35",
              "IPY_MODEL_7bbaf8e892134af2b9e7d9360ea17968"
            ],
            "layout": "IPY_MODEL_16851d6cf01e43e19a195c39798ebba1"
          }
        },
        "a83d9ace043b46a38b3cb872bb6ef5ba": {
          "model_module": "@jupyter-widgets/controls",
          "model_name": "HTMLModel",
          "model_module_version": "1.5.0",
          "state": {
            "_dom_classes": [],
            "_model_module": "@jupyter-widgets/controls",
            "_model_module_version": "1.5.0",
            "_model_name": "HTMLModel",
            "_view_count": null,
            "_view_module": "@jupyter-widgets/controls",
            "_view_module_version": "1.5.0",
            "_view_name": "HTMLView",
            "description": "",
            "description_tooltip": null,
            "layout": "IPY_MODEL_d9342988012147c888ba5509e7d7a9e0",
            "placeholder": "​",
            "style": "IPY_MODEL_a94d246b0bfb45379d28e1d4a3bc7878",
            "value": "README.md: "
          }
        },
        "67cd16c383ac4816bf210703bfd6ea35": {
          "model_module": "@jupyter-widgets/controls",
          "model_name": "FloatProgressModel",
          "model_module_version": "1.5.0",
          "state": {
            "_dom_classes": [],
            "_model_module": "@jupyter-widgets/controls",
            "_model_module_version": "1.5.0",
            "_model_name": "FloatProgressModel",
            "_view_count": null,
            "_view_module": "@jupyter-widgets/controls",
            "_view_module_version": "1.5.0",
            "_view_name": "ProgressView",
            "bar_style": "success",
            "description": "",
            "description_tooltip": null,
            "layout": "IPY_MODEL_a5457280f70b4ba4a72ba85b9cf90e41",
            "max": 1,
            "min": 0,
            "orientation": "horizontal",
            "style": "IPY_MODEL_4578a55d23d44323a47acdf9b6daf717",
            "value": 1
          }
        },
        "7bbaf8e892134af2b9e7d9360ea17968": {
          "model_module": "@jupyter-widgets/controls",
          "model_name": "HTMLModel",
          "model_module_version": "1.5.0",
          "state": {
            "_dom_classes": [],
            "_model_module": "@jupyter-widgets/controls",
            "_model_module_version": "1.5.0",
            "_model_name": "HTMLModel",
            "_view_count": null,
            "_view_module": "@jupyter-widgets/controls",
            "_view_module_version": "1.5.0",
            "_view_name": "HTMLView",
            "description": "",
            "description_tooltip": null,
            "layout": "IPY_MODEL_8bc681e6afa147c5a188365b996ff63a",
            "placeholder": "​",
            "style": "IPY_MODEL_a57236882ba34b0c82d17fcc39e85c2d",
            "value": " 7.81k/? [00:00&lt;00:00, 573kB/s]"
          }
        },
        "16851d6cf01e43e19a195c39798ebba1": {
          "model_module": "@jupyter-widgets/base",
          "model_name": "LayoutModel",
          "model_module_version": "1.2.0",
          "state": {
            "_model_module": "@jupyter-widgets/base",
            "_model_module_version": "1.2.0",
            "_model_name": "LayoutModel",
            "_view_count": null,
            "_view_module": "@jupyter-widgets/base",
            "_view_module_version": "1.2.0",
            "_view_name": "LayoutView",
            "align_content": null,
            "align_items": null,
            "align_self": null,
            "border": null,
            "bottom": null,
            "display": null,
            "flex": null,
            "flex_flow": null,
            "grid_area": null,
            "grid_auto_columns": null,
            "grid_auto_flow": null,
            "grid_auto_rows": null,
            "grid_column": null,
            "grid_gap": null,
            "grid_row": null,
            "grid_template_areas": null,
            "grid_template_columns": null,
            "grid_template_rows": null,
            "height": null,
            "justify_content": null,
            "justify_items": null,
            "left": null,
            "margin": null,
            "max_height": null,
            "max_width": null,
            "min_height": null,
            "min_width": null,
            "object_fit": null,
            "object_position": null,
            "order": null,
            "overflow": null,
            "overflow_x": null,
            "overflow_y": null,
            "padding": null,
            "right": null,
            "top": null,
            "visibility": null,
            "width": null
          }
        },
        "d9342988012147c888ba5509e7d7a9e0": {
          "model_module": "@jupyter-widgets/base",
          "model_name": "LayoutModel",
          "model_module_version": "1.2.0",
          "state": {
            "_model_module": "@jupyter-widgets/base",
            "_model_module_version": "1.2.0",
            "_model_name": "LayoutModel",
            "_view_count": null,
            "_view_module": "@jupyter-widgets/base",
            "_view_module_version": "1.2.0",
            "_view_name": "LayoutView",
            "align_content": null,
            "align_items": null,
            "align_self": null,
            "border": null,
            "bottom": null,
            "display": null,
            "flex": null,
            "flex_flow": null,
            "grid_area": null,
            "grid_auto_columns": null,
            "grid_auto_flow": null,
            "grid_auto_rows": null,
            "grid_column": null,
            "grid_gap": null,
            "grid_row": null,
            "grid_template_areas": null,
            "grid_template_columns": null,
            "grid_template_rows": null,
            "height": null,
            "justify_content": null,
            "justify_items": null,
            "left": null,
            "margin": null,
            "max_height": null,
            "max_width": null,
            "min_height": null,
            "min_width": null,
            "object_fit": null,
            "object_position": null,
            "order": null,
            "overflow": null,
            "overflow_x": null,
            "overflow_y": null,
            "padding": null,
            "right": null,
            "top": null,
            "visibility": null,
            "width": null
          }
        },
        "a94d246b0bfb45379d28e1d4a3bc7878": {
          "model_module": "@jupyter-widgets/controls",
          "model_name": "DescriptionStyleModel",
          "model_module_version": "1.5.0",
          "state": {
            "_model_module": "@jupyter-widgets/controls",
            "_model_module_version": "1.5.0",
            "_model_name": "DescriptionStyleModel",
            "_view_count": null,
            "_view_module": "@jupyter-widgets/base",
            "_view_module_version": "1.2.0",
            "_view_name": "StyleView",
            "description_width": ""
          }
        },
        "a5457280f70b4ba4a72ba85b9cf90e41": {
          "model_module": "@jupyter-widgets/base",
          "model_name": "LayoutModel",
          "model_module_version": "1.2.0",
          "state": {
            "_model_module": "@jupyter-widgets/base",
            "_model_module_version": "1.2.0",
            "_model_name": "LayoutModel",
            "_view_count": null,
            "_view_module": "@jupyter-widgets/base",
            "_view_module_version": "1.2.0",
            "_view_name": "LayoutView",
            "align_content": null,
            "align_items": null,
            "align_self": null,
            "border": null,
            "bottom": null,
            "display": null,
            "flex": null,
            "flex_flow": null,
            "grid_area": null,
            "grid_auto_columns": null,
            "grid_auto_flow": null,
            "grid_auto_rows": null,
            "grid_column": null,
            "grid_gap": null,
            "grid_row": null,
            "grid_template_areas": null,
            "grid_template_columns": null,
            "grid_template_rows": null,
            "height": null,
            "justify_content": null,
            "justify_items": null,
            "left": null,
            "margin": null,
            "max_height": null,
            "max_width": null,
            "min_height": null,
            "min_width": null,
            "object_fit": null,
            "object_position": null,
            "order": null,
            "overflow": null,
            "overflow_x": null,
            "overflow_y": null,
            "padding": null,
            "right": null,
            "top": null,
            "visibility": null,
            "width": "20px"
          }
        },
        "4578a55d23d44323a47acdf9b6daf717": {
          "model_module": "@jupyter-widgets/controls",
          "model_name": "ProgressStyleModel",
          "model_module_version": "1.5.0",
          "state": {
            "_model_module": "@jupyter-widgets/controls",
            "_model_module_version": "1.5.0",
            "_model_name": "ProgressStyleModel",
            "_view_count": null,
            "_view_module": "@jupyter-widgets/base",
            "_view_module_version": "1.2.0",
            "_view_name": "StyleView",
            "bar_color": null,
            "description_width": ""
          }
        },
        "8bc681e6afa147c5a188365b996ff63a": {
          "model_module": "@jupyter-widgets/base",
          "model_name": "LayoutModel",
          "model_module_version": "1.2.0",
          "state": {
            "_model_module": "@jupyter-widgets/base",
            "_model_module_version": "1.2.0",
            "_model_name": "LayoutModel",
            "_view_count": null,
            "_view_module": "@jupyter-widgets/base",
            "_view_module_version": "1.2.0",
            "_view_name": "LayoutView",
            "align_content": null,
            "align_items": null,
            "align_self": null,
            "border": null,
            "bottom": null,
            "display": null,
            "flex": null,
            "flex_flow": null,
            "grid_area": null,
            "grid_auto_columns": null,
            "grid_auto_flow": null,
            "grid_auto_rows": null,
            "grid_column": null,
            "grid_gap": null,
            "grid_row": null,
            "grid_template_areas": null,
            "grid_template_columns": null,
            "grid_template_rows": null,
            "height": null,
            "justify_content": null,
            "justify_items": null,
            "left": null,
            "margin": null,
            "max_height": null,
            "max_width": null,
            "min_height": null,
            "min_width": null,
            "object_fit": null,
            "object_position": null,
            "order": null,
            "overflow": null,
            "overflow_x": null,
            "overflow_y": null,
            "padding": null,
            "right": null,
            "top": null,
            "visibility": null,
            "width": null
          }
        },
        "a57236882ba34b0c82d17fcc39e85c2d": {
          "model_module": "@jupyter-widgets/controls",
          "model_name": "DescriptionStyleModel",
          "model_module_version": "1.5.0",
          "state": {
            "_model_module": "@jupyter-widgets/controls",
            "_model_module_version": "1.5.0",
            "_model_name": "DescriptionStyleModel",
            "_view_count": null,
            "_view_module": "@jupyter-widgets/base",
            "_view_module_version": "1.2.0",
            "_view_name": "StyleView",
            "description_width": ""
          }
        },
        "5ae3a03f52ab48bbb4dd8d855536ecbe": {
          "model_module": "@jupyter-widgets/controls",
          "model_name": "HBoxModel",
          "model_module_version": "1.5.0",
          "state": {
            "_dom_classes": [],
            "_model_module": "@jupyter-widgets/controls",
            "_model_module_version": "1.5.0",
            "_model_name": "HBoxModel",
            "_view_count": null,
            "_view_module": "@jupyter-widgets/controls",
            "_view_module_version": "1.5.0",
            "_view_name": "HBoxView",
            "box_style": "",
            "children": [
              "IPY_MODEL_2bf6075cc5dd4042b6a7fcebe42770ff",
              "IPY_MODEL_3b59fe379e564d7e8f4855a6cb0d2073",
              "IPY_MODEL_c251ed30c6784d248efd08e480f4da09"
            ],
            "layout": "IPY_MODEL_4e30526499a9418e847a6e2df25a8d85"
          }
        },
        "2bf6075cc5dd4042b6a7fcebe42770ff": {
          "model_module": "@jupyter-widgets/controls",
          "model_name": "HTMLModel",
          "model_module_version": "1.5.0",
          "state": {
            "_dom_classes": [],
            "_model_module": "@jupyter-widgets/controls",
            "_model_module_version": "1.5.0",
            "_model_name": "HTMLModel",
            "_view_count": null,
            "_view_module": "@jupyter-widgets/controls",
            "_view_module_version": "1.5.0",
            "_view_name": "HTMLView",
            "description": "",
            "description_tooltip": null,
            "layout": "IPY_MODEL_12441583cd4042b78bb7a93cd23ee67f",
            "placeholder": "​",
            "style": "IPY_MODEL_c6ecc17ae08a489795cb832c0d1292cd",
            "value": "train-00000-of-00001.parquet: 100%"
          }
        },
        "3b59fe379e564d7e8f4855a6cb0d2073": {
          "model_module": "@jupyter-widgets/controls",
          "model_name": "FloatProgressModel",
          "model_module_version": "1.5.0",
          "state": {
            "_dom_classes": [],
            "_model_module": "@jupyter-widgets/controls",
            "_model_module_version": "1.5.0",
            "_model_name": "FloatProgressModel",
            "_view_count": null,
            "_view_module": "@jupyter-widgets/controls",
            "_view_module_version": "1.5.0",
            "_view_name": "ProgressView",
            "bar_style": "success",
            "description": "",
            "description_tooltip": null,
            "layout": "IPY_MODEL_4f86a6a927594763aa78304cc6369f47",
            "max": 20979968,
            "min": 0,
            "orientation": "horizontal",
            "style": "IPY_MODEL_db4226b2b4394b4abc7820d5401fedb5",
            "value": 20979968
          }
        },
        "c251ed30c6784d248efd08e480f4da09": {
          "model_module": "@jupyter-widgets/controls",
          "model_name": "HTMLModel",
          "model_module_version": "1.5.0",
          "state": {
            "_dom_classes": [],
            "_model_module": "@jupyter-widgets/controls",
            "_model_module_version": "1.5.0",
            "_model_name": "HTMLModel",
            "_view_count": null,
            "_view_module": "@jupyter-widgets/controls",
            "_view_module_version": "1.5.0",
            "_view_name": "HTMLView",
            "description": "",
            "description_tooltip": null,
            "layout": "IPY_MODEL_adef73299fd84aeab850924f529815bb",
            "placeholder": "​",
            "style": "IPY_MODEL_03b949be94284bb4bba2d1dae475186e",
            "value": " 21.0M/21.0M [00:00&lt;00:00, 162MB/s]"
          }
        },
        "4e30526499a9418e847a6e2df25a8d85": {
          "model_module": "@jupyter-widgets/base",
          "model_name": "LayoutModel",
          "model_module_version": "1.2.0",
          "state": {
            "_model_module": "@jupyter-widgets/base",
            "_model_module_version": "1.2.0",
            "_model_name": "LayoutModel",
            "_view_count": null,
            "_view_module": "@jupyter-widgets/base",
            "_view_module_version": "1.2.0",
            "_view_name": "LayoutView",
            "align_content": null,
            "align_items": null,
            "align_self": null,
            "border": null,
            "bottom": null,
            "display": null,
            "flex": null,
            "flex_flow": null,
            "grid_area": null,
            "grid_auto_columns": null,
            "grid_auto_flow": null,
            "grid_auto_rows": null,
            "grid_column": null,
            "grid_gap": null,
            "grid_row": null,
            "grid_template_areas": null,
            "grid_template_columns": null,
            "grid_template_rows": null,
            "height": null,
            "justify_content": null,
            "justify_items": null,
            "left": null,
            "margin": null,
            "max_height": null,
            "max_width": null,
            "min_height": null,
            "min_width": null,
            "object_fit": null,
            "object_position": null,
            "order": null,
            "overflow": null,
            "overflow_x": null,
            "overflow_y": null,
            "padding": null,
            "right": null,
            "top": null,
            "visibility": null,
            "width": null
          }
        },
        "12441583cd4042b78bb7a93cd23ee67f": {
          "model_module": "@jupyter-widgets/base",
          "model_name": "LayoutModel",
          "model_module_version": "1.2.0",
          "state": {
            "_model_module": "@jupyter-widgets/base",
            "_model_module_version": "1.2.0",
            "_model_name": "LayoutModel",
            "_view_count": null,
            "_view_module": "@jupyter-widgets/base",
            "_view_module_version": "1.2.0",
            "_view_name": "LayoutView",
            "align_content": null,
            "align_items": null,
            "align_self": null,
            "border": null,
            "bottom": null,
            "display": null,
            "flex": null,
            "flex_flow": null,
            "grid_area": null,
            "grid_auto_columns": null,
            "grid_auto_flow": null,
            "grid_auto_rows": null,
            "grid_column": null,
            "grid_gap": null,
            "grid_row": null,
            "grid_template_areas": null,
            "grid_template_columns": null,
            "grid_template_rows": null,
            "height": null,
            "justify_content": null,
            "justify_items": null,
            "left": null,
            "margin": null,
            "max_height": null,
            "max_width": null,
            "min_height": null,
            "min_width": null,
            "object_fit": null,
            "object_position": null,
            "order": null,
            "overflow": null,
            "overflow_x": null,
            "overflow_y": null,
            "padding": null,
            "right": null,
            "top": null,
            "visibility": null,
            "width": null
          }
        },
        "c6ecc17ae08a489795cb832c0d1292cd": {
          "model_module": "@jupyter-widgets/controls",
          "model_name": "DescriptionStyleModel",
          "model_module_version": "1.5.0",
          "state": {
            "_model_module": "@jupyter-widgets/controls",
            "_model_module_version": "1.5.0",
            "_model_name": "DescriptionStyleModel",
            "_view_count": null,
            "_view_module": "@jupyter-widgets/base",
            "_view_module_version": "1.2.0",
            "_view_name": "StyleView",
            "description_width": ""
          }
        },
        "4f86a6a927594763aa78304cc6369f47": {
          "model_module": "@jupyter-widgets/base",
          "model_name": "LayoutModel",
          "model_module_version": "1.2.0",
          "state": {
            "_model_module": "@jupyter-widgets/base",
            "_model_module_version": "1.2.0",
            "_model_name": "LayoutModel",
            "_view_count": null,
            "_view_module": "@jupyter-widgets/base",
            "_view_module_version": "1.2.0",
            "_view_name": "LayoutView",
            "align_content": null,
            "align_items": null,
            "align_self": null,
            "border": null,
            "bottom": null,
            "display": null,
            "flex": null,
            "flex_flow": null,
            "grid_area": null,
            "grid_auto_columns": null,
            "grid_auto_flow": null,
            "grid_auto_rows": null,
            "grid_column": null,
            "grid_gap": null,
            "grid_row": null,
            "grid_template_areas": null,
            "grid_template_columns": null,
            "grid_template_rows": null,
            "height": null,
            "justify_content": null,
            "justify_items": null,
            "left": null,
            "margin": null,
            "max_height": null,
            "max_width": null,
            "min_height": null,
            "min_width": null,
            "object_fit": null,
            "object_position": null,
            "order": null,
            "overflow": null,
            "overflow_x": null,
            "overflow_y": null,
            "padding": null,
            "right": null,
            "top": null,
            "visibility": null,
            "width": null
          }
        },
        "db4226b2b4394b4abc7820d5401fedb5": {
          "model_module": "@jupyter-widgets/controls",
          "model_name": "ProgressStyleModel",
          "model_module_version": "1.5.0",
          "state": {
            "_model_module": "@jupyter-widgets/controls",
            "_model_module_version": "1.5.0",
            "_model_name": "ProgressStyleModel",
            "_view_count": null,
            "_view_module": "@jupyter-widgets/base",
            "_view_module_version": "1.2.0",
            "_view_name": "StyleView",
            "bar_color": null,
            "description_width": ""
          }
        },
        "adef73299fd84aeab850924f529815bb": {
          "model_module": "@jupyter-widgets/base",
          "model_name": "LayoutModel",
          "model_module_version": "1.2.0",
          "state": {
            "_model_module": "@jupyter-widgets/base",
            "_model_module_version": "1.2.0",
            "_model_name": "LayoutModel",
            "_view_count": null,
            "_view_module": "@jupyter-widgets/base",
            "_view_module_version": "1.2.0",
            "_view_name": "LayoutView",
            "align_content": null,
            "align_items": null,
            "align_self": null,
            "border": null,
            "bottom": null,
            "display": null,
            "flex": null,
            "flex_flow": null,
            "grid_area": null,
            "grid_auto_columns": null,
            "grid_auto_flow": null,
            "grid_auto_rows": null,
            "grid_column": null,
            "grid_gap": null,
            "grid_row": null,
            "grid_template_areas": null,
            "grid_template_columns": null,
            "grid_template_rows": null,
            "height": null,
            "justify_content": null,
            "justify_items": null,
            "left": null,
            "margin": null,
            "max_height": null,
            "max_width": null,
            "min_height": null,
            "min_width": null,
            "object_fit": null,
            "object_position": null,
            "order": null,
            "overflow": null,
            "overflow_x": null,
            "overflow_y": null,
            "padding": null,
            "right": null,
            "top": null,
            "visibility": null,
            "width": null
          }
        },
        "03b949be94284bb4bba2d1dae475186e": {
          "model_module": "@jupyter-widgets/controls",
          "model_name": "DescriptionStyleModel",
          "model_module_version": "1.5.0",
          "state": {
            "_model_module": "@jupyter-widgets/controls",
            "_model_module_version": "1.5.0",
            "_model_name": "DescriptionStyleModel",
            "_view_count": null,
            "_view_module": "@jupyter-widgets/base",
            "_view_module_version": "1.2.0",
            "_view_name": "StyleView",
            "description_width": ""
          }
        },
        "69a69a3e39bd46b6ad80d119b6d6e68e": {
          "model_module": "@jupyter-widgets/controls",
          "model_name": "HBoxModel",
          "model_module_version": "1.5.0",
          "state": {
            "_dom_classes": [],
            "_model_module": "@jupyter-widgets/controls",
            "_model_module_version": "1.5.0",
            "_model_name": "HBoxModel",
            "_view_count": null,
            "_view_module": "@jupyter-widgets/controls",
            "_view_module_version": "1.5.0",
            "_view_name": "HBoxView",
            "box_style": "",
            "children": [
              "IPY_MODEL_2fa2fbe5c5dc4ecdb23719e49d99c9ea",
              "IPY_MODEL_0812329a31b94c51b90e6dc6ffe5ba22",
              "IPY_MODEL_1ba6e0a7a17440a5b34c240a2820e720"
            ],
            "layout": "IPY_MODEL_78eec7e400e3449696dbefab362dc56f"
          }
        },
        "2fa2fbe5c5dc4ecdb23719e49d99c9ea": {
          "model_module": "@jupyter-widgets/controls",
          "model_name": "HTMLModel",
          "model_module_version": "1.5.0",
          "state": {
            "_dom_classes": [],
            "_model_module": "@jupyter-widgets/controls",
            "_model_module_version": "1.5.0",
            "_model_name": "HTMLModel",
            "_view_count": null,
            "_view_module": "@jupyter-widgets/controls",
            "_view_module_version": "1.5.0",
            "_view_name": "HTMLView",
            "description": "",
            "description_tooltip": null,
            "layout": "IPY_MODEL_ed32708d39af4f668e5728b694e6e2eb",
            "placeholder": "​",
            "style": "IPY_MODEL_c08cfbfcb0a947da942b25c29870a60c",
            "value": "test-00000-of-00001.parquet: 100%"
          }
        },
        "0812329a31b94c51b90e6dc6ffe5ba22": {
          "model_module": "@jupyter-widgets/controls",
          "model_name": "FloatProgressModel",
          "model_module_version": "1.5.0",
          "state": {
            "_dom_classes": [],
            "_model_module": "@jupyter-widgets/controls",
            "_model_module_version": "1.5.0",
            "_model_name": "FloatProgressModel",
            "_view_count": null,
            "_view_module": "@jupyter-widgets/controls",
            "_view_module_version": "1.5.0",
            "_view_name": "ProgressView",
            "bar_style": "success",
            "description": "",
            "description_tooltip": null,
            "layout": "IPY_MODEL_1fec96cfc3084d4b93f9200995f5a11f",
            "max": 20470363,
            "min": 0,
            "orientation": "horizontal",
            "style": "IPY_MODEL_be7d8f4be8dc45bd8de30142cc29f5d4",
            "value": 20470363
          }
        },
        "1ba6e0a7a17440a5b34c240a2820e720": {
          "model_module": "@jupyter-widgets/controls",
          "model_name": "HTMLModel",
          "model_module_version": "1.5.0",
          "state": {
            "_dom_classes": [],
            "_model_module": "@jupyter-widgets/controls",
            "_model_module_version": "1.5.0",
            "_model_name": "HTMLModel",
            "_view_count": null,
            "_view_module": "@jupyter-widgets/controls",
            "_view_module_version": "1.5.0",
            "_view_name": "HTMLView",
            "description": "",
            "description_tooltip": null,
            "layout": "IPY_MODEL_b27c4dee8d0d413b9f20bd30a854b365",
            "placeholder": "​",
            "style": "IPY_MODEL_576e84f0171a43d091d8d46a26735f18",
            "value": " 20.5M/20.5M [00:00&lt;00:00, 60.5MB/s]"
          }
        },
        "78eec7e400e3449696dbefab362dc56f": {
          "model_module": "@jupyter-widgets/base",
          "model_name": "LayoutModel",
          "model_module_version": "1.2.0",
          "state": {
            "_model_module": "@jupyter-widgets/base",
            "_model_module_version": "1.2.0",
            "_model_name": "LayoutModel",
            "_view_count": null,
            "_view_module": "@jupyter-widgets/base",
            "_view_module_version": "1.2.0",
            "_view_name": "LayoutView",
            "align_content": null,
            "align_items": null,
            "align_self": null,
            "border": null,
            "bottom": null,
            "display": null,
            "flex": null,
            "flex_flow": null,
            "grid_area": null,
            "grid_auto_columns": null,
            "grid_auto_flow": null,
            "grid_auto_rows": null,
            "grid_column": null,
            "grid_gap": null,
            "grid_row": null,
            "grid_template_areas": null,
            "grid_template_columns": null,
            "grid_template_rows": null,
            "height": null,
            "justify_content": null,
            "justify_items": null,
            "left": null,
            "margin": null,
            "max_height": null,
            "max_width": null,
            "min_height": null,
            "min_width": null,
            "object_fit": null,
            "object_position": null,
            "order": null,
            "overflow": null,
            "overflow_x": null,
            "overflow_y": null,
            "padding": null,
            "right": null,
            "top": null,
            "visibility": null,
            "width": null
          }
        },
        "ed32708d39af4f668e5728b694e6e2eb": {
          "model_module": "@jupyter-widgets/base",
          "model_name": "LayoutModel",
          "model_module_version": "1.2.0",
          "state": {
            "_model_module": "@jupyter-widgets/base",
            "_model_module_version": "1.2.0",
            "_model_name": "LayoutModel",
            "_view_count": null,
            "_view_module": "@jupyter-widgets/base",
            "_view_module_version": "1.2.0",
            "_view_name": "LayoutView",
            "align_content": null,
            "align_items": null,
            "align_self": null,
            "border": null,
            "bottom": null,
            "display": null,
            "flex": null,
            "flex_flow": null,
            "grid_area": null,
            "grid_auto_columns": null,
            "grid_auto_flow": null,
            "grid_auto_rows": null,
            "grid_column": null,
            "grid_gap": null,
            "grid_row": null,
            "grid_template_areas": null,
            "grid_template_columns": null,
            "grid_template_rows": null,
            "height": null,
            "justify_content": null,
            "justify_items": null,
            "left": null,
            "margin": null,
            "max_height": null,
            "max_width": null,
            "min_height": null,
            "min_width": null,
            "object_fit": null,
            "object_position": null,
            "order": null,
            "overflow": null,
            "overflow_x": null,
            "overflow_y": null,
            "padding": null,
            "right": null,
            "top": null,
            "visibility": null,
            "width": null
          }
        },
        "c08cfbfcb0a947da942b25c29870a60c": {
          "model_module": "@jupyter-widgets/controls",
          "model_name": "DescriptionStyleModel",
          "model_module_version": "1.5.0",
          "state": {
            "_model_module": "@jupyter-widgets/controls",
            "_model_module_version": "1.5.0",
            "_model_name": "DescriptionStyleModel",
            "_view_count": null,
            "_view_module": "@jupyter-widgets/base",
            "_view_module_version": "1.2.0",
            "_view_name": "StyleView",
            "description_width": ""
          }
        },
        "1fec96cfc3084d4b93f9200995f5a11f": {
          "model_module": "@jupyter-widgets/base",
          "model_name": "LayoutModel",
          "model_module_version": "1.2.0",
          "state": {
            "_model_module": "@jupyter-widgets/base",
            "_model_module_version": "1.2.0",
            "_model_name": "LayoutModel",
            "_view_count": null,
            "_view_module": "@jupyter-widgets/base",
            "_view_module_version": "1.2.0",
            "_view_name": "LayoutView",
            "align_content": null,
            "align_items": null,
            "align_self": null,
            "border": null,
            "bottom": null,
            "display": null,
            "flex": null,
            "flex_flow": null,
            "grid_area": null,
            "grid_auto_columns": null,
            "grid_auto_flow": null,
            "grid_auto_rows": null,
            "grid_column": null,
            "grid_gap": null,
            "grid_row": null,
            "grid_template_areas": null,
            "grid_template_columns": null,
            "grid_template_rows": null,
            "height": null,
            "justify_content": null,
            "justify_items": null,
            "left": null,
            "margin": null,
            "max_height": null,
            "max_width": null,
            "min_height": null,
            "min_width": null,
            "object_fit": null,
            "object_position": null,
            "order": null,
            "overflow": null,
            "overflow_x": null,
            "overflow_y": null,
            "padding": null,
            "right": null,
            "top": null,
            "visibility": null,
            "width": null
          }
        },
        "be7d8f4be8dc45bd8de30142cc29f5d4": {
          "model_module": "@jupyter-widgets/controls",
          "model_name": "ProgressStyleModel",
          "model_module_version": "1.5.0",
          "state": {
            "_model_module": "@jupyter-widgets/controls",
            "_model_module_version": "1.5.0",
            "_model_name": "ProgressStyleModel",
            "_view_count": null,
            "_view_module": "@jupyter-widgets/base",
            "_view_module_version": "1.2.0",
            "_view_name": "StyleView",
            "bar_color": null,
            "description_width": ""
          }
        },
        "b27c4dee8d0d413b9f20bd30a854b365": {
          "model_module": "@jupyter-widgets/base",
          "model_name": "LayoutModel",
          "model_module_version": "1.2.0",
          "state": {
            "_model_module": "@jupyter-widgets/base",
            "_model_module_version": "1.2.0",
            "_model_name": "LayoutModel",
            "_view_count": null,
            "_view_module": "@jupyter-widgets/base",
            "_view_module_version": "1.2.0",
            "_view_name": "LayoutView",
            "align_content": null,
            "align_items": null,
            "align_self": null,
            "border": null,
            "bottom": null,
            "display": null,
            "flex": null,
            "flex_flow": null,
            "grid_area": null,
            "grid_auto_columns": null,
            "grid_auto_flow": null,
            "grid_auto_rows": null,
            "grid_column": null,
            "grid_gap": null,
            "grid_row": null,
            "grid_template_areas": null,
            "grid_template_columns": null,
            "grid_template_rows": null,
            "height": null,
            "justify_content": null,
            "justify_items": null,
            "left": null,
            "margin": null,
            "max_height": null,
            "max_width": null,
            "min_height": null,
            "min_width": null,
            "object_fit": null,
            "object_position": null,
            "order": null,
            "overflow": null,
            "overflow_x": null,
            "overflow_y": null,
            "padding": null,
            "right": null,
            "top": null,
            "visibility": null,
            "width": null
          }
        },
        "576e84f0171a43d091d8d46a26735f18": {
          "model_module": "@jupyter-widgets/controls",
          "model_name": "DescriptionStyleModel",
          "model_module_version": "1.5.0",
          "state": {
            "_model_module": "@jupyter-widgets/controls",
            "_model_module_version": "1.5.0",
            "_model_name": "DescriptionStyleModel",
            "_view_count": null,
            "_view_module": "@jupyter-widgets/base",
            "_view_module_version": "1.2.0",
            "_view_name": "StyleView",
            "description_width": ""
          }
        },
        "8fae8a890de7487696cdef6201f99a74": {
          "model_module": "@jupyter-widgets/controls",
          "model_name": "HBoxModel",
          "model_module_version": "1.5.0",
          "state": {
            "_dom_classes": [],
            "_model_module": "@jupyter-widgets/controls",
            "_model_module_version": "1.5.0",
            "_model_name": "HBoxModel",
            "_view_count": null,
            "_view_module": "@jupyter-widgets/controls",
            "_view_module_version": "1.5.0",
            "_view_name": "HBoxView",
            "box_style": "",
            "children": [
              "IPY_MODEL_5c52c77323b54fb1b45c097ca644cad1",
              "IPY_MODEL_d0950d65ebf640cf8063525be602567e",
              "IPY_MODEL_575098e359bf411bb1aa1c04b8c9bf17"
            ],
            "layout": "IPY_MODEL_550d2f2c842a41fa85cf72a96404a824"
          }
        },
        "5c52c77323b54fb1b45c097ca644cad1": {
          "model_module": "@jupyter-widgets/controls",
          "model_name": "HTMLModel",
          "model_module_version": "1.5.0",
          "state": {
            "_dom_classes": [],
            "_model_module": "@jupyter-widgets/controls",
            "_model_module_version": "1.5.0",
            "_model_name": "HTMLModel",
            "_view_count": null,
            "_view_module": "@jupyter-widgets/controls",
            "_view_module_version": "1.5.0",
            "_view_name": "HTMLView",
            "description": "",
            "description_tooltip": null,
            "layout": "IPY_MODEL_7632d822261f4ea5a9c6dc0d88af591c",
            "placeholder": "​",
            "style": "IPY_MODEL_5d1f51ef74bc46bc971a9f0a9129454b",
            "value": "unsupervised-00000-of-00001.parquet: 100%"
          }
        },
        "d0950d65ebf640cf8063525be602567e": {
          "model_module": "@jupyter-widgets/controls",
          "model_name": "FloatProgressModel",
          "model_module_version": "1.5.0",
          "state": {
            "_dom_classes": [],
            "_model_module": "@jupyter-widgets/controls",
            "_model_module_version": "1.5.0",
            "_model_name": "FloatProgressModel",
            "_view_count": null,
            "_view_module": "@jupyter-widgets/controls",
            "_view_module_version": "1.5.0",
            "_view_name": "ProgressView",
            "bar_style": "success",
            "description": "",
            "description_tooltip": null,
            "layout": "IPY_MODEL_1c57ea14faae41f4a066807c341e2cbd",
            "max": 41996509,
            "min": 0,
            "orientation": "horizontal",
            "style": "IPY_MODEL_f67786a73c4d4856ba0a880bc110fe01",
            "value": 41996509
          }
        },
        "575098e359bf411bb1aa1c04b8c9bf17": {
          "model_module": "@jupyter-widgets/controls",
          "model_name": "HTMLModel",
          "model_module_version": "1.5.0",
          "state": {
            "_dom_classes": [],
            "_model_module": "@jupyter-widgets/controls",
            "_model_module_version": "1.5.0",
            "_model_name": "HTMLModel",
            "_view_count": null,
            "_view_module": "@jupyter-widgets/controls",
            "_view_module_version": "1.5.0",
            "_view_name": "HTMLView",
            "description": "",
            "description_tooltip": null,
            "layout": "IPY_MODEL_e6559de134cd475eb734f11657c97faa",
            "placeholder": "​",
            "style": "IPY_MODEL_ac9e9c5918e243c6822661a44494e348",
            "value": " 42.0M/42.0M [00:00&lt;00:00, 244MB/s]"
          }
        },
        "550d2f2c842a41fa85cf72a96404a824": {
          "model_module": "@jupyter-widgets/base",
          "model_name": "LayoutModel",
          "model_module_version": "1.2.0",
          "state": {
            "_model_module": "@jupyter-widgets/base",
            "_model_module_version": "1.2.0",
            "_model_name": "LayoutModel",
            "_view_count": null,
            "_view_module": "@jupyter-widgets/base",
            "_view_module_version": "1.2.0",
            "_view_name": "LayoutView",
            "align_content": null,
            "align_items": null,
            "align_self": null,
            "border": null,
            "bottom": null,
            "display": null,
            "flex": null,
            "flex_flow": null,
            "grid_area": null,
            "grid_auto_columns": null,
            "grid_auto_flow": null,
            "grid_auto_rows": null,
            "grid_column": null,
            "grid_gap": null,
            "grid_row": null,
            "grid_template_areas": null,
            "grid_template_columns": null,
            "grid_template_rows": null,
            "height": null,
            "justify_content": null,
            "justify_items": null,
            "left": null,
            "margin": null,
            "max_height": null,
            "max_width": null,
            "min_height": null,
            "min_width": null,
            "object_fit": null,
            "object_position": null,
            "order": null,
            "overflow": null,
            "overflow_x": null,
            "overflow_y": null,
            "padding": null,
            "right": null,
            "top": null,
            "visibility": null,
            "width": null
          }
        },
        "7632d822261f4ea5a9c6dc0d88af591c": {
          "model_module": "@jupyter-widgets/base",
          "model_name": "LayoutModel",
          "model_module_version": "1.2.0",
          "state": {
            "_model_module": "@jupyter-widgets/base",
            "_model_module_version": "1.2.0",
            "_model_name": "LayoutModel",
            "_view_count": null,
            "_view_module": "@jupyter-widgets/base",
            "_view_module_version": "1.2.0",
            "_view_name": "LayoutView",
            "align_content": null,
            "align_items": null,
            "align_self": null,
            "border": null,
            "bottom": null,
            "display": null,
            "flex": null,
            "flex_flow": null,
            "grid_area": null,
            "grid_auto_columns": null,
            "grid_auto_flow": null,
            "grid_auto_rows": null,
            "grid_column": null,
            "grid_gap": null,
            "grid_row": null,
            "grid_template_areas": null,
            "grid_template_columns": null,
            "grid_template_rows": null,
            "height": null,
            "justify_content": null,
            "justify_items": null,
            "left": null,
            "margin": null,
            "max_height": null,
            "max_width": null,
            "min_height": null,
            "min_width": null,
            "object_fit": null,
            "object_position": null,
            "order": null,
            "overflow": null,
            "overflow_x": null,
            "overflow_y": null,
            "padding": null,
            "right": null,
            "top": null,
            "visibility": null,
            "width": null
          }
        },
        "5d1f51ef74bc46bc971a9f0a9129454b": {
          "model_module": "@jupyter-widgets/controls",
          "model_name": "DescriptionStyleModel",
          "model_module_version": "1.5.0",
          "state": {
            "_model_module": "@jupyter-widgets/controls",
            "_model_module_version": "1.5.0",
            "_model_name": "DescriptionStyleModel",
            "_view_count": null,
            "_view_module": "@jupyter-widgets/base",
            "_view_module_version": "1.2.0",
            "_view_name": "StyleView",
            "description_width": ""
          }
        },
        "1c57ea14faae41f4a066807c341e2cbd": {
          "model_module": "@jupyter-widgets/base",
          "model_name": "LayoutModel",
          "model_module_version": "1.2.0",
          "state": {
            "_model_module": "@jupyter-widgets/base",
            "_model_module_version": "1.2.0",
            "_model_name": "LayoutModel",
            "_view_count": null,
            "_view_module": "@jupyter-widgets/base",
            "_view_module_version": "1.2.0",
            "_view_name": "LayoutView",
            "align_content": null,
            "align_items": null,
            "align_self": null,
            "border": null,
            "bottom": null,
            "display": null,
            "flex": null,
            "flex_flow": null,
            "grid_area": null,
            "grid_auto_columns": null,
            "grid_auto_flow": null,
            "grid_auto_rows": null,
            "grid_column": null,
            "grid_gap": null,
            "grid_row": null,
            "grid_template_areas": null,
            "grid_template_columns": null,
            "grid_template_rows": null,
            "height": null,
            "justify_content": null,
            "justify_items": null,
            "left": null,
            "margin": null,
            "max_height": null,
            "max_width": null,
            "min_height": null,
            "min_width": null,
            "object_fit": null,
            "object_position": null,
            "order": null,
            "overflow": null,
            "overflow_x": null,
            "overflow_y": null,
            "padding": null,
            "right": null,
            "top": null,
            "visibility": null,
            "width": null
          }
        },
        "f67786a73c4d4856ba0a880bc110fe01": {
          "model_module": "@jupyter-widgets/controls",
          "model_name": "ProgressStyleModel",
          "model_module_version": "1.5.0",
          "state": {
            "_model_module": "@jupyter-widgets/controls",
            "_model_module_version": "1.5.0",
            "_model_name": "ProgressStyleModel",
            "_view_count": null,
            "_view_module": "@jupyter-widgets/base",
            "_view_module_version": "1.2.0",
            "_view_name": "StyleView",
            "bar_color": null,
            "description_width": ""
          }
        },
        "e6559de134cd475eb734f11657c97faa": {
          "model_module": "@jupyter-widgets/base",
          "model_name": "LayoutModel",
          "model_module_version": "1.2.0",
          "state": {
            "_model_module": "@jupyter-widgets/base",
            "_model_module_version": "1.2.0",
            "_model_name": "LayoutModel",
            "_view_count": null,
            "_view_module": "@jupyter-widgets/base",
            "_view_module_version": "1.2.0",
            "_view_name": "LayoutView",
            "align_content": null,
            "align_items": null,
            "align_self": null,
            "border": null,
            "bottom": null,
            "display": null,
            "flex": null,
            "flex_flow": null,
            "grid_area": null,
            "grid_auto_columns": null,
            "grid_auto_flow": null,
            "grid_auto_rows": null,
            "grid_column": null,
            "grid_gap": null,
            "grid_row": null,
            "grid_template_areas": null,
            "grid_template_columns": null,
            "grid_template_rows": null,
            "height": null,
            "justify_content": null,
            "justify_items": null,
            "left": null,
            "margin": null,
            "max_height": null,
            "max_width": null,
            "min_height": null,
            "min_width": null,
            "object_fit": null,
            "object_position": null,
            "order": null,
            "overflow": null,
            "overflow_x": null,
            "overflow_y": null,
            "padding": null,
            "right": null,
            "top": null,
            "visibility": null,
            "width": null
          }
        },
        "ac9e9c5918e243c6822661a44494e348": {
          "model_module": "@jupyter-widgets/controls",
          "model_name": "DescriptionStyleModel",
          "model_module_version": "1.5.0",
          "state": {
            "_model_module": "@jupyter-widgets/controls",
            "_model_module_version": "1.5.0",
            "_model_name": "DescriptionStyleModel",
            "_view_count": null,
            "_view_module": "@jupyter-widgets/base",
            "_view_module_version": "1.2.0",
            "_view_name": "StyleView",
            "description_width": ""
          }
        },
        "7e9cf45a47a44af98e5f4c5cb3bac3aa": {
          "model_module": "@jupyter-widgets/controls",
          "model_name": "HBoxModel",
          "model_module_version": "1.5.0",
          "state": {
            "_dom_classes": [],
            "_model_module": "@jupyter-widgets/controls",
            "_model_module_version": "1.5.0",
            "_model_name": "HBoxModel",
            "_view_count": null,
            "_view_module": "@jupyter-widgets/controls",
            "_view_module_version": "1.5.0",
            "_view_name": "HBoxView",
            "box_style": "",
            "children": [
              "IPY_MODEL_668bf9d1cecf45a7851a0dbac78b3c43",
              "IPY_MODEL_3c1e7e0e4a964b9a815aeb067c2003fe",
              "IPY_MODEL_eeba49ab1e444e21a00fc24b89c5077e"
            ],
            "layout": "IPY_MODEL_777a852cf91e48b9ace8715475401e2a"
          }
        },
        "668bf9d1cecf45a7851a0dbac78b3c43": {
          "model_module": "@jupyter-widgets/controls",
          "model_name": "HTMLModel",
          "model_module_version": "1.5.0",
          "state": {
            "_dom_classes": [],
            "_model_module": "@jupyter-widgets/controls",
            "_model_module_version": "1.5.0",
            "_model_name": "HTMLModel",
            "_view_count": null,
            "_view_module": "@jupyter-widgets/controls",
            "_view_module_version": "1.5.0",
            "_view_name": "HTMLView",
            "description": "",
            "description_tooltip": null,
            "layout": "IPY_MODEL_8f58089626644827b17b22df3c9ec091",
            "placeholder": "​",
            "style": "IPY_MODEL_7c958f4748fd47e9931cc3baadb50519",
            "value": "Generating train split: 100%"
          }
        },
        "3c1e7e0e4a964b9a815aeb067c2003fe": {
          "model_module": "@jupyter-widgets/controls",
          "model_name": "FloatProgressModel",
          "model_module_version": "1.5.0",
          "state": {
            "_dom_classes": [],
            "_model_module": "@jupyter-widgets/controls",
            "_model_module_version": "1.5.0",
            "_model_name": "FloatProgressModel",
            "_view_count": null,
            "_view_module": "@jupyter-widgets/controls",
            "_view_module_version": "1.5.0",
            "_view_name": "ProgressView",
            "bar_style": "success",
            "description": "",
            "description_tooltip": null,
            "layout": "IPY_MODEL_ee665853e54642558ea2fa04e6fc3577",
            "max": 25000,
            "min": 0,
            "orientation": "horizontal",
            "style": "IPY_MODEL_218e9a9ecf444b07a21cfa64adf9b86c",
            "value": 25000
          }
        },
        "eeba49ab1e444e21a00fc24b89c5077e": {
          "model_module": "@jupyter-widgets/controls",
          "model_name": "HTMLModel",
          "model_module_version": "1.5.0",
          "state": {
            "_dom_classes": [],
            "_model_module": "@jupyter-widgets/controls",
            "_model_module_version": "1.5.0",
            "_model_name": "HTMLModel",
            "_view_count": null,
            "_view_module": "@jupyter-widgets/controls",
            "_view_module_version": "1.5.0",
            "_view_name": "HTMLView",
            "description": "",
            "description_tooltip": null,
            "layout": "IPY_MODEL_f0b496a894ba4cbfba492b02bf3445c0",
            "placeholder": "​",
            "style": "IPY_MODEL_569ffeaa3a314ec18ef14da6ca125e1e",
            "value": " 25000/25000 [00:00&lt;00:00, 81232.45 examples/s]"
          }
        },
        "777a852cf91e48b9ace8715475401e2a": {
          "model_module": "@jupyter-widgets/base",
          "model_name": "LayoutModel",
          "model_module_version": "1.2.0",
          "state": {
            "_model_module": "@jupyter-widgets/base",
            "_model_module_version": "1.2.0",
            "_model_name": "LayoutModel",
            "_view_count": null,
            "_view_module": "@jupyter-widgets/base",
            "_view_module_version": "1.2.0",
            "_view_name": "LayoutView",
            "align_content": null,
            "align_items": null,
            "align_self": null,
            "border": null,
            "bottom": null,
            "display": null,
            "flex": null,
            "flex_flow": null,
            "grid_area": null,
            "grid_auto_columns": null,
            "grid_auto_flow": null,
            "grid_auto_rows": null,
            "grid_column": null,
            "grid_gap": null,
            "grid_row": null,
            "grid_template_areas": null,
            "grid_template_columns": null,
            "grid_template_rows": null,
            "height": null,
            "justify_content": null,
            "justify_items": null,
            "left": null,
            "margin": null,
            "max_height": null,
            "max_width": null,
            "min_height": null,
            "min_width": null,
            "object_fit": null,
            "object_position": null,
            "order": null,
            "overflow": null,
            "overflow_x": null,
            "overflow_y": null,
            "padding": null,
            "right": null,
            "top": null,
            "visibility": null,
            "width": null
          }
        },
        "8f58089626644827b17b22df3c9ec091": {
          "model_module": "@jupyter-widgets/base",
          "model_name": "LayoutModel",
          "model_module_version": "1.2.0",
          "state": {
            "_model_module": "@jupyter-widgets/base",
            "_model_module_version": "1.2.0",
            "_model_name": "LayoutModel",
            "_view_count": null,
            "_view_module": "@jupyter-widgets/base",
            "_view_module_version": "1.2.0",
            "_view_name": "LayoutView",
            "align_content": null,
            "align_items": null,
            "align_self": null,
            "border": null,
            "bottom": null,
            "display": null,
            "flex": null,
            "flex_flow": null,
            "grid_area": null,
            "grid_auto_columns": null,
            "grid_auto_flow": null,
            "grid_auto_rows": null,
            "grid_column": null,
            "grid_gap": null,
            "grid_row": null,
            "grid_template_areas": null,
            "grid_template_columns": null,
            "grid_template_rows": null,
            "height": null,
            "justify_content": null,
            "justify_items": null,
            "left": null,
            "margin": null,
            "max_height": null,
            "max_width": null,
            "min_height": null,
            "min_width": null,
            "object_fit": null,
            "object_position": null,
            "order": null,
            "overflow": null,
            "overflow_x": null,
            "overflow_y": null,
            "padding": null,
            "right": null,
            "top": null,
            "visibility": null,
            "width": null
          }
        },
        "7c958f4748fd47e9931cc3baadb50519": {
          "model_module": "@jupyter-widgets/controls",
          "model_name": "DescriptionStyleModel",
          "model_module_version": "1.5.0",
          "state": {
            "_model_module": "@jupyter-widgets/controls",
            "_model_module_version": "1.5.0",
            "_model_name": "DescriptionStyleModel",
            "_view_count": null,
            "_view_module": "@jupyter-widgets/base",
            "_view_module_version": "1.2.0",
            "_view_name": "StyleView",
            "description_width": ""
          }
        },
        "ee665853e54642558ea2fa04e6fc3577": {
          "model_module": "@jupyter-widgets/base",
          "model_name": "LayoutModel",
          "model_module_version": "1.2.0",
          "state": {
            "_model_module": "@jupyter-widgets/base",
            "_model_module_version": "1.2.0",
            "_model_name": "LayoutModel",
            "_view_count": null,
            "_view_module": "@jupyter-widgets/base",
            "_view_module_version": "1.2.0",
            "_view_name": "LayoutView",
            "align_content": null,
            "align_items": null,
            "align_self": null,
            "border": null,
            "bottom": null,
            "display": null,
            "flex": null,
            "flex_flow": null,
            "grid_area": null,
            "grid_auto_columns": null,
            "grid_auto_flow": null,
            "grid_auto_rows": null,
            "grid_column": null,
            "grid_gap": null,
            "grid_row": null,
            "grid_template_areas": null,
            "grid_template_columns": null,
            "grid_template_rows": null,
            "height": null,
            "justify_content": null,
            "justify_items": null,
            "left": null,
            "margin": null,
            "max_height": null,
            "max_width": null,
            "min_height": null,
            "min_width": null,
            "object_fit": null,
            "object_position": null,
            "order": null,
            "overflow": null,
            "overflow_x": null,
            "overflow_y": null,
            "padding": null,
            "right": null,
            "top": null,
            "visibility": null,
            "width": null
          }
        },
        "218e9a9ecf444b07a21cfa64adf9b86c": {
          "model_module": "@jupyter-widgets/controls",
          "model_name": "ProgressStyleModel",
          "model_module_version": "1.5.0",
          "state": {
            "_model_module": "@jupyter-widgets/controls",
            "_model_module_version": "1.5.0",
            "_model_name": "ProgressStyleModel",
            "_view_count": null,
            "_view_module": "@jupyter-widgets/base",
            "_view_module_version": "1.2.0",
            "_view_name": "StyleView",
            "bar_color": null,
            "description_width": ""
          }
        },
        "f0b496a894ba4cbfba492b02bf3445c0": {
          "model_module": "@jupyter-widgets/base",
          "model_name": "LayoutModel",
          "model_module_version": "1.2.0",
          "state": {
            "_model_module": "@jupyter-widgets/base",
            "_model_module_version": "1.2.0",
            "_model_name": "LayoutModel",
            "_view_count": null,
            "_view_module": "@jupyter-widgets/base",
            "_view_module_version": "1.2.0",
            "_view_name": "LayoutView",
            "align_content": null,
            "align_items": null,
            "align_self": null,
            "border": null,
            "bottom": null,
            "display": null,
            "flex": null,
            "flex_flow": null,
            "grid_area": null,
            "grid_auto_columns": null,
            "grid_auto_flow": null,
            "grid_auto_rows": null,
            "grid_column": null,
            "grid_gap": null,
            "grid_row": null,
            "grid_template_areas": null,
            "grid_template_columns": null,
            "grid_template_rows": null,
            "height": null,
            "justify_content": null,
            "justify_items": null,
            "left": null,
            "margin": null,
            "max_height": null,
            "max_width": null,
            "min_height": null,
            "min_width": null,
            "object_fit": null,
            "object_position": null,
            "order": null,
            "overflow": null,
            "overflow_x": null,
            "overflow_y": null,
            "padding": null,
            "right": null,
            "top": null,
            "visibility": null,
            "width": null
          }
        },
        "569ffeaa3a314ec18ef14da6ca125e1e": {
          "model_module": "@jupyter-widgets/controls",
          "model_name": "DescriptionStyleModel",
          "model_module_version": "1.5.0",
          "state": {
            "_model_module": "@jupyter-widgets/controls",
            "_model_module_version": "1.5.0",
            "_model_name": "DescriptionStyleModel",
            "_view_count": null,
            "_view_module": "@jupyter-widgets/base",
            "_view_module_version": "1.2.0",
            "_view_name": "StyleView",
            "description_width": ""
          }
        },
        "63975c399cd74d6eadff042721840756": {
          "model_module": "@jupyter-widgets/controls",
          "model_name": "HBoxModel",
          "model_module_version": "1.5.0",
          "state": {
            "_dom_classes": [],
            "_model_module": "@jupyter-widgets/controls",
            "_model_module_version": "1.5.0",
            "_model_name": "HBoxModel",
            "_view_count": null,
            "_view_module": "@jupyter-widgets/controls",
            "_view_module_version": "1.5.0",
            "_view_name": "HBoxView",
            "box_style": "",
            "children": [
              "IPY_MODEL_4ad541224c8f4773be5850482d6213db",
              "IPY_MODEL_d7be5ab2d7464e2f9a54b64220311248",
              "IPY_MODEL_c70ce98b1d5146a096bb45066ecafd70"
            ],
            "layout": "IPY_MODEL_b63266585cb541158e080c82e78c3a2c"
          }
        },
        "4ad541224c8f4773be5850482d6213db": {
          "model_module": "@jupyter-widgets/controls",
          "model_name": "HTMLModel",
          "model_module_version": "1.5.0",
          "state": {
            "_dom_classes": [],
            "_model_module": "@jupyter-widgets/controls",
            "_model_module_version": "1.5.0",
            "_model_name": "HTMLModel",
            "_view_count": null,
            "_view_module": "@jupyter-widgets/controls",
            "_view_module_version": "1.5.0",
            "_view_name": "HTMLView",
            "description": "",
            "description_tooltip": null,
            "layout": "IPY_MODEL_bff80024c182482eac5ef3b752ba9119",
            "placeholder": "​",
            "style": "IPY_MODEL_82136d314a9a4260bf1b5dbb85cf9d91",
            "value": "Generating test split: 100%"
          }
        },
        "d7be5ab2d7464e2f9a54b64220311248": {
          "model_module": "@jupyter-widgets/controls",
          "model_name": "FloatProgressModel",
          "model_module_version": "1.5.0",
          "state": {
            "_dom_classes": [],
            "_model_module": "@jupyter-widgets/controls",
            "_model_module_version": "1.5.0",
            "_model_name": "FloatProgressModel",
            "_view_count": null,
            "_view_module": "@jupyter-widgets/controls",
            "_view_module_version": "1.5.0",
            "_view_name": "ProgressView",
            "bar_style": "success",
            "description": "",
            "description_tooltip": null,
            "layout": "IPY_MODEL_9d9bec0a5f48497799123df4d565b2cc",
            "max": 25000,
            "min": 0,
            "orientation": "horizontal",
            "style": "IPY_MODEL_c3cf3e3f9d2a490691024a8460e5abb4",
            "value": 25000
          }
        },
        "c70ce98b1d5146a096bb45066ecafd70": {
          "model_module": "@jupyter-widgets/controls",
          "model_name": "HTMLModel",
          "model_module_version": "1.5.0",
          "state": {
            "_dom_classes": [],
            "_model_module": "@jupyter-widgets/controls",
            "_model_module_version": "1.5.0",
            "_model_name": "HTMLModel",
            "_view_count": null,
            "_view_module": "@jupyter-widgets/controls",
            "_view_module_version": "1.5.0",
            "_view_name": "HTMLView",
            "description": "",
            "description_tooltip": null,
            "layout": "IPY_MODEL_b5e41e87a1a1499db59677cfd33bc86b",
            "placeholder": "​",
            "style": "IPY_MODEL_816504750f384bd0b25d89beadc5fdca",
            "value": " 25000/25000 [00:00&lt;00:00, 87743.57 examples/s]"
          }
        },
        "b63266585cb541158e080c82e78c3a2c": {
          "model_module": "@jupyter-widgets/base",
          "model_name": "LayoutModel",
          "model_module_version": "1.2.0",
          "state": {
            "_model_module": "@jupyter-widgets/base",
            "_model_module_version": "1.2.0",
            "_model_name": "LayoutModel",
            "_view_count": null,
            "_view_module": "@jupyter-widgets/base",
            "_view_module_version": "1.2.0",
            "_view_name": "LayoutView",
            "align_content": null,
            "align_items": null,
            "align_self": null,
            "border": null,
            "bottom": null,
            "display": null,
            "flex": null,
            "flex_flow": null,
            "grid_area": null,
            "grid_auto_columns": null,
            "grid_auto_flow": null,
            "grid_auto_rows": null,
            "grid_column": null,
            "grid_gap": null,
            "grid_row": null,
            "grid_template_areas": null,
            "grid_template_columns": null,
            "grid_template_rows": null,
            "height": null,
            "justify_content": null,
            "justify_items": null,
            "left": null,
            "margin": null,
            "max_height": null,
            "max_width": null,
            "min_height": null,
            "min_width": null,
            "object_fit": null,
            "object_position": null,
            "order": null,
            "overflow": null,
            "overflow_x": null,
            "overflow_y": null,
            "padding": null,
            "right": null,
            "top": null,
            "visibility": null,
            "width": null
          }
        },
        "bff80024c182482eac5ef3b752ba9119": {
          "model_module": "@jupyter-widgets/base",
          "model_name": "LayoutModel",
          "model_module_version": "1.2.0",
          "state": {
            "_model_module": "@jupyter-widgets/base",
            "_model_module_version": "1.2.0",
            "_model_name": "LayoutModel",
            "_view_count": null,
            "_view_module": "@jupyter-widgets/base",
            "_view_module_version": "1.2.0",
            "_view_name": "LayoutView",
            "align_content": null,
            "align_items": null,
            "align_self": null,
            "border": null,
            "bottom": null,
            "display": null,
            "flex": null,
            "flex_flow": null,
            "grid_area": null,
            "grid_auto_columns": null,
            "grid_auto_flow": null,
            "grid_auto_rows": null,
            "grid_column": null,
            "grid_gap": null,
            "grid_row": null,
            "grid_template_areas": null,
            "grid_template_columns": null,
            "grid_template_rows": null,
            "height": null,
            "justify_content": null,
            "justify_items": null,
            "left": null,
            "margin": null,
            "max_height": null,
            "max_width": null,
            "min_height": null,
            "min_width": null,
            "object_fit": null,
            "object_position": null,
            "order": null,
            "overflow": null,
            "overflow_x": null,
            "overflow_y": null,
            "padding": null,
            "right": null,
            "top": null,
            "visibility": null,
            "width": null
          }
        },
        "82136d314a9a4260bf1b5dbb85cf9d91": {
          "model_module": "@jupyter-widgets/controls",
          "model_name": "DescriptionStyleModel",
          "model_module_version": "1.5.0",
          "state": {
            "_model_module": "@jupyter-widgets/controls",
            "_model_module_version": "1.5.0",
            "_model_name": "DescriptionStyleModel",
            "_view_count": null,
            "_view_module": "@jupyter-widgets/base",
            "_view_module_version": "1.2.0",
            "_view_name": "StyleView",
            "description_width": ""
          }
        },
        "9d9bec0a5f48497799123df4d565b2cc": {
          "model_module": "@jupyter-widgets/base",
          "model_name": "LayoutModel",
          "model_module_version": "1.2.0",
          "state": {
            "_model_module": "@jupyter-widgets/base",
            "_model_module_version": "1.2.0",
            "_model_name": "LayoutModel",
            "_view_count": null,
            "_view_module": "@jupyter-widgets/base",
            "_view_module_version": "1.2.0",
            "_view_name": "LayoutView",
            "align_content": null,
            "align_items": null,
            "align_self": null,
            "border": null,
            "bottom": null,
            "display": null,
            "flex": null,
            "flex_flow": null,
            "grid_area": null,
            "grid_auto_columns": null,
            "grid_auto_flow": null,
            "grid_auto_rows": null,
            "grid_column": null,
            "grid_gap": null,
            "grid_row": null,
            "grid_template_areas": null,
            "grid_template_columns": null,
            "grid_template_rows": null,
            "height": null,
            "justify_content": null,
            "justify_items": null,
            "left": null,
            "margin": null,
            "max_height": null,
            "max_width": null,
            "min_height": null,
            "min_width": null,
            "object_fit": null,
            "object_position": null,
            "order": null,
            "overflow": null,
            "overflow_x": null,
            "overflow_y": null,
            "padding": null,
            "right": null,
            "top": null,
            "visibility": null,
            "width": null
          }
        },
        "c3cf3e3f9d2a490691024a8460e5abb4": {
          "model_module": "@jupyter-widgets/controls",
          "model_name": "ProgressStyleModel",
          "model_module_version": "1.5.0",
          "state": {
            "_model_module": "@jupyter-widgets/controls",
            "_model_module_version": "1.5.0",
            "_model_name": "ProgressStyleModel",
            "_view_count": null,
            "_view_module": "@jupyter-widgets/base",
            "_view_module_version": "1.2.0",
            "_view_name": "StyleView",
            "bar_color": null,
            "description_width": ""
          }
        },
        "b5e41e87a1a1499db59677cfd33bc86b": {
          "model_module": "@jupyter-widgets/base",
          "model_name": "LayoutModel",
          "model_module_version": "1.2.0",
          "state": {
            "_model_module": "@jupyter-widgets/base",
            "_model_module_version": "1.2.0",
            "_model_name": "LayoutModel",
            "_view_count": null,
            "_view_module": "@jupyter-widgets/base",
            "_view_module_version": "1.2.0",
            "_view_name": "LayoutView",
            "align_content": null,
            "align_items": null,
            "align_self": null,
            "border": null,
            "bottom": null,
            "display": null,
            "flex": null,
            "flex_flow": null,
            "grid_area": null,
            "grid_auto_columns": null,
            "grid_auto_flow": null,
            "grid_auto_rows": null,
            "grid_column": null,
            "grid_gap": null,
            "grid_row": null,
            "grid_template_areas": null,
            "grid_template_columns": null,
            "grid_template_rows": null,
            "height": null,
            "justify_content": null,
            "justify_items": null,
            "left": null,
            "margin": null,
            "max_height": null,
            "max_width": null,
            "min_height": null,
            "min_width": null,
            "object_fit": null,
            "object_position": null,
            "order": null,
            "overflow": null,
            "overflow_x": null,
            "overflow_y": null,
            "padding": null,
            "right": null,
            "top": null,
            "visibility": null,
            "width": null
          }
        },
        "816504750f384bd0b25d89beadc5fdca": {
          "model_module": "@jupyter-widgets/controls",
          "model_name": "DescriptionStyleModel",
          "model_module_version": "1.5.0",
          "state": {
            "_model_module": "@jupyter-widgets/controls",
            "_model_module_version": "1.5.0",
            "_model_name": "DescriptionStyleModel",
            "_view_count": null,
            "_view_module": "@jupyter-widgets/base",
            "_view_module_version": "1.2.0",
            "_view_name": "StyleView",
            "description_width": ""
          }
        },
        "768aafa384ff48efbed0eeb0ac9a31a7": {
          "model_module": "@jupyter-widgets/controls",
          "model_name": "HBoxModel",
          "model_module_version": "1.5.0",
          "state": {
            "_dom_classes": [],
            "_model_module": "@jupyter-widgets/controls",
            "_model_module_version": "1.5.0",
            "_model_name": "HBoxModel",
            "_view_count": null,
            "_view_module": "@jupyter-widgets/controls",
            "_view_module_version": "1.5.0",
            "_view_name": "HBoxView",
            "box_style": "",
            "children": [
              "IPY_MODEL_225abdd39ae14c34b2e01cd13c173a89",
              "IPY_MODEL_b1b265c7567142eba38a961230be749d",
              "IPY_MODEL_4a2b38a35e654f039ad1ef5ea19f292d"
            ],
            "layout": "IPY_MODEL_5f626c2b1b7f43caa45dce84866a1978"
          }
        },
        "225abdd39ae14c34b2e01cd13c173a89": {
          "model_module": "@jupyter-widgets/controls",
          "model_name": "HTMLModel",
          "model_module_version": "1.5.0",
          "state": {
            "_dom_classes": [],
            "_model_module": "@jupyter-widgets/controls",
            "_model_module_version": "1.5.0",
            "_model_name": "HTMLModel",
            "_view_count": null,
            "_view_module": "@jupyter-widgets/controls",
            "_view_module_version": "1.5.0",
            "_view_name": "HTMLView",
            "description": "",
            "description_tooltip": null,
            "layout": "IPY_MODEL_1a0a1b548b3648dfb5b2c18fa9e6f110",
            "placeholder": "​",
            "style": "IPY_MODEL_55114d7510bc48c68ed1c9ddfd87b122",
            "value": "Generating unsupervised split: 100%"
          }
        },
        "b1b265c7567142eba38a961230be749d": {
          "model_module": "@jupyter-widgets/controls",
          "model_name": "FloatProgressModel",
          "model_module_version": "1.5.0",
          "state": {
            "_dom_classes": [],
            "_model_module": "@jupyter-widgets/controls",
            "_model_module_version": "1.5.0",
            "_model_name": "FloatProgressModel",
            "_view_count": null,
            "_view_module": "@jupyter-widgets/controls",
            "_view_module_version": "1.5.0",
            "_view_name": "ProgressView",
            "bar_style": "success",
            "description": "",
            "description_tooltip": null,
            "layout": "IPY_MODEL_424b35aef3534cc097e11e95d4134286",
            "max": 50000,
            "min": 0,
            "orientation": "horizontal",
            "style": "IPY_MODEL_f595260c4dba495abaaf606fcfc55bb7",
            "value": 50000
          }
        },
        "4a2b38a35e654f039ad1ef5ea19f292d": {
          "model_module": "@jupyter-widgets/controls",
          "model_name": "HTMLModel",
          "model_module_version": "1.5.0",
          "state": {
            "_dom_classes": [],
            "_model_module": "@jupyter-widgets/controls",
            "_model_module_version": "1.5.0",
            "_model_name": "HTMLModel",
            "_view_count": null,
            "_view_module": "@jupyter-widgets/controls",
            "_view_module_version": "1.5.0",
            "_view_name": "HTMLView",
            "description": "",
            "description_tooltip": null,
            "layout": "IPY_MODEL_c3b6d0d118f74e7a84e94cf0fe9b9ba5",
            "placeholder": "​",
            "style": "IPY_MODEL_a6466c1c40db4c198adf3f5fe719cfab",
            "value": " 50000/50000 [00:00&lt;00:00, 101852.44 examples/s]"
          }
        },
        "5f626c2b1b7f43caa45dce84866a1978": {
          "model_module": "@jupyter-widgets/base",
          "model_name": "LayoutModel",
          "model_module_version": "1.2.0",
          "state": {
            "_model_module": "@jupyter-widgets/base",
            "_model_module_version": "1.2.0",
            "_model_name": "LayoutModel",
            "_view_count": null,
            "_view_module": "@jupyter-widgets/base",
            "_view_module_version": "1.2.0",
            "_view_name": "LayoutView",
            "align_content": null,
            "align_items": null,
            "align_self": null,
            "border": null,
            "bottom": null,
            "display": null,
            "flex": null,
            "flex_flow": null,
            "grid_area": null,
            "grid_auto_columns": null,
            "grid_auto_flow": null,
            "grid_auto_rows": null,
            "grid_column": null,
            "grid_gap": null,
            "grid_row": null,
            "grid_template_areas": null,
            "grid_template_columns": null,
            "grid_template_rows": null,
            "height": null,
            "justify_content": null,
            "justify_items": null,
            "left": null,
            "margin": null,
            "max_height": null,
            "max_width": null,
            "min_height": null,
            "min_width": null,
            "object_fit": null,
            "object_position": null,
            "order": null,
            "overflow": null,
            "overflow_x": null,
            "overflow_y": null,
            "padding": null,
            "right": null,
            "top": null,
            "visibility": null,
            "width": null
          }
        },
        "1a0a1b548b3648dfb5b2c18fa9e6f110": {
          "model_module": "@jupyter-widgets/base",
          "model_name": "LayoutModel",
          "model_module_version": "1.2.0",
          "state": {
            "_model_module": "@jupyter-widgets/base",
            "_model_module_version": "1.2.0",
            "_model_name": "LayoutModel",
            "_view_count": null,
            "_view_module": "@jupyter-widgets/base",
            "_view_module_version": "1.2.0",
            "_view_name": "LayoutView",
            "align_content": null,
            "align_items": null,
            "align_self": null,
            "border": null,
            "bottom": null,
            "display": null,
            "flex": null,
            "flex_flow": null,
            "grid_area": null,
            "grid_auto_columns": null,
            "grid_auto_flow": null,
            "grid_auto_rows": null,
            "grid_column": null,
            "grid_gap": null,
            "grid_row": null,
            "grid_template_areas": null,
            "grid_template_columns": null,
            "grid_template_rows": null,
            "height": null,
            "justify_content": null,
            "justify_items": null,
            "left": null,
            "margin": null,
            "max_height": null,
            "max_width": null,
            "min_height": null,
            "min_width": null,
            "object_fit": null,
            "object_position": null,
            "order": null,
            "overflow": null,
            "overflow_x": null,
            "overflow_y": null,
            "padding": null,
            "right": null,
            "top": null,
            "visibility": null,
            "width": null
          }
        },
        "55114d7510bc48c68ed1c9ddfd87b122": {
          "model_module": "@jupyter-widgets/controls",
          "model_name": "DescriptionStyleModel",
          "model_module_version": "1.5.0",
          "state": {
            "_model_module": "@jupyter-widgets/controls",
            "_model_module_version": "1.5.0",
            "_model_name": "DescriptionStyleModel",
            "_view_count": null,
            "_view_module": "@jupyter-widgets/base",
            "_view_module_version": "1.2.0",
            "_view_name": "StyleView",
            "description_width": ""
          }
        },
        "424b35aef3534cc097e11e95d4134286": {
          "model_module": "@jupyter-widgets/base",
          "model_name": "LayoutModel",
          "model_module_version": "1.2.0",
          "state": {
            "_model_module": "@jupyter-widgets/base",
            "_model_module_version": "1.2.0",
            "_model_name": "LayoutModel",
            "_view_count": null,
            "_view_module": "@jupyter-widgets/base",
            "_view_module_version": "1.2.0",
            "_view_name": "LayoutView",
            "align_content": null,
            "align_items": null,
            "align_self": null,
            "border": null,
            "bottom": null,
            "display": null,
            "flex": null,
            "flex_flow": null,
            "grid_area": null,
            "grid_auto_columns": null,
            "grid_auto_flow": null,
            "grid_auto_rows": null,
            "grid_column": null,
            "grid_gap": null,
            "grid_row": null,
            "grid_template_areas": null,
            "grid_template_columns": null,
            "grid_template_rows": null,
            "height": null,
            "justify_content": null,
            "justify_items": null,
            "left": null,
            "margin": null,
            "max_height": null,
            "max_width": null,
            "min_height": null,
            "min_width": null,
            "object_fit": null,
            "object_position": null,
            "order": null,
            "overflow": null,
            "overflow_x": null,
            "overflow_y": null,
            "padding": null,
            "right": null,
            "top": null,
            "visibility": null,
            "width": null
          }
        },
        "f595260c4dba495abaaf606fcfc55bb7": {
          "model_module": "@jupyter-widgets/controls",
          "model_name": "ProgressStyleModel",
          "model_module_version": "1.5.0",
          "state": {
            "_model_module": "@jupyter-widgets/controls",
            "_model_module_version": "1.5.0",
            "_model_name": "ProgressStyleModel",
            "_view_count": null,
            "_view_module": "@jupyter-widgets/base",
            "_view_module_version": "1.2.0",
            "_view_name": "StyleView",
            "bar_color": null,
            "description_width": ""
          }
        },
        "c3b6d0d118f74e7a84e94cf0fe9b9ba5": {
          "model_module": "@jupyter-widgets/base",
          "model_name": "LayoutModel",
          "model_module_version": "1.2.0",
          "state": {
            "_model_module": "@jupyter-widgets/base",
            "_model_module_version": "1.2.0",
            "_model_name": "LayoutModel",
            "_view_count": null,
            "_view_module": "@jupyter-widgets/base",
            "_view_module_version": "1.2.0",
            "_view_name": "LayoutView",
            "align_content": null,
            "align_items": null,
            "align_self": null,
            "border": null,
            "bottom": null,
            "display": null,
            "flex": null,
            "flex_flow": null,
            "grid_area": null,
            "grid_auto_columns": null,
            "grid_auto_flow": null,
            "grid_auto_rows": null,
            "grid_column": null,
            "grid_gap": null,
            "grid_row": null,
            "grid_template_areas": null,
            "grid_template_columns": null,
            "grid_template_rows": null,
            "height": null,
            "justify_content": null,
            "justify_items": null,
            "left": null,
            "margin": null,
            "max_height": null,
            "max_width": null,
            "min_height": null,
            "min_width": null,
            "object_fit": null,
            "object_position": null,
            "order": null,
            "overflow": null,
            "overflow_x": null,
            "overflow_y": null,
            "padding": null,
            "right": null,
            "top": null,
            "visibility": null,
            "width": null
          }
        },
        "a6466c1c40db4c198adf3f5fe719cfab": {
          "model_module": "@jupyter-widgets/controls",
          "model_name": "DescriptionStyleModel",
          "model_module_version": "1.5.0",
          "state": {
            "_model_module": "@jupyter-widgets/controls",
            "_model_module_version": "1.5.0",
            "_model_name": "DescriptionStyleModel",
            "_view_count": null,
            "_view_module": "@jupyter-widgets/base",
            "_view_module_version": "1.2.0",
            "_view_name": "StyleView",
            "description_width": ""
          }
        }
      }
    }
  },
  "cells": [
    {
      "cell_type": "markdown",
      "metadata": {
        "id": "view-in-github",
        "colab_type": "text"
      },
      "source": [
        "<a href=\"https://colab.research.google.com/github/Dongjin-1203/Study-code/blob/main/NLP_%EC%8B%A4%EC%8A%B5(IMDB)_DL.ipynb\" target=\"_parent\"><img src=\"https://colab.research.google.com/assets/colab-badge.svg\" alt=\"Open In Colab\"/></a>"
      ]
    },
    {
      "cell_type": "markdown",
      "source": [
        "# NLP 실습: 영화 리뷰 감정분석(IMDB)\n",
        "\n",
        "인터넷 영화 데이터베이스(Internet Movie Database)로부터 가져온 양극단의 리뷰 5만 개로 이루어진 IMDB 데이터셋을 사용하겠습니다.2 이 데이터셋은 훈련 데이터 2만 5,000개와 테스트 데이터 2만 5,000개로 나뉘어 있고 각각 50%는 부정, 50%는 긍정 리뷰로 구성되어 있습니다.\n",
        "출처: https://thebook.io/080315/0182/"
      ],
      "metadata": {
        "id": "i1ARpGaksrmj"
      }
    },
    {
      "cell_type": "code",
      "source": [
        "from google.colab import drive\n",
        "drive.mount('/content/drive')"
      ],
      "metadata": {
        "colab": {
          "base_uri": "https://localhost:8080/"
        },
        "id": "XVvkaGLWR3ng",
        "outputId": "228a4c76-f5db-4f68-88fd-fd89c14523c0"
      },
      "execution_count": 1,
      "outputs": [
        {
          "output_type": "stream",
          "name": "stdout",
          "text": [
            "Drive already mounted at /content/drive; to attempt to forcibly remount, call drive.mount(\"/content/drive\", force_remount=True).\n"
          ]
        }
      ]
    },
    {
      "cell_type": "code",
      "source": [
        "!sudo apt-get install -y fonts-nanum\n",
        "!sudo fc-cache -fv\n",
        "!rm ~/.cache/matplotlib -rf"
      ],
      "metadata": {
        "colab": {
          "base_uri": "https://localhost:8080/"
        },
        "id": "0gCgzEIvWbrd",
        "outputId": "1e08617a-f376-46bc-c8d6-d87431128065"
      },
      "execution_count": 2,
      "outputs": [
        {
          "output_type": "stream",
          "name": "stdout",
          "text": [
            "Reading package lists... Done\n",
            "Building dependency tree... Done\n",
            "Reading state information... Done\n",
            "fonts-nanum is already the newest version (20200506-1).\n",
            "0 upgraded, 0 newly installed, 0 to remove and 35 not upgraded.\n",
            "/usr/share/fonts: caching, new cache contents: 0 fonts, 1 dirs\n",
            "/usr/share/fonts/truetype: caching, new cache contents: 0 fonts, 3 dirs\n",
            "/usr/share/fonts/truetype/humor-sans: caching, new cache contents: 1 fonts, 0 dirs\n",
            "/usr/share/fonts/truetype/liberation: caching, new cache contents: 16 fonts, 0 dirs\n",
            "/usr/share/fonts/truetype/nanum: caching, new cache contents: 12 fonts, 0 dirs\n",
            "/usr/local/share/fonts: caching, new cache contents: 0 fonts, 0 dirs\n",
            "/root/.local/share/fonts: skipping, no such directory\n",
            "/root/.fonts: skipping, no such directory\n",
            "/usr/share/fonts/truetype: skipping, looped directory detected\n",
            "/usr/share/fonts/truetype/humor-sans: skipping, looped directory detected\n",
            "/usr/share/fonts/truetype/liberation: skipping, looped directory detected\n",
            "/usr/share/fonts/truetype/nanum: skipping, looped directory detected\n",
            "/var/cache/fontconfig: cleaning cache directory\n",
            "/root/.cache/fontconfig: not cleaning non-existent cache directory\n",
            "/root/.fontconfig: not cleaning non-existent cache directory\n",
            "fc-cache: succeeded\n"
          ]
        }
      ]
    },
    {
      "cell_type": "code",
      "source": [
        "import matplotlib.pyplot as plt\n",
        "\n",
        "plt.rc('font', family='NanumBarunGothic')"
      ],
      "metadata": {
        "id": "bSegCURhWxoJ"
      },
      "execution_count": 3,
      "outputs": []
    },
    {
      "cell_type": "markdown",
      "source": [
        "# 데이터 불러오기"
      ],
      "metadata": {
        "id": "5GIByM4K-xA9"
      }
    },
    {
      "cell_type": "code",
      "source": [
        "import pandas as pd\n",
        "import numpy as np\n",
        "import matplotlib.pyplot as plt\n",
        "import seaborn as sns\n",
        "from collections import Counter\n",
        "import warnings\n",
        "warnings.filterwarnings('ignore')"
      ],
      "metadata": {
        "id": "QqsiduOa-2yw"
      },
      "execution_count": 4,
      "outputs": []
    },
    {
      "cell_type": "code",
      "source": [
        "# IMDB 데이터 다운로드\n",
        "from datasets import load_dataset\n",
        "imdb = load_dataset(\"imdb\")"
      ],
      "metadata": {
        "id": "RqWVUHbo-9BX",
        "colab": {
          "base_uri": "https://localhost:8080/",
          "height": 241,
          "referenced_widgets": [
            "6c692853821c4775b0809b48857e071d",
            "a83d9ace043b46a38b3cb872bb6ef5ba",
            "67cd16c383ac4816bf210703bfd6ea35",
            "7bbaf8e892134af2b9e7d9360ea17968",
            "16851d6cf01e43e19a195c39798ebba1",
            "d9342988012147c888ba5509e7d7a9e0",
            "a94d246b0bfb45379d28e1d4a3bc7878",
            "a5457280f70b4ba4a72ba85b9cf90e41",
            "4578a55d23d44323a47acdf9b6daf717",
            "8bc681e6afa147c5a188365b996ff63a",
            "a57236882ba34b0c82d17fcc39e85c2d",
            "5ae3a03f52ab48bbb4dd8d855536ecbe",
            "2bf6075cc5dd4042b6a7fcebe42770ff",
            "3b59fe379e564d7e8f4855a6cb0d2073",
            "c251ed30c6784d248efd08e480f4da09",
            "4e30526499a9418e847a6e2df25a8d85",
            "12441583cd4042b78bb7a93cd23ee67f",
            "c6ecc17ae08a489795cb832c0d1292cd",
            "4f86a6a927594763aa78304cc6369f47",
            "db4226b2b4394b4abc7820d5401fedb5",
            "adef73299fd84aeab850924f529815bb",
            "03b949be94284bb4bba2d1dae475186e",
            "69a69a3e39bd46b6ad80d119b6d6e68e",
            "2fa2fbe5c5dc4ecdb23719e49d99c9ea",
            "0812329a31b94c51b90e6dc6ffe5ba22",
            "1ba6e0a7a17440a5b34c240a2820e720",
            "78eec7e400e3449696dbefab362dc56f",
            "ed32708d39af4f668e5728b694e6e2eb",
            "c08cfbfcb0a947da942b25c29870a60c",
            "1fec96cfc3084d4b93f9200995f5a11f",
            "be7d8f4be8dc45bd8de30142cc29f5d4",
            "b27c4dee8d0d413b9f20bd30a854b365",
            "576e84f0171a43d091d8d46a26735f18",
            "8fae8a890de7487696cdef6201f99a74",
            "5c52c77323b54fb1b45c097ca644cad1",
            "d0950d65ebf640cf8063525be602567e",
            "575098e359bf411bb1aa1c04b8c9bf17",
            "550d2f2c842a41fa85cf72a96404a824",
            "7632d822261f4ea5a9c6dc0d88af591c",
            "5d1f51ef74bc46bc971a9f0a9129454b",
            "1c57ea14faae41f4a066807c341e2cbd",
            "f67786a73c4d4856ba0a880bc110fe01",
            "e6559de134cd475eb734f11657c97faa",
            "ac9e9c5918e243c6822661a44494e348",
            "7e9cf45a47a44af98e5f4c5cb3bac3aa",
            "668bf9d1cecf45a7851a0dbac78b3c43",
            "3c1e7e0e4a964b9a815aeb067c2003fe",
            "eeba49ab1e444e21a00fc24b89c5077e",
            "777a852cf91e48b9ace8715475401e2a",
            "8f58089626644827b17b22df3c9ec091",
            "7c958f4748fd47e9931cc3baadb50519",
            "ee665853e54642558ea2fa04e6fc3577",
            "218e9a9ecf444b07a21cfa64adf9b86c",
            "f0b496a894ba4cbfba492b02bf3445c0",
            "569ffeaa3a314ec18ef14da6ca125e1e",
            "63975c399cd74d6eadff042721840756",
            "4ad541224c8f4773be5850482d6213db",
            "d7be5ab2d7464e2f9a54b64220311248",
            "c70ce98b1d5146a096bb45066ecafd70",
            "b63266585cb541158e080c82e78c3a2c",
            "bff80024c182482eac5ef3b752ba9119",
            "82136d314a9a4260bf1b5dbb85cf9d91",
            "9d9bec0a5f48497799123df4d565b2cc",
            "c3cf3e3f9d2a490691024a8460e5abb4",
            "b5e41e87a1a1499db59677cfd33bc86b",
            "816504750f384bd0b25d89beadc5fdca",
            "768aafa384ff48efbed0eeb0ac9a31a7",
            "225abdd39ae14c34b2e01cd13c173a89",
            "b1b265c7567142eba38a961230be749d",
            "4a2b38a35e654f039ad1ef5ea19f292d",
            "5f626c2b1b7f43caa45dce84866a1978",
            "1a0a1b548b3648dfb5b2c18fa9e6f110",
            "55114d7510bc48c68ed1c9ddfd87b122",
            "424b35aef3534cc097e11e95d4134286",
            "f595260c4dba495abaaf606fcfc55bb7",
            "c3b6d0d118f74e7a84e94cf0fe9b9ba5",
            "a6466c1c40db4c198adf3f5fe719cfab"
          ]
        },
        "outputId": "bc5c006c-db48-47ac-b4fc-86e27e5edd32"
      },
      "execution_count": 5,
      "outputs": [
        {
          "output_type": "display_data",
          "data": {
            "text/plain": [
              "README.md: 0.00B [00:00, ?B/s]"
            ],
            "application/vnd.jupyter.widget-view+json": {
              "version_major": 2,
              "version_minor": 0,
              "model_id": "6c692853821c4775b0809b48857e071d"
            }
          },
          "metadata": {}
        },
        {
          "output_type": "display_data",
          "data": {
            "text/plain": [
              "train-00000-of-00001.parquet:   0%|          | 0.00/21.0M [00:00<?, ?B/s]"
            ],
            "application/vnd.jupyter.widget-view+json": {
              "version_major": 2,
              "version_minor": 0,
              "model_id": "5ae3a03f52ab48bbb4dd8d855536ecbe"
            }
          },
          "metadata": {}
        },
        {
          "output_type": "display_data",
          "data": {
            "text/plain": [
              "test-00000-of-00001.parquet:   0%|          | 0.00/20.5M [00:00<?, ?B/s]"
            ],
            "application/vnd.jupyter.widget-view+json": {
              "version_major": 2,
              "version_minor": 0,
              "model_id": "69a69a3e39bd46b6ad80d119b6d6e68e"
            }
          },
          "metadata": {}
        },
        {
          "output_type": "display_data",
          "data": {
            "text/plain": [
              "unsupervised-00000-of-00001.parquet:   0%|          | 0.00/42.0M [00:00<?, ?B/s]"
            ],
            "application/vnd.jupyter.widget-view+json": {
              "version_major": 2,
              "version_minor": 0,
              "model_id": "8fae8a890de7487696cdef6201f99a74"
            }
          },
          "metadata": {}
        },
        {
          "output_type": "display_data",
          "data": {
            "text/plain": [
              "Generating train split:   0%|          | 0/25000 [00:00<?, ? examples/s]"
            ],
            "application/vnd.jupyter.widget-view+json": {
              "version_major": 2,
              "version_minor": 0,
              "model_id": "7e9cf45a47a44af98e5f4c5cb3bac3aa"
            }
          },
          "metadata": {}
        },
        {
          "output_type": "display_data",
          "data": {
            "text/plain": [
              "Generating test split:   0%|          | 0/25000 [00:00<?, ? examples/s]"
            ],
            "application/vnd.jupyter.widget-view+json": {
              "version_major": 2,
              "version_minor": 0,
              "model_id": "63975c399cd74d6eadff042721840756"
            }
          },
          "metadata": {}
        },
        {
          "output_type": "display_data",
          "data": {
            "text/plain": [
              "Generating unsupervised split:   0%|          | 0/50000 [00:00<?, ? examples/s]"
            ],
            "application/vnd.jupyter.widget-view+json": {
              "version_major": 2,
              "version_minor": 0,
              "model_id": "768aafa384ff48efbed0eeb0ac9a31a7"
            }
          },
          "metadata": {}
        }
      ]
    },
    {
      "cell_type": "code",
      "source": [
        "# DataFrame으로 변환\n",
        "train_df = pd.DataFrame(imdb['train'])\n",
        "test_df = pd.DataFrame(imdb['test'])"
      ],
      "metadata": {
        "id": "2sxSfpCCBwBL"
      },
      "execution_count": 6,
      "outputs": []
    },
    {
      "cell_type": "code",
      "source": [
        "train_df.head()"
      ],
      "metadata": {
        "colab": {
          "base_uri": "https://localhost:8080/",
          "height": 206
        },
        "id": "xD6MaUx8EoM3",
        "outputId": "d184dd9a-41c4-476d-ea5f-ddc875d12df3"
      },
      "execution_count": 7,
      "outputs": [
        {
          "output_type": "execute_result",
          "data": {
            "text/plain": [
              "                                                text  label\n",
              "0  I rented I AM CURIOUS-YELLOW from my video sto...      0\n",
              "1  \"I Am Curious: Yellow\" is a risible and preten...      0\n",
              "2  If only to avoid making this type of film in t...      0\n",
              "3  This film was probably inspired by Godard's Ma...      0\n",
              "4  Oh, brother...after hearing about this ridicul...      0"
            ],
            "text/html": [
              "\n",
              "  <div id=\"df-5a64d5d0-f908-4d37-89cc-9a5b8620556e\" class=\"colab-df-container\">\n",
              "    <div>\n",
              "<style scoped>\n",
              "    .dataframe tbody tr th:only-of-type {\n",
              "        vertical-align: middle;\n",
              "    }\n",
              "\n",
              "    .dataframe tbody tr th {\n",
              "        vertical-align: top;\n",
              "    }\n",
              "\n",
              "    .dataframe thead th {\n",
              "        text-align: right;\n",
              "    }\n",
              "</style>\n",
              "<table border=\"1\" class=\"dataframe\">\n",
              "  <thead>\n",
              "    <tr style=\"text-align: right;\">\n",
              "      <th></th>\n",
              "      <th>text</th>\n",
              "      <th>label</th>\n",
              "    </tr>\n",
              "  </thead>\n",
              "  <tbody>\n",
              "    <tr>\n",
              "      <th>0</th>\n",
              "      <td>I rented I AM CURIOUS-YELLOW from my video sto...</td>\n",
              "      <td>0</td>\n",
              "    </tr>\n",
              "    <tr>\n",
              "      <th>1</th>\n",
              "      <td>\"I Am Curious: Yellow\" is a risible and preten...</td>\n",
              "      <td>0</td>\n",
              "    </tr>\n",
              "    <tr>\n",
              "      <th>2</th>\n",
              "      <td>If only to avoid making this type of film in t...</td>\n",
              "      <td>0</td>\n",
              "    </tr>\n",
              "    <tr>\n",
              "      <th>3</th>\n",
              "      <td>This film was probably inspired by Godard's Ma...</td>\n",
              "      <td>0</td>\n",
              "    </tr>\n",
              "    <tr>\n",
              "      <th>4</th>\n",
              "      <td>Oh, brother...after hearing about this ridicul...</td>\n",
              "      <td>0</td>\n",
              "    </tr>\n",
              "  </tbody>\n",
              "</table>\n",
              "</div>\n",
              "    <div class=\"colab-df-buttons\">\n",
              "\n",
              "  <div class=\"colab-df-container\">\n",
              "    <button class=\"colab-df-convert\" onclick=\"convertToInteractive('df-5a64d5d0-f908-4d37-89cc-9a5b8620556e')\"\n",
              "            title=\"Convert this dataframe to an interactive table.\"\n",
              "            style=\"display:none;\">\n",
              "\n",
              "  <svg xmlns=\"http://www.w3.org/2000/svg\" height=\"24px\" viewBox=\"0 -960 960 960\">\n",
              "    <path d=\"M120-120v-720h720v720H120Zm60-500h600v-160H180v160Zm220 220h160v-160H400v160Zm0 220h160v-160H400v160ZM180-400h160v-160H180v160Zm440 0h160v-160H620v160ZM180-180h160v-160H180v160Zm440 0h160v-160H620v160Z\"/>\n",
              "  </svg>\n",
              "    </button>\n",
              "\n",
              "  <style>\n",
              "    .colab-df-container {\n",
              "      display:flex;\n",
              "      gap: 12px;\n",
              "    }\n",
              "\n",
              "    .colab-df-convert {\n",
              "      background-color: #E8F0FE;\n",
              "      border: none;\n",
              "      border-radius: 50%;\n",
              "      cursor: pointer;\n",
              "      display: none;\n",
              "      fill: #1967D2;\n",
              "      height: 32px;\n",
              "      padding: 0 0 0 0;\n",
              "      width: 32px;\n",
              "    }\n",
              "\n",
              "    .colab-df-convert:hover {\n",
              "      background-color: #E2EBFA;\n",
              "      box-shadow: 0px 1px 2px rgba(60, 64, 67, 0.3), 0px 1px 3px 1px rgba(60, 64, 67, 0.15);\n",
              "      fill: #174EA6;\n",
              "    }\n",
              "\n",
              "    .colab-df-buttons div {\n",
              "      margin-bottom: 4px;\n",
              "    }\n",
              "\n",
              "    [theme=dark] .colab-df-convert {\n",
              "      background-color: #3B4455;\n",
              "      fill: #D2E3FC;\n",
              "    }\n",
              "\n",
              "    [theme=dark] .colab-df-convert:hover {\n",
              "      background-color: #434B5C;\n",
              "      box-shadow: 0px 1px 3px 1px rgba(0, 0, 0, 0.15);\n",
              "      filter: drop-shadow(0px 1px 2px rgba(0, 0, 0, 0.3));\n",
              "      fill: #FFFFFF;\n",
              "    }\n",
              "  </style>\n",
              "\n",
              "    <script>\n",
              "      const buttonEl =\n",
              "        document.querySelector('#df-5a64d5d0-f908-4d37-89cc-9a5b8620556e button.colab-df-convert');\n",
              "      buttonEl.style.display =\n",
              "        google.colab.kernel.accessAllowed ? 'block' : 'none';\n",
              "\n",
              "      async function convertToInteractive(key) {\n",
              "        const element = document.querySelector('#df-5a64d5d0-f908-4d37-89cc-9a5b8620556e');\n",
              "        const dataTable =\n",
              "          await google.colab.kernel.invokeFunction('convertToInteractive',\n",
              "                                                    [key], {});\n",
              "        if (!dataTable) return;\n",
              "\n",
              "        const docLinkHtml = 'Like what you see? Visit the ' +\n",
              "          '<a target=\"_blank\" href=https://colab.research.google.com/notebooks/data_table.ipynb>data table notebook</a>'\n",
              "          + ' to learn more about interactive tables.';\n",
              "        element.innerHTML = '';\n",
              "        dataTable['output_type'] = 'display_data';\n",
              "        await google.colab.output.renderOutput(dataTable, element);\n",
              "        const docLink = document.createElement('div');\n",
              "        docLink.innerHTML = docLinkHtml;\n",
              "        element.appendChild(docLink);\n",
              "      }\n",
              "    </script>\n",
              "  </div>\n",
              "\n",
              "\n",
              "    <div id=\"df-3d0c3028-8821-4152-a900-19800e1eee6c\">\n",
              "      <button class=\"colab-df-quickchart\" onclick=\"quickchart('df-3d0c3028-8821-4152-a900-19800e1eee6c')\"\n",
              "                title=\"Suggest charts\"\n",
              "                style=\"display:none;\">\n",
              "\n",
              "<svg xmlns=\"http://www.w3.org/2000/svg\" height=\"24px\"viewBox=\"0 0 24 24\"\n",
              "     width=\"24px\">\n",
              "    <g>\n",
              "        <path d=\"M19 3H5c-1.1 0-2 .9-2 2v14c0 1.1.9 2 2 2h14c1.1 0 2-.9 2-2V5c0-1.1-.9-2-2-2zM9 17H7v-7h2v7zm4 0h-2V7h2v10zm4 0h-2v-4h2v4z\"/>\n",
              "    </g>\n",
              "</svg>\n",
              "      </button>\n",
              "\n",
              "<style>\n",
              "  .colab-df-quickchart {\n",
              "      --bg-color: #E8F0FE;\n",
              "      --fill-color: #1967D2;\n",
              "      --hover-bg-color: #E2EBFA;\n",
              "      --hover-fill-color: #174EA6;\n",
              "      --disabled-fill-color: #AAA;\n",
              "      --disabled-bg-color: #DDD;\n",
              "  }\n",
              "\n",
              "  [theme=dark] .colab-df-quickchart {\n",
              "      --bg-color: #3B4455;\n",
              "      --fill-color: #D2E3FC;\n",
              "      --hover-bg-color: #434B5C;\n",
              "      --hover-fill-color: #FFFFFF;\n",
              "      --disabled-bg-color: #3B4455;\n",
              "      --disabled-fill-color: #666;\n",
              "  }\n",
              "\n",
              "  .colab-df-quickchart {\n",
              "    background-color: var(--bg-color);\n",
              "    border: none;\n",
              "    border-radius: 50%;\n",
              "    cursor: pointer;\n",
              "    display: none;\n",
              "    fill: var(--fill-color);\n",
              "    height: 32px;\n",
              "    padding: 0;\n",
              "    width: 32px;\n",
              "  }\n",
              "\n",
              "  .colab-df-quickchart:hover {\n",
              "    background-color: var(--hover-bg-color);\n",
              "    box-shadow: 0 1px 2px rgba(60, 64, 67, 0.3), 0 1px 3px 1px rgba(60, 64, 67, 0.15);\n",
              "    fill: var(--button-hover-fill-color);\n",
              "  }\n",
              "\n",
              "  .colab-df-quickchart-complete:disabled,\n",
              "  .colab-df-quickchart-complete:disabled:hover {\n",
              "    background-color: var(--disabled-bg-color);\n",
              "    fill: var(--disabled-fill-color);\n",
              "    box-shadow: none;\n",
              "  }\n",
              "\n",
              "  .colab-df-spinner {\n",
              "    border: 2px solid var(--fill-color);\n",
              "    border-color: transparent;\n",
              "    border-bottom-color: var(--fill-color);\n",
              "    animation:\n",
              "      spin 1s steps(1) infinite;\n",
              "  }\n",
              "\n",
              "  @keyframes spin {\n",
              "    0% {\n",
              "      border-color: transparent;\n",
              "      border-bottom-color: var(--fill-color);\n",
              "      border-left-color: var(--fill-color);\n",
              "    }\n",
              "    20% {\n",
              "      border-color: transparent;\n",
              "      border-left-color: var(--fill-color);\n",
              "      border-top-color: var(--fill-color);\n",
              "    }\n",
              "    30% {\n",
              "      border-color: transparent;\n",
              "      border-left-color: var(--fill-color);\n",
              "      border-top-color: var(--fill-color);\n",
              "      border-right-color: var(--fill-color);\n",
              "    }\n",
              "    40% {\n",
              "      border-color: transparent;\n",
              "      border-right-color: var(--fill-color);\n",
              "      border-top-color: var(--fill-color);\n",
              "    }\n",
              "    60% {\n",
              "      border-color: transparent;\n",
              "      border-right-color: var(--fill-color);\n",
              "    }\n",
              "    80% {\n",
              "      border-color: transparent;\n",
              "      border-right-color: var(--fill-color);\n",
              "      border-bottom-color: var(--fill-color);\n",
              "    }\n",
              "    90% {\n",
              "      border-color: transparent;\n",
              "      border-bottom-color: var(--fill-color);\n",
              "    }\n",
              "  }\n",
              "</style>\n",
              "\n",
              "      <script>\n",
              "        async function quickchart(key) {\n",
              "          const quickchartButtonEl =\n",
              "            document.querySelector('#' + key + ' button');\n",
              "          quickchartButtonEl.disabled = true;  // To prevent multiple clicks.\n",
              "          quickchartButtonEl.classList.add('colab-df-spinner');\n",
              "          try {\n",
              "            const charts = await google.colab.kernel.invokeFunction(\n",
              "                'suggestCharts', [key], {});\n",
              "          } catch (error) {\n",
              "            console.error('Error during call to suggestCharts:', error);\n",
              "          }\n",
              "          quickchartButtonEl.classList.remove('colab-df-spinner');\n",
              "          quickchartButtonEl.classList.add('colab-df-quickchart-complete');\n",
              "        }\n",
              "        (() => {\n",
              "          let quickchartButtonEl =\n",
              "            document.querySelector('#df-3d0c3028-8821-4152-a900-19800e1eee6c button');\n",
              "          quickchartButtonEl.style.display =\n",
              "            google.colab.kernel.accessAllowed ? 'block' : 'none';\n",
              "        })();\n",
              "      </script>\n",
              "    </div>\n",
              "\n",
              "    </div>\n",
              "  </div>\n"
            ],
            "application/vnd.google.colaboratory.intrinsic+json": {
              "type": "dataframe",
              "variable_name": "train_df",
              "summary": "{\n  \"name\": \"train_df\",\n  \"rows\": 25000,\n  \"fields\": [\n    {\n      \"column\": \"text\",\n      \"properties\": {\n        \"dtype\": \"string\",\n        \"num_unique_values\": 24904,\n        \"samples\": [\n          \"Although I didn't like Stanley & Iris tremendously as a film, I did admire the acting. Jane Fonda and Robert De Niro are great in this movie. I haven't always been a fan of Fonda's work but here she is delicate and strong at the same time. De Niro has the ability to make every role he portrays into acting gold. He gives a great performance in this film and there is a great scene where he has to take his father to a home for elderly people because he can't care for him anymore that will break your heart. I wouldn't really recommend this film as a great cinematic entertainment, but I will say you won't see much bette acting anywhere.\",\n          \"Yet again one of the most misunderstood Goddesses of my country has been twisted by \\\"Westerners\\\" who cannot understand the esoteric symbolism of the Mother Goddess in her dark forms. The Mother takes on the frightening form of Kali Mata to destroy our inner demons, and to terrify our egos. And though blood sacrifice is given to Kali and Durga, the events depicted in this film are just absurd. The Mother takes on a wrathful form to be wrathful to our inner demons, limitations, and ego when no other form will suffice. It's also in her wrathful form that she burns away all your Karmas in the \\\"Smashan\\\" fires that you cultivate in your heart for her to dance on if you love her, and she will bring you to reality and truth. Reality and truth has a dark side as well as light, which serves a purpose. The Mother is the embodiment of the physical Universe as well, she is Nature. Nature can be cruel and destructive to maintain balance. You cannot have growth and life without death and destruction. Kali represents the force of destruction for the purpose of new growth and life both mundane and spiritual in the universe. It's very outrageous to me that people who know nothing of India or it's divinity can just take one of our beloved Goddesses and use her like a cheap prostitute to make some low-budget, talentless horror film. How dare they take our beloved Mother and portray her as a horror that makes people chop their eyelids off!? She is only horrific to those who are attached to their ego and who live in delusion , greed, anger, and other inner-demons. It's very clear to me that the person who wrote this movie must have a very serious self-deluding ego, and serious inner-demons to see Kali as so horrible and terrible. When the ego drops away she becomes a form that is enchanting, beautiful, and young, a beauty that is so enchanting to behold that she enchants the entire Universe with it. Kali Maa is an ancient Mother, not to be trifled with for the sake of entertainment, let's just hope that in her endless compassion and mercy that she does not take on wrathful form to those involved with this movie.<br /><br />The audacity that Westerners have in using religions like my own, or the religions of the Caribbean Islands such as Santeria, and Vodou which are actually very positive, and other such religions to twist and exaggerate misunderstood elements that the Western mind cannot comprehend, is totally ridiculous. It's clear that there is no respect for what people live, breathe and believe in when it comes to these kind of flicks.<br /><br />Kali Maa in reality is a caring and compassionate mother, whom we shed tears at her beautiful feet in devotion and love for. And I am happy that my Mother takes on wrathful form sometimes to protect her devotees from themselves and from outside forces.<br /><br />Many Praises to the REAL Kali Maa, who has shown MANY the path of God and realization.\",\n          \"Paris is the place to be to enjoy beautiful art and music, and to fall madly in love - as is the case in this film. Boy meets girl, they fall in love, but something stands in their way of eternal happiness, the classic story.<br /><br />The wonderful music of George Gerschwin complements the great dancing by Gene Kelly and Leslie Caron. \\\"An American in Paris\\\" is a humorous, light-hearted, loving film well worth watching.<br /><br />8/10<br /><br />\"\n        ],\n        \"semantic_type\": \"\",\n        \"description\": \"\"\n      }\n    },\n    {\n      \"column\": \"label\",\n      \"properties\": {\n        \"dtype\": \"number\",\n        \"std\": 0,\n        \"min\": 0,\n        \"max\": 1,\n        \"num_unique_values\": 2,\n        \"samples\": [\n          1,\n          0\n        ],\n        \"semantic_type\": \"\",\n        \"description\": \"\"\n      }\n    }\n  ]\n}"
            }
          },
          "metadata": {},
          "execution_count": 7
        }
      ]
    },
    {
      "cell_type": "markdown",
      "source": [
        "# 데이터 탐색 및 분석"
      ],
      "metadata": {
        "id": "_iIdFHZACEtq"
      }
    },
    {
      "cell_type": "code",
      "source": [
        "# 기본 정보\n",
        "print(f\"📋 기본 정보:\")\n",
        "print(f\"   컬럼: {list(train_df.columns)}\")     # 컬럼: ['text', 'label']\n",
        "print(f\"   훈련 데이터 크기: {train_df.shape}\")     # 훈련 데이터 크기: (25000, 2)\n",
        "print(f\"   테스트 데이터 크기: {test_df.shape}\")    # 테스트 데이터 크기: (25000, 2)"
      ],
      "metadata": {
        "colab": {
          "base_uri": "https://localhost:8080/"
        },
        "id": "bwF3xKx_B3Cx",
        "outputId": "99b88a46-4e63-4696-f535-64780ecd1f76"
      },
      "execution_count": 8,
      "outputs": [
        {
          "output_type": "stream",
          "name": "stdout",
          "text": [
            "📋 기본 정보:\n",
            "   컬럼: ['text', 'label']\n",
            "   훈련 데이터 크기: (25000, 2)\n",
            "   테스트 데이터 크기: (25000, 2)\n"
          ]
        }
      ]
    },
    {
      "cell_type": "markdown",
      "source": [
        "text, label 칼럼으로 이뤄져 있고 훈련 테스트 모두 25000개의 데이터가 있다."
      ],
      "metadata": {
        "id": "lVrwmpmBCO12"
      }
    },
    {
      "cell_type": "code",
      "source": [
        "# 레이블 분포\n",
        "print(f\"\\n📊 감정 레이블 분포:\")\n",
        "label_counts = train_df['label'].value_counts().sort_index()    # 인덱스 기준(sort_index())으로 value를 세\n",
        "for label, count in label_counts.items():\n",
        "    sentiment = \"Positive\" if label == 1 else \"Negative\"    # 긍정리뷰와 부정리뷰로 매핑\n",
        "    percentage = count / len(train_df) * 100\n",
        "    print(f\"   {sentiment} ({label}): {count:,}개 ({percentage:.1f}%)\")"
      ],
      "metadata": {
        "colab": {
          "base_uri": "https://localhost:8080/"
        },
        "id": "3qe8GqStCN0c",
        "outputId": "b44c284d-23c1-4dd5-d4a7-758b4b33c00d"
      },
      "execution_count": 9,
      "outputs": [
        {
          "output_type": "stream",
          "name": "stdout",
          "text": [
            "\n",
            "📊 감정 레이블 분포:\n",
            "   Negative (0): 12,500개 (50.0%)\n",
            "   Positive (1): 12,500개 (50.0%)\n"
          ]
        }
      ]
    },
    {
      "cell_type": "code",
      "source": [
        "# 텍스트 길이 분석\n",
        "train_df['text_length'] = train_df['text'].str.len()\n",
        "train_df['word_count'] = train_df['text'].str.split().str.len()"
      ],
      "metadata": {
        "id": "VweY7kMwDZ49"
      },
      "execution_count": 10,
      "outputs": []
    },
    {
      "cell_type": "code",
      "source": [
        "print(train_df['text'].str.len())\n",
        "# .str: 문자열 접근자 - pandas에서 문자열 메서드를 사용하기 위한 접근자\n",
        "# .len(): 각 문자열의 길이(문자 개수)를 계산"
      ],
      "metadata": {
        "colab": {
          "base_uri": "https://localhost:8080/"
        },
        "id": "mjl7VPwmHY_z",
        "outputId": "cf26f586-a3fd-4573-a4e2-21ad26b3ba28"
      },
      "execution_count": 11,
      "outputs": [
        {
          "output_type": "stream",
          "name": "stdout",
          "text": [
            "0        1640\n",
            "1        1294\n",
            "2         528\n",
            "3         706\n",
            "4        1814\n",
            "         ... \n",
            "24995     637\n",
            "24996    1091\n",
            "24997     740\n",
            "24998    4066\n",
            "24999     319\n",
            "Name: text, Length: 25000, dtype: int64\n"
          ]
        }
      ]
    },
    {
      "cell_type": "code",
      "source": [
        "print(f\"\\n📏 텍스트 통계:\")\n",
        "print(f\"   평균 글자 수: {train_df['text_length'].mean():.0f}\")\n",
        "print(f\"   평균 단어 수: {train_df['word_count'].mean():.0f}\")\n",
        "print(f\"   최대 글자 수: {train_df['text_length'].max():,}\")\n",
        "print(f\"   최소 글자 수: {train_df['text_length'].min()}\")"
      ],
      "metadata": {
        "colab": {
          "base_uri": "https://localhost:8080/"
        },
        "id": "QEpAAYgJHINd",
        "outputId": "94d33707-6d88-4f1c-f318-fe427258bb3e"
      },
      "execution_count": 12,
      "outputs": [
        {
          "output_type": "stream",
          "name": "stdout",
          "text": [
            "\n",
            "📏 텍스트 통계:\n",
            "   평균 글자 수: 1325\n",
            "   평균 단어 수: 234\n",
            "   최대 글자 수: 13,704\n",
            "   최소 글자 수: 52\n"
          ]
        }
      ]
    },
    {
      "cell_type": "markdown",
      "source": [
        "# 샘플 데이터 탐색 시각화"
      ],
      "metadata": {
        "id": "5FIZ545_VK9l"
      }
    },
    {
      "cell_type": "code",
      "source": [
        "n_samples=5\n",
        "\n",
        "for i in range(n_samples):\n",
        "    text = train_df.iloc[i]['text']\n",
        "    label = train_df.iloc[i]['label']\n",
        "    sentiment = \"😊 Positive\" if label == 1 else \"😞 Negative\"\n",
        "\n",
        "    # 텍스트가 너무 길면 앞부분만 표시\n",
        "    display_text = text[:200] + \"...\" if len(text) > 200 else text\n",
        "\n",
        "    print(f\"\\n📄 Sample {i+1}:\")\n",
        "    print(f\"   감정: {sentiment}\")\n",
        "    print(f\"   리뷰: {display_text}\")\n",
        "    print(f\"   길이: {len(text)}자, {len(text.split())}단어\")"
      ],
      "metadata": {
        "colab": {
          "base_uri": "https://localhost:8080/"
        },
        "id": "zT9n2Ce8HV81",
        "outputId": "00ca4960-eb63-46fa-89dd-ac968dd481a6"
      },
      "execution_count": 13,
      "outputs": [
        {
          "output_type": "stream",
          "name": "stdout",
          "text": [
            "\n",
            "📄 Sample 1:\n",
            "   감정: 😞 Negative\n",
            "   리뷰: I rented I AM CURIOUS-YELLOW from my video store because of all the controversy that surrounded it when it was first released in 1967. I also heard that at first it was seized by U.S. customs if it ev...\n",
            "   길이: 1640자, 288단어\n",
            "\n",
            "📄 Sample 2:\n",
            "   감정: 😞 Negative\n",
            "   리뷰: \"I Am Curious: Yellow\" is a risible and pretentious steaming pile. It doesn't matter what one's political views are because this film can hardly be taken seriously on any level. As for the claim that ...\n",
            "   길이: 1294자, 214단어\n",
            "\n",
            "📄 Sample 3:\n",
            "   감정: 😞 Negative\n",
            "   리뷰: If only to avoid making this type of film in the future. This film is interesting as an experiment but tells no cogent story.<br /><br />One might feel virtuous for sitting thru it because it touches ...\n",
            "   길이: 528자, 93단어\n",
            "\n",
            "📄 Sample 4:\n",
            "   감정: 😞 Negative\n",
            "   리뷰: This film was probably inspired by Godard's Masculin, féminin and I urge you to see that film instead.<br /><br />The film has two strong elements and those are, (1) the realistic acting (2) the impre...\n",
            "   길이: 706자, 118단어\n",
            "\n",
            "📄 Sample 5:\n",
            "   감정: 😞 Negative\n",
            "   리뷰: Oh, brother...after hearing about this ridiculous film for umpteen years all I can think of is that old Peggy Lee song..<br /><br />\"Is that all there is??\" ...I was just an early teen when this smoke...\n",
            "   길이: 1814자, 311단어\n"
          ]
        }
      ]
    },
    {
      "cell_type": "code",
      "source": [
        "fig, axes = plt.subplots(2, 2, figsize=(15, 10))\n",
        "\n",
        "# 1. 감정 레이블 분포\n",
        "label_counts = train_df['label'].value_counts().sort_index()\n",
        "bars1 = axes[0, 0].bar(['Negative (0)', 'Positive (1)'], label_counts.values,\n",
        "                        color=['#ff6b6b', '#4ecdc4'], alpha=0.8)\n",
        "axes[0, 0].set_title('감정 레이블 분포', fontsize=14, fontweight='bold')\n",
        "axes[0, 0].set_ylabel('개수')\n",
        "\n",
        "# 막대에 수치 표시\n",
        "for bar in bars1:\n",
        "    height = bar.get_height()\n",
        "    axes[0, 0].text(bar.get_x() + bar.get_width()/2., height,\n",
        "                    f'{int(height):,}', ha='center', va='bottom')\n",
        "\n",
        "# 2. 텍스트 길이 분포\n",
        "axes[0, 1].hist(train_df['text_length'], bins=50, alpha=0.7, color='skyblue',\n",
        "                edgecolor='black')\n",
        "axes[0, 1].set_title('텍스트 길이 분포')\n",
        "axes[0, 1].set_xlabel('글자 수')\n",
        "axes[0, 1].set_ylabel('빈도')\n",
        "axes[0, 1].axvline(train_df['text_length'].mean(), color='red', linestyle='--',\n",
        "                    label=f'평균: {train_df[\"text_length\"].mean():.0f}')\n",
        "axes[0, 1].legend()\n",
        "\n",
        "# 3. 단어 수 분포\n",
        "axes[1, 0].hist(train_df['word_count'], bins=50, alpha=0.7, color='lightgreen',\n",
        "                edgecolor='black')\n",
        "axes[1, 0].set_title('단어 수 분포')\n",
        "axes[1, 0].set_xlabel('단어 수')\n",
        "axes[1, 0].set_ylabel('빈도')\n",
        "axes[1, 0].axvline(train_df['word_count'].mean(), color='red', linestyle='--',\n",
        "                    label=f'평균: {train_df[\"word_count\"].mean():.0f}')\n",
        "axes[1, 0].legend()\n",
        "\n",
        "# 4. 감정별 평균 길이 비교\n",
        "pos_lengths = train_df[train_df['label'] == 1]['text_length']\n",
        "neg_lengths = train_df[train_df['label'] == 0]['text_length']\n",
        "\n",
        "axes[1, 1].boxplot([neg_lengths, pos_lengths],\n",
        "                    labels=['Negative', 'Positive'])\n",
        "axes[1, 1].set_title('감정별 텍스트 길이 비교')\n",
        "axes[1, 1].set_ylabel('글자 수')\n",
        "\n",
        "plt.tight_layout()\n",
        "plt.show()"
      ],
      "metadata": {
        "colab": {
          "base_uri": "https://localhost:8080/",
          "height": 572
        },
        "id": "5mPxjNgPVq_T",
        "outputId": "2ae3b794-44e0-4498-bdc5-50ddceedec9b"
      },
      "execution_count": 14,
      "outputs": [
        {
          "output_type": "display_data",
          "data": {
            "text/plain": [
              "<Figure size 1500x1000 with 4 Axes>"
            ],
            "image/png": "[encoded data removed]"
          },
          "metadata": {}
        }
      ]
    },
    {
      "cell_type": "markdown",
      "source": [
        "빈도가 높은 단어 15개 출력"
      ],
      "metadata": {
        "id": "E2ELo-w0YTK3"
      }
    },
    {
      "cell_type": "code",
      "source": [
        "# 전체 단어 추출\n",
        "top_n=15\n",
        "\n",
        "all_words = []\n",
        "for text in train_df['text']:\n",
        "    words = text.lower().split()\n",
        "    all_words.extend(words)\n",
        "\n",
        "# 단어 빈도 계산\n",
        "word_freq = Counter(all_words)\n",
        "total_words = len(all_words)\n",
        "unique_words = len(word_freq)\n",
        "\n",
        "print(f\"📈 전체 통계:\")\n",
        "print(f\"   총 단어 수: {total_words:,}개\")\n",
        "print(f\"   고유 단어 수: {unique_words:,}개\")\n",
        "print(f\"   어휘 다양성: {unique_words/total_words:.4f}\")\n",
        "\n",
        "print(f\"\\n🔤 가장 빈번한 단어 Top {top_n}:\")\n",
        "for i, (word, freq) in enumerate(word_freq.most_common(top_n), 1):\n",
        "    percentage = freq / total_words * 100\n",
        "    print(f\"   {i:2d}. {word:15s}: {freq:6,}회 ({percentage:.2f}%)\")"
      ],
      "metadata": {
        "colab": {
          "base_uri": "https://localhost:8080/"
        },
        "id": "wzY91xyDV7Ek",
        "outputId": "6901b19e-7bd5-466f-8778-707cf211776b"
      },
      "execution_count": 15,
      "outputs": [
        {
          "output_type": "stream",
          "name": "stdout",
          "text": [
            "📈 전체 통계:\n",
            "   총 단어 수: 5,844,680개\n",
            "   고유 단어 수: 251,637개\n",
            "   어휘 다양성: 0.0431\n",
            "\n",
            "🔤 가장 빈번한 단어 Top 15:\n",
            "    1. the            : 322,198회 (5.51%)\n",
            "    2. a              : 159,953회 (2.74%)\n",
            "    3. and            : 158,572회 (2.71%)\n",
            "    4. of             : 144,462회 (2.47%)\n",
            "    5. to             : 133,967회 (2.29%)\n",
            "    6. is             : 104,171회 (1.78%)\n",
            "    7. in             : 90,527회 (1.55%)\n",
            "    8. i              : 70,480회 (1.21%)\n",
            "    9. this           : 69,714회 (1.19%)\n",
            "   10. that           : 66,292회 (1.13%)\n",
            "   11. it             : 65,505회 (1.12%)\n",
            "   12. /><br          : 50,935회 (0.87%)\n",
            "   13. was            : 47,024회 (0.80%)\n",
            "   14. as             : 45,102회 (0.77%)\n",
            "   15. for            : 42,843회 (0.73%)\n"
          ]
        }
      ]
    },
    {
      "cell_type": "markdown",
      "source": [
        "/><br가 꽤 빈번하게 나오는 것을 확인했다.   \n",
        "html 마크업 문법이거나 문장 사이 구분자 같다.   \n",
        "※ 특정 문자가 있는 문장만 출력하는 구문이 있으면 좋을 것 같다.\n",
        "\n",
        "'the' 나 'a'같은 관사가 많다. 자주 사용되는 언어긴 하나, 임베딩하는데 있어 방해요소로 생각된다.     \n",
        "※ the를 많이 사용한다해서 특정 감정으로 분류되거나 하면 안된다.\n",
        "\n",
        "__불필요 단어들은 제거하고 텍스트 정제 등의 전처리가 필요하다.__"
      ],
      "metadata": {
        "id": "Mh43ZIiwaWHK"
      }
    },
    {
      "cell_type": "markdown",
      "source": [
        "# 결측값, 중복값, 공백, 극단값 확인"
      ],
      "metadata": {
        "id": "nDZZaWh2bMHZ"
      }
    },
    {
      "cell_type": "code",
      "source": [
        "pd.set_option('display.max_colwidth', None)  # 칼럼 폭 제한 없음\n",
        "find_br = train_df[train_df['text'].str.contains('/><br')]"
      ],
      "metadata": {
        "id": "OWmXaVfib_Xc"
      },
      "execution_count": 16,
      "outputs": []
    },
    {
      "cell_type": "code",
      "source": [
        "find_br['text'].head(2)"
      ],
      "metadata": {
        "colab": {
          "base_uri": "https://localhost:8080/",
          "height": 442
        },
        "id": "hBNVVGeWhEWi",
        "outputId": "00184479-a7e5-47c5-feab-9574ae6ea7e8"
      },
      "execution_count": 17,
      "outputs": [
        {
          "output_type": "execute_result",
          "data": {
            "text/plain": [
              "0    I rented I AM CURIOUS-YELLOW from my video store because of all the controversy that surrounded it when it was first released in 1967. I also heard that at first it was seized by U.S. customs if it ever tried to enter this country, therefore being a fan of films considered \"controversial\" I really had to see this for myself.<br /><br />The plot is centered around a young Swedish drama student named Lena who wants to learn everything she can about life. In particular she wants to focus her attentions to making some sort of documentary on what the average Swede thought about certain political issues such as the Vietnam War and race issues in the United States. In between asking politicians and ordinary denizens of Stockholm about their opinions on politics, she has sex with her drama teacher, classmates, and married men.<br /><br />What kills me about I AM CURIOUS-YELLOW is that 40 years ago, this was considered pornographic. Really, the sex and nudity scenes are few and far between, even then it's not shot like some cheaply made porno. While my countrymen mind find it shocking, in reality sex and nudity are a major staple in Swedish cinema. Even Ingmar Bergman, arguably their answer to good old boy John Ford, had sex scenes in his films.<br /><br />I do commend the filmmakers for the fact that any sex shown in the film is shown for artistic purposes rather than just to shock people and make money to be shown in pornographic theaters in America. I AM CURIOUS-YELLOW is a good film for anyone wanting to study the meat and potatoes (no pun intended) of Swedish cinema. But really, this film doesn't have much of a plot.\n",
              "2                                                                                                                                                                                                                                                                                                                                                                                                                                                                                                                                                                                                                                                                                                                                                                                                                                                                                                                                                                                                                                                                                                                                                            If only to avoid making this type of film in the future. This film is interesting as an experiment but tells no cogent story.<br /><br />One might feel virtuous for sitting thru it because it touches on so many IMPORTANT issues but it does so without any discernable motive. The viewer comes away with no new perspectives (unless one comes up with one while one's mind wanders, as it will invariably do during this pointless film).<br /><br />One might better spend one's time staring out a window at a tree growing.<br /><br />\n",
              "Name: text, dtype: object"
            ],
            "text/html": [
              "<div>\n",
              "<style scoped>\n",
              "    .dataframe tbody tr th:only-of-type {\n",
              "        vertical-align: middle;\n",
              "    }\n",
              "\n",
              "    .dataframe tbody tr th {\n",
              "        vertical-align: top;\n",
              "    }\n",
              "\n",
              "    .dataframe thead th {\n",
              "        text-align: right;\n",
              "    }\n",
              "</style>\n",
              "<table border=\"1\" class=\"dataframe\">\n",
              "  <thead>\n",
              "    <tr style=\"text-align: right;\">\n",
              "      <th></th>\n",
              "      <th>text</th>\n",
              "    </tr>\n",
              "  </thead>\n",
              "  <tbody>\n",
              "    <tr>\n",
              "      <th>0</th>\n",
              "      <td>I rented I AM CURIOUS-YELLOW from my video store because of all the controversy that surrounded it when it was first released in 1967. I also heard that at first it was seized by U.S. customs if it ever tried to enter this country, therefore being a fan of films considered \"controversial\" I really had to see this for myself.&lt;br /&gt;&lt;br /&gt;The plot is centered around a young Swedish drama student named Lena who wants to learn everything she can about life. In particular she wants to focus her attentions to making some sort of documentary on what the average Swede thought about certain political issues such as the Vietnam War and race issues in the United States. In between asking politicians and ordinary denizens of Stockholm about their opinions on politics, she has sex with her drama teacher, classmates, and married men.&lt;br /&gt;&lt;br /&gt;What kills me about I AM CURIOUS-YELLOW is that 40 years ago, this was considered pornographic. Really, the sex and nudity scenes are few and far between, even then it's not shot like some cheaply made porno. While my countrymen mind find it shocking, in reality sex and nudity are a major staple in Swedish cinema. Even Ingmar Bergman, arguably their answer to good old boy John Ford, had sex scenes in his films.&lt;br /&gt;&lt;br /&gt;I do commend the filmmakers for the fact that any sex shown in the film is shown for artistic purposes rather than just to shock people and make money to be shown in pornographic theaters in America. I AM CURIOUS-YELLOW is a good film for anyone wanting to study the meat and potatoes (no pun intended) of Swedish cinema. But really, this film doesn't have much of a plot.</td>\n",
              "    </tr>\n",
              "    <tr>\n",
              "      <th>2</th>\n",
              "      <td>If only to avoid making this type of film in the future. This film is interesting as an experiment but tells no cogent story.&lt;br /&gt;&lt;br /&gt;One might feel virtuous for sitting thru it because it touches on so many IMPORTANT issues but it does so without any discernable motive. The viewer comes away with no new perspectives (unless one comes up with one while one's mind wanders, as it will invariably do during this pointless film).&lt;br /&gt;&lt;br /&gt;One might better spend one's time staring out a window at a tree growing.&lt;br /&gt;&lt;br /&gt;</td>\n",
              "    </tr>\n",
              "  </tbody>\n",
              "</table>\n",
              "</div><br><label><b>dtype:</b> object</label>"
            ]
          },
          "metadata": {},
          "execution_count": 17
        }
      ]
    },
    {
      "cell_type": "code",
      "source": [
        "print(find_br['text'].head(1))"
      ],
      "metadata": {
        "colab": {
          "base_uri": "https://localhost:8080/"
        },
        "id": "IlFvtsL7c0wS",
        "outputId": "992e9a0c-9fa6-479f-a8d2-2f4ee2b29070"
      },
      "execution_count": 18,
      "outputs": [
        {
          "output_type": "stream",
          "name": "stdout",
          "text": [
            "0    I rented I AM CURIOUS-YELLOW from my video store because of all the controversy that surrounded it when it was first released in 1967. I also heard that at first it was seized by U.S. customs if it ever tried to enter this country, therefore being a fan of films considered \"controversial\" I really had to see this for myself.<br /><br />The plot is centered around a young Swedish drama student named Lena who wants to learn everything she can about life. In particular she wants to focus her attentions to making some sort of documentary on what the average Swede thought about certain political issues such as the Vietnam War and race issues in the United States. In between asking politicians and ordinary denizens of Stockholm about their opinions on politics, she has sex with her drama teacher, classmates, and married men.<br /><br />What kills me about I AM CURIOUS-YELLOW is that 40 years ago, this was considered pornographic. Really, the sex and nudity scenes are few and far between, even then it's not shot like some cheaply made porno. While my countrymen mind find it shocking, in reality sex and nudity are a major staple in Swedish cinema. Even Ingmar Bergman, arguably their answer to good old boy John Ford, had sex scenes in his films.<br /><br />I do commend the filmmakers for the fact that any sex shown in the film is shown for artistic purposes rather than just to shock people and make money to be shown in pornographic theaters in America. I AM CURIOUS-YELLOW is a good film for anyone wanting to study the meat and potatoes (no pun intended) of Swedish cinema. But really, this film doesn't have much of a plot.\n",
            "Name: text, dtype: object\n"
          ]
        }
      ]
    },
    {
      "cell_type": "markdown",
      "source": [
        "하나의 리뷰에 문장이 여러개가 있는 것을 확인했다."
      ],
      "metadata": {
        "id": "Ql-eP7rAgCYU"
      }
    },
    {
      "cell_type": "code",
      "source": [
        "# 결측값 확인\n",
        "missing_text = train_df['text'].isnull().sum()\n",
        "missing_label = train_df['label'].isnull().sum()\n",
        "print(f\"📋 결측값:\")\n",
        "print(f\"   텍스트: {missing_text}개\")\n",
        "print(f\"   레이블: {missing_label}개\")"
      ],
      "metadata": {
        "colab": {
          "base_uri": "https://localhost:8080/"
        },
        "id": "5uUhl0xyYQDM",
        "outputId": "e53d6b48-b254-4840-ec72-0bcdf63a23a1"
      },
      "execution_count": 19,
      "outputs": [
        {
          "output_type": "stream",
          "name": "stdout",
          "text": [
            "📋 결측값:\n",
            "   텍스트: 0개\n",
            "   레이블: 0개\n"
          ]
        }
      ]
    },
    {
      "cell_type": "code",
      "source": [
        "# 빈 텍스트 확인\n",
        "empty_text = (train_df['text'].str.strip() == '').sum()\n",
        "print(f\"   빈 텍스트: {empty_text}개\")"
      ],
      "metadata": {
        "colab": {
          "base_uri": "https://localhost:8080/"
        },
        "id": "JEnkSRSgbWyw",
        "outputId": "a9d6dfbb-a0d0-4d8c-d14e-f105ace94f0b"
      },
      "execution_count": 20,
      "outputs": [
        {
          "output_type": "stream",
          "name": "stdout",
          "text": [
            "   빈 텍스트: 0개\n"
          ]
        }
      ]
    },
    {
      "cell_type": "code",
      "source": [
        "# 중복 확인\n",
        "duplicates = train_df.duplicated().sum()\n",
        "print(f\"   중복 데이터: {duplicates}개\")"
      ],
      "metadata": {
        "colab": {
          "base_uri": "https://localhost:8080/"
        },
        "id": "WGKuLyulbZV4",
        "outputId": "a508082f-9ebc-4e85-ad3f-1d1623b4f482"
      },
      "execution_count": 21,
      "outputs": [
        {
          "output_type": "stream",
          "name": "stdout",
          "text": [
            "   중복 데이터: 96개\n"
          ]
        }
      ]
    },
    {
      "cell_type": "code",
      "source": [
        "# 극단적으로 짧거나 긴 텍스트\n",
        "very_short = (train_df['text_length'] < 50).sum()\n",
        "very_long = (train_df['text_length'] > 5000).sum()\n",
        "print(f\"   매우 짧은 텍스트 (<50자): {very_short}개\")\n",
        "print(f\"   매우 긴 텍스트 (>5000자): {very_long}개\")\n",
        "\n",
        "if missing_text == 0 and missing_label == 0 and empty_text == 0:\n",
        "    print(\"   ✅ 데이터 품질 양호!\")\n",
        "else:\n",
        "    print(\"   ⚠️ 데이터 전처리 필요\")"
      ],
      "metadata": {
        "colab": {
          "base_uri": "https://localhost:8080/"
        },
        "id": "E4lyEoX0beuy",
        "outputId": "2a43f7d2-42f3-47e4-ba93-5f947cc65804"
      },
      "execution_count": 22,
      "outputs": [
        {
          "output_type": "stream",
          "name": "stdout",
          "text": [
            "   매우 짧은 텍스트 (<50자): 0개\n",
            "   매우 긴 텍스트 (>5000자): 313개\n",
            "   ✅ 데이터 품질 양호!\n"
          ]
        }
      ]
    },
    {
      "cell_type": "markdown",
      "source": [
        "## 현재까지 파악한 것\n",
        "\n",
        "1. 문장의 길이가 상당하다.\n",
        "2. /><br가 있어 불용어 처리가 필요하다.\n",
        "3. 관사나 불용어 같이 벡터화 하는데 방해되는 단어들이 많다.\n",
        "\n",
        "__이러한 이유로 전처리가 필요한 것이다!!__"
      ],
      "metadata": {
        "id": "YbsdlmQTi1sX"
      }
    },
    {
      "cell_type": "markdown",
      "source": [
        "# 데이터 전처리 및 토큰화"
      ],
      "metadata": {
        "id": "ljTWKPaHjLic"
      }
    },
    {
      "cell_type": "markdown",
      "source": [
        "## 데이터 전처리"
      ],
      "metadata": {
        "id": "P2x0D0sgjO_O"
      }
    },
    {
      "cell_type": "code",
      "source": [
        "import re\n",
        "import string\n",
        "# NLTK 라이브러리\n",
        "import nltk\n",
        "from nltk.corpus import stopwords\n",
        "from nltk.tokenize import word_tokenize\n",
        "from nltk.stem import PorterStemmer, WordNetLemmatizer"
      ],
      "metadata": {
        "id": "IAtm1iRVbiEC"
      },
      "execution_count": 23,
      "outputs": []
    },
    {
      "cell_type": "code",
      "source": [
        "# NLTK 데이터 다운로드 (최초 한 번만)\n",
        "def download_nltk_data():\n",
        "    \"\"\"NLTK 필요 데이터 다운로드\"\"\"\n",
        "    nltk_data = ['punkt', 'stopwords', 'wordnet', 'averaged_perceptron_tagger', 'punkt_tab']\n",
        "\n",
        "    for data in nltk_data:\n",
        "        try:\n",
        "            nltk.data.find(f'tokenizers/{data}' if data == 'punkt' or data == 'punkt_tab' else\n",
        "                          f'corpora/{data}' if data in ['stopwords', 'wordnet'] else\n",
        "                          f'taggers/{data}')\n",
        "        except LookupError:\n",
        "            print(f\"📥 NLTK {data} 다운로드 중...\")\n",
        "            nltk.download(data, quiet=True)\n",
        "    print(\"✅ 다운로드 완료!\")"
      ],
      "metadata": {
        "id": "_9JQEjjdmW9A"
      },
      "execution_count": 24,
      "outputs": []
    },
    {
      "cell_type": "code",
      "source": [
        "# NLTK 데이터 다운로드\n",
        "download_nltk_data()"
      ],
      "metadata": {
        "colab": {
          "base_uri": "https://localhost:8080/"
        },
        "id": "L8QE2oLmmijr",
        "outputId": "3b578c45-8b7a-419b-d536-c648b29d48b8"
      },
      "execution_count": 25,
      "outputs": [
        {
          "output_type": "stream",
          "name": "stdout",
          "text": [
            "📥 NLTK punkt 다운로드 중...\n",
            "📥 NLTK stopwords 다운로드 중...\n",
            "📥 NLTK wordnet 다운로드 중...\n",
            "📥 NLTK averaged_perceptron_tagger 다운로드 중...\n",
            "📥 NLTK punkt_tab 다운로드 중...\n",
            "✅ 다운로드 완료!\n"
          ]
        }
      ]
    },
    {
      "cell_type": "code",
      "source": [
        "class IMDBPreprocessor:\n",
        "    \"\"\"IMDB 데이터 전용 전처리 클래스\"\"\"\n",
        "\n",
        "    def __init__(self):\n",
        "        # 도구 초기화\n",
        "        self.stemmer = PorterStemmer()\n",
        "        self.lemmatizer = WordNetLemmatizer()\n",
        "        self.stop_words = set(stopwords.words('english'))\n",
        "\n",
        "        # IMDB 특화 불용어 추가\n",
        "        self.custom_stopwords = {\n",
        "            'movie', 'film', 'movies', 'films', 'cinema', 'watch', 'watching',\n",
        "            'watched', 'see', 'seen', 'show', 'series', 'episode', 'character',\n",
        "            'characters', 'story', 'plot', 'scene', 'scenes', 'director',\n",
        "            'actor', 'actress', 'acting', 'performance', 'cast', 'script',\n",
        "            'one', 'two', 'would', 'could', 'should', 'also', 'get', 'go',\n",
        "            'time', 'even', 'really', 'much', 'well', 'way', 'make', 'made',\n",
        "            'take', 'year', 'years', 'end', 'first', 'last', 'good', 'bad'\n",
        "        }\n",
        "        self.stop_words.update(self.custom_stopwords)\n",
        "\n",
        "        # 축약형 사전\n",
        "        self.contractions = {\n",
        "            \"don't\": \"do not\", \"won't\": \"will not\", \"can't\": \"cannot\",\n",
        "            \"n't\": \" not\", \"'re\": \" are\", \"'ve\": \" have\", \"'ll\": \" will\",\n",
        "            \"'d\": \" would\", \"'m\": \" am\", \"it's\": \"it is\", \"that's\": \"that is\",\n",
        "            \"there's\": \"there is\", \"here's\": \"here is\", \"what's\": \"what is\",\n",
        "            \"where's\": \"where is\", \"who's\": \"who is\", \"how's\": \"how is\",\n",
        "            \"let's\": \"let us\", \"i'm\": \"i am\", \"you're\": \"you are\",\n",
        "            \"we're\": \"we are\", \"they're\": \"they are\", \"i've\": \"i have\",\n",
        "            \"you've\": \"you have\", \"we've\": \"we have\", \"they've\": \"they have\",\n",
        "            \"i'll\": \"i will\", \"you'll\": \"you will\", \"we'll\": \"we will\",\n",
        "            \"they'll\": \"they will\", \"i'd\": \"i would\", \"you'd\": \"you would\",\n",
        "            \"we'd\": \"we would\", \"they'd\": \"they would\"\n",
        "        }\n",
        "\n",
        "    def clean_html(self, text):\n",
        "        \"\"\"HTML 태그 제거\"\"\"\n",
        "        # IMDB 데이터에 특히 많은 <br /> 태그 제거\n",
        "        text = re.sub(r'<br\\s*/?>', ' ', text, flags=re.IGNORECASE)\n",
        "        # 기타 HTML 태그 제거\n",
        "        text = re.sub(r'<[^>]+>', '', text)\n",
        "        return text\n",
        "\n",
        "    def clean_urls_emails(self, text):\n",
        "        \"\"\"URL과 이메일 제거\"\"\"\n",
        "        # URL 제거\n",
        "        text = re.sub(r'http\\S+|www\\S+|https\\S+', '', text, flags=re.MULTILINE)\n",
        "        # 이메일 제거\n",
        "        text = re.sub(r'\\S+@\\S+', '', text)\n",
        "        return text\n",
        "\n",
        "    def expand_contractions(self, text):\n",
        "        \"\"\"축약형 확장\"\"\"\n",
        "        for contraction, expansion in self.contractions.items():\n",
        "            text = text.replace(contraction, expansion)\n",
        "        return text\n",
        "\n",
        "    def clean_text(self, text):\n",
        "        \"\"\"기본 텍스트 정제\"\"\"\n",
        "        if not isinstance(text, str):\n",
        "            return \"\"\n",
        "\n",
        "        # 1. HTML 태그 제거\n",
        "        text = self.clean_html(text)\n",
        "\n",
        "        # 2. URL, 이메일 제거\n",
        "        text = self.clean_urls_emails(text)\n",
        "\n",
        "        # 3. 소문자 변환\n",
        "        text = text.lower()\n",
        "\n",
        "        # 4. 축약형 확장\n",
        "        text = self.expand_contractions(text)\n",
        "\n",
        "        # 5. 숫자 제거 (선택적 - 평점 등이 중요할 수 있음)\n",
        "        # text = re.sub(r'\\d+', '', text)\n",
        "\n",
        "        # 6. 특수문자 제거 (문자와 공백만 남김)\n",
        "        text = re.sub(r'[^a-zA-Z\\s]', ' ', text)\n",
        "\n",
        "        # 7. 연속된 공백을 하나로\n",
        "        text = re.sub(r'\\s+', ' ', text)\n",
        "\n",
        "        # 8. 양쪽 공백 제거\n",
        "        text = text.strip()\n",
        "\n",
        "        return text\n",
        "\n",
        "    def tokenize_and_filter(self, text):\n",
        "        \"\"\"토큰화 및 필터링\"\"\"\n",
        "        # 토큰화: 단어 토큰화\n",
        "        tokens = word_tokenize(text)\n",
        "\n",
        "        # 구두점 제거\n",
        "        tokens = [token for token in tokens if token not in string.punctuation]\n",
        "\n",
        "        # 길이가 2 이상인 토큰만 선택\n",
        "        tokens = [token for token in tokens if len(token) >= 2]\n",
        "\n",
        "        # 불용어 제거\n",
        "        tokens = [token for token in tokens if token.lower() not in self.stop_words]\n",
        "\n",
        "        return tokens\n",
        "\n",
        "    def lemmatize_tokens(self, tokens):\n",
        "        \"\"\"표제어 추출\"\"\"\n",
        "        return [self.lemmatizer.lemmatize(token) for token in tokens]\n",
        "\n",
        "    def stem_tokens(self, tokens):\n",
        "        \"\"\"어간 추출\"\"\"\n",
        "        return [self.stemmer.stem(token) for token in tokens]\n",
        "\n",
        "    def preprocess_text(self, text, use_lemmatization=True, use_stemming=False):\n",
        "        \"\"\"전체 전처리 파이프라인\"\"\"\n",
        "        # 1. 텍스트 정제\n",
        "        cleaned_text = self.clean_text(text)\n",
        "\n",
        "        # 2. 토큰화 및 필터링\n",
        "        tokens = self.tokenize_and_filter(cleaned_text)\n",
        "\n",
        "        # 3. 표제어 추출 또는 어간 추출\n",
        "        if use_lemmatization:\n",
        "            tokens = self.lemmatize_tokens(tokens)\n",
        "        elif use_stemming:\n",
        "            tokens = self.stem_tokens(tokens)\n",
        "\n",
        "        return tokens\n",
        "\n",
        "    def process_dataframe(self, df, text_column='text'):\n",
        "        \"\"\"DataFrame 전처리\"\"\"\n",
        "        print(f\"📊 {len(df)}개 텍스트 전처리 중...\")\n",
        "\n",
        "        # 1. 원본 텍스트 정제\n",
        "        print(\"   1단계: 텍스트 정제...\")\n",
        "        df['cleaned_text'] = df[text_column].apply(self.clean_text)\n",
        "\n",
        "        # 2. 토큰화\n",
        "        print(\"   2단계: 토큰화 및 표제어 추출...\")\n",
        "        df['tokens'] = df['cleaned_text'].apply(\n",
        "            lambda x: self.preprocess_text(x, use_lemmatization=True)\n",
        "        )\n",
        "\n",
        "        # 3. 토큰을 문자열로 결합 (나중에 벡터화할 때 사용)\n",
        "        df['processed_text'] = df['tokens'].apply(lambda x: ' '.join(x))\n",
        "\n",
        "        # 4. 통계 계산\n",
        "        df['token_count'] = df['tokens'].apply(len)\n",
        "        df['processed_length'] = df['processed_text'].str.len()\n",
        "\n",
        "        print(f\"   ✅ 전처리 완료!\")\n",
        "        return df"
      ],
      "metadata": {
        "id": "kntrCY0NmjWR"
      },
      "execution_count": 26,
      "outputs": []
    },
    {
      "cell_type": "code",
      "source": [
        "# Step 1에서 로드한 데이터 확인\n",
        "try:\n",
        "    train_df = train_df.copy()  # Step 1에서 저장된 변수 사용\n",
        "    test_df = test_df.copy()\n",
        "    print(f\"✅ Step 1 데이터 로드 완료\")\n",
        "    print(f\"   훈련 데이터: {len(train_df):,}개\")\n",
        "    print(f\"   테스트 데이터: {len(test_df):,}개\")\n",
        "except NameError:\n",
        "    print(\"❌ Step 1을 먼저 실행하여 데이터를 로드하세요.\")"
      ],
      "metadata": {
        "colab": {
          "base_uri": "https://localhost:8080/"
        },
        "id": "Mq1AJSaQn6EW",
        "outputId": "77deeca5-3d0b-426c-d0ab-87aa44d74f60"
      },
      "execution_count": 27,
      "outputs": [
        {
          "output_type": "stream",
          "name": "stdout",
          "text": [
            "✅ Step 1 데이터 로드 완료\n",
            "   훈련 데이터: 25,000개\n",
            "   테스트 데이터: 25,000개\n"
          ]
        }
      ]
    },
    {
      "cell_type": "code",
      "source": [
        "# 전처리기 초기화\n",
        "preprocessor = IMDBPreprocessor()"
      ],
      "metadata": {
        "id": "SpfO5KI_nZYG"
      },
      "execution_count": 28,
      "outputs": []
    },
    {
      "cell_type": "code",
      "source": [
        "# 훈련 데이터 전처리\n",
        "train_processed = preprocessor.process_dataframe(train_df)\n",
        "test_processed = preprocessor.process_dataframe(test_df)"
      ],
      "metadata": {
        "colab": {
          "base_uri": "https://localhost:8080/"
        },
        "id": "4N41e_BfnpKo",
        "outputId": "a250baac-745b-4a9b-f211-50bb98712f21"
      },
      "execution_count": 29,
      "outputs": [
        {
          "output_type": "stream",
          "name": "stdout",
          "text": [
            "📊 25000개 텍스트 전처리 중...\n",
            "   1단계: 텍스트 정제...\n",
            "   2단계: 토큰화 및 표제어 추출...\n",
            "   ✅ 전처리 완료!\n",
            "📊 25000개 텍스트 전처리 중...\n",
            "   1단계: 텍스트 정제...\n",
            "   2단계: 토큰화 및 표제어 추출...\n",
            "   ✅ 전처리 완료!\n"
          ]
        }
      ]
    },
    {
      "cell_type": "code",
      "source": [
        "def analyze_preprocessing_results(original_df, processed_df):\n",
        "    \"\"\"전처리 결과 분석\"\"\"\n",
        "    print(f\"\\n📊 전처리 결과 분석\")\n",
        "    print(\"=\" * 40)\n",
        "\n",
        "    # 기본 통계\n",
        "    original_avg_length = original_df['text'].str.len().mean()\n",
        "    processed_avg_length = processed_df['processed_length'].mean()\n",
        "    original_avg_words = original_df['text'].str.split().str.len().mean()\n",
        "    processed_avg_tokens = processed_df['token_count'].mean()\n",
        "\n",
        "    print(f\"📏 길이 변화:\")\n",
        "    print(f\"   원본 평균 글자 수: {original_avg_length:.0f}\")\n",
        "    print(f\"   처리 후 평균 글자 수: {processed_avg_length:.0f}\")\n",
        "    print(f\"   글자 수 감소율: {(1 - processed_avg_length/original_avg_length)*100:.1f}%\")\n",
        "\n",
        "    print(f\"\\n🔤 토큰 변화:\")\n",
        "    print(f\"   원본 평균 단어 수: {original_avg_words:.0f}\")\n",
        "    print(f\"   처리 후 평균 토큰 수: {processed_avg_tokens:.0f}\")\n",
        "    print(f\"   토큰 수 감소율: {(1 - processed_avg_tokens/original_avg_words)*100:.1f}%\")\n",
        "\n",
        "    # 시각화\n",
        "    fig, axes = plt.subplots(2, 2, figsize=(15, 10))\n",
        "\n",
        "    # 1. 전처리 전후 길이 비교\n",
        "    axes[0, 0].hist(original_df['text'].str.len(), bins=50, alpha=0.7,\n",
        "                   label='전처리 전', color='red')\n",
        "    axes[0, 0].hist(processed_df['processed_length'], bins=50, alpha=0.7,\n",
        "                   label='전처리 후', color='blue')\n",
        "    axes[0, 0].set_title('텍스트 길이 비교')\n",
        "    axes[0, 0].set_xlabel('글자 수')\n",
        "    axes[0, 0].set_ylabel('빈도')\n",
        "    axes[0, 0].legend()\n",
        "\n",
        "    # 2. 토큰 수 분포\n",
        "    axes[0, 1].hist(processed_df['token_count'], bins=50, alpha=0.7, color='green')\n",
        "    axes[0, 1].set_title('전처리 후 토큰 수 분포')\n",
        "    axes[0, 1].set_xlabel('토큰 수')\n",
        "    axes[0, 1].set_ylabel('빈도')\n",
        "    axes[0, 1].axvline(processed_df['token_count'].mean(), color='red',\n",
        "                      linestyle='--', label=f'평균: {processed_df[\"token_count\"].mean():.0f}')\n",
        "    axes[0, 1].legend()\n",
        "\n",
        "    # 3. 감정별 토큰 수 비교\n",
        "    pos_tokens = processed_df[processed_df['label'] == 1]['token_count']\n",
        "    neg_tokens = processed_df[processed_df['label'] == 0]['token_count']\n",
        "\n",
        "    axes[1, 0].boxplot([neg_tokens, pos_tokens],\n",
        "                      labels=['Negative', 'Positive'])\n",
        "    axes[1, 0].set_title('감정별 토큰 수 비교')\n",
        "    axes[1, 0].set_ylabel('토큰 수')\n",
        "\n",
        "    # 4. 전처리 효과 (길이 감소율 분포)\n",
        "    length_reduction = (1 - processed_df['processed_length'] /\n",
        "                       original_df['text'].str.len()) * 100\n",
        "\n",
        "    axes[1, 1].hist(length_reduction, bins=50, alpha=0.7, color='orange')\n",
        "    axes[1, 1].set_title('길이 감소율 분포')\n",
        "    axes[1, 1].set_xlabel('감소율 (%)')\n",
        "    axes[1, 1].set_ylabel('빈도')\n",
        "    axes[1, 1].axvline(length_reduction.mean(), color='red',\n",
        "                      linestyle='--', label=f'평균: {length_reduction.mean():.1f}%')\n",
        "    axes[1, 1].legend()\n",
        "\n",
        "    plt.tight_layout()\n",
        "    plt.show()"
      ],
      "metadata": {
        "id": "TObE-Vgfn0GS"
      },
      "execution_count": 30,
      "outputs": []
    },
    {
      "cell_type": "code",
      "source": [
        "def show_preprocessing_examples(original_df, processed_df, n_examples=3):\n",
        "    \"\"\"전처리 전후 비교 예시\"\"\"\n",
        "    print(f\"\\n📝 전처리 전후 비교 예시\")\n",
        "    print(\"=\" * 60)\n",
        "\n",
        "    for i in range(n_examples):\n",
        "        original_text = original_df.iloc[i]['text']\n",
        "        processed_text = processed_df.iloc[i]['processed_text']\n",
        "        tokens = processed_df.iloc[i]['tokens']\n",
        "\n",
        "        print(f\"\\n📄 예시 {i+1}:\")\n",
        "        print(f\"🔸 원본 (길이: {len(original_text)}자):\")\n",
        "        print(f\"   {original_text[:200]}...\")\n",
        "\n",
        "        print(f\"🔹 전처리 후 (길이: {len(processed_text)}자, 토큰: {len(tokens)}개):\")\n",
        "        print(f\"   {processed_text[:200]}...\")\n",
        "\n",
        "        print(f\"🔸 토큰 (첫 15개):\")\n",
        "        print(f\"   {tokens[:15]}\")"
      ],
      "metadata": {
        "id": "GgFgKc5UtLDl"
      },
      "execution_count": 31,
      "outputs": []
    },
    {
      "cell_type": "code",
      "source": [
        "def analyze_vocabulary_changes(original_df, processed_df):\n",
        "    \"\"\"어휘 변화 분석\"\"\"\n",
        "    print(f\"\\n📚 어휘 변화 분석\")\n",
        "    print(\"=\" * 40)\n",
        "\n",
        "    # 원본 어휘\n",
        "    original_words = []\n",
        "    for text in original_df['text']:\n",
        "        words = text.lower().split()\n",
        "        original_words.extend(words)\n",
        "\n",
        "    # 전처리 후 어휘\n",
        "    processed_words = []\n",
        "    for tokens in processed_df['tokens']:\n",
        "        processed_words.extend(tokens)\n",
        "\n",
        "    original_vocab = set(original_words)\n",
        "    processed_vocab = set(processed_words)\n",
        "\n",
        "    print(f\"📊 어휘 통계:\")\n",
        "    print(f\"   전처리 전 고유 단어 수: {len(original_vocab):,}개\")\n",
        "    print(f\"   전처리 후 고유 단어 수: {len(processed_vocab):,}개\")\n",
        "    print(f\"   어휘 감소율: {(1 - len(processed_vocab)/len(original_vocab))*100:.1f}%\")\n",
        "\n",
        "    # 빈도 분석\n",
        "    original_freq = Counter(original_words)\n",
        "    processed_freq = Counter(processed_words)\n",
        "\n",
        "    print(f\"\\n🔤 가장 빈번한 단어 비교 (Top 10):\")\n",
        "    print(f\"{'전처리 전':<20} {'전처리 후':<20}\")\n",
        "    print(\"-\" * 42)\n",
        "\n",
        "    original_top = original_freq.most_common(10)\n",
        "    processed_top = processed_freq.most_common(10)\n",
        "\n",
        "    for i in range(10):\n",
        "        orig_word, orig_freq = original_top[i]\n",
        "        proc_word, proc_freq = processed_top[i]\n",
        "        print(f\"{orig_word:<15} {orig_freq:>4,}   {proc_word:<15} {proc_freq:>4,}\")"
      ],
      "metadata": {
        "id": "QYwrtBOdtPIe"
      },
      "execution_count": 32,
      "outputs": []
    },
    {
      "cell_type": "code",
      "source": [
        "# 결과 분석\n",
        "analyze_preprocessing_results(train_df, train_processed)\n",
        "\n",
        "# 예시 확인\n",
        "show_preprocessing_examples(train_df, train_processed)\n",
        "\n",
        "# 어휘 변화 분석\n",
        "analyze_vocabulary_changes(train_df, train_processed)"
      ],
      "metadata": {
        "colab": {
          "base_uri": "https://localhost:8080/",
          "height": 1000
        },
        "id": "0Pbqi0TbtTFN",
        "outputId": "74ed609e-1af2-49be-8051-0babb8a5ca97"
      },
      "execution_count": 33,
      "outputs": [
        {
          "output_type": "stream",
          "name": "stdout",
          "text": [
            "\n",
            "📊 전처리 결과 분석\n",
            "========================================\n",
            "📏 길이 변화:\n",
            "   원본 평균 글자 수: 1325\n",
            "   처리 후 평균 글자 수: 716\n",
            "   글자 수 감소율: 45.9%\n",
            "\n",
            "🔤 토큰 변화:\n",
            "   원본 평균 단어 수: 234\n",
            "   처리 후 평균 토큰 수: 102\n",
            "   토큰 수 감소율: 56.3%\n"
          ]
        },
        {
          "output_type": "display_data",
          "data": {
            "text/plain": [
              "<Figure size 1500x1000 with 4 Axes>"
            ],
            "image/png": "[encoded data removed]"
          },
          "metadata": {}
        },
        {
          "output_type": "stream",
          "name": "stdout",
          "text": [
            "\n",
            "📝 전처리 전후 비교 예시\n",
            "============================================================\n",
            "\n",
            "📄 예시 1:\n",
            "🔸 원본 (길이: 1640자):\n",
            "   I rented I AM CURIOUS-YELLOW from my video store because of all the controversy that surrounded it when it was first released in 1967. I also heard that at first it was seized by U.S. customs if it ev...\n",
            "🔹 전처리 후 (길이: 867자, 토큰: 121개):\n",
            "   rented curious yellow video store controversy surrounded released heard seized custom ever tried enter country therefore fan considered controversial centered around young swedish drama student named ...\n",
            "🔸 토큰 (첫 15개):\n",
            "   ['rented', 'curious', 'yellow', 'video', 'store', 'controversy', 'surrounded', 'released', 'heard', 'seized', 'custom', 'ever', 'tried', 'enter', 'country']\n",
            "\n",
            "📄 예시 2:\n",
            "🔸 원본 (길이: 1294자):\n",
            "   \"I Am Curious: Yellow\" is a risible and pretentious steaming pile. It doesn't matter what one's political views are because this film can hardly be taken seriously on any level. As for the claim that ...\n",
            "🔹 전처리 후 (길이: 769자, 토큰: 106개):\n",
            "   curious yellow risible pretentious steaming pile matter political view hardly taken seriously level claim frontal male nudity automatic nc true rated male nudity granted offer fleeting view rated gapi...\n",
            "🔸 토큰 (첫 15개):\n",
            "   ['curious', 'yellow', 'risible', 'pretentious', 'steaming', 'pile', 'matter', 'political', 'view', 'hardly', 'taken', 'seriously', 'level', 'claim', 'frontal']\n",
            "\n",
            "📄 예시 3:\n",
            "🔸 원본 (길이: 528자):\n",
            "   If only to avoid making this type of film in the future. This film is interesting as an experiment but tells no cogent story.<br /><br />One might feel virtuous for sitting thru it because it touches ...\n",
            "🔹 전처리 후 (길이: 272자, 토큰: 38개):\n",
            "   avoid making type future interesting experiment tell cogent might feel virtuous sitting thru touch many important issue without discernable motive viewer come away new perspective unless come mind wan...\n",
            "🔸 토큰 (첫 15개):\n",
            "   ['avoid', 'making', 'type', 'future', 'interesting', 'experiment', 'tell', 'cogent', 'might', 'feel', 'virtuous', 'sitting', 'thru', 'touch', 'many']\n",
            "\n",
            "📚 어휘 변화 분석\n",
            "========================================\n",
            "📊 어휘 통계:\n",
            "   전처리 전 고유 단어 수: 251,637개\n",
            "   전처리 후 고유 단어 수: 65,831개\n",
            "   어휘 감소율: 73.8%\n",
            "\n",
            "🔤 가장 빈번한 단어 비교 (Top 10):\n",
            "전처리 전                전처리 후               \n",
            "------------------------------------------\n",
            "the             322,198   like            20,747\n",
            "a               159,953   people          9,387\n",
            "and             158,572   great           9,091\n",
            "of              144,462   thing           8,217\n",
            "to              133,967   life            8,038\n",
            "is              104,171   think           7,735\n",
            "in              90,527   know            7,068\n",
            "i               70,480   love            6,857\n",
            "this            69,714   many            6,675\n",
            "that            66,292   look            6,561\n"
          ]
        }
      ]
    },
    {
      "cell_type": "markdown",
      "source": [
        "관용어들 제거를 통해 빈번한 단어 순위가 많이 바뀌었다.\n",
        "\n",
        "html 문법도 제거와 문장 길이 조정을 통해 질좋은 데이터가 되었다.\n"
      ],
      "metadata": {
        "id": "8pw8e_G63y-T"
      }
    },
    {
      "cell_type": "code",
      "source": [
        "# 전역 변수로 저장\n",
        "globals()['imdb_train_processed'] = train_processed\n",
        "globals()['imdb_test_processed'] = test_processed"
      ],
      "metadata": {
        "id": "4AFjD_3S9Tcr"
      },
      "execution_count": 34,
      "outputs": []
    },
    {
      "cell_type": "markdown",
      "source": [
        "# 딥러닝 초게 세팅 및 데이터 추가 확인"
      ],
      "metadata": {
        "id": "sGJkFVVY7QI9"
      }
    },
    {
      "cell_type": "code",
      "source": [
        "from sklearn.metrics import accuracy_score, f1_score, classification_report, confusion_matrix\n",
        "# PyTorch\n",
        "import torch\n",
        "import torch.nn as nn\n",
        "import torch.optim as optim\n",
        "from torch.utils.data import Dataset, DataLoader\n",
        "import torch.nn.functional as F\n",
        "# 텍스트 전처리 (Keras 토크나이저 사용 - 간편함)\n",
        "from tensorflow.keras.preprocessing.text import Tokenizer\n",
        "from tensorflow.keras.preprocessing.sequence import pad_sequences\n",
        "\n",
        "import time\n",
        "from tqdm import tqdm"
      ],
      "metadata": {
        "id": "X5sagd9C7cWA"
      },
      "execution_count": 55,
      "outputs": []
    },
    {
      "cell_type": "code",
      "source": [
        "print(\"🔥 IMDB 감정분석 - PyTorch RNN 모델\")\n",
        "print(\"=\" * 50)\n",
        "print(f\"PyTorch 버전: {torch.__version__}\")\n",
        "\n",
        "# GPU 설정\n",
        "device = torch.device('cuda' if torch.cuda.is_available() else 'cpu')\n",
        "print(f\"사용 디바이스: {device}\")\n",
        "\n",
        "if torch.cuda.is_available():\n",
        "    print(f\"GPU: {torch.cuda.get_device_name(0)}\")\n",
        "    print(f\"GPU 메모리: {torch.cuda.get_device_properties(0).total_memory / 1024**3:.1f}GB\")"
      ],
      "metadata": {
        "colab": {
          "base_uri": "https://localhost:8080/"
        },
        "id": "-7s2JJ2j73HB",
        "outputId": "3c8f0219-eefc-4967-c133-b3fb84f1683e"
      },
      "execution_count": 36,
      "outputs": [
        {
          "output_type": "stream",
          "name": "stdout",
          "text": [
            "🔥 IMDB 감정분석 - PyTorch RNN 모델\n",
            "==================================================\n",
            "PyTorch 버전: 2.6.0+cu124\n",
            "사용 디바이스: cuda\n",
            "GPU: Tesla T4\n",
            "GPU 메모리: 14.7GB\n"
          ]
        }
      ]
    },
    {
      "cell_type": "code",
      "source": [
        "try:\n",
        "    train_df = train_processed.copy()\n",
        "    test_df = test_processed.copy()\n",
        "    print(f\"✅ 전처리된 데이터 로드 완료\")\n",
        "    print(f\"   훈련 데이터: {len(train_df):,}개\")\n",
        "    print(f\"   테스트 데이터: {len(test_df):,}개\")\n",
        "\n",
        "    # 빈 텍스트 제거\n",
        "    train_df = train_df[train_df['processed_text'].str.strip() != '']\n",
        "    test_df = test_df[test_df['processed_text'].str.strip() != '']\n",
        "\n",
        "    print(f\"✅ 정제 후 데이터:\")\n",
        "    print(f\"   훈련 데이터: {len(train_df):,}개\")\n",
        "    print(f\"   테스트 데이터: {len(test_df):,}개\")\n",
        "\n",
        "    # 샘플 확인\n",
        "    print(f\"\\n📝 샘플 데이터:\")\n",
        "    for i in range(2):\n",
        "        text = train_df.iloc[i]['processed_text']\n",
        "        label = train_df.iloc[i]['label']\n",
        "        sentiment = \"Positive\" if label == 1 else \"Negative\"\n",
        "        print(f\"   {i+1}. {text[:80]}... → {sentiment}\")\n",
        "\n",
        "except NameError:\n",
        "    print(\"❌ Step 2를 먼저 실행하여 전처리된 데이터를 준비하세요.\")"
      ],
      "metadata": {
        "colab": {
          "base_uri": "https://localhost:8080/"
        },
        "id": "ofQymqi_8BeT",
        "outputId": "2c9c337b-672d-4e37-a62c-815d26d4c382"
      },
      "execution_count": 37,
      "outputs": [
        {
          "output_type": "stream",
          "name": "stdout",
          "text": [
            "✅ 전처리된 데이터 로드 완료\n",
            "   훈련 데이터: 25,000개\n",
            "   테스트 데이터: 25,000개\n",
            "✅ 정제 후 데이터:\n",
            "   훈련 데이터: 25,000개\n",
            "   테스트 데이터: 25,000개\n",
            "\n",
            "📝 샘플 데이터:\n",
            "   1. rented curious yellow video store controversy surrounded released heard seized c... → Negative\n",
            "   2. curious yellow risible pretentious steaming pile matter political view hardly ta... → Negative\n"
          ]
        }
      ]
    },
    {
      "cell_type": "markdown",
      "source": [
        "# 텍스트 시퀀스화"
      ],
      "metadata": {
        "id": "0HBh6rDF-hQS"
      }
    },
    {
      "cell_type": "code",
      "source": [
        "print(\"\\n📊 텍스트 시퀀스화\")\n",
        "print(\"=\" * 40)\n",
        "\n",
        "# 하이퍼파라미터 설정\n",
        "MAX_VOCAB_SIZE = 10000     # 최대 어휘 사전 크기\n",
        "MAX_SEQUENCE_LENGTH = 200  # 최대 시퀀스 길이\n",
        "EMBEDDING_DIM = 128        # 임베딩 차원\n",
        "\n",
        "print(f\"🔧 설정:\")\n",
        "print(f\"   최대 어휘 사전 크기: {MAX_VOCAB_SIZE:,}\")\n",
        "print(f\"   최대 시퀀스 길이: {MAX_SEQUENCE_LENGTH}\")\n",
        "print(f\"   임베딩 차원: {EMBEDDING_DIM}\")\n",
        "\n",
        "# 텍스트 데이터 준비\n",
        "train_texts = train_df['processed_text'].tolist()\n",
        "test_texts = test_df['processed_text'].tolist()\n",
        "y_train = train_df['label'].values\n",
        "y_test = test_df['label'].values\n",
        "\n",
        "print(f\"\\n🔄 토큰화 중...\")\n",
        "\n",
        "# 토크나이저 초기화 및 학습\n",
        "tokenizer = Tokenizer(\n",
        "    num_words=MAX_VOCAB_SIZE,\n",
        "    oov_token='<OOV>',\n",
        "    filters='!\"#$%&()*+,-./:;<=>?@[\\\\]^_`{|}~\\t\\n'\n",
        ")\n",
        "\n",
        "tokenizer.fit_on_texts(train_texts)\n",
        "\n",
        "# 텍스트를 시퀀스로 변환\n",
        "train_sequences = tokenizer.texts_to_sequences(train_texts)\n",
        "test_sequences = tokenizer.texts_to_sequences(test_texts)\n",
        "\n",
        "# 패딩 (모든 시퀀스를 같은 길이로)\n",
        "X_train = pad_sequences(train_sequences, maxlen=MAX_SEQUENCE_LENGTH, padding='post')\n",
        "X_test = pad_sequences(test_sequences, maxlen=MAX_SEQUENCE_LENGTH, padding='post')\n",
        "\n",
        "# 실제 어휘 사전 크기\n",
        "vocab_size = min(len(tokenizer.word_index) + 1, MAX_VOCAB_SIZE)\n",
        "\n",
        "print(f\"✅ 시퀀스화 완료!\")\n",
        "print(f\"   실제 어휘 사전 크기: {vocab_size:,}\")\n",
        "print(f\"   훈련 데이터 크기: {X_train.shape}\")\n",
        "print(f\"   테스트 데이터 크기: {X_test.shape}\")\n",
        "\n",
        "# PyTorch 텐서로 변환\n",
        "X_train_tensor = torch.LongTensor(X_train)\n",
        "X_test_tensor = torch.LongTensor(X_test)\n",
        "y_train_tensor = torch.FloatTensor(y_train)\n",
        "y_test_tensor = torch.FloatTensor(y_test)\n",
        "\n",
        "print(f\"✅ PyTorch 텐서 변환 완료!\")"
      ],
      "metadata": {
        "colab": {
          "base_uri": "https://localhost:8080/"
        },
        "id": "3aL3pUHv9N0b",
        "outputId": "34d0e16d-601b-43b3-efac-2bc23b60b378"
      },
      "execution_count": 38,
      "outputs": [
        {
          "output_type": "stream",
          "name": "stdout",
          "text": [
            "\n",
            "📊 텍스트 시퀀스화\n",
            "========================================\n",
            "🔧 설정:\n",
            "   최대 어휘 사전 크기: 10,000\n",
            "   최대 시퀀스 길이: 200\n",
            "   임베딩 차원: 128\n",
            "\n",
            "🔄 토큰화 중...\n",
            "✅ 시퀀스화 완료!\n",
            "   실제 어휘 사전 크기: 10,000\n",
            "   훈련 데이터 크기: (25000, 200)\n",
            "   테스트 데이터 크기: (25000, 200)\n",
            "✅ PyTorch 텐서 변환 완료!\n"
          ]
        }
      ]
    },
    {
      "cell_type": "markdown",
      "source": [
        "# 데이터셋 및 데이터로더 생성"
      ],
      "metadata": {
        "id": "U4jz6_4K-s52"
      }
    },
    {
      "cell_type": "code",
      "source": [
        "print(\"\\n📦 Dataset 및 DataLoader 생성\")\n",
        "print(\"=\" * 40)\n",
        "\n",
        "class IMDBDataset(Dataset):\n",
        "    \"\"\"IMDB 데이터셋 클래스\"\"\"\n",
        "    def __init__(self, sequences, labels):\n",
        "        self.sequences = sequences\n",
        "        self.labels = labels\n",
        "\n",
        "    def __len__(self):\n",
        "        return len(self.sequences)\n",
        "\n",
        "    def __getitem__(self, idx):\n",
        "        return self.sequences[idx], self.labels[idx]\n",
        "\n",
        "# 데이터셋 생성\n",
        "train_dataset = IMDBDataset(X_train_tensor, y_train_tensor)\n",
        "test_dataset = IMDBDataset(X_test_tensor, y_test_tensor)\n",
        "\n",
        "# 검증 데이터 분할 (훈련 데이터의 20%)\n",
        "train_size = int(0.8 * len(train_dataset))\n",
        "val_size = len(train_dataset) - train_size\n",
        "train_dataset, val_dataset = torch.utils.data.random_split(train_dataset, [train_size, val_size])\n",
        "\n",
        "print(f\"📊 데이터 분할:\")\n",
        "print(f\"   훈련: {len(train_dataset):,}개\")\n",
        "print(f\"   검증: {len(val_dataset):,}개\")\n",
        "print(f\"   테스트: {len(test_dataset):,}개\")\n",
        "\n",
        "# DataLoader 생성\n",
        "BATCH_SIZE = 128\n",
        "\n",
        "train_loader = DataLoader(train_dataset, batch_size=BATCH_SIZE, shuffle=True)\n",
        "val_loader = DataLoader(val_dataset, batch_size=BATCH_SIZE, shuffle=False)\n",
        "test_loader = DataLoader(test_dataset, batch_size=BATCH_SIZE, shuffle=False)\n",
        "\n",
        "print(f\"✅ DataLoader 생성 완료! (배치 크기: {BATCH_SIZE})\")"
      ],
      "metadata": {
        "colab": {
          "base_uri": "https://localhost:8080/"
        },
        "id": "HRylrJrd-mh7",
        "outputId": "2a103b17-75ca-4dbf-b90e-7ca5018f1689"
      },
      "execution_count": 39,
      "outputs": [
        {
          "output_type": "stream",
          "name": "stdout",
          "text": [
            "\n",
            "📦 Dataset 및 DataLoader 생성\n",
            "========================================\n",
            "📊 데이터 분할:\n",
            "   훈련: 20,000개\n",
            "   검증: 5,000개\n",
            "   테스트: 25,000개\n",
            "✅ DataLoader 생성 완료! (배치 크기: 128)\n"
          ]
        }
      ]
    },
    {
      "cell_type": "markdown",
      "source": [
        "# LSTM 모델링"
      ],
      "metadata": {
        "id": "bmdLY-j7-333"
      }
    },
    {
      "cell_type": "code",
      "source": [
        "print(\"\\n🏗️ LSTM 모델 정의\")\n",
        "print(\"=\" * 30)\n",
        "\n",
        "class LSTMModel(nn.Module):\n",
        "    def __init__(self, vocab_size, embedding_dim, hidden_dim, output_dim, n_layers=2, dropout=0.2):\n",
        "        super(LSTMModel, self).__init__()\n",
        "\n",
        "        self.embedding = nn.Embedding(vocab_size, embedding_dim)\n",
        "        self.lstm = nn.LSTM(embedding_dim, hidden_dim, num_layers=n_layers,\n",
        "                           dropout=dropout, batch_first=True)\n",
        "        self.dropout = nn.Dropout(dropout)\n",
        "        self.fc1 = nn.Linear(hidden_dim, 64)\n",
        "        self.fc2 = nn.Linear(64, output_dim)\n",
        "        self.sigmoid = nn.Sigmoid()\n",
        "\n",
        "    def forward(self, x):\n",
        "        # 임베딩\n",
        "        embedded = self.embedding(x)\n",
        "\n",
        "        # LSTM\n",
        "        lstm_out, (hidden, cell) = self.lstm(embedded)\n",
        "\n",
        "        # 마지막 hidden state 사용\n",
        "        output = self.dropout(hidden[-1])\n",
        "        output = F.relu(self.fc1(output))\n",
        "        output = self.dropout(output)\n",
        "        output = self.fc2(output)\n",
        "        output = self.sigmoid(output)\n",
        "\n",
        "        return output.squeeze()\n",
        "\n",
        "# LSTM 모델 생성\n",
        "lstm_model = LSTMModel(\n",
        "    vocab_size=vocab_size,\n",
        "    embedding_dim=EMBEDDING_DIM,\n",
        "    hidden_dim=128,\n",
        "    output_dim=1,\n",
        "    n_layers=2,\n",
        "    dropout=0.2\n",
        ").to(device)\n",
        "\n",
        "# 모델 정보 출력\n",
        "total_params = sum(p.numel() for p in lstm_model.parameters())\n",
        "trainable_params = sum(p.numel() for p in lstm_model.parameters() if p.requires_grad)\n",
        "\n",
        "print(f\"🔧 LSTM 모델:\")\n",
        "print(f\"   총 파라미터: {total_params:,}\")\n",
        "print(f\"   학습 가능 파라미터: {trainable_params:,}\")\n",
        "print(f\"   모델 구조:\")\n",
        "print(lstm_model)"
      ],
      "metadata": {
        "colab": {
          "base_uri": "https://localhost:8080/"
        },
        "id": "LgaDO8pX-quD",
        "outputId": "ae5a7475-4b57-4ba5-e9e8-ba1ccbdb3d2f"
      },
      "execution_count": 40,
      "outputs": [
        {
          "output_type": "stream",
          "name": "stdout",
          "text": [
            "\n",
            "🏗️ LSTM 모델 정의\n",
            "==============================\n",
            "🔧 LSTM 모델:\n",
            "   총 파라미터: 1,552,513\n",
            "   학습 가능 파라미터: 1,552,513\n",
            "   모델 구조:\n",
            "LSTMModel(\n",
            "  (embedding): Embedding(10000, 128)\n",
            "  (lstm): LSTM(128, 128, num_layers=2, batch_first=True, dropout=0.2)\n",
            "  (dropout): Dropout(p=0.2, inplace=False)\n",
            "  (fc1): Linear(in_features=128, out_features=64, bias=True)\n",
            "  (fc2): Linear(in_features=64, out_features=1, bias=True)\n",
            "  (sigmoid): Sigmoid()\n",
            ")\n"
          ]
        }
      ]
    },
    {
      "cell_type": "markdown",
      "source": [
        "# GRU 모델링"
      ],
      "metadata": {
        "id": "cNS8gdPD-_TO"
      }
    },
    {
      "cell_type": "code",
      "source": [
        "print(\"\\n🏗️ GRU 모델 정의\")\n",
        "print(\"=\" * 25)\n",
        "\n",
        "class GRUModel(nn.Module):\n",
        "    def __init__(self, vocab_size, embedding_dim, hidden_dim, output_dim, n_layers=2, dropout=0.2):\n",
        "        super(GRUModel, self).__init__()\n",
        "\n",
        "        self.embedding = nn.Embedding(vocab_size, embedding_dim)\n",
        "        self.gru = nn.GRU(embedding_dim, hidden_dim, num_layers=n_layers,\n",
        "                         dropout=dropout, batch_first=True)\n",
        "        self.dropout = nn.Dropout(dropout)\n",
        "        self.fc1 = nn.Linear(hidden_dim, 64)\n",
        "        self.fc2 = nn.Linear(64, output_dim)\n",
        "        self.sigmoid = nn.Sigmoid()\n",
        "\n",
        "    def forward(self, x):\n",
        "        # 임베딩\n",
        "        embedded = self.embedding(x)\n",
        "\n",
        "        # GRU\n",
        "        gru_out, hidden = self.gru(embedded)\n",
        "\n",
        "        # 마지막 hidden state 사용\n",
        "        output = self.dropout(hidden[-1])\n",
        "        output = F.relu(self.fc1(output))\n",
        "        output = self.dropout(output)\n",
        "        output = self.fc2(output)\n",
        "        output = self.sigmoid(output)\n",
        "\n",
        "        return output.squeeze()\n",
        "\n",
        "# GRU 모델 생성\n",
        "gru_model = GRUModel(\n",
        "    vocab_size=vocab_size,\n",
        "    embedding_dim=EMBEDDING_DIM,\n",
        "    hidden_dim=128,\n",
        "    output_dim=1,\n",
        "    n_layers=2,\n",
        "    dropout=0.2\n",
        ").to(device)\n",
        "\n",
        "total_params = sum(p.numel() for p in gru_model.parameters())\n",
        "print(f\"🔧 GRU 모델:\")\n",
        "print(f\"   총 파라미터: {total_params:,}\")\n",
        "print(f\"   모델 구조:\")\n",
        "print(gru_model)"
      ],
      "metadata": {
        "colab": {
          "base_uri": "https://localhost:8080/"
        },
        "id": "8YCLtnSb-8nX",
        "outputId": "82405e6f-31bf-4598-8451-d31842350ba1"
      },
      "execution_count": 45,
      "outputs": [
        {
          "output_type": "stream",
          "name": "stdout",
          "text": [
            "\n",
            "🏗️ GRU 모델 정의\n",
            "=========================\n",
            "🔧 GRU 모델:\n",
            "   총 파라미터: 1,486,465\n",
            "   모델 구조:\n",
            "GRUModel(\n",
            "  (embedding): Embedding(10000, 128)\n",
            "  (gru): GRU(128, 128, num_layers=2, batch_first=True, dropout=0.2)\n",
            "  (dropout): Dropout(p=0.2, inplace=False)\n",
            "  (fc1): Linear(in_features=128, out_features=64, bias=True)\n",
            "  (fc2): Linear(in_features=64, out_features=1, bias=True)\n",
            "  (sigmoid): Sigmoid()\n",
            ")\n"
          ]
        }
      ]
    },
    {
      "cell_type": "markdown",
      "source": [
        "# 양방향 LSTM 모델링"
      ],
      "metadata": {
        "id": "FRFmGcbB_Gji"
      }
    },
    {
      "cell_type": "code",
      "source": [
        "print(\"\\n🏗️ 양방향 LSTM 모델 정의\")\n",
        "print(\"=\" * 40)\n",
        "\n",
        "class BiLSTMModel(nn.Module):\n",
        "    def __init__(self, vocab_size, embedding_dim, hidden_dim, output_dim, n_layers=2, dropout=0.2):\n",
        "        super(BiLSTMModel, self).__init__()\n",
        "\n",
        "        self.embedding = nn.Embedding(vocab_size, embedding_dim)\n",
        "        self.bilstm = nn.LSTM(embedding_dim, hidden_dim, num_layers=n_layers,\n",
        "                             dropout=dropout, batch_first=True, bidirectional=True)\n",
        "        self.dropout = nn.Dropout(dropout)\n",
        "        # 양방향이므로 hidden_dim * 2\n",
        "        self.fc1 = nn.Linear(hidden_dim * 2, 64)\n",
        "        self.fc2 = nn.Linear(64, output_dim)\n",
        "        self.sigmoid = nn.Sigmoid()\n",
        "\n",
        "    def forward(self, x):\n",
        "        # 임베딩\n",
        "        embedded = self.embedding(x)\n",
        "\n",
        "        # 양방향 LSTM\n",
        "        bilstm_out, (hidden, cell) = self.bilstm(embedded)\n",
        "\n",
        "        # 양방향의 마지막 hidden state 연결\n",
        "        # forward와 backward의 마지막 hidden state를 concatenate\n",
        "        hidden = torch.cat((hidden[-2], hidden[-1]), dim=1)\n",
        "\n",
        "        output = self.dropout(hidden)\n",
        "        output = F.relu(self.fc1(output))\n",
        "        output = self.dropout(output)\n",
        "        output = self.fc2(output)\n",
        "        output = self.sigmoid(output)\n",
        "\n",
        "        return output.squeeze()\n",
        "\n",
        "# 양방향 LSTM 모델 생성\n",
        "bilstm_model = BiLSTMModel(\n",
        "    vocab_size=vocab_size,\n",
        "    embedding_dim=EMBEDDING_DIM,\n",
        "    hidden_dim=64,  # 양방향이므로 절반 크기 사용\n",
        "    output_dim=1,\n",
        "    n_layers=2,\n",
        "    dropout=0.2\n",
        ").to(device)\n",
        "\n",
        "total_params = sum(p.numel() for p in bilstm_model.parameters())\n",
        "print(f\"🔧 양방향 LSTM 모델:\")\n",
        "print(f\"   총 파라미터: {total_params:,}\")\n",
        "print(f\"   모델 구조:\")\n",
        "print(bilstm_model)"
      ],
      "metadata": {
        "colab": {
          "base_uri": "https://localhost:8080/"
        },
        "id": "eilmw1o__KHg",
        "outputId": "d4f7ef94-b92f-4f96-872c-16726f5ec676"
      },
      "execution_count": 41,
      "outputs": [
        {
          "output_type": "stream",
          "name": "stdout",
          "text": [
            "\n",
            "🏗️ 양방향 LSTM 모델 정의\n",
            "========================================\n",
            "🔧 양방향 LSTM 모델:\n",
            "   총 파라미터: 1,486,977\n",
            "   모델 구조:\n",
            "BiLSTMModel(\n",
            "  (embedding): Embedding(10000, 128)\n",
            "  (bilstm): LSTM(128, 64, num_layers=2, batch_first=True, dropout=0.2, bidirectional=True)\n",
            "  (dropout): Dropout(p=0.2, inplace=False)\n",
            "  (fc1): Linear(in_features=128, out_features=64, bias=True)\n",
            "  (fc2): Linear(in_features=64, out_features=1, bias=True)\n",
            "  (sigmoid): Sigmoid()\n",
            ")\n"
          ]
        }
      ]
    },
    {
      "cell_type": "markdown",
      "source": [
        "# 학습 및 평가"
      ],
      "metadata": {
        "id": "Pci5S08S_PKF"
      }
    },
    {
      "cell_type": "code",
      "source": [
        "print(\"\\n⚙️ 학습 및 평가 함수 정의\")\n",
        "print(\"=\" * 40)\n",
        "\n",
        "def train_model(model, train_loader, val_loader, epochs=10, lr=0.001):\n",
        "    \"\"\"모델 학습 함수\"\"\"\n",
        "    criterion = nn.BCELoss()\n",
        "    optimizer = optim.Adam(model.parameters(), lr=lr)\n",
        "    scheduler = optim.lr_scheduler.ReduceLROnPlateau(optimizer, patience=2, factor=0.5, verbose=True)\n",
        "\n",
        "    train_losses = []\n",
        "    train_accs = []\n",
        "    val_losses = []\n",
        "    val_accs = []\n",
        "\n",
        "    best_val_acc = 0\n",
        "    best_model_state = None\n",
        "\n",
        "    for epoch in range(epochs):\n",
        "        # 훈련 모드\n",
        "        model.train()\n",
        "        train_loss = 0\n",
        "        train_correct = 0\n",
        "        train_total = 0\n",
        "\n",
        "        train_pbar = tqdm(train_loader, desc=f'Epoch {epoch+1}/{epochs} [Train]')\n",
        "        for batch_x, batch_y in train_pbar:\n",
        "            batch_x, batch_y = batch_x.to(device), batch_y.to(device)\n",
        "\n",
        "            optimizer.zero_grad()\n",
        "            outputs = model(batch_x)\n",
        "            loss = criterion(outputs, batch_y)\n",
        "            loss.backward()\n",
        "            optimizer.step()\n",
        "\n",
        "            train_loss += loss.item()\n",
        "            predicted = (outputs > 0.5).float()\n",
        "            train_total += batch_y.size(0)\n",
        "            train_correct += (predicted == batch_y).sum().item()\n",
        "\n",
        "            train_pbar.set_postfix({\n",
        "                'Loss': f'{loss.item():.4f}',\n",
        "                'Acc': f'{100 * train_correct / train_total:.2f}%'\n",
        "            })\n",
        "\n",
        "        # 검증 모드\n",
        "        model.eval()\n",
        "        val_loss = 0\n",
        "        val_correct = 0\n",
        "        val_total = 0\n",
        "\n",
        "        with torch.no_grad():\n",
        "            for batch_x, batch_y in val_loader:\n",
        "                batch_x, batch_y = batch_x.to(device), batch_y.to(device)\n",
        "                outputs = model(batch_x)\n",
        "                loss = criterion(outputs, batch_y)\n",
        "\n",
        "                val_loss += loss.item()\n",
        "                predicted = (outputs > 0.5).float()\n",
        "                val_total += batch_y.size(0)\n",
        "                val_correct += (predicted == batch_y).sum().item()\n",
        "\n",
        "        # 평균 계산\n",
        "        train_loss /= len(train_loader)\n",
        "        val_loss /= len(val_loader)\n",
        "        train_acc = 100 * train_correct / train_total\n",
        "        val_acc = 100 * val_correct / val_total\n",
        "\n",
        "        # 기록\n",
        "        train_losses.append(train_loss)\n",
        "        train_accs.append(train_acc)\n",
        "        val_losses.append(val_loss)\n",
        "        val_accs.append(val_acc)\n",
        "\n",
        "        # 최고 성능 모델 저장\n",
        "        if val_acc > best_val_acc:\n",
        "            best_val_acc = val_acc\n",
        "            best_model_state = model.state_dict().copy()\n",
        "\n",
        "        # 스케줄러 업데이트\n",
        "        scheduler.step(val_loss)\n",
        "\n",
        "        print(f'Epoch {epoch+1}: Train Loss: {train_loss:.4f}, Train Acc: {train_acc:.2f}%, '\n",
        "              f'Val Loss: {val_loss:.4f}, Val Acc: {val_acc:.2f}%')\n",
        "\n",
        "    # 최고 성능 모델 복원\n",
        "    model.load_state_dict(best_model_state)\n",
        "\n",
        "    return {\n",
        "        'train_losses': train_losses,\n",
        "        'train_accs': train_accs,\n",
        "        'val_losses': val_losses,\n",
        "        'val_accs': val_accs,\n",
        "        'best_val_acc': best_val_acc\n",
        "    }\n",
        "\n",
        "def evaluate_model(model, test_loader):\n",
        "    \"\"\"모델 평가 함수\"\"\"\n",
        "    model.eval()\n",
        "    all_predictions = []\n",
        "    all_probabilities = []\n",
        "    all_labels = []\n",
        "\n",
        "    with torch.no_grad():\n",
        "        for batch_x, batch_y in tqdm(test_loader, desc='Testing'):\n",
        "            batch_x, batch_y = batch_x.to(device), batch_y.to(device)\n",
        "            outputs = model(batch_x)\n",
        "\n",
        "            all_probabilities.extend(outputs.cpu().numpy())\n",
        "            all_predictions.extend((outputs > 0.5).cpu().numpy())\n",
        "            all_labels.extend(batch_y.cpu().numpy())\n",
        "\n",
        "    accuracy = accuracy_score(all_labels, all_predictions)\n",
        "    f1 = f1_score(all_labels, all_predictions)\n",
        "\n",
        "    return {\n",
        "        'accuracy': accuracy,\n",
        "        'predictions': np.array(all_predictions),\n",
        "        'probabilities': np.array(all_probabilities),\n",
        "        'labels': np.array(all_labels)\n",
        "    }\n",
        "\n",
        "print(\"✅ 학습 및 평가 함수 정의 완료!\")"
      ],
      "metadata": {
        "colab": {
          "base_uri": "https://localhost:8080/"
        },
        "id": "KXc4TRFB_KvN",
        "outputId": "fdcff85a-6924-47ae-d1ad-027f324dd098"
      },
      "execution_count": 42,
      "outputs": [
        {
          "output_type": "stream",
          "name": "stdout",
          "text": [
            "\n",
            "⚙️ 학습 및 평가 함수 정의\n",
            "========================================\n",
            "✅ 학습 및 평가 함수 정의 완료!\n"
          ]
        }
      ]
    },
    {
      "cell_type": "markdown",
      "source": [
        "# 모델학습"
      ],
      "metadata": {
        "id": "ydqhhBRI_UKC"
      }
    },
    {
      "cell_type": "markdown",
      "source": [
        "## LSTM"
      ],
      "metadata": {
        "id": "ZUYw00nh_VqM"
      }
    },
    {
      "cell_type": "code",
      "source": [
        "print(\"\\n🚀 LSTM 모델 학습\")\n",
        "print(\"=\" * 30)\n",
        "\n",
        "start_time = time.time()\n",
        "\n",
        "lstm_history = train_model(\n",
        "    model=lstm_model,\n",
        "    train_loader=train_loader,\n",
        "    val_loader=val_loader,\n",
        "    epochs=10,\n",
        "    lr=0.001\n",
        ")\n",
        "\n",
        "lstm_training_time = time.time() - start_time\n",
        "\n",
        "print(f\"\\n✅ LSTM 학습 완료! ({lstm_training_time:.2f}초)\")\n",
        "print(f\"   최고 검증 정확도: {lstm_history['best_val_acc']:.2f}%\")\n",
        "\n",
        "# LSTM 테스트 평가\n",
        "print(\"🔮 LSTM 테스트 평가 중...\")\n",
        "lstm_results = evaluate_model(lstm_model, test_loader)\n",
        "print(f\"📊 LSTM 테스트 정확도: {lstm_results['accuracy']:.4f}\")"
      ],
      "metadata": {
        "colab": {
          "base_uri": "https://localhost:8080/"
        },
        "id": "rASqIX6E_Rcv",
        "outputId": "b86c76a8-f6c9-479f-b107-9e15286a9c8c"
      },
      "execution_count": 43,
      "outputs": [
        {
          "output_type": "stream",
          "name": "stdout",
          "text": [
            "\n",
            "🚀 LSTM 모델 학습\n",
            "==============================\n"
          ]
        },
        {
          "output_type": "stream",
          "name": "stderr",
          "text": [
            "Epoch 1/10 [Train]: 100%|██████████| 157/157 [00:04<00:00, 33.32it/s, Loss=0.6903, Acc=50.05%]\n"
          ]
        },
        {
          "output_type": "stream",
          "name": "stdout",
          "text": [
            "Epoch 1: Train Loss: 0.6928, Train Acc: 50.05%, Val Loss: 0.6909, Val Acc: 52.06%\n"
          ]
        },
        {
          "output_type": "stream",
          "name": "stderr",
          "text": [
            "Epoch 2/10 [Train]: 100%|██████████| 157/157 [00:03<00:00, 44.24it/s, Loss=0.6398, Acc=52.06%]\n"
          ]
        },
        {
          "output_type": "stream",
          "name": "stdout",
          "text": [
            "Epoch 2: Train Loss: 0.6866, Train Acc: 52.06%, Val Loss: 0.6879, Val Acc: 52.84%\n"
          ]
        },
        {
          "output_type": "stream",
          "name": "stderr",
          "text": [
            "Epoch 3/10 [Train]: 100%|██████████| 157/157 [00:03<00:00, 44.91it/s, Loss=0.7503, Acc=53.12%]\n"
          ]
        },
        {
          "output_type": "stream",
          "name": "stdout",
          "text": [
            "Epoch 3: Train Loss: 0.6694, Train Acc: 53.12%, Val Loss: 0.6899, Val Acc: 53.58%\n"
          ]
        },
        {
          "output_type": "stream",
          "name": "stderr",
          "text": [
            "Epoch 4/10 [Train]: 100%|██████████| 157/157 [00:03<00:00, 44.96it/s, Loss=0.5931, Acc=55.05%]\n"
          ]
        },
        {
          "output_type": "stream",
          "name": "stdout",
          "text": [
            "Epoch 4: Train Loss: 0.6446, Train Acc: 55.05%, Val Loss: 0.6973, Val Acc: 53.28%\n"
          ]
        },
        {
          "output_type": "stream",
          "name": "stderr",
          "text": [
            "Epoch 5/10 [Train]: 100%|██████████| 157/157 [00:03<00:00, 44.31it/s, Loss=0.4325, Acc=66.72%]\n"
          ]
        },
        {
          "output_type": "stream",
          "name": "stdout",
          "text": [
            "Epoch 5: Train Loss: 0.5781, Train Acc: 66.72%, Val Loss: 0.5494, Val Acc: 74.32%\n"
          ]
        },
        {
          "output_type": "stream",
          "name": "stderr",
          "text": [
            "Epoch 6/10 [Train]: 100%|██████████| 157/157 [00:03<00:00, 42.45it/s, Loss=0.3151, Acc=82.03%]\n"
          ]
        },
        {
          "output_type": "stream",
          "name": "stdout",
          "text": [
            "Epoch 6: Train Loss: 0.4206, Train Acc: 82.03%, Val Loss: 0.4517, Val Acc: 80.86%\n"
          ]
        },
        {
          "output_type": "stream",
          "name": "stderr",
          "text": [
            "Epoch 7/10 [Train]: 100%|██████████| 157/157 [00:03<00:00, 42.51it/s, Loss=0.2632, Acc=86.94%]\n"
          ]
        },
        {
          "output_type": "stream",
          "name": "stdout",
          "text": [
            "Epoch 7: Train Loss: 0.3192, Train Acc: 86.94%, Val Loss: 0.4136, Val Acc: 83.02%\n"
          ]
        },
        {
          "output_type": "stream",
          "name": "stderr",
          "text": [
            "Epoch 8/10 [Train]: 100%|██████████| 157/157 [00:03<00:00, 41.09it/s, Loss=0.3715, Acc=90.33%]\n"
          ]
        },
        {
          "output_type": "stream",
          "name": "stdout",
          "text": [
            "Epoch 8: Train Loss: 0.2556, Train Acc: 90.33%, Val Loss: 0.4221, Val Acc: 84.40%\n"
          ]
        },
        {
          "output_type": "stream",
          "name": "stderr",
          "text": [
            "Epoch 9/10 [Train]: 100%|██████████| 157/157 [00:03<00:00, 43.43it/s, Loss=0.2560, Acc=92.72%]\n"
          ]
        },
        {
          "output_type": "stream",
          "name": "stdout",
          "text": [
            "Epoch 9: Train Loss: 0.1999, Train Acc: 92.72%, Val Loss: 0.4438, Val Acc: 84.58%\n"
          ]
        },
        {
          "output_type": "stream",
          "name": "stderr",
          "text": [
            "Epoch 10/10 [Train]: 100%|██████████| 157/157 [00:03<00:00, 43.83it/s, Loss=0.1526, Acc=94.52%]\n"
          ]
        },
        {
          "output_type": "stream",
          "name": "stdout",
          "text": [
            "Epoch 10: Train Loss: 0.1623, Train Acc: 94.52%, Val Loss: 0.4776, Val Acc: 84.60%\n",
            "\n",
            "✅ LSTM 학습 완료! (46.26초)\n",
            "   최고 검증 정확도: 84.60%\n",
            "🔮 LSTM 테스트 평가 중...\n"
          ]
        },
        {
          "output_type": "stream",
          "name": "stderr",
          "text": [
            "Testing: 100%|██████████| 196/196 [00:01<00:00, 113.40it/s]"
          ]
        },
        {
          "output_type": "stream",
          "name": "stdout",
          "text": [
            "📊 LSTM 테스트 정확도: 0.8412\n"
          ]
        },
        {
          "output_type": "stream",
          "name": "stderr",
          "text": [
            "\n"
          ]
        }
      ]
    },
    {
      "cell_type": "markdown",
      "source": [
        "## GRU"
      ],
      "metadata": {
        "id": "ssigkS4V_et7"
      }
    },
    {
      "cell_type": "code",
      "source": [
        "print(\"\\n🚀 GRU 모델 학습\")\n",
        "print(\"=\" * 25)\n",
        "\n",
        "start_time = time.time()\n",
        "\n",
        "gru_history = train_model(\n",
        "    model=gru_model,\n",
        "    train_loader=train_loader,\n",
        "    val_loader=val_loader,\n",
        "    epochs=10,\n",
        "    lr=0.001\n",
        ")\n",
        "\n",
        "gru_training_time = time.time() - start_time\n",
        "\n",
        "print(f\"\\n✅ GRU 학습 완료! ({gru_training_time:.2f}초)\")\n",
        "print(f\"   최고 검증 정확도: {gru_history['best_val_acc']:.2f}%\")\n",
        "\n",
        "# GRU 테스트 평가\n",
        "print(\"🔮 GRU 테스트 평가 중...\")\n",
        "gru_results = evaluate_model(gru_model, test_loader)\n",
        "print(f\"📊 GRU 테스트 정확도: {gru_results['accuracy']:.4f}\")"
      ],
      "metadata": {
        "colab": {
          "base_uri": "https://localhost:8080/"
        },
        "id": "pT7PzznU_X4X",
        "outputId": "6a104905-8a25-4a04-e74b-a85b0fb2d032"
      },
      "execution_count": 46,
      "outputs": [
        {
          "output_type": "stream",
          "name": "stdout",
          "text": [
            "\n",
            "🚀 GRU 모델 학습\n",
            "=========================\n"
          ]
        },
        {
          "output_type": "stream",
          "name": "stderr",
          "text": [
            "Epoch 1/10 [Train]: 100%|██████████| 157/157 [00:02<00:00, 57.89it/s, Loss=0.6786, Acc=51.02%]\n"
          ]
        },
        {
          "output_type": "stream",
          "name": "stdout",
          "text": [
            "Epoch 1: Train Loss: 0.6937, Train Acc: 51.02%, Val Loss: 0.6938, Val Acc: 51.86%\n"
          ]
        },
        {
          "output_type": "stream",
          "name": "stderr",
          "text": [
            "Epoch 2/10 [Train]: 100%|██████████| 157/157 [00:02<00:00, 59.14it/s, Loss=0.6956, Acc=50.83%]\n"
          ]
        },
        {
          "output_type": "stream",
          "name": "stdout",
          "text": [
            "Epoch 2: Train Loss: 0.6898, Train Acc: 50.83%, Val Loss: 0.6904, Val Acc: 52.76%\n"
          ]
        },
        {
          "output_type": "stream",
          "name": "stderr",
          "text": [
            "Epoch 3/10 [Train]: 100%|██████████| 157/157 [00:02<00:00, 57.09it/s, Loss=0.6555, Acc=54.58%]\n"
          ]
        },
        {
          "output_type": "stream",
          "name": "stdout",
          "text": [
            "Epoch 3: Train Loss: 0.6690, Train Acc: 54.58%, Val Loss: 0.6366, Val Acc: 67.12%\n"
          ]
        },
        {
          "output_type": "stream",
          "name": "stderr",
          "text": [
            "Epoch 4/10 [Train]: 100%|██████████| 157/157 [00:02<00:00, 57.89it/s, Loss=0.2826, Acc=77.36%]\n"
          ]
        },
        {
          "output_type": "stream",
          "name": "stdout",
          "text": [
            "Epoch 4: Train Loss: 0.4952, Train Acc: 77.36%, Val Loss: 0.4323, Val Acc: 82.12%\n"
          ]
        },
        {
          "output_type": "stream",
          "name": "stderr",
          "text": [
            "Epoch 5/10 [Train]: 100%|██████████| 157/157 [00:02<00:00, 56.51it/s, Loss=0.3508, Acc=87.47%]\n"
          ]
        },
        {
          "output_type": "stream",
          "name": "stdout",
          "text": [
            "Epoch 5: Train Loss: 0.3190, Train Acc: 87.47%, Val Loss: 0.3736, Val Acc: 84.72%\n"
          ]
        },
        {
          "output_type": "stream",
          "name": "stderr",
          "text": [
            "Epoch 6/10 [Train]: 100%|██████████| 157/157 [00:02<00:00, 57.68it/s, Loss=0.5698, Acc=91.37%]\n"
          ]
        },
        {
          "output_type": "stream",
          "name": "stdout",
          "text": [
            "Epoch 6: Train Loss: 0.2348, Train Acc: 91.37%, Val Loss: 0.3787, Val Acc: 85.30%\n"
          ]
        },
        {
          "output_type": "stream",
          "name": "stderr",
          "text": [
            "Epoch 7/10 [Train]: 100%|██████████| 157/157 [00:02<00:00, 61.28it/s, Loss=0.1234, Acc=94.43%]\n"
          ]
        },
        {
          "output_type": "stream",
          "name": "stdout",
          "text": [
            "Epoch 7: Train Loss: 0.1685, Train Acc: 94.43%, Val Loss: 0.4355, Val Acc: 85.30%\n"
          ]
        },
        {
          "output_type": "stream",
          "name": "stderr",
          "text": [
            "Epoch 8/10 [Train]: 100%|██████████| 157/157 [00:02<00:00, 60.80it/s, Loss=0.1559, Acc=96.54%]\n"
          ]
        },
        {
          "output_type": "stream",
          "name": "stdout",
          "text": [
            "Epoch 8: Train Loss: 0.1172, Train Acc: 96.54%, Val Loss: 0.4857, Val Acc: 85.16%\n"
          ]
        },
        {
          "output_type": "stream",
          "name": "stderr",
          "text": [
            "Epoch 9/10 [Train]: 100%|██████████| 157/157 [00:02<00:00, 60.15it/s, Loss=0.0170, Acc=98.06%]\n"
          ]
        },
        {
          "output_type": "stream",
          "name": "stdout",
          "text": [
            "Epoch 9: Train Loss: 0.0721, Train Acc: 98.06%, Val Loss: 0.5837, Val Acc: 85.42%\n"
          ]
        },
        {
          "output_type": "stream",
          "name": "stderr",
          "text": [
            "Epoch 10/10 [Train]: 100%|██████████| 157/157 [00:02<00:00, 57.05it/s, Loss=0.0251, Acc=99.04%]\n"
          ]
        },
        {
          "output_type": "stream",
          "name": "stdout",
          "text": [
            "Epoch 10: Train Loss: 0.0469, Train Acc: 99.04%, Val Loss: 0.6139, Val Acc: 85.32%\n",
            "\n",
            "✅ GRU 학습 완료! (29.46초)\n",
            "   최고 검증 정확도: 85.42%\n",
            "🔮 GRU 테스트 평가 중...\n"
          ]
        },
        {
          "output_type": "stream",
          "name": "stderr",
          "text": [
            "Testing: 100%|██████████| 196/196 [00:01<00:00, 162.99it/s]"
          ]
        },
        {
          "output_type": "stream",
          "name": "stdout",
          "text": [
            "📊 GRU 테스트 정확도: 0.8427\n"
          ]
        },
        {
          "output_type": "stream",
          "name": "stderr",
          "text": [
            "\n"
          ]
        }
      ]
    },
    {
      "cell_type": "markdown",
      "source": [
        "## 양방향 LSTM"
      ],
      "metadata": {
        "id": "L9G8AiHV_o9j"
      }
    },
    {
      "cell_type": "code",
      "source": [
        "print(\"\\n🚀 양방향 LSTM 모델 학습\")\n",
        "print(\"=\" * 40)\n",
        "\n",
        "start_time = time.time()\n",
        "\n",
        "bilstm_history = train_model(\n",
        "    model=bilstm_model,\n",
        "    train_loader=train_loader,\n",
        "    val_loader=val_loader,\n",
        "    epochs=10,\n",
        "    lr=0.001\n",
        ")\n",
        "\n",
        "bilstm_training_time = time.time() - start_time\n",
        "\n",
        "print(f\"\\n✅ 양방향 LSTM 학습 완료! ({bilstm_training_time:.2f}초)\")\n",
        "print(f\"   최고 검증 정확도: {bilstm_history['best_val_acc']:.2f}%\")\n",
        "\n",
        "# 양방향 LSTM 테스트 평가\n",
        "print(\"🔮 양방향 LSTM 테스트 평가 중...\")\n",
        "bilstm_results = evaluate_model(bilstm_model, test_loader)\n",
        "print(f\"📊 양방향 LSTM 테스트 정확도: {bilstm_results['accuracy']:.4f}\")"
      ],
      "metadata": {
        "colab": {
          "base_uri": "https://localhost:8080/"
        },
        "id": "YClOa7Ko_kwy",
        "outputId": "3a1d9cb4-c4bb-4413-ca88-a9e32248e5b0"
      },
      "execution_count": 47,
      "outputs": [
        {
          "output_type": "stream",
          "name": "stdout",
          "text": [
            "\n",
            "🚀 양방향 LSTM 모델 학습\n",
            "========================================\n"
          ]
        },
        {
          "output_type": "stream",
          "name": "stderr",
          "text": [
            "Epoch 1/10 [Train]: 100%|██████████| 157/157 [00:02<00:00, 52.82it/s, Loss=0.6166, Acc=59.90%]\n"
          ]
        },
        {
          "output_type": "stream",
          "name": "stdout",
          "text": [
            "Epoch 1: Train Loss: 0.6607, Train Acc: 59.90%, Val Loss: 0.6091, Val Acc: 66.42%\n"
          ]
        },
        {
          "output_type": "stream",
          "name": "stderr",
          "text": [
            "Epoch 2/10 [Train]: 100%|██████████| 157/157 [00:02<00:00, 60.63it/s, Loss=0.4149, Acc=72.31%]\n"
          ]
        },
        {
          "output_type": "stream",
          "name": "stdout",
          "text": [
            "Epoch 2: Train Loss: 0.5595, Train Acc: 72.31%, Val Loss: 0.5437, Val Acc: 74.44%\n"
          ]
        },
        {
          "output_type": "stream",
          "name": "stderr",
          "text": [
            "Epoch 3/10 [Train]: 100%|██████████| 157/157 [00:02<00:00, 60.76it/s, Loss=0.6291, Acc=79.14%]\n"
          ]
        },
        {
          "output_type": "stream",
          "name": "stdout",
          "text": [
            "Epoch 3: Train Loss: 0.4643, Train Acc: 79.14%, Val Loss: 0.5210, Val Acc: 77.60%\n"
          ]
        },
        {
          "output_type": "stream",
          "name": "stderr",
          "text": [
            "Epoch 4/10 [Train]: 100%|██████████| 157/157 [00:02<00:00, 60.05it/s, Loss=0.3187, Acc=76.81%]\n"
          ]
        },
        {
          "output_type": "stream",
          "name": "stdout",
          "text": [
            "Epoch 4: Train Loss: 0.5077, Train Acc: 76.81%, Val Loss: 0.4873, Val Acc: 77.88%\n"
          ]
        },
        {
          "output_type": "stream",
          "name": "stderr",
          "text": [
            "Epoch 5/10 [Train]: 100%|██████████| 157/157 [00:02<00:00, 59.86it/s, Loss=0.4197, Acc=84.40%]\n"
          ]
        },
        {
          "output_type": "stream",
          "name": "stdout",
          "text": [
            "Epoch 5: Train Loss: 0.3760, Train Acc: 84.40%, Val Loss: 0.4469, Val Acc: 81.20%\n"
          ]
        },
        {
          "output_type": "stream",
          "name": "stderr",
          "text": [
            "Epoch 6/10 [Train]: 100%|██████████| 157/157 [00:02<00:00, 58.53it/s, Loss=0.1448, Acc=87.04%]\n"
          ]
        },
        {
          "output_type": "stream",
          "name": "stdout",
          "text": [
            "Epoch 6: Train Loss: 0.3247, Train Acc: 87.04%, Val Loss: 0.4251, Val Acc: 82.50%\n"
          ]
        },
        {
          "output_type": "stream",
          "name": "stderr",
          "text": [
            "Epoch 7/10 [Train]: 100%|██████████| 157/157 [00:02<00:00, 59.12it/s, Loss=0.1386, Acc=89.17%]\n"
          ]
        },
        {
          "output_type": "stream",
          "name": "stdout",
          "text": [
            "Epoch 7: Train Loss: 0.2890, Train Acc: 89.17%, Val Loss: 0.4202, Val Acc: 82.92%\n"
          ]
        },
        {
          "output_type": "stream",
          "name": "stderr",
          "text": [
            "Epoch 8/10 [Train]: 100%|██████████| 157/157 [00:02<00:00, 59.52it/s, Loss=0.1791, Acc=91.22%]\n"
          ]
        },
        {
          "output_type": "stream",
          "name": "stdout",
          "text": [
            "Epoch 8: Train Loss: 0.2459, Train Acc: 91.22%, Val Loss: 0.4211, Val Acc: 84.04%\n"
          ]
        },
        {
          "output_type": "stream",
          "name": "stderr",
          "text": [
            "Epoch 9/10 [Train]: 100%|██████████| 157/157 [00:02<00:00, 59.45it/s, Loss=0.3019, Acc=92.89%]\n"
          ]
        },
        {
          "output_type": "stream",
          "name": "stdout",
          "text": [
            "Epoch 9: Train Loss: 0.2097, Train Acc: 92.89%, Val Loss: 0.4225, Val Acc: 84.40%\n"
          ]
        },
        {
          "output_type": "stream",
          "name": "stderr",
          "text": [
            "Epoch 10/10 [Train]: 100%|██████████| 157/157 [00:02<00:00, 58.35it/s, Loss=0.1052, Acc=93.99%]\n"
          ]
        },
        {
          "output_type": "stream",
          "name": "stdout",
          "text": [
            "Epoch 10: Train Loss: 0.1817, Train Acc: 93.99%, Val Loss: 0.4408, Val Acc: 84.46%\n",
            "\n",
            "✅ 양방향 LSTM 학습 완료! (28.91초)\n",
            "   최고 검증 정확도: 84.46%\n",
            "🔮 양방향 LSTM 테스트 평가 중...\n"
          ]
        },
        {
          "output_type": "stream",
          "name": "stderr",
          "text": [
            "Testing: 100%|██████████| 196/196 [00:01<00:00, 168.28it/s]"
          ]
        },
        {
          "output_type": "stream",
          "name": "stdout",
          "text": [
            "📊 양방향 LSTM 테스트 정확도: 0.8293\n"
          ]
        },
        {
          "output_type": "stream",
          "name": "stderr",
          "text": [
            "\n"
          ]
        }
      ]
    },
    {
      "cell_type": "markdown",
      "source": [
        "# 모델 성능비교"
      ],
      "metadata": {
        "id": "ZOPWVDzy_96a"
      }
    },
    {
      "cell_type": "code",
      "source": [
        "print(\"\\n📊 PyTorch 모델 성능 비교\")\n",
        "print(\"=\" * 50)\n",
        "\n",
        "# 결과 정리\n",
        "models_results = {\n",
        "    'LSTM': {\n",
        "        'accuracy': lstm_results['accuracy'],\n",
        "        'training_time': lstm_training_time,\n",
        "        'val_acc': lstm_history['best_val_acc'],\n",
        "        'params': sum(p.numel() for p in lstm_model.parameters())\n",
        "    },\n",
        "    'GRU': {\n",
        "        'accuracy': gru_results['accuracy'],\n",
        "        'training_time': gru_training_time,\n",
        "        'val_acc': gru_history['best_val_acc'],\n",
        "        'params': sum(p.numel() for p in gru_model.parameters())\n",
        "    },\n",
        "    'Bidirectional LSTM': {\n",
        "        'accuracy': bilstm_results['accuracy'],\n",
        "        'training_time': bilstm_training_time,\n",
        "        'val_acc': bilstm_history['best_val_acc'],\n",
        "        'params': sum(p.numel() for p in bilstm_model.parameters())\n",
        "    }\n",
        "}\n",
        "\n",
        "# 성능 비교표\n",
        "comparison_data = []\n",
        "for model_name, results in models_results.items():\n",
        "    comparison_data.append({\n",
        "        '모델': model_name,\n",
        "        '테스트 정확도': f\"{results['accuracy']:.4f}\",\n",
        "        '검증 정확도': f\"{results['val_acc']:.2f}%\",\n",
        "        '학습시간': f\"{results['training_time']:.1f}초\",\n",
        "        '파라미터 수': f\"{results['params']:,}\"\n",
        "    })\n",
        "\n",
        "comparison_df = pd.DataFrame(comparison_data)\n",
        "print(comparison_df.to_string(index=False))\n",
        "\n",
        "# 최고 성능 모델\n",
        "best_model_name = max(models_results.keys(), key=lambda x: models_results[x]['accuracy'])\n",
        "best_accuracy = models_results[best_model_name]['accuracy']\n",
        "\n",
        "print(f\"\\n🏆 최고 성능 모델: {best_model_name}\")\n",
        "print(f\"   테스트 정확도: {best_accuracy:.4f}\")"
      ],
      "metadata": {
        "colab": {
          "base_uri": "https://localhost:8080/"
        },
        "id": "7SljYRYP_xHb",
        "outputId": "fbb5479d-0b7d-4c2e-9b65-d47a2689c493"
      },
      "execution_count": 49,
      "outputs": [
        {
          "output_type": "stream",
          "name": "stdout",
          "text": [
            "\n",
            "📊 PyTorch 모델 성능 비교\n",
            "==================================================\n",
            "                모델 테스트 정확도 검증 정확도  학습시간    파라미터 수\n",
            "              LSTM  0.8412 84.60% 46.3초 1,552,513\n",
            "               GRU  0.8427 85.42% 29.5초 1,486,465\n",
            "Bidirectional LSTM  0.8293 84.46% 28.9초 1,486,977\n",
            "\n",
            "🏆 최고 성능 모델: GRU\n",
            "   테스트 정확도: 0.8427\n"
          ]
        }
      ]
    },
    {
      "cell_type": "markdown",
      "source": [
        "# 학습과정 시각화"
      ],
      "metadata": {
        "id": "0C-aa2dRADDd"
      }
    },
    {
      "cell_type": "code",
      "source": [
        "print(\"\\n📈 학습 과정 시각화\")\n",
        "print(\"=\" * 30)\n",
        "\n",
        "fig, axes = plt.subplots(2, 3, figsize=(18, 10))\n",
        "\n",
        "histories = [\n",
        "    ('LSTM', lstm_history),\n",
        "    ('GRU', gru_history),\n",
        "    ('Bidirectional LSTM', bilstm_history)\n",
        "]\n",
        "\n",
        "for i, (model_name, history) in enumerate(histories):\n",
        "    # 손실 곡선\n",
        "    ax1 = axes[0, i]\n",
        "    epochs_range = range(1, len(history['train_losses']) + 1)\n",
        "\n",
        "    ax1.plot(epochs_range, history['train_losses'], 'b-', label='훈련 손실', alpha=0.8)\n",
        "    ax1.plot(epochs_range, history['val_losses'], 'r-', label='검증 손실', alpha=0.8)\n",
        "    ax1.set_title(f'{model_name} - 손실')\n",
        "    ax1.set_xlabel('Epoch')\n",
        "    ax1.set_ylabel('Loss')\n",
        "    ax1.legend()\n",
        "    ax1.grid(True, alpha=0.3)\n",
        "\n",
        "    # 정확도 곡선\n",
        "    ax2 = axes[1, i]\n",
        "    ax2.plot(epochs_range, history['train_accs'], 'b-', label='훈련 정확도', alpha=0.8)\n",
        "    ax2.plot(epochs_range, history['val_accs'], 'r-', label='검증 정확도', alpha=0.8)\n",
        "    ax2.set_title(f'{model_name} - 정확도')\n",
        "    ax2.set_xlabel('Epoch')\n",
        "    ax2.set_ylabel('Accuracy (%)')\n",
        "    ax2.legend()\n",
        "    ax2.grid(True, alpha=0.3)\n",
        "\n",
        "plt.tight_layout()\n",
        "plt.show()"
      ],
      "metadata": {
        "colab": {
          "base_uri": "https://localhost:8080/",
          "height": 533
        },
        "id": "lr25Zoo4_51z",
        "outputId": "918253be-176e-4ab8-8f22-a13a1c9e231a"
      },
      "execution_count": 50,
      "outputs": [
        {
          "output_type": "stream",
          "name": "stdout",
          "text": [
            "\n",
            "📈 학습 과정 시각화\n",
            "==============================\n"
          ]
        },
        {
          "output_type": "display_data",
          "data": {
            "text/plain": [
              "<Figure size 1800x1000 with 6 Axes>"
            ],
            "image/png": "[encoded data removed]"
          },
          "metadata": {}
        }
      ]
    },
    {
      "cell_type": "markdown",
      "source": [
        "## 혼동행렬"
      ],
      "metadata": {
        "id": "uxxbumuNAKaA"
      }
    },
    {
      "cell_type": "code",
      "source": [
        "print(\"\\n📊 혼동 행렬\")\n",
        "print(\"=\" * 20)\n",
        "\n",
        "fig, axes = plt.subplots(1, 3, figsize=(15, 4))\n",
        "\n",
        "results_list = [\n",
        "    ('LSTM', lstm_results),\n",
        "    ('GRU', gru_results),\n",
        "    ('Bidirectional LSTM', bilstm_results)\n",
        "]\n",
        "\n",
        "for i, (model_name, results) in enumerate(results_list):\n",
        "    cm = confusion_matrix(results['labels'], results['predictions'])\n",
        "\n",
        "    sns.heatmap(cm, annot=True, fmt='d', cmap='Blues',\n",
        "               xticklabels=['Negative', 'Positive'],\n",
        "               yticklabels=['Negative', 'Positive'],\n",
        "               ax=axes[i])\n",
        "    axes[i].set_title(f'{model_name}\\n정확도: {results[\"accuracy\"]:.3f}')\n",
        "    axes[i].set_xlabel('예측값')\n",
        "    axes[i].set_ylabel('실제값')\n",
        "\n",
        "plt.tight_layout()\n",
        "plt.show()"
      ],
      "metadata": {
        "colab": {
          "base_uri": "https://localhost:8080/",
          "height": 292
        },
        "id": "tWXRhmuzAFic",
        "outputId": "32d93f8a-3956-45ad-9c99-2fb29e2ead1b"
      },
      "execution_count": 51,
      "outputs": [
        {
          "output_type": "stream",
          "name": "stdout",
          "text": [
            "\n",
            "📊 혼동 행렬\n",
            "====================\n"
          ]
        },
        {
          "output_type": "display_data",
          "data": {
            "text/plain": [
              "<Figure size 1500x400 with 6 Axes>"
            ],
            "image/png": "[encoded data removed]"
          },
          "metadata": {}
        }
      ]
    },
    {
      "cell_type": "markdown",
      "source": [
        "# 실제 테스트"
      ],
      "metadata": {
        "id": "t1D2OvAxAPTU"
      }
    },
    {
      "cell_type": "code",
      "source": [
        "print(\"\\n🧪 실제 예측 테스트\")\n",
        "print(\"=\" * 40)\n",
        "\n",
        "# 최고 성능 모델 선택\n",
        "if best_model_name == 'LSTM':\n",
        "    best_model = lstm_model\n",
        "elif best_model_name == 'GRU':\n",
        "    best_model = gru_model\n",
        "else:\n",
        "    best_model = bilstm_model\n",
        "\n",
        "def predict_sentiment(model, tokenizer, text, max_length):\n",
        "    \"\"\"단일 텍스트 감정 예측\"\"\"\n",
        "    model.eval()\n",
        "\n",
        "    # 전처리 (간단히)\n",
        "    text = text.lower().strip()\n",
        "\n",
        "    # 시퀀스 변환\n",
        "    sequence = tokenizer.texts_to_sequences([text])\n",
        "    padded = pad_sequences(sequence, maxlen=max_length, padding='post')\n",
        "\n",
        "    # 텐서 변환\n",
        "    input_tensor = torch.LongTensor(padded).to(device)\n",
        "\n",
        "    # 예측\n",
        "    with torch.no_grad():\n",
        "        output = model(input_tensor)\n",
        "        probability = output.item()\n",
        "        prediction = 1 if probability > 0.5 else 0\n",
        "\n",
        "    sentiment = \"😊 Positive\" if prediction == 1 else \"😞 Negative\"\n",
        "\n",
        "    return {\n",
        "        'sentiment': sentiment,\n",
        "        'probability': probability,\n",
        "        'confidence': max(probability, 1 - probability)\n",
        "    }\n",
        "\n",
        "# 테스트 문장들\n",
        "sample_texts = [\n",
        "    \"This movie is absolutely fantastic! Great acting and amazing story.\",\n",
        "    \"Terrible film. Complete waste of time and money. Very disappointed.\",\n",
        "    \"It was okay, not great but not terrible either. Average movie.\",\n",
        "    \"One of the best movies I've ever seen! Highly recommend it!\",\n",
        "    \"Boring and predictable plot. Poor character development.\"\n",
        "]\n",
        "\n",
        "print(f\"📝 {best_model_name} 모델로 예측:\")\n",
        "\n",
        "for i, text in enumerate(sample_texts, 1):\n",
        "    result = predict_sentiment(best_model, tokenizer, text, MAX_SEQUENCE_LENGTH)\n",
        "\n",
        "    print(f\"\\n테스트 {i}:\")\n",
        "    print(f\"   텍스트: {text}\")\n",
        "    print(f\"   예측: {result['sentiment']}\")\n",
        "    print(f\"   확률: {result['probability']:.3f}\")\n",
        "    print(f\"   신뢰도: {result['confidence']:.3f}\")"
      ],
      "metadata": {
        "colab": {
          "base_uri": "https://localhost:8080/"
        },
        "id": "YDulb43qAMCF",
        "outputId": "587107ef-80c7-4a52-eec6-395d2d5c5ab5"
      },
      "execution_count": 52,
      "outputs": [
        {
          "output_type": "stream",
          "name": "stdout",
          "text": [
            "\n",
            "🧪 실제 예측 테스트\n",
            "========================================\n",
            "📝 GRU 모델로 예측:\n",
            "\n",
            "테스트 1:\n",
            "   텍스트: This movie is absolutely fantastic! Great acting and amazing story.\n",
            "   예측: 😊 Positive\n",
            "   확률: 0.996\n",
            "   신뢰도: 0.996\n",
            "\n",
            "테스트 2:\n",
            "   텍스트: Terrible film. Complete waste of time and money. Very disappointed.\n",
            "   예측: 😞 Negative\n",
            "   확률: 0.001\n",
            "   신뢰도: 0.999\n",
            "\n",
            "테스트 3:\n",
            "   텍스트: It was okay, not great but not terrible either. Average movie.\n",
            "   예측: 😞 Negative\n",
            "   확률: 0.009\n",
            "   신뢰도: 0.991\n",
            "\n",
            "테스트 4:\n",
            "   텍스트: One of the best movies I've ever seen! Highly recommend it!\n",
            "   예측: 😊 Positive\n",
            "   확률: 0.965\n",
            "   신뢰도: 0.965\n",
            "\n",
            "테스트 5:\n",
            "   텍스트: Boring and predictable plot. Poor character development.\n",
            "   예측: 😞 Negative\n",
            "   확률: 0.003\n",
            "   신뢰도: 0.997\n"
          ]
        }
      ]
    },
    {
      "cell_type": "markdown",
      "source": [
        "# 최종 요약"
      ],
      "metadata": {
        "id": "uu4rxURvAWG-"
      }
    },
    {
      "cell_type": "code",
      "source": [
        "print(f\"\\n🎉 PyTorch 감정분석 완료!\")\n",
        "print(\"=\" * 50)\n",
        "print(f\"✅ 텍스트 시퀀스화 완료 ({vocab_size:,}개 어휘)\")\n",
        "print(f\"✅ LSTM 모델 학습 완료 (정확도: {lstm_results['accuracy']:.4f})\")\n",
        "print(f\"✅ GRU 모델 학습 완료 (정확도: {gru_results['accuracy']:.4f})\")\n",
        "print(f\"✅ 양방향 LSTM 학습 완료 (정확도: {bilstm_results['accuracy']:.4f})\")\n",
        "print(f\"✅ 최고 성능 모델: {best_model_name}\")\n",
        "print(f\"✅ 실제 예측 테스트 완료\")\n",
        "\n",
        "print(f\"\\n📊 최종 성능:\")\n",
        "print(f\"   최고 정확도: {best_accuracy:.4f}\")\n",
        "print(f\"   GPU 사용: {'Yes' if torch.cuda.is_available() else 'No'}\")\n",
        "\n",
        "print(f\"\\n🎯 PyTorch로 학습한 내용:\")\n",
        "print(\"   1. PyTorch Dataset & DataLoader 사용\")\n",
        "print(\"   2. nn.Module 클래스로 모델 정의\")\n",
        "print(\"   3. 사용자 정의 학습 루프 구현\")\n",
        "print(\"   4. GPU 가속 활용\")\n",
        "print(\"   5. 3가지 RNN 아키텍처 비교\")\n",
        "print(\"   6. 실시간 학습 모니터링 (tqdm)\")\n",
        "\n",
        "print(f\"\\n🚀 다음 단계 제안:\")\n",
        "print(\"   - CNN 모델과 성능 비교\")\n",
        "print(\"   - 앙상블 모델 구축\")\n",
        "print(\"   - 어텐션 메커니즘 추가\")\n",
        "print(\"   - 사전 훈련된 임베딩 사용 (Word2Vec, GloVe)\")"
      ],
      "metadata": {
        "colab": {
          "base_uri": "https://localhost:8080/"
        },
        "id": "GJWh_WvzARck",
        "outputId": "4dd5e661-76bf-4cbb-cd58-2f4a99fddfe4"
      },
      "execution_count": 54,
      "outputs": [
        {
          "output_type": "stream",
          "name": "stdout",
          "text": [
            "\n",
            "🎉 PyTorch 감정분석 완료!\n",
            "==================================================\n",
            "✅ 텍스트 시퀀스화 완료 (10,000개 어휘)\n",
            "✅ LSTM 모델 학습 완료 (정확도: 0.8412)\n",
            "✅ GRU 모델 학습 완료 (정확도: 0.8427)\n",
            "✅ 양방향 LSTM 학습 완료 (정확도: 0.8293)\n",
            "✅ 최고 성능 모델: GRU\n",
            "✅ 실제 예측 테스트 완료\n",
            "\n",
            "📊 최종 성능:\n",
            "   최고 정확도: 0.8427\n",
            "   GPU 사용: Yes\n",
            "\n",
            "🎯 PyTorch로 학습한 내용:\n",
            "   1. PyTorch Dataset & DataLoader 사용\n",
            "   2. nn.Module 클래스로 모델 정의\n",
            "   3. 사용자 정의 학습 루프 구현\n",
            "   4. GPU 가속 활용\n",
            "   5. 3가지 RNN 아키텍처 비교\n",
            "   6. 실시간 학습 모니터링 (tqdm)\n",
            "\n",
            "🚀 다음 단계 제안:\n",
            "   - CNN 모델과 성능 비교\n",
            "   - 앙상블 모델 구축\n",
            "   - 어텐션 메커니즘 추가\n",
            "   - 사전 훈련된 임베딩 사용 (Word2Vec, GloVe)\n"
          ]
        }
      ]
    },
    {
      "cell_type": "code",
      "source": [],
      "metadata": {
        "id": "IR1br09gAYSO"
      },
      "execution_count": null,
      "outputs": []
    }
  ]
}